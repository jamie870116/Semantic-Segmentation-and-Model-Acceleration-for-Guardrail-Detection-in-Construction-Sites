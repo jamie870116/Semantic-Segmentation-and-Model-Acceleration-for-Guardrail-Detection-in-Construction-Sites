{
 "cells": [
  {
   "cell_type": "code",
   "execution_count": null,
   "metadata": {
    "id": "8vdlSnrY8gqn"
   },
   "outputs": [],
   "source": [
    "import cv2\n",
    "import os\n",
    "from google.colab.patches import cv2_imshow\n",
    "from google.colab import drive\n",
    "\n",
    "drive.mount('/content/drive')"
   ]
  },
  {
   "cell_type": "code",
   "execution_count": null,
   "metadata": {
    "id": "pTghE4Jq8moC"
   },
   "outputs": [],
   "source": [
    "output_path_video = \"/content/drive/MyDrive/Colab Notebooks/Datasets/Industrial_Safety/from_video/\"\n",
    "output_path_video_single = \"/content/drive/MyDrive/Colab Notebooks/Datasets/Industrial_Safety/from_video_single/\"\n",
    "output_path_video_single_n = \"/content/drive/MyDrive/Colab Notebooks/Datasets/Industrial_Safety/single_video/\"\n",
    "\n",
    "output_path_img = \"/content/drive/MyDrive/Colab Notebooks/Datasets/Industrial_Safety/from_img/\"\n",
    "output_path_org_img = \"/content/drive/MyDrive/Colab Notebooks/Datasets/Industrial_Safety/origin_img/\"\n",
    "original_path = \"/content/drive/Shareddrives/**/\""
   ]
  },
  {
   "cell_type": "code",
   "execution_count": null,
   "metadata": {
    "id": "bjS1RpvL9IdG"
   },
   "outputs": [],
   "source": [
    "\n",
    "except_dirs = [\"\"]\n",
    "video_extension = [\".mp4\", \".MP4\", \".MTS\", \".mts\", \".avi\"]\n",
    "img_extension = [\".jpg\", \".JPG\", \".png\"]"
   ]
  },
  {
   "cell_type": "code",
   "execution_count": null,
   "metadata": {
    "id": "6EeEngvk9Lzy"
   },
   "outputs": [],
   "source": [
    "img_list = []\n",
    "video_list = []\n",
    "for root, dirs, files in os.walk(original_path):\n",
    "\n",
    "  \n",
    "  if root not in except_dirs:\n",
    "    print(root)\n",
    "    for f_name in files:\n",
    "      if f_name[-4:] in img_extension:\n",
    "        img_list.append(root + \"/\" + f_name)\n",
    "      if f_name[-4:] in video_extension:\n",
    "        video_list.append(root + \"/\" + f_name)"
   ]
  },
  {
   "cell_type": "code",
   "execution_count": null,
   "metadata": {
    "id": "BtbJkI3P8sOq"
   },
   "outputs": [],
   "source": [
    "allFileList = os.listdir(original_path)\n",
    "allList = os.walk(original_path)\n",
    "allList"
   ]
  },
  {
   "cell_type": "code",
   "execution_count": null,
   "metadata": {
    "id": "bjU6XwC_8sMW"
   },
   "outputs": [],
   "source": [
    "def count_file(path):\n",
    "  c = 0\n",
    "  for root, dirs, files in os.walk(path):\n",
    "    print(files)\n",
    "    for f in files:\n",
    "      c += 1\n",
    "  return c"
   ]
  },
  {
   "cell_type": "code",
   "execution_count": null,
   "metadata": {
    "id": "IjojiZ7n8sJx"
   },
   "outputs": [],
   "source": [
    "def get_images_from_video_list(video_name_list, time_F, output_path, start_index=0):\n",
    "  total_img = 0\n",
    "  print()\n",
    "  for index, video_name in enumerate(video_name_list[start_index:]):\n",
    "    total_extracted = 0\n",
    "    video_images = []\n",
    "    \n",
    "    vc = cv2.VideoCapture(video_name)\n",
    "    c = 1\n",
    "\n",
    "    if vc.isOpened(): \n",
    "      rval, video_frame = vc.read()\n",
    "    else:\n",
    "      rval = False\n",
    "\n",
    "    while rval:\n",
    "      rval, video_frame = vc.read()\n",
    "          \n",
    "      if(c % time_F == 0):\n",
    "        video_images.append(video_frame)     \n",
    "      c = c + 1\n",
    "\n",
    "    print(video_name+\" start\")\n",
    "    for i in range(0, len(video_images)):\n",
    "      # cv2_imshow(video_images[i])\n",
    "      # cv2.waitKey(100)\n",
    "      if not video_images[i] is None:\n",
    "        total_extracted += 1\n",
    "        idx_slash = video_name.rfind(\"/\")\n",
    "        idx_dot = video_name.rfind(\".\")\n",
    "        origin_name = video_name[idx_slash+1:idx_dot]\n",
    "        cv2.imwrite(output_path_video + origin_name+ \"_\" + str(i+1) +'.jpg', video_images[i])\n",
    "\n",
    "    total_img += total_extracted\n",
    "    print(\"index \" + str(start_index + index) + \": \"+origin_name+\" catured \" + str(total_extracted) + \" images!\")\n",
    "    vc.release()\n",
    "  \n",
    "  print(\"total images:\" + str(total_img))\n",
    "  return str(total_img)"
   ]
  },
  {
   "cell_type": "code",
   "execution_count": null,
   "metadata": {
    "id": "-yGl9xHi83GU"
   },
   "outputs": [],
   "source": [
    "def get_single_image_from_video_list(video_name_list, output_path, start_index=0):\n",
    "\n",
    "  error_list = []\n",
    "  fine_list = []\n",
    "  for index, video_name in enumerate(video_name_list[start_index:]):\n",
    "    video_images = []\n",
    "    \n",
    "    vc = cv2.VideoCapture(video_name)\n",
    "    c = 1\n",
    "\n",
    "    if vc.isOpened():\n",
    "      rval, video_frame = vc.read()\n",
    "    else:\n",
    "      rval = False\n",
    "    \n",
    "    print(video_name+' start')\n",
    "    if rval:\n",
    "      idx_slash = video_name.rfind(\"/\")\n",
    "      idx_dot = video_name.rfind(\".\")\n",
    "      origin_name = video_name[idx_slash+1:idx_dot]\n",
    "\n",
    "      if index < 9:\n",
    "        img_idx = \"000\" + str(index+1)\n",
    "      elif index < 99:\n",
    "        img_idx = \"00\" + str(index+1)\n",
    "      elif index < 999:\n",
    "        img_idx = \"0\" + str(index+1)\n",
    "      else:\n",
    "        img_idx = str(index+1)\n",
    "\n",
    "      writeStatus = cv2.imwrite(output_path + origin_name + \"_\" + img_idx +'.jpg', video_frame)\n",
    "      if writeStatus:\n",
    "        fine_list.append(video_name)\n",
    "        print(\"index \" + str(start_index+index) + \": \"+origin_name+\" done!\")\n",
    "      else:\n",
    "        error_list.append(video_name)\n",
    "        print(\"   index \"+ str(start_index+index) + \": \"+ video_name + \" error!\")\n",
    "    else:\n",
    "      error_list.append(video_name)\n",
    "    vc.release()\n",
    "\n",
    "  print(\"fine images: \" + str(len(fine_list)))\n",
    "  print(\"error images: \" + str(len(error_list)))\n",
    "\n",
    "  return fine_list, error_list"
   ]
  },
  {
   "cell_type": "code",
   "execution_count": null,
   "metadata": {
    "id": "yBBQx1zW87zs"
   },
   "outputs": [],
   "source": [
    "def get_image_from_images_list(images_name_list, output_path, start_index=0):\n",
    "  # total_img = 0\n",
    "  error_list = []\n",
    "  fine_list = []\n",
    "\n",
    "  for index, img_name in enumerate(images_name_list[start_index:]):\n",
    "\n",
    "    idx_slash = img_name.rfind(\"/\")\n",
    "    idx_dot = img_name.rfind(\".\")\n",
    "    origin_name = img_name[idx_slash+1:idx_dot]\n",
    "    img = cv2.imread(img_name)\n",
    "    # cv2.imwrite(output_path + origin_name, img)\n",
    "\n",
    "    if index < 9:\n",
    "        img_idx = \"000\" + str(index+1)\n",
    "    elif index < 99:\n",
    "      img_idx = \"00\" + str(index+1)\n",
    "    elif index < 999:\n",
    "      img_idx = \"0\" + str(index+1)\n",
    "    else:\n",
    "      img_idx = str(index+1)\n",
    "      \n",
    "    writeStatus = cv2.imwrite(output_path + img_idx + \"_\" + origin_name + \".jpg\", img)\n",
    "    if writeStatus:\n",
    "      fine_list.append(img_name)\n",
    "      print(\"index \" + str(start_index+index) + \": \"+img_name+\" done! \")\n",
    "    else:\n",
    "      error_list.append(img_name)\n",
    "      print(\"   index \"+ str(img_idx) + \": \"+ img_name + \" error!\")\n",
    "    # print(\"index \" + str(start_index+index) + \": \"+img_name + \" done!\")\n",
    "    # total_img += 1\n",
    "\n",
    "  print(\"fine images: \" + str(len(fine_list)))\n",
    "  print(\"error images: \" + str(len(error_list))) \n",
    "  return fine_list, error_list"
   ]
  }
 ],
 "metadata": {
  "colab": {
   "authorship_tag": "ABX9TyN2zIw+luTQvFZ362m/sh9o",
   "name": "20210813_IndustrialSafety_extract_images_transition.ipynb",
   "provenance": []
  },
  "kernelspec": {
   "display_name": "Python 3",
   "language": "python",
   "name": "python3"
  },
  "language_info": {
   "codemirror_mode": {
    "name": "ipython",
    "version": 3
   },
   "file_extension": ".py",
   "mimetype": "text/x-python",
   "name": "python",
   "nbconvert_exporter": "python",
   "pygments_lexer": "ipython3",
   "version": "3.6.13"
  }
 },
 "nbformat": 4,
 "nbformat_minor": 1
}
