{
 "cells": [
  {
   "cell_type": "markdown",
   "metadata": {
    "id": "5UPCcBJxoEnO"
   },
   "source": [
    "# Import"
   ]
  },
  {
   "cell_type": "code",
   "execution_count": 1,
   "metadata": {
    "id": "YOvkzkxrncT5"
   },
   "outputs": [],
   "source": [
    "import torch\n",
    "import torch.nn as nn\n",
    "import torch.nn.functional as F\n",
    "from torch.autograd import Variable\n",
    "import numpy as np\n",
    "from PIL import Image\n",
    "from torch.utils import data\n",
    "from torchvision import transforms, utils\n",
    "from torch.utils.data import Dataset, DataLoader\n",
    "import matplotlib.pyplot as plt\n",
    "import torchvision\n",
    "import random\n",
    "import torch.optim as opt\n",
    "from tqdm import tqdm\n",
    "import time\n",
    "\n",
    "import os\n",
    "from torchsummary import summary\n",
    "import cv2\n",
    "from sklearn.model_selection import train_test_split\n",
    "\n",
    "import copy\n",
    "from collections import defaultdict\n",
    "\n",
    "import re\n",
    "import math"
   ]
  },
  {
   "cell_type": "code",
   "execution_count": 2,
   "metadata": {},
   "outputs": [
    {
     "data": {
      "text/plain": [
       "True"
      ]
     },
     "execution_count": 2,
     "metadata": {},
     "output_type": "execute_result"
    }
   ],
   "source": [
    "torch.cuda.is_available()"
   ]
  },
  {
   "cell_type": "markdown",
   "metadata": {
    "id": "wFps-gYdqSOY"
   },
   "source": [
    "# Helper"
   ]
  },
  {
   "cell_type": "code",
   "execution_count": 3,
   "metadata": {
    "id": "2h5vrJo_q7FB"
   },
   "outputs": [],
   "source": [
    "def read_images(root_path): \n",
    "  \"\"\" \n",
    "    Args : directory path\n",
    "    Return : list with file path\n",
    "  \"\"\"\n",
    "\n",
    "  for root, dirs, files in os.walk(root_path):\n",
    "    print(\"path：\", root)\n",
    "    print(\"directory：\", dirs)\n",
    "    print(\"file：\", files)\n",
    "    \n",
    "  org_imgs = [(root + \"/\" + file_name) for file_name in tqdm(files)]\n",
    "  org_imgs.sort()\n",
    "  print(\"Read \",len(org_imgs), \" files\")\n",
    "  return org_imgs\n",
    "\n",
    "def make_cm2lbl():\n",
    "\n",
    "  colormap = [[0,0,0], [0,0,128], [0,128,128], [128,0,0], [0,128,0]] # background, grider, net, lanyard, guardrail \n",
    "\n",
    "  cm2lbl = np.zeros(256**3) # for each pixel 0~255 , channel = 3(RGB)\n",
    "  for i,cm in enumerate(colormap):\n",
    "      cm2lbl[(cm[0]*256+cm[1])*256+cm[2]] = i\n",
    "      # print(i)\n",
    "      # print((cm[0]*256+cm[1])*256+cm[2]\n",
    "  return cm2lbl\n",
    "\n",
    "\n",
    "def image2label(img, cm2lbl):\n",
    "  data = np.array(img, dtype='int32')\n",
    "  idx = (data[:, :, 0] * 256 + data[:, :, 1]) * 256 + data[:, :, 2]\n",
    "  # print(np.unique(idx))\n",
    "  # print(cm2lbl[idx])\n",
    "  result = np.array(cm2lbl[idx], dtype='int64')  \n",
    "  return result[:,:,None]\n",
    "\n",
    "# helper function for data visualization\n",
    "def visualize(**images):\n",
    "  \"\"\"PLot images in one row.\"\"\"\n",
    "  n = len(images)\n",
    "  plt.figure(figsize=(16, 5))\n",
    "  for i, (name, image) in enumerate(images.items()):\n",
    "    plt.subplot(1, n, i + 1)\n",
    "    plt.xticks([])\n",
    "    plt.yticks([])\n",
    "    plt.title(' '.join(name.split('_')).title())\n",
    "    plt.imshow(image)\n",
    "  plt.show()\n",
    "\n",
    "def print_network(net):\n",
    "  num_params = 0\n",
    "  for param in net.parameters():\n",
    "    num_params += param.numel()\n",
    "  print(net)\n",
    "  print('Total number of parameters: %d' % num_params)"
   ]
  },
  {
   "cell_type": "markdown",
   "metadata": {
    "id": "bbGv1GM6n8ZK"
   },
   "source": [
    "# Dataset"
   ]
  },
  {
   "cell_type": "code",
   "execution_count": 4,
   "metadata": {
    "id": "1shjzu1Pda9q"
   },
   "outputs": [],
   "source": [
    "train_features_folder = \"/home/user/Desktop/lanyard_segmentation/guardrail/train_data/features_cropped\"\n",
    "train_labels_folder = \"/home/user/Desktop/lanyard_segmentation/guardrail/train_data/labels_cropped\""
   ]
  },
  {
   "cell_type": "code",
   "execution_count": 5,
   "metadata": {
    "id": "OnbLt5mATJQi"
   },
   "outputs": [],
   "source": [
    "# transformer\n",
    "transform = transforms.Compose([\n",
    "    transforms.RandomHorizontalFlip(p=0.9),\n",
    "    transforms.RandomAffine(degrees=0, translate=(0.005, 0.0025)),\n",
    "])\n",
    "transform_toTensor = transforms.Compose([\n",
    "    transforms.ToTensor()\n",
    "])"
   ]
  },
  {
   "cell_type": "code",
   "execution_count": 6,
   "metadata": {
    "id": "uctrBuDcn24Z"
   },
   "outputs": [],
   "source": [
    "class IS_Dataset(Dataset):\n",
    "  CLASSES = ['background', 'girder', 'net', 'lanyard', 'guardrail']\n",
    "  def __init__(self, data_list, label_list, classes, cm2lbl, transform=None, transform_toTensor=None, resize_size=(512, 512)):\n",
    "\n",
    "    self.data_list = data_list\n",
    "    self.label_list = label_list\n",
    "    self.transform = transform\n",
    "    self.transform_toTensor = transform_toTensor\n",
    "    self.cm2lbl = cm2lbl\n",
    "    self.resize_size = resize_size\n",
    "    # convert str names to class values on masks\n",
    "    self.class_values = [self.CLASSES.index(cls.lower()) for cls in classes]\n",
    "    print('Read ' + str(len(self.data_list)) + ' images')\n",
    "    \n",
    "  def __getitem__(self, index):\n",
    "    # read data\n",
    "    image = cv2.imread(self.data_list[index])\n",
    "    image = cv2.cvtColor(image, cv2.COLOR_BGR2RGB)\n",
    "    image = cv2.resize(image, self.resize_size, interpolation=cv2.INTER_AREA)\n",
    "        \n",
    "    mask = cv2.imread(self.label_list[index])\n",
    "    mask = cv2.resize(mask, self.resize_size, interpolation=cv2.INTER_NEAREST)\n",
    "\n",
    "    # apply data augmentations\n",
    "    if self.transform:\n",
    "      # ndarray to PIL image\n",
    "      image = Image.fromarray(image)\n",
    "      mask = Image.fromarray(mask)\n",
    "      # apply the transforms\n",
    "      image = self.transform(image)\n",
    "      mask = self.transform(mask)\n",
    "\n",
    "    mask = image2label(mask, self.cm2lbl)\n",
    "    mask = mask.squeeze()\n",
    "    # print(np.unique(mask))\n",
    "    # print(mask.shape)\n",
    "\n",
    "    masks = [(mask == v) for v in self.class_values]\n",
    "    mask = np.stack(masks, axis=-1).astype('float')\n",
    "\n",
    "    if self.transform_toTensor:\n",
    "      image = self.transform_toTensor(image)\n",
    "      mask = self.transform_toTensor(mask)\n",
    "\n",
    "    return image, mask\n",
    "    \n",
    "  def __len__(self):\n",
    "    return len(self.data_list)"
   ]
  },
  {
   "cell_type": "code",
   "execution_count": 7,
   "metadata": {
    "colab": {
     "base_uri": "https://localhost:8080/"
    },
    "id": "cBNkC3VxrGp7",
    "outputId": "500d52a0-6dc3-44c2-9e6d-1f58c09bb59d"
   },
   "outputs": [
    {
     "name": "stdout",
     "output_type": "stream",
     "text": [
      "path： /home/user/Desktop/lanyard_segmentation/guardrail/train_data/features_cropped\n",
      "directory： []\n",
      "file： ['0001_4.png', '0079_7.png', '0048_9.png', '0087_7.png', '0010_10.png', '0047_9.png', '0042_1.png', '0051_7.png', '0060_6.png', '0039_7.png', '0002_8.png', '0028_8.png', '0011_10.png', '0024_1.png', '0013_6.png', '0058_3.png', '0017_9.png', '0065_10.png', '0046_5.png', '0026_5.png', '0056_9.png', '0043_10.png', '0036_1.png', '0032_7.png', '0057_1.png', '0074_6.png', '0025_8.png', '0020_2.png', '0079_6.png', '0064_4.png', '0047_1.png', '0066_4.png', '0080_5.png', '0071_9.png', '0065_9.png', '0051_8.png', '0031_6.png', '0044_9.png', '0020_7.png', '0019_6.png', '0016_4.png', '0017_10.png', '0059_9.png', '0015_4.png', '0045_9.png', '0051_4.png', '0029_9.png', '0082_10.png', '0030_8.png', '0023_2.png', '0079_9.png', '0019_3.png', '0013_4.png', '0002_3.png', '0047_6.png', '0002_1.png', '0057_7.png', '0040_3.png', '0010_1.png', '0012_4.png', '0079_4.png', '0050_8.png', '0067_7.png', '0006_5.png', '0040_9.png', '0005_9.png', '0013_3.png', '0025_3.png', '0054_2.png', '0024_8.png', '0029_6.png', '0023_9.png', '0065_1.png', '0040_1.png', '0032_5.png', '0018_6.png', '0036_8.png', '0046_9.png', '0005_5.png', '0026_1.png', '0011_8.png', '0061_3.png', '0052_8.png', '0087_2.png', '0046_1.png', '0001_6.png', '0003_4.png', '0065_4.png', '0087_6.png', '0041_2.png', '0032_1.png', '0034_7.png', '0070_3.png', '0068_10.png', '0032_3.png', '0068_7.png', '0063_1.png', '0011_6.png', '0048_4.png', '0046_6.png', '0076_6.png', '0056_1.png', '0066_7.png', '0052_3.png', '0010_2.png', '0021_10.png', '0026_8.png', '0080_3.png', '0063_7.png', '0014_8.png', '0088_6.png', '0034_3.png', '0069_5.png', '0042_8.png', '0049_6.png', '0038_5.png', '0048_5.png', '0029_1.png', '0030_10.png', '0006_6.png', '0051_9.png', '0082_3.png', '0019_2.png', '0005_1.png', '0015_5.png', '0053_7.png', '0004_6.png', '0013_5.png', '0036_2.png', '0059_3.png', '0040_6.png', '0058_6.png', '0054_7.png', '0048_7.png', '0006_1.png', '0002_5.png', '0060_9.png', '0028_2.png', '0039_9.png', '0074_9.png', '0025_2.png', '0023_3.png', '0033_9.png', '0071_10.png', '0018_1.png', '0076_10.png', '0088_9.png', '0080_2.png', '0073_6.png', '0038_7.png', '0003_10.png', '0063_5.png', '0003_3.png', '0014_4.png', '0006_4.png', '0051_2.png', '0054_6.png', '0076_3.png', '0073_9.png', '0018_4.png', '0082_6.png', '0060_2.png', '0080_4.png', '0029_3.png', '0028_9.png', '0065_3.png', '0068_3.png', '0037_7.png', '0013_9.png', '0056_7.png', '0017_6.png', '0068_4.png', '0020_10.png', '0049_5.png', '0067_3.png', '0040_4.png', '0073_4.png', '0007_8.png', '0085_3.png', '0046_2.png', '0056_10.png', '0057_2.png', '0019_9.png', '0037_8.png', '0043_5.png', '0055_3.png', '0014_7.png', '0029_8.png', '0014_1.png', '0063_6.png', '0085_9.png', '0045_1.png', '0067_1.png', '0002_9.png', '0038_4.png', '0034_6.png', '0068_9.png', '0079_2.png', '0024_5.png', '0062_2.png', '0055_4.png', '0003_9.png', '0014_2.png', '0030_4.png', '0001_8.png', '0041_5.png', '0051_5.png', '0012_5.png', '0069_3.png', '0005_7.png', '0071_7.png', '0012_10.png', '0019_10.png', '0074_2.png', '0064_1.png', '0073_2.png', '0047_8.png', '0006_9.png', '0028_3.png', '0020_3.png', '0008_9.png', '0036_4.png', '0074_10.png', '0060_7.png', '0009_7.png', '0045_8.png', '0023_4.png', '0068_8.png', '0058_2.png', '0033_10.png', '0053_5.png', '0038_2.png', '0007_4.png', '0011_3.png', '0065_8.png', '0049_9.png', '0067_2.png', '0031_5.png', '0007_2.png', '0038_9.png', '0048_1.png', '0067_10.png', '0015_8.png', '0071_2.png', '0004_2.png', '0016_2.png', '0019_4.png', '0082_8.png', '0032_10.png', '0028_7.png', '0055_2.png', '0057_9.png', '0059_10.png', '0062_9.png', '0035_5.png', '0003_1.png', '0011_5.png', '0017_7.png', '0042_7.png', '0070_4.png', '0005_3.png', '0009_1.png', '0061_2.png', '0005_2.png', '0012_2.png', '0054_9.png', '0057_5.png', '0049_4.png', '0014_6.png', '0045_3.png', '0005_8.png', '0040_7.png', '0063_10.png', '0085_1.png', '0040_10.png', '0052_6.png', '0054_1.png', '0022_10.png', '0041_10.png', '0028_4.png', '0074_8.png', '0065_2.png', '0076_9.png', '0061_8.png', '0087_8.png', '0017_3.png', '0042_3.png', '0061_9.png', '0004_10.png', '0052_2.png', '0041_7.png', '0055_8.png', '0024_4.png', '0015_9.png', '0074_4.png', '0064_10.png', '0042_5.png', '0041_4.png', '0058_1.png', '0024_9.png', '0043_4.png', '0085_10.png', '0044_2.png', '0031_8.png', '0011_2.png', '0030_2.png', '0054_3.png', '0076_5.png', '0007_3.png', '0026_4.png', '0059_5.png', '0062_4.png', '0056_5.png', '0016_6.png', '0013_2.png', '0044_1.png', '0009_10.png', '0017_1.png', '0026_7.png', '0067_4.png', '0070_7.png', '0064_3.png', '0068_6.png', '0017_4.png', '0074_3.png', '0009_9.png', '0016_8.png', '0013_10.png', '0029_5.png', '0082_1.png', '0039_10.png', '0087_9.png', '0019_7.png', '0057_3.png', '0043_1.png', '0080_8.png', '0074_1.png', '0008_4.png', '0021_4.png', '0023_6.png', '0056_3.png', '0030_1.png', '0063_3.png', '0039_5.png', '0041_6.png', '0074_7.png', '0015_1.png', '0085_5.png', '0066_2.png', '0088_8.png', '0010_9.png', '0059_4.png', '0039_4.png', '0082_2.png', '0036_6.png', '0002_6.png', '0062_8.png', '0020_8.png', '0062_5.png', '0015_7.png', '0036_9.png', '0062_1.png', '0074_5.png', '0040_2.png', '0054_8.png', '0022_3.png', '0005_6.png', '0037_10.png', '0035_8.png', '0066_3.png', '0059_2.png', '0021_9.png', '0040_8.png', '0012_8.png', '0045_4.png', '0042_9.png', '0051_1.png', '0064_5.png', '0034_9.png', '0025_6.png', '0063_4.png', '0082_7.png', '0055_9.png', '0070_10.png', '0016_5.png', '0020_1.png', '0087_1.png', '0015_10.png', '0003_5.png', '0035_1.png', '0073_8.png', '0049_3.png', '0008_5.png', '0033_8.png', '0016_3.png', '0049_10.png', '0073_3.png', '0045_10.png', '0037_2.png', '0002_2.png', '0062_3.png', '0061_4.png', '0024_6.png', '0039_3.png', '0061_6.png', '0007_6.png', '0058_4.png', '0056_8.png', '0032_8.png', '0047_4.png', '0059_6.png', '0053_6.png', '0019_1.png', '0001_2.png', '0001_1.png', '0044_10.png', '0043_2.png', '0060_1.png', '0055_10.png', '0061_5.png', '0027_7.png', '0037_6.png', '0082_4.png', '0088_4.png', '0041_8.png', '0046_4.png', '0085_6.png', '0008_10.png', '0027_5.png', '0067_9.png', '0017_2.png', '0065_6.png', '0004_9.png', '0080_7.png', '0085_8.png', '0051_6.png', '0053_4.png', '0058_7.png', '0064_9.png', '0073_7.png', '0050_3.png', '0043_8.png', '0069_1.png', '0030_5.png', '0006_7.png', '0058_9.png', '0068_1.png', '0010_3.png', '0024_3.png', '0013_8.png', '0020_9.png', '0013_1.png', '0025_4.png', '0038_1.png', '0016_7.png', '0035_10.png', '0026_9.png', '0058_10.png', '0019_5.png', '0011_7.png', '0049_8.png', '0053_2.png', '0018_10.png', '0003_7.png', '0015_6.png', '0007_9.png', '0064_8.png', '0027_8.png', '0057_10.png', '0024_7.png', '0024_10.png', '0030_6.png', '0058_5.png', '0031_4.png', '0008_7.png', '0008_2.png', '0071_6.png', '0048_6.png', '0037_1.png', '0062_10.png', '0080_10.png', '0018_2.png', '0003_8.png', '0025_7.png', '0022_2.png', '0060_3.png', '0037_3.png', '0002_7.png', '0082_5.png', '0009_8.png', '0006_8.png', '0016_10.png', '0057_4.png', '0009_5.png', '0023_1.png', '0053_10.png', '0065_7.png', '0033_4.png', '0047_5.png', '0004_1.png', '0040_5.png', '0053_8.png', '0037_4.png', '0069_9.png', '0053_1.png', '0049_1.png', '0085_7.png', '0004_7.png', '0021_2.png', '0054_5.png', '0034_4.png', '0038_8.png', '0036_7.png', '0064_7.png', '0076_4.png', '0073_5.png', '0069_7.png', '0036_5.png', '0052_4.png', '0002_4.png', '0016_9.png', '0070_8.png', '0041_1.png', '0007_1.png', '0048_2.png', '0025_9.png', '0004_4.png', '0037_5.png', '0050_7.png', '0043_9.png', '0046_7.png', '0023_8.png', '0080_1.png', '0008_1.png', '0079_8.png', '0021_5.png', '0039_6.png', '0056_4.png', '0026_3.png', '0016_1.png', '0088_7.png', '0044_8.png', '0025_5.png', '0012_9.png', '0071_1.png', '0047_2.png', '0048_8.png', '0069_8.png', '0014_3.png', '0010_4.png', '0006_3.png', '0034_2.png', '0008_3.png', '0062_6.png', '0067_6.png', '0056_6.png', '0028_6.png', '0041_9.png', '0079_10.png', '0039_1.png', '0033_1.png', '0032_4.png', '0071_5.png', '0053_3.png', '0051_3.png', '0042_10.png', '0044_5.png', '0030_9.png', '0066_8.png', '0079_1.png', '0035_9.png', '0005_10.png', '0088_10.png', '0009_2.png', '0012_3.png', '0020_6.png', '0013_7.png', '0032_6.png', '0088_3.png', '0031_7.png', '0060_10.png', '0028_10.png', '0027_3.png', '0004_8.png', '0052_7.png', '0044_6.png', '0061_10.png', '0021_1.png', '0035_2.png', '0069_2.png', '0087_5.png', '0061_1.png', '0076_2.png', '0033_7.png', '0001_9.png', '0079_3.png', '0021_8.png', '0031_9.png', '0015_3.png', '0088_1.png', '0069_4.png', '0020_5.png', '0008_8.png', '0014_5.png', '0044_4.png', '0050_2.png', '0020_4.png', '0043_6.png', '0004_5.png', '0006_2.png', '0043_3.png', '0073_1.png', '0070_9.png', '0017_5.png', '0054_4.png', '0059_1.png', '0012_1.png', '0059_8.png', '0017_8.png', '0059_7.png', '0063_8.png', '0066_5.png', '0027_6.png', '0046_3.png', '0066_1.png', '0044_3.png', '0045_7.png', '0070_6.png', '0032_9.png', '0022_1.png', '0063_9.png', '0035_4.png', '0068_2.png', '0070_2.png', '0060_5.png', '0031_10.png', '0033_3.png', '0050_4.png', '0057_6.png', '0035_3.png', '0082_9.png', '0019_8.png', '0042_6.png', '0033_2.png', '0034_10.png', '0060_8.png', '0007_5.png', '0031_1.png', '0007_10.png', '0027_4.png', '0067_5.png', '0041_3.png', '0005_4.png', '0023_5.png', '0034_5.png', '0070_5.png', '0014_9.png', '0071_3.png', '0055_7.png', '0012_6.png', '0038_6.png', '0003_2.png', '0066_10.png', '0011_4.png', '0021_6.png', '0008_6.png', '0030_3.png', '0023_10.png', '0071_8.png', '0050_10.png', '0070_1.png', '0047_7.png', '0031_3.png', '0029_10.png', '0028_5.png', '0018_3.png', '0014_10.png', '0003_6.png', '0043_7.png', '0049_7.png', '0018_8.png', '0044_7.png', '0055_6.png', '0045_2.png', '0063_2.png', '0033_5.png', '0065_5.png', '0029_4.png', '0030_7.png', '0032_2.png', '0045_6.png', '0026_2.png', '0052_5.png', '0050_5.png', '0058_8.png', '0029_2.png', '0039_8.png', '0047_10.png', '0022_4.png', '0051_10.png', '0046_10.png', '0045_5.png', '0061_7.png', '0062_7.png', '0050_9.png', '0049_2.png', '0031_2.png', '0050_1.png', '0085_4.png', '0071_4.png', '0035_7.png', '0042_2.png', '0006_10.png', '0067_8.png', '0087_4.png', '0018_5.png', '0056_2.png', '0033_6.png', '0076_7.png', '0021_7.png', '0024_2.png', '0073_10.png', '0027_9.png', '0009_4.png', '0042_4.png', '0087_3.png', '0055_5.png', '0069_10.png', '0025_1.png', '0027_2.png', '0026_6.png', '0004_3.png', '0066_6.png', '0022_9.png', '0001_7.png', '0001_10.png', '0039_2.png', '0080_6.png', '0060_4.png', '0064_6.png', '0009_3.png', '0038_3.png', '0023_7.png', '0036_3.png', '0052_10.png', '0047_3.png', '0025_10.png', '0011_1.png', '0038_10.png', '0087_10.png', '0088_2.png', '0048_3.png', '0001_5.png', '0001_3.png', '0050_6.png', '0018_9.png', '0027_1.png', '0076_8.png', '0088_5.png', '0009_6.png', '0069_6.png', '0054_10.png', '0034_1.png', '0015_2.png', '0036_10.png', '0012_7.png', '0053_9.png', '0080_9.png', '0052_9.png', '0064_2.png', '0035_6.png', '0046_8.png', '0055_1.png', '0007_7.png', '0028_1.png', '0011_9.png', '0002_10.png', '0068_5.png', '0052_1.png', '0085_2.png', '0029_7.png', '0066_9.png', '0026_10.png', '0048_10.png', '0076_1.png', '0021_3.png', '0057_8.png', '0079_5.png', '0034_8.png', '0027_10.png', '0018_7.png', '0037_9.png']\n"
     ]
    },
    {
     "name": "stderr",
     "output_type": "stream",
     "text": [
      "100%|██████████| 792/792 [00:00<00:00, 3308654.15it/s]\n"
     ]
    },
    {
     "name": "stdout",
     "output_type": "stream",
     "text": [
      "Read  792  files\n",
      "path： /home/user/Desktop/lanyard_segmentation/guardrail/train_data/labels_cropped\n",
      "directory： []\n",
      "file： ['0001_4.png', '0079_7.png', '0048_9.png', '0087_7.png', '0010_10.png', '0047_9.png', '0042_1.png', '0051_7.png', '0060_6.png', '0039_7.png', '0002_8.png', '0028_8.png', '0011_10.png', '0024_1.png', '0013_6.png', '0058_3.png', '0017_9.png', '0065_10.png', '0046_5.png', '0026_5.png', '0056_9.png', '0043_10.png', '0036_1.png', '0032_7.png', '0057_1.png', '0074_6.png', '0025_8.png', '0020_2.png', '0079_6.png', '0064_4.png', '0047_1.png', '0066_4.png', '0080_5.png', '0071_9.png', '0065_9.png', '0051_8.png', '0031_6.png', '0044_9.png', '0020_7.png', '0019_6.png', '0016_4.png', '0017_10.png', '0059_9.png', '0015_4.png', '0045_9.png', '0051_4.png', '0029_9.png', '0082_10.png', '0030_8.png', '0023_2.png', '0079_9.png', '0019_3.png', '0013_4.png', '0002_3.png', '0047_6.png', '0002_1.png', '0057_7.png', '0040_3.png', '0010_1.png', '0012_4.png', '0079_4.png', '0050_8.png', '0067_7.png', '0006_5.png', '0040_9.png', '0005_9.png', '0013_3.png', '0025_3.png', '0054_2.png', '0024_8.png', '0029_6.png', '0023_9.png', '0065_1.png', '0040_1.png', '0032_5.png', '0018_6.png', '0036_8.png', '0046_9.png', '0005_5.png', '0026_1.png', '0011_8.png', '0061_3.png', '0052_8.png', '0087_2.png', '0046_1.png', '0001_6.png', '0003_4.png', '0065_4.png', '0087_6.png', '0041_2.png', '0032_1.png', '0034_7.png', '0070_3.png', '0068_10.png', '0032_3.png', '0068_7.png', '0063_1.png', '0011_6.png', '0048_4.png', '0046_6.png', '0076_6.png', '0056_1.png', '0066_7.png', '0052_3.png', '0010_2.png', '0021_10.png', '0026_8.png', '0080_3.png', '0063_7.png', '0014_8.png', '0088_6.png', '0034_3.png', '0069_5.png', '0042_8.png', '0049_6.png', '0038_5.png', '0048_5.png', '0029_1.png', '0030_10.png', '0006_6.png', '0051_9.png', '0082_3.png', '0019_2.png', '0005_1.png', '0015_5.png', '0053_7.png', '0004_6.png', '0013_5.png', '0036_2.png', '0059_3.png', '0040_6.png', '0058_6.png', '0054_7.png', '0048_7.png', '0006_1.png', '0002_5.png', '0060_9.png', '0028_2.png', '0039_9.png', '0074_9.png', '0025_2.png', '0023_3.png', '0033_9.png', '0071_10.png', '0018_1.png', '0076_10.png', '0088_9.png', '0080_2.png', '0073_6.png', '0038_7.png', '0003_10.png', '0063_5.png', '0003_3.png', '0014_4.png', '0006_4.png', '0051_2.png', '0054_6.png', '0076_3.png', '0073_9.png', '0018_4.png', '0082_6.png', '0060_2.png', '0080_4.png', '0029_3.png', '0028_9.png', '0065_3.png', '0068_3.png', '0037_7.png', '0013_9.png', '0056_7.png', '0017_6.png', '0068_4.png', '0020_10.png', '0049_5.png', '0067_3.png', '0040_4.png', '0073_4.png', '0007_8.png', '0085_3.png', '0046_2.png', '0056_10.png', '0057_2.png', '0019_9.png', '0037_8.png', '0043_5.png', '0055_3.png', '0014_7.png', '0029_8.png', '0014_1.png', '0063_6.png', '0085_9.png', '0045_1.png', '0067_1.png', '0002_9.png', '0038_4.png', '0034_6.png', '0068_9.png', '0079_2.png', '0024_5.png', '0062_2.png', '0055_4.png', '0003_9.png', '0014_2.png', '0030_4.png', '0001_8.png', '0041_5.png', '0051_5.png', '0012_5.png', '0069_3.png', '0005_7.png', '0071_7.png', '0012_10.png', '0019_10.png', '0074_2.png', '0064_1.png', '0073_2.png', '0047_8.png', '0006_9.png', '0028_3.png', '0020_3.png', '0008_9.png', '0036_4.png', '0074_10.png', '0060_7.png', '0009_7.png', '0045_8.png', '0023_4.png', '0068_8.png', '0058_2.png', '0033_10.png', '0053_5.png', '0038_2.png', '0007_4.png', '0011_3.png', '0065_8.png', '0049_9.png', '0067_2.png', '0031_5.png', '0007_2.png', '0038_9.png', '0048_1.png', '0067_10.png', '0015_8.png', '0071_2.png', '0004_2.png', '0016_2.png', '0019_4.png', '0082_8.png', '0032_10.png', '0028_7.png', '0055_2.png', '0057_9.png', '0059_10.png', '0062_9.png', '0035_5.png', '0003_1.png', '0011_5.png', '0017_7.png', '0042_7.png', '0070_4.png', '0005_3.png', '0009_1.png', '0061_2.png', '0005_2.png', '0012_2.png', '0054_9.png', '0057_5.png', '0049_4.png', '0014_6.png', '0045_3.png', '0005_8.png', '0040_7.png', '0063_10.png', '0085_1.png', '0040_10.png', '0052_6.png', '0054_1.png', '0022_10.png', '0041_10.png', '0028_4.png', '0074_8.png', '0065_2.png', '0076_9.png', '0061_8.png', '0087_8.png', '0017_3.png', '0042_3.png', '0061_9.png', '0004_10.png', '0052_2.png', '0041_7.png', '0055_8.png', '0024_4.png', '0015_9.png', '0074_4.png', '0064_10.png', '0042_5.png', '0041_4.png', '0058_1.png', '0024_9.png', '0043_4.png', '0085_10.png', '0044_2.png', '0031_8.png', '0011_2.png', '0030_2.png', '0054_3.png', '0076_5.png', '0007_3.png', '0026_4.png', '0059_5.png', '0062_4.png', '0056_5.png', '0016_6.png', '0013_2.png', '0044_1.png', '0009_10.png', '0017_1.png', '0026_7.png', '0067_4.png', '0070_7.png', '0064_3.png', '0068_6.png', '0017_4.png', '0074_3.png', '0009_9.png', '0016_8.png', '0013_10.png', '0029_5.png', '0082_1.png', '0039_10.png', '0087_9.png', '0019_7.png', '0057_3.png', '0043_1.png', '0080_8.png', '0074_1.png', '0008_4.png', '0021_4.png', '0023_6.png', '0056_3.png', '0030_1.png', '0063_3.png', '0039_5.png', '0041_6.png', '0074_7.png', '0015_1.png', '0085_5.png', '0066_2.png', '0088_8.png', '0010_9.png', '0059_4.png', '0039_4.png', '0082_2.png', '0036_6.png', '0002_6.png', '0062_8.png', '0020_8.png', '0062_5.png', '0015_7.png', '0036_9.png', '0062_1.png', '0074_5.png', '0040_2.png', '0054_8.png', '0022_3.png', '0005_6.png', '0037_10.png', '0035_8.png', '0066_3.png', '0059_2.png', '0021_9.png', '0040_8.png', '0012_8.png', '0045_4.png', '0042_9.png', '0051_1.png', '0064_5.png', '0034_9.png', '0025_6.png', '0063_4.png', '0082_7.png', '0055_9.png', '0070_10.png', '0016_5.png', '0020_1.png', '0087_1.png', '0015_10.png', '0003_5.png', '0035_1.png', '0073_8.png', '0049_3.png', '0008_5.png', '0033_8.png', '0016_3.png', '0049_10.png', '0073_3.png', '0045_10.png', '0037_2.png', '0002_2.png', '0062_3.png', '0061_4.png', '0024_6.png', '0039_3.png', '0061_6.png', '0007_6.png', '0058_4.png', '0056_8.png', '0032_8.png', '0047_4.png', '0059_6.png', '0053_6.png', '0019_1.png', '0001_2.png', '0001_1.png', '0044_10.png', '0043_2.png', '0060_1.png', '0055_10.png', '0061_5.png', '0027_7.png', '0037_6.png', '0082_4.png', '0088_4.png', '0041_8.png', '0046_4.png', '0085_6.png', '0008_10.png', '0027_5.png', '0067_9.png', '0017_2.png', '0065_6.png', '0004_9.png', '0080_7.png', '0085_8.png', '0051_6.png', '0053_4.png', '0058_7.png', '0064_9.png', '0073_7.png', '0050_3.png', '0043_8.png', '0069_1.png', '0030_5.png', '0006_7.png', '0058_9.png', '0068_1.png', '0010_3.png', '0024_3.png', '0013_8.png', '0020_9.png', '0013_1.png', '0025_4.png', '0038_1.png', '0016_7.png', '0035_10.png', '0026_9.png', '0058_10.png', '0019_5.png', '0011_7.png', '0049_8.png', '0053_2.png', '0018_10.png', '0003_7.png', '0015_6.png', '0007_9.png', '0064_8.png', '0027_8.png', '0057_10.png', '0024_7.png', '0024_10.png', '0030_6.png', '0058_5.png', '0031_4.png', '0008_7.png', '0008_2.png', '0071_6.png', '0048_6.png', '0037_1.png', '0062_10.png', '0080_10.png', '0018_2.png', '0003_8.png', '0025_7.png', '0022_2.png', '0060_3.png', '0037_3.png', '0002_7.png', '0082_5.png', '0009_8.png', '0006_8.png', '0016_10.png', '0057_4.png', '0009_5.png', '0023_1.png', '0053_10.png', '0065_7.png', '0033_4.png', '0047_5.png', '0004_1.png', '0040_5.png', '0053_8.png', '0037_4.png', '0069_9.png', '0053_1.png', '0049_1.png', '0085_7.png', '0004_7.png', '0021_2.png', '0054_5.png', '0034_4.png', '0038_8.png', '0036_7.png', '0064_7.png', '0076_4.png', '0073_5.png', '0069_7.png', '0036_5.png', '0052_4.png', '0002_4.png', '0016_9.png', '0070_8.png', '0041_1.png', '0007_1.png', '0048_2.png', '0025_9.png', '0004_4.png', '0037_5.png', '0050_7.png', '0043_9.png', '0046_7.png', '0023_8.png', '0080_1.png', '0008_1.png', '0079_8.png', '0021_5.png', '0039_6.png', '0056_4.png', '0026_3.png', '0016_1.png', '0088_7.png', '0044_8.png', '0025_5.png', '0012_9.png', '0071_1.png', '0047_2.png', '0048_8.png', '0069_8.png', '0014_3.png', '0010_4.png', '0006_3.png', '0034_2.png', '0008_3.png', '0062_6.png', '0067_6.png', '0056_6.png', '0028_6.png', '0041_9.png', '0079_10.png', '0039_1.png', '0033_1.png', '0032_4.png', '0071_5.png', '0053_3.png', '0051_3.png', '0042_10.png', '0044_5.png', '0030_9.png', '0066_8.png', '0079_1.png', '0035_9.png', '0005_10.png', '0088_10.png', '0009_2.png', '0012_3.png', '0020_6.png', '0013_7.png', '0032_6.png', '0088_3.png', '0031_7.png', '0060_10.png', '0028_10.png', '0027_3.png', '0004_8.png', '0052_7.png', '0044_6.png', '0061_10.png', '0021_1.png', '0035_2.png', '0069_2.png', '0087_5.png', '0061_1.png', '0076_2.png', '0033_7.png', '0001_9.png', '0079_3.png', '0021_8.png', '0031_9.png', '0015_3.png', '0088_1.png', '0069_4.png', '0020_5.png', '0008_8.png', '0014_5.png', '0044_4.png', '0050_2.png', '0020_4.png', '0043_6.png', '0004_5.png', '0006_2.png', '0043_3.png', '0073_1.png', '0070_9.png', '0017_5.png', '0054_4.png', '0059_1.png', '0012_1.png', '0059_8.png', '0017_8.png', '0059_7.png', '0063_8.png', '0066_5.png', '0027_6.png', '0046_3.png', '0066_1.png', '0044_3.png', '0045_7.png', '0070_6.png', '0032_9.png', '0022_1.png', '0063_9.png', '0035_4.png', '0068_2.png', '0070_2.png', '0060_5.png', '0031_10.png', '0033_3.png', '0050_4.png', '0057_6.png', '0035_3.png', '0082_9.png', '0019_8.png', '0042_6.png', '0033_2.png', '0034_10.png', '0060_8.png', '0007_5.png', '0031_1.png', '0007_10.png', '0027_4.png', '0067_5.png', '0041_3.png', '0005_4.png', '0023_5.png', '0034_5.png', '0070_5.png', '0014_9.png', '0071_3.png', '0055_7.png', '0012_6.png', '0038_6.png', '0003_2.png', '0066_10.png', '0011_4.png', '0021_6.png', '0008_6.png', '0030_3.png', '0023_10.png', '0071_8.png', '0050_10.png', '0070_1.png', '0047_7.png', '0031_3.png', '0029_10.png', '0028_5.png', '0018_3.png', '0014_10.png', '0003_6.png', '0043_7.png', '0049_7.png', '0018_8.png', '0044_7.png', '0055_6.png', '0045_2.png', '0063_2.png', '0033_5.png', '0065_5.png', '0029_4.png', '0030_7.png', '0032_2.png', '0045_6.png', '0026_2.png', '0052_5.png', '0050_5.png', '0058_8.png', '0029_2.png', '0039_8.png', '0047_10.png', '0022_4.png', '0051_10.png', '0046_10.png', '0045_5.png', '0061_7.png', '0062_7.png', '0050_9.png', '0049_2.png', '0031_2.png', '0050_1.png', '0085_4.png', '0071_4.png', '0035_7.png', '0042_2.png', '0006_10.png', '0067_8.png', '0087_4.png', '0018_5.png', '0056_2.png', '0033_6.png', '0076_7.png', '0021_7.png', '0024_2.png', '0073_10.png', '0027_9.png', '0009_4.png', '0042_4.png', '0087_3.png', '0055_5.png', '0069_10.png', '0025_1.png', '0027_2.png', '0026_6.png', '0004_3.png', '0066_6.png', '0022_9.png', '0001_7.png', '0001_10.png', '0039_2.png', '0080_6.png', '0060_4.png', '0064_6.png', '0009_3.png', '0038_3.png', '0023_7.png', '0036_3.png', '0052_10.png', '0047_3.png', '0025_10.png', '0011_1.png', '0038_10.png', '0087_10.png', '0088_2.png', '0048_3.png', '0001_5.png', '0001_3.png', '0050_6.png', '0018_9.png', '0027_1.png', '0076_8.png', '0088_5.png', '0009_6.png', '0069_6.png', '0054_10.png', '0034_1.png', '0015_2.png', '0036_10.png', '0012_7.png', '0053_9.png', '0080_9.png', '0052_9.png', '0064_2.png', '0035_6.png', '0046_8.png', '0055_1.png', '0007_7.png', '0028_1.png', '0011_9.png', '0002_10.png', '0068_5.png', '0052_1.png', '0085_2.png', '0029_7.png', '0066_9.png', '0026_10.png', '0048_10.png', '0076_1.png', '0021_3.png', '0057_8.png', '0079_5.png', '0034_8.png', '0027_10.png', '0018_7.png', '0037_9.png']\n"
     ]
    },
    {
     "name": "stderr",
     "output_type": "stream",
     "text": [
      "100%|██████████| 792/792 [00:00<00:00, 3315258.25it/s]"
     ]
    },
    {
     "name": "stdout",
     "output_type": "stream",
     "text": [
      "Read  792  files\n"
     ]
    },
    {
     "name": "stderr",
     "output_type": "stream",
     "text": [
      "\n"
     ]
    }
   ],
   "source": [
    "input_imgs = read_images(train_features_folder)\n",
    "output_imgs = read_images(train_labels_folder)\n",
    "classes = [\"guardrail\"]\n",
    "cm2lbl = make_cm2lbl()\n"
   ]
  },
  {
   "cell_type": "code",
   "execution_count": 8,
   "metadata": {
    "colab": {
     "base_uri": "https://localhost:8080/"
    },
    "id": "f32EXWbUnkII",
    "outputId": "7ff1e937-922e-4e15-912e-ac014147a588"
   },
   "outputs": [
    {
     "name": "stdout",
     "output_type": "stream",
     "text": [
      "Read 633 images\n",
      "Read 159 images\n"
     ]
    }
   ],
   "source": [
    "input_train, input_vali, output_train, output_vali = train_test_split(input_imgs, output_imgs, test_size=0.2, random_state=42)\n",
    "train_dataset_vis = IS_Dataset(input_train, output_train, classes=classes, cm2lbl=cm2lbl)\n",
    "validation_dataset_vis = IS_Dataset(input_vali, output_vali, classes=classes, cm2lbl=cm2lbl)"
   ]
  },
  {
   "cell_type": "code",
   "execution_count": 9,
   "metadata": {
    "colab": {
     "base_uri": "https://localhost:8080/",
     "height": 314
    },
    "id": "HerUtNS8nkB4",
    "outputId": "bfb442a1-eb89-446d-c358-28cf2e4898f6"
   },
   "outputs": [
    {
     "name": "stdout",
     "output_type": "stream",
     "text": [
      "(512, 512, 3)\n",
      "(512, 512, 1)\n"
     ]
    },
    {
     "data": {
      "image/png": "[encoded data removed]",
      "text/plain": [
       "<Figure size 1152x360 with 2 Axes>"
      ]
     },
     "metadata": {},
     "output_type": "display_data"
    }
   ],
   "source": [
    "image, mask = train_dataset_vis[100]\n",
    "print(image.shape)\n",
    "print(mask.shape)\n",
    "visualize(\n",
    "    image=image, \n",
    "    lanyard_mask=mask[..., 0].squeeze(),\n",
    ")"
   ]
  },
  {
   "cell_type": "code",
   "execution_count": 10,
   "metadata": {
    "colab": {
     "base_uri": "https://localhost:8080/"
    },
    "id": "Gr6OEihPmmfc",
    "outputId": "a6e5e2fa-4f0b-4e73-c671-120bee4378e3"
   },
   "outputs": [
    {
     "name": "stdout",
     "output_type": "stream",
     "text": [
      "Read 633 images\n",
      "Read 159 images\n"
     ]
    }
   ],
   "source": [
    "train_dataset = IS_Dataset(\n",
    "  input_train, \n",
    "  output_train, \n",
    "  transform=transform,\n",
    "  transform_toTensor=transform_toTensor,\n",
    "  classes=classes,\n",
    "  cm2lbl=cm2lbl\n",
    "  )\n",
    "validation_dataset = IS_Dataset(\n",
    "  input_vali, \n",
    "  output_vali,\n",
    "  classes=classes,\n",
    "  transform=transform, \n",
    "  transform_toTensor=transform_toTensor,\n",
    "  cm2lbl=cm2lbl\n",
    "  )\n",
    "  \n",
    "train_dataloader = DataLoader(train_dataset, 8, shuffle=True, num_workers=2)\n",
    "validation_dataloader = DataLoader(validation_dataset, 2, shuffle=False, num_workers=2)"
   ]
  },
  {
   "cell_type": "code",
   "execution_count": 11,
   "metadata": {
    "colab": {
     "base_uri": "https://localhost:8080/"
    },
    "id": "h6zwdmVsouQf",
    "outputId": "dd3000ec-119e-4164-a9af-1493987e68b6"
   },
   "outputs": [
    {
     "name": "stdout",
     "output_type": "stream",
     "text": [
      "torch.Size([3, 512, 512])\n",
      "torch.Size([1, 512, 512])\n"
     ]
    }
   ],
   "source": [
    "image, mask = train_dataset[100]\n",
    "print(image.shape)\n",
    "print(mask.shape)\n"
   ]
  },
  {
   "cell_type": "markdown",
   "metadata": {
    "id": "PR_wTitnoCvQ"
   },
   "source": [
    "# Model"
   ]
  },
  {
   "cell_type": "code",
   "execution_count": 12,
   "metadata": {},
   "outputs": [],
   "source": [
    "class GhostModule(nn.Module):\n",
    "    def __init__(self, inp, oup, kernel_size=1, ratio=2, dw_size=3, stride=1, relu=True, dilated=None):\n",
    "        super(GhostModule, self).__init__()\n",
    "        self.oup = oup\n",
    "        init_channels = math.ceil(oup / ratio)\n",
    "        new_channels = init_channels*(ratio-1)\n",
    "        self.primary_conv = nn.Sequential(\n",
    "            nn.Conv2d(inp, init_channels, kernel_size, stride, kernel_size//2, bias=False),\n",
    "            nn.BatchNorm2d(init_channels),\n",
    "            nn.ReLU(inplace=True) if relu else nn.Sequential(),\n",
    "        )\n",
    "\n",
    "        self.cheap_operation = nn.Sequential(\n",
    "            nn.Conv2d(init_channels, new_channels, dw_size, 1, dw_size//2, groups=init_channels, bias=False),\n",
    "            nn.BatchNorm2d(new_channels),\n",
    "            nn.ReLU(inplace=True) if relu else nn.Sequential(),\n",
    "        )\n",
    "\n",
    "    def forward(self, x):\n",
    "        x1 = self.primary_conv(x)\n",
    "        x2 = self.cheap_operation(x1)\n",
    "        out = torch.cat([x1,x2], dim=1)\n",
    "        return out[:,:self.oup,:,:]"
   ]
  },
  {
   "cell_type": "code",
   "execution_count": 13,
   "metadata": {
    "id": "IPkWt3TqoD0k"
   },
   "outputs": [],
   "source": [
    "class DownsampleBlock(nn.Module):\n",
    "  def __init__(self, nc_input, nc_output):\n",
    "    '''\n",
    "    Arguments:\n",
    "    nc_input : Win, number of input channel\n",
    "    nc_output : Wout, number of output channel\n",
    "    '''\n",
    "\n",
    "    super(DownsampleBlock,self).__init__()\n",
    "    self.nc_input = nc_input\n",
    "    self.nc_output = nc_output\n",
    "\n",
    "    if self.nc_input < self.nc_output:\n",
    "      # Win < Wout\n",
    "      self.conv = GhostModule(nc_input, nc_output-nc_input, kernel_size=3, stride=2, relu=True)\n",
    "      # self.conv = nn.Conv2d(nc_input, nc_output-nc_input, kernel_size=3, stride=2, padding=1)\n",
    "      self.pool = nn.MaxPool2d(2, stride=2)\n",
    "    else:\n",
    "      # Win > Wout\n",
    "      self.conv = GhostModule(nc_input, nc_output, kernel_size=3, stride=2, relu=True)\n",
    "      # self.conv = nn.Conv2d(nc_input, nc_output, kernel_size=3, stride=2, padding=1)\n",
    "\n",
    "    self.batchNorm = nn.BatchNorm2d(nc_output)\n",
    "    self.relu = nn.ReLU()\n",
    "\n",
    "  def forward(self, x):\n",
    "    if self.nc_input < self.nc_output:\n",
    "      out = torch.cat([self.conv(x), self.pool(x)], 1)\n",
    "    else:\n",
    "      out = self.conv(x)\n",
    "    \n",
    "    # out = self.batchNorm(out)\n",
    "    # out = self.relu(out)\n",
    "    return out\n"
   ]
  },
  {
   "cell_type": "code",
   "execution_count": 14,
   "metadata": {
    "id": "wBkzB9ag_5ZD"
   },
   "outputs": [],
   "source": [
    "class EDABlock_ghost(nn.Module):\n",
    "  def __init__(self, nc_input, dilated, k = 40, dropprob = 0.02):\n",
    "    '''\n",
    "    Arguments:\n",
    "    nc_input : number of input channel\n",
    "    k : growth rate\n",
    "    dilated : possible dilated convalution\n",
    "    dropprob : probability, a dropout layer between the last ReLU and the concatenation of each module\n",
    "    '''\n",
    "    # GhostModule(inp, hidden_dim, kernel_size=1, relu=True)\n",
    "    super(EDABlock_ghost,self).__init__()\n",
    "    # self.conv1x1_0 = nn.Conv2d(nc_input, k, kernel_size=1)\n",
    "    self.conv_0 = GhostModule(nc_input, k, kernel_size=1, relu=True)\n",
    "    self.batchNorm_0 = nn.BatchNorm2d(k)\n",
    "\n",
    "    # self.conv3x1_1 = nn.Conv2d(k, k, kernel_size=(3,1), padding=(1,0))\n",
    "    # self.conv1x3_1 = nn.Conv2d(k, k, kernel_size=(1,3), padding=(0,1))\n",
    "    self.conv_1 = GhostModule(k, k, kernel_size=3, relu=True)\n",
    "    self.batchNorm_1 = nn.BatchNorm2d(k)\n",
    "\n",
    "    self.conv3x1_2 = nn.Conv2d(k, k, kernel_size=(3,1), stride=1, padding=(dilated,0), dilation=dilated)\n",
    "    self.conv1x3_2 = nn.Conv2d(k, k, kernel_size=(1,3), stride=1, padding=(0,dilated), dilation=dilated)\n",
    "    self.batchNorm_2 = nn.BatchNorm2d(k)\n",
    "    self.dropout = nn.Dropout2d(dropprob)\n",
    "    self.relu = nn.ReLU()\n",
    "\n",
    "  def forward(self, x):\n",
    "    input = x\n",
    "\n",
    "    output = self.conv_0(x)\n",
    "    # output = self.conv1x1_0(x)\n",
    "    # output = self.batchNorm_0(output)\n",
    "    # output = self.relu(output)\n",
    "\n",
    "    output = self.conv_1(output)\n",
    "    # output = self.conv3x1_1(output)\n",
    "    # output = self.conv1x3_1(output)\n",
    "    # output = self.batchNorm_1(output)\n",
    "    # output = self.relu(output)\n",
    "\n",
    "    output = self.conv3x1_2(output)\n",
    "    output = self.conv1x3_2(output)\n",
    "    output = self.batchNorm_2(output)\n",
    "    output = self.relu(output)\n",
    "\n",
    "    if (self.dropout.p != 0):\n",
    "      output = self.dropout(output)\n",
    "\n",
    "    output = torch.cat((output, input), 1)\n",
    "\n",
    "    return output\n"
   ]
  },
  {
   "cell_type": "code",
   "execution_count": 15,
   "metadata": {
    "id": "1d0uikSRGs6S"
   },
   "outputs": [],
   "source": [
    "class EDAnet(nn.Module):\n",
    "  def __init__(self, n_class=1):\n",
    "    '''\n",
    "    Arguments:\n",
    "    nc_input : number of input channel\n",
    "    k : growth rate\n",
    "    dilated : possible dilated convalution\n",
    "    dropprob : probability, a dropout layer between the last ReLU and the concatenation of each module\n",
    "    '''\n",
    "    super(EDAnet,self).__init__()\n",
    "    self.layers = nn.ModuleList()\n",
    "    self.dilation1 = [1,1,1,2,2]\n",
    "    self.dilation2 = [2,2,4,4,8,8,16,16]\n",
    "\n",
    "    # DownsampleBlock1\n",
    "    self.layers.append(DownsampleBlock(3, 15))\n",
    "\n",
    "    # DownsampleBlock2\n",
    "    self.layers.append(DownsampleBlock(15, 60))\n",
    "\n",
    "    # EDA module 1-1~1-5\n",
    "    for i in range(len(self.dilation1)):\n",
    "      self.layers.append(EDABlock_ghost(60 + 40 * i, self.dilation1[i]))\n",
    "\n",
    "    # DownsampleBlock3\n",
    "    self.layers.append(DownsampleBlock(260, 130))\n",
    "\n",
    "    # EDA module 2-1~2-8\n",
    "    for j in range(len(self.dilation2)):\n",
    "      self.layers.append(EDABlock_ghost(130 + 40 * j, self.dilation2[j]))\n",
    "\n",
    "    # Projection layer\n",
    "    self.project_layer = nn.Conv2d(450, n_class, kernel_size = 1)\n",
    "\n",
    "    self.weights_init()\n",
    "  \n",
    "  def weights_init(self):\n",
    "    for index, m in enumerate(self.modules()):\n",
    "      classname = m.__class__.__name__\n",
    "      if classname.find('Conv') != -1:\n",
    "        m.weight.data.normal_(0.0, 0.02)\n",
    "      elif classname.find('BatchNorm') != -1:\n",
    "        m.weight.data.normal_(1.0, 0.02)\n",
    "        m.bias.data.fill_(0)\n",
    "\n",
    "  def forward(self, x):\n",
    "    output = x\n",
    "\n",
    "    for layer in self.layers:\n",
    "      output = layer(output)\n",
    "      # print(output.shape)\n",
    "\n",
    "    output = self.project_layer(output)\n",
    "\n",
    "    # Bilinear interpolation x8\n",
    "    output = F.interpolate(output,scale_factor = 8,mode = 'bilinear',align_corners=True)\n",
    "\n",
    "    # # Bilinear interpolation x2 (inference only)\n",
    "    # if not self.training:\n",
    "    #   output = F.interpolate(output, scale_factor=2, mode='bilinear',align_corners=True)\n",
    "\n",
    "    return output\n"
   ]
  },
  {
   "cell_type": "code",
   "execution_count": 16,
   "metadata": {
    "colab": {
     "base_uri": "https://localhost:8080/"
    },
    "id": "-vT3Xk4B-xhx",
    "outputId": "0667b5f3-0767-46f2-9663-e7d38e32e319"
   },
   "outputs": [
    {
     "name": "stdout",
     "output_type": "stream",
     "text": [
      "torch.Size([1, 1, 512, 1024])\n"
     ]
    }
   ],
   "source": [
    "input = Variable(torch.randn(1,3,512,1024))\n",
    "# for the inference only mode\n",
    "net = EDAnet().eval()\n",
    "# for the training mode\n",
    "#net = EDAnet().train()\n",
    "output = net(input)\n",
    "print(output.size())"
   ]
  },
  {
   "cell_type": "code",
   "execution_count": 17,
   "metadata": {
    "colab": {
     "base_uri": "https://localhost:8080/"
    },
    "id": "X0SDQ0gKSIni",
    "outputId": "e1ab79cb-2541-44a9-82cf-6f07b7a5241c"
   },
   "outputs": [
    {
     "name": "stdout",
     "output_type": "stream",
     "text": [
      "EDAnet(\n",
      "  (layers): ModuleList(\n",
      "    (0): DownsampleBlock(\n",
      "      (conv): GhostModule(\n",
      "        (primary_conv): Sequential(\n",
      "          (0): Conv2d(3, 6, kernel_size=(3, 3), stride=(2, 2), padding=(1, 1), bias=False)\n",
      "          (1): BatchNorm2d(6, eps=1e-05, momentum=0.1, affine=True, track_running_stats=True)\n",
      "          (2): ReLU(inplace=True)\n",
      "        )\n",
      "        (cheap_operation): Sequential(\n",
      "          (0): Conv2d(6, 6, kernel_size=(3, 3), stride=(1, 1), padding=(1, 1), groups=6, bias=False)\n",
      "          (1): BatchNorm2d(6, eps=1e-05, momentum=0.1, affine=True, track_running_stats=True)\n",
      "          (2): ReLU(inplace=True)\n",
      "        )\n",
      "      )\n",
      "      (pool): MaxPool2d(kernel_size=2, stride=2, padding=0, dilation=1, ceil_mode=False)\n",
      "      (batchNorm): BatchNorm2d(15, eps=1e-05, momentum=0.1, affine=True, track_running_stats=True)\n",
      "      (relu): ReLU()\n",
      "    )\n",
      "    (1): DownsampleBlock(\n",
      "      (conv): GhostModule(\n",
      "        (primary_conv): Sequential(\n",
      "          (0): Conv2d(15, 23, kernel_size=(3, 3), stride=(2, 2), padding=(1, 1), bias=False)\n",
      "          (1): BatchNorm2d(23, eps=1e-05, momentum=0.1, affine=True, track_running_stats=True)\n",
      "          (2): ReLU(inplace=True)\n",
      "        )\n",
      "        (cheap_operation): Sequential(\n",
      "          (0): Conv2d(23, 23, kernel_size=(3, 3), stride=(1, 1), padding=(1, 1), groups=23, bias=False)\n",
      "          (1): BatchNorm2d(23, eps=1e-05, momentum=0.1, affine=True, track_running_stats=True)\n",
      "          (2): ReLU(inplace=True)\n",
      "        )\n",
      "      )\n",
      "      (pool): MaxPool2d(kernel_size=2, stride=2, padding=0, dilation=1, ceil_mode=False)\n",
      "      (batchNorm): BatchNorm2d(60, eps=1e-05, momentum=0.1, affine=True, track_running_stats=True)\n",
      "      (relu): ReLU()\n",
      "    )\n",
      "    (2): EDABlock_ghost(\n",
      "      (conv_0): GhostModule(\n",
      "        (primary_conv): Sequential(\n",
      "          (0): Conv2d(60, 20, kernel_size=(1, 1), stride=(1, 1), bias=False)\n",
      "          (1): BatchNorm2d(20, eps=1e-05, momentum=0.1, affine=True, track_running_stats=True)\n",
      "          (2): ReLU(inplace=True)\n",
      "        )\n",
      "        (cheap_operation): Sequential(\n",
      "          (0): Conv2d(20, 20, kernel_size=(3, 3), stride=(1, 1), padding=(1, 1), groups=20, bias=False)\n",
      "          (1): BatchNorm2d(20, eps=1e-05, momentum=0.1, affine=True, track_running_stats=True)\n",
      "          (2): ReLU(inplace=True)\n",
      "        )\n",
      "      )\n",
      "      (batchNorm_0): BatchNorm2d(40, eps=1e-05, momentum=0.1, affine=True, track_running_stats=True)\n",
      "      (conv_1): GhostModule(\n",
      "        (primary_conv): Sequential(\n",
      "          (0): Conv2d(40, 20, kernel_size=(3, 3), stride=(1, 1), padding=(1, 1), bias=False)\n",
      "          (1): BatchNorm2d(20, eps=1e-05, momentum=0.1, affine=True, track_running_stats=True)\n",
      "          (2): ReLU(inplace=True)\n",
      "        )\n",
      "        (cheap_operation): Sequential(\n",
      "          (0): Conv2d(20, 20, kernel_size=(3, 3), stride=(1, 1), padding=(1, 1), groups=20, bias=False)\n",
      "          (1): BatchNorm2d(20, eps=1e-05, momentum=0.1, affine=True, track_running_stats=True)\n",
      "          (2): ReLU(inplace=True)\n",
      "        )\n",
      "      )\n",
      "      (batchNorm_1): BatchNorm2d(40, eps=1e-05, momentum=0.1, affine=True, track_running_stats=True)\n",
      "      (conv3x1_2): Conv2d(40, 40, kernel_size=(3, 1), stride=(1, 1), padding=(1, 0))\n",
      "      (conv1x3_2): Conv2d(40, 40, kernel_size=(1, 3), stride=(1, 1), padding=(0, 1))\n",
      "      (batchNorm_2): BatchNorm2d(40, eps=1e-05, momentum=0.1, affine=True, track_running_stats=True)\n",
      "      (dropout): Dropout2d(p=0.02, inplace=False)\n",
      "      (relu): ReLU()\n",
      "    )\n",
      "    (3): EDABlock_ghost(\n",
      "      (conv_0): GhostModule(\n",
      "        (primary_conv): Sequential(\n",
      "          (0): Conv2d(100, 20, kernel_size=(1, 1), stride=(1, 1), bias=False)\n",
      "          (1): BatchNorm2d(20, eps=1e-05, momentum=0.1, affine=True, track_running_stats=True)\n",
      "          (2): ReLU(inplace=True)\n",
      "        )\n",
      "        (cheap_operation): Sequential(\n",
      "          (0): Conv2d(20, 20, kernel_size=(3, 3), stride=(1, 1), padding=(1, 1), groups=20, bias=False)\n",
      "          (1): BatchNorm2d(20, eps=1e-05, momentum=0.1, affine=True, track_running_stats=True)\n",
      "          (2): ReLU(inplace=True)\n",
      "        )\n",
      "      )\n",
      "      (batchNorm_0): BatchNorm2d(40, eps=1e-05, momentum=0.1, affine=True, track_running_stats=True)\n",
      "      (conv_1): GhostModule(\n",
      "        (primary_conv): Sequential(\n",
      "          (0): Conv2d(40, 20, kernel_size=(3, 3), stride=(1, 1), padding=(1, 1), bias=False)\n",
      "          (1): BatchNorm2d(20, eps=1e-05, momentum=0.1, affine=True, track_running_stats=True)\n",
      "          (2): ReLU(inplace=True)\n",
      "        )\n",
      "        (cheap_operation): Sequential(\n",
      "          (0): Conv2d(20, 20, kernel_size=(3, 3), stride=(1, 1), padding=(1, 1), groups=20, bias=False)\n",
      "          (1): BatchNorm2d(20, eps=1e-05, momentum=0.1, affine=True, track_running_stats=True)\n",
      "          (2): ReLU(inplace=True)\n",
      "        )\n",
      "      )\n",
      "      (batchNorm_1): BatchNorm2d(40, eps=1e-05, momentum=0.1, affine=True, track_running_stats=True)\n",
      "      (conv3x1_2): Conv2d(40, 40, kernel_size=(3, 1), stride=(1, 1), padding=(1, 0))\n",
      "      (conv1x3_2): Conv2d(40, 40, kernel_size=(1, 3), stride=(1, 1), padding=(0, 1))\n",
      "      (batchNorm_2): BatchNorm2d(40, eps=1e-05, momentum=0.1, affine=True, track_running_stats=True)\n",
      "      (dropout): Dropout2d(p=0.02, inplace=False)\n",
      "      (relu): ReLU()\n",
      "    )\n",
      "    (4): EDABlock_ghost(\n",
      "      (conv_0): GhostModule(\n",
      "        (primary_conv): Sequential(\n",
      "          (0): Conv2d(140, 20, kernel_size=(1, 1), stride=(1, 1), bias=False)\n",
      "          (1): BatchNorm2d(20, eps=1e-05, momentum=0.1, affine=True, track_running_stats=True)\n",
      "          (2): ReLU(inplace=True)\n",
      "        )\n",
      "        (cheap_operation): Sequential(\n",
      "          (0): Conv2d(20, 20, kernel_size=(3, 3), stride=(1, 1), padding=(1, 1), groups=20, bias=False)\n",
      "          (1): BatchNorm2d(20, eps=1e-05, momentum=0.1, affine=True, track_running_stats=True)\n",
      "          (2): ReLU(inplace=True)\n",
      "        )\n",
      "      )\n",
      "      (batchNorm_0): BatchNorm2d(40, eps=1e-05, momentum=0.1, affine=True, track_running_stats=True)\n",
      "      (conv_1): GhostModule(\n",
      "        (primary_conv): Sequential(\n",
      "          (0): Conv2d(40, 20, kernel_size=(3, 3), stride=(1, 1), padding=(1, 1), bias=False)\n",
      "          (1): BatchNorm2d(20, eps=1e-05, momentum=0.1, affine=True, track_running_stats=True)\n",
      "          (2): ReLU(inplace=True)\n",
      "        )\n",
      "        (cheap_operation): Sequential(\n",
      "          (0): Conv2d(20, 20, kernel_size=(3, 3), stride=(1, 1), padding=(1, 1), groups=20, bias=False)\n",
      "          (1): BatchNorm2d(20, eps=1e-05, momentum=0.1, affine=True, track_running_stats=True)\n",
      "          (2): ReLU(inplace=True)\n",
      "        )\n",
      "      )\n",
      "      (batchNorm_1): BatchNorm2d(40, eps=1e-05, momentum=0.1, affine=True, track_running_stats=True)\n",
      "      (conv3x1_2): Conv2d(40, 40, kernel_size=(3, 1), stride=(1, 1), padding=(1, 0))\n",
      "      (conv1x3_2): Conv2d(40, 40, kernel_size=(1, 3), stride=(1, 1), padding=(0, 1))\n",
      "      (batchNorm_2): BatchNorm2d(40, eps=1e-05, momentum=0.1, affine=True, track_running_stats=True)\n",
      "      (dropout): Dropout2d(p=0.02, inplace=False)\n",
      "      (relu): ReLU()\n",
      "    )\n",
      "    (5): EDABlock_ghost(\n",
      "      (conv_0): GhostModule(\n",
      "        (primary_conv): Sequential(\n",
      "          (0): Conv2d(180, 20, kernel_size=(1, 1), stride=(1, 1), bias=False)\n",
      "          (1): BatchNorm2d(20, eps=1e-05, momentum=0.1, affine=True, track_running_stats=True)\n",
      "          (2): ReLU(inplace=True)\n",
      "        )\n",
      "        (cheap_operation): Sequential(\n",
      "          (0): Conv2d(20, 20, kernel_size=(3, 3), stride=(1, 1), padding=(1, 1), groups=20, bias=False)\n",
      "          (1): BatchNorm2d(20, eps=1e-05, momentum=0.1, affine=True, track_running_stats=True)\n",
      "          (2): ReLU(inplace=True)\n",
      "        )\n",
      "      )\n",
      "      (batchNorm_0): BatchNorm2d(40, eps=1e-05, momentum=0.1, affine=True, track_running_stats=True)\n",
      "      (conv_1): GhostModule(\n",
      "        (primary_conv): Sequential(\n",
      "          (0): Conv2d(40, 20, kernel_size=(3, 3), stride=(1, 1), padding=(1, 1), bias=False)\n",
      "          (1): BatchNorm2d(20, eps=1e-05, momentum=0.1, affine=True, track_running_stats=True)\n",
      "          (2): ReLU(inplace=True)\n",
      "        )\n",
      "        (cheap_operation): Sequential(\n",
      "          (0): Conv2d(20, 20, kernel_size=(3, 3), stride=(1, 1), padding=(1, 1), groups=20, bias=False)\n",
      "          (1): BatchNorm2d(20, eps=1e-05, momentum=0.1, affine=True, track_running_stats=True)\n",
      "          (2): ReLU(inplace=True)\n",
      "        )\n",
      "      )\n",
      "      (batchNorm_1): BatchNorm2d(40, eps=1e-05, momentum=0.1, affine=True, track_running_stats=True)\n",
      "      (conv3x1_2): Conv2d(40, 40, kernel_size=(3, 1), stride=(1, 1), padding=(2, 0), dilation=(2, 2))\n",
      "      (conv1x3_2): Conv2d(40, 40, kernel_size=(1, 3), stride=(1, 1), padding=(0, 2), dilation=(2, 2))\n",
      "      (batchNorm_2): BatchNorm2d(40, eps=1e-05, momentum=0.1, affine=True, track_running_stats=True)\n",
      "      (dropout): Dropout2d(p=0.02, inplace=False)\n",
      "      (relu): ReLU()\n",
      "    )\n",
      "    (6): EDABlock_ghost(\n",
      "      (conv_0): GhostModule(\n",
      "        (primary_conv): Sequential(\n",
      "          (0): Conv2d(220, 20, kernel_size=(1, 1), stride=(1, 1), bias=False)\n",
      "          (1): BatchNorm2d(20, eps=1e-05, momentum=0.1, affine=True, track_running_stats=True)\n",
      "          (2): ReLU(inplace=True)\n",
      "        )\n",
      "        (cheap_operation): Sequential(\n",
      "          (0): Conv2d(20, 20, kernel_size=(3, 3), stride=(1, 1), padding=(1, 1), groups=20, bias=False)\n",
      "          (1): BatchNorm2d(20, eps=1e-05, momentum=0.1, affine=True, track_running_stats=True)\n",
      "          (2): ReLU(inplace=True)\n",
      "        )\n",
      "      )\n",
      "      (batchNorm_0): BatchNorm2d(40, eps=1e-05, momentum=0.1, affine=True, track_running_stats=True)\n",
      "      (conv_1): GhostModule(\n",
      "        (primary_conv): Sequential(\n",
      "          (0): Conv2d(40, 20, kernel_size=(3, 3), stride=(1, 1), padding=(1, 1), bias=False)\n",
      "          (1): BatchNorm2d(20, eps=1e-05, momentum=0.1, affine=True, track_running_stats=True)\n",
      "          (2): ReLU(inplace=True)\n",
      "        )\n",
      "        (cheap_operation): Sequential(\n",
      "          (0): Conv2d(20, 20, kernel_size=(3, 3), stride=(1, 1), padding=(1, 1), groups=20, bias=False)\n",
      "          (1): BatchNorm2d(20, eps=1e-05, momentum=0.1, affine=True, track_running_stats=True)\n",
      "          (2): ReLU(inplace=True)\n",
      "        )\n",
      "      )\n",
      "      (batchNorm_1): BatchNorm2d(40, eps=1e-05, momentum=0.1, affine=True, track_running_stats=True)\n",
      "      (conv3x1_2): Conv2d(40, 40, kernel_size=(3, 1), stride=(1, 1), padding=(2, 0), dilation=(2, 2))\n",
      "      (conv1x3_2): Conv2d(40, 40, kernel_size=(1, 3), stride=(1, 1), padding=(0, 2), dilation=(2, 2))\n",
      "      (batchNorm_2): BatchNorm2d(40, eps=1e-05, momentum=0.1, affine=True, track_running_stats=True)\n",
      "      (dropout): Dropout2d(p=0.02, inplace=False)\n",
      "      (relu): ReLU()\n",
      "    )\n",
      "    (7): DownsampleBlock(\n",
      "      (conv): GhostModule(\n",
      "        (primary_conv): Sequential(\n",
      "          (0): Conv2d(260, 65, kernel_size=(3, 3), stride=(2, 2), padding=(1, 1), bias=False)\n",
      "          (1): BatchNorm2d(65, eps=1e-05, momentum=0.1, affine=True, track_running_stats=True)\n",
      "          (2): ReLU(inplace=True)\n",
      "        )\n",
      "        (cheap_operation): Sequential(\n",
      "          (0): Conv2d(65, 65, kernel_size=(3, 3), stride=(1, 1), padding=(1, 1), groups=65, bias=False)\n",
      "          (1): BatchNorm2d(65, eps=1e-05, momentum=0.1, affine=True, track_running_stats=True)\n",
      "          (2): ReLU(inplace=True)\n",
      "        )\n",
      "      )\n",
      "      (batchNorm): BatchNorm2d(130, eps=1e-05, momentum=0.1, affine=True, track_running_stats=True)\n",
      "      (relu): ReLU()\n",
      "    )\n",
      "    (8): EDABlock_ghost(\n",
      "      (conv_0): GhostModule(\n",
      "        (primary_conv): Sequential(\n",
      "          (0): Conv2d(130, 20, kernel_size=(1, 1), stride=(1, 1), bias=False)\n",
      "          (1): BatchNorm2d(20, eps=1e-05, momentum=0.1, affine=True, track_running_stats=True)\n",
      "          (2): ReLU(inplace=True)\n",
      "        )\n",
      "        (cheap_operation): Sequential(\n",
      "          (0): Conv2d(20, 20, kernel_size=(3, 3), stride=(1, 1), padding=(1, 1), groups=20, bias=False)\n",
      "          (1): BatchNorm2d(20, eps=1e-05, momentum=0.1, affine=True, track_running_stats=True)\n",
      "          (2): ReLU(inplace=True)\n",
      "        )\n",
      "      )\n",
      "      (batchNorm_0): BatchNorm2d(40, eps=1e-05, momentum=0.1, affine=True, track_running_stats=True)\n",
      "      (conv_1): GhostModule(\n",
      "        (primary_conv): Sequential(\n",
      "          (0): Conv2d(40, 20, kernel_size=(3, 3), stride=(1, 1), padding=(1, 1), bias=False)\n",
      "          (1): BatchNorm2d(20, eps=1e-05, momentum=0.1, affine=True, track_running_stats=True)\n",
      "          (2): ReLU(inplace=True)\n",
      "        )\n",
      "        (cheap_operation): Sequential(\n",
      "          (0): Conv2d(20, 20, kernel_size=(3, 3), stride=(1, 1), padding=(1, 1), groups=20, bias=False)\n",
      "          (1): BatchNorm2d(20, eps=1e-05, momentum=0.1, affine=True, track_running_stats=True)\n",
      "          (2): ReLU(inplace=True)\n",
      "        )\n",
      "      )\n",
      "      (batchNorm_1): BatchNorm2d(40, eps=1e-05, momentum=0.1, affine=True, track_running_stats=True)\n",
      "      (conv3x1_2): Conv2d(40, 40, kernel_size=(3, 1), stride=(1, 1), padding=(2, 0), dilation=(2, 2))\n",
      "      (conv1x3_2): Conv2d(40, 40, kernel_size=(1, 3), stride=(1, 1), padding=(0, 2), dilation=(2, 2))\n",
      "      (batchNorm_2): BatchNorm2d(40, eps=1e-05, momentum=0.1, affine=True, track_running_stats=True)\n",
      "      (dropout): Dropout2d(p=0.02, inplace=False)\n",
      "      (relu): ReLU()\n",
      "    )\n",
      "    (9): EDABlock_ghost(\n",
      "      (conv_0): GhostModule(\n",
      "        (primary_conv): Sequential(\n",
      "          (0): Conv2d(170, 20, kernel_size=(1, 1), stride=(1, 1), bias=False)\n",
      "          (1): BatchNorm2d(20, eps=1e-05, momentum=0.1, affine=True, track_running_stats=True)\n",
      "          (2): ReLU(inplace=True)\n",
      "        )\n",
      "        (cheap_operation): Sequential(\n",
      "          (0): Conv2d(20, 20, kernel_size=(3, 3), stride=(1, 1), padding=(1, 1), groups=20, bias=False)\n",
      "          (1): BatchNorm2d(20, eps=1e-05, momentum=0.1, affine=True, track_running_stats=True)\n",
      "          (2): ReLU(inplace=True)\n",
      "        )\n",
      "      )\n",
      "      (batchNorm_0): BatchNorm2d(40, eps=1e-05, momentum=0.1, affine=True, track_running_stats=True)\n",
      "      (conv_1): GhostModule(\n",
      "        (primary_conv): Sequential(\n",
      "          (0): Conv2d(40, 20, kernel_size=(3, 3), stride=(1, 1), padding=(1, 1), bias=False)\n",
      "          (1): BatchNorm2d(20, eps=1e-05, momentum=0.1, affine=True, track_running_stats=True)\n",
      "          (2): ReLU(inplace=True)\n",
      "        )\n",
      "        (cheap_operation): Sequential(\n",
      "          (0): Conv2d(20, 20, kernel_size=(3, 3), stride=(1, 1), padding=(1, 1), groups=20, bias=False)\n",
      "          (1): BatchNorm2d(20, eps=1e-05, momentum=0.1, affine=True, track_running_stats=True)\n",
      "          (2): ReLU(inplace=True)\n",
      "        )\n",
      "      )\n",
      "      (batchNorm_1): BatchNorm2d(40, eps=1e-05, momentum=0.1, affine=True, track_running_stats=True)\n",
      "      (conv3x1_2): Conv2d(40, 40, kernel_size=(3, 1), stride=(1, 1), padding=(2, 0), dilation=(2, 2))\n",
      "      (conv1x3_2): Conv2d(40, 40, kernel_size=(1, 3), stride=(1, 1), padding=(0, 2), dilation=(2, 2))\n",
      "      (batchNorm_2): BatchNorm2d(40, eps=1e-05, momentum=0.1, affine=True, track_running_stats=True)\n",
      "      (dropout): Dropout2d(p=0.02, inplace=False)\n",
      "      (relu): ReLU()\n",
      "    )\n",
      "    (10): EDABlock_ghost(\n",
      "      (conv_0): GhostModule(\n",
      "        (primary_conv): Sequential(\n",
      "          (0): Conv2d(210, 20, kernel_size=(1, 1), stride=(1, 1), bias=False)\n",
      "          (1): BatchNorm2d(20, eps=1e-05, momentum=0.1, affine=True, track_running_stats=True)\n",
      "          (2): ReLU(inplace=True)\n",
      "        )\n",
      "        (cheap_operation): Sequential(\n",
      "          (0): Conv2d(20, 20, kernel_size=(3, 3), stride=(1, 1), padding=(1, 1), groups=20, bias=False)\n",
      "          (1): BatchNorm2d(20, eps=1e-05, momentum=0.1, affine=True, track_running_stats=True)\n",
      "          (2): ReLU(inplace=True)\n",
      "        )\n",
      "      )\n",
      "      (batchNorm_0): BatchNorm2d(40, eps=1e-05, momentum=0.1, affine=True, track_running_stats=True)\n",
      "      (conv_1): GhostModule(\n",
      "        (primary_conv): Sequential(\n",
      "          (0): Conv2d(40, 20, kernel_size=(3, 3), stride=(1, 1), padding=(1, 1), bias=False)\n",
      "          (1): BatchNorm2d(20, eps=1e-05, momentum=0.1, affine=True, track_running_stats=True)\n",
      "          (2): ReLU(inplace=True)\n",
      "        )\n",
      "        (cheap_operation): Sequential(\n",
      "          (0): Conv2d(20, 20, kernel_size=(3, 3), stride=(1, 1), padding=(1, 1), groups=20, bias=False)\n",
      "          (1): BatchNorm2d(20, eps=1e-05, momentum=0.1, affine=True, track_running_stats=True)\n",
      "          (2): ReLU(inplace=True)\n",
      "        )\n",
      "      )\n",
      "      (batchNorm_1): BatchNorm2d(40, eps=1e-05, momentum=0.1, affine=True, track_running_stats=True)\n",
      "      (conv3x1_2): Conv2d(40, 40, kernel_size=(3, 1), stride=(1, 1), padding=(4, 0), dilation=(4, 4))\n",
      "      (conv1x3_2): Conv2d(40, 40, kernel_size=(1, 3), stride=(1, 1), padding=(0, 4), dilation=(4, 4))\n",
      "      (batchNorm_2): BatchNorm2d(40, eps=1e-05, momentum=0.1, affine=True, track_running_stats=True)\n",
      "      (dropout): Dropout2d(p=0.02, inplace=False)\n",
      "      (relu): ReLU()\n",
      "    )\n",
      "    (11): EDABlock_ghost(\n",
      "      (conv_0): GhostModule(\n",
      "        (primary_conv): Sequential(\n",
      "          (0): Conv2d(250, 20, kernel_size=(1, 1), stride=(1, 1), bias=False)\n",
      "          (1): BatchNorm2d(20, eps=1e-05, momentum=0.1, affine=True, track_running_stats=True)\n",
      "          (2): ReLU(inplace=True)\n",
      "        )\n",
      "        (cheap_operation): Sequential(\n",
      "          (0): Conv2d(20, 20, kernel_size=(3, 3), stride=(1, 1), padding=(1, 1), groups=20, bias=False)\n",
      "          (1): BatchNorm2d(20, eps=1e-05, momentum=0.1, affine=True, track_running_stats=True)\n",
      "          (2): ReLU(inplace=True)\n",
      "        )\n",
      "      )\n",
      "      (batchNorm_0): BatchNorm2d(40, eps=1e-05, momentum=0.1, affine=True, track_running_stats=True)\n",
      "      (conv_1): GhostModule(\n",
      "        (primary_conv): Sequential(\n",
      "          (0): Conv2d(40, 20, kernel_size=(3, 3), stride=(1, 1), padding=(1, 1), bias=False)\n",
      "          (1): BatchNorm2d(20, eps=1e-05, momentum=0.1, affine=True, track_running_stats=True)\n",
      "          (2): ReLU(inplace=True)\n",
      "        )\n",
      "        (cheap_operation): Sequential(\n",
      "          (0): Conv2d(20, 20, kernel_size=(3, 3), stride=(1, 1), padding=(1, 1), groups=20, bias=False)\n",
      "          (1): BatchNorm2d(20, eps=1e-05, momentum=0.1, affine=True, track_running_stats=True)\n",
      "          (2): ReLU(inplace=True)\n",
      "        )\n",
      "      )\n",
      "      (batchNorm_1): BatchNorm2d(40, eps=1e-05, momentum=0.1, affine=True, track_running_stats=True)\n",
      "      (conv3x1_2): Conv2d(40, 40, kernel_size=(3, 1), stride=(1, 1), padding=(4, 0), dilation=(4, 4))\n",
      "      (conv1x3_2): Conv2d(40, 40, kernel_size=(1, 3), stride=(1, 1), padding=(0, 4), dilation=(4, 4))\n",
      "      (batchNorm_2): BatchNorm2d(40, eps=1e-05, momentum=0.1, affine=True, track_running_stats=True)\n",
      "      (dropout): Dropout2d(p=0.02, inplace=False)\n",
      "      (relu): ReLU()\n",
      "    )\n",
      "    (12): EDABlock_ghost(\n",
      "      (conv_0): GhostModule(\n",
      "        (primary_conv): Sequential(\n",
      "          (0): Conv2d(290, 20, kernel_size=(1, 1), stride=(1, 1), bias=False)\n",
      "          (1): BatchNorm2d(20, eps=1e-05, momentum=0.1, affine=True, track_running_stats=True)\n",
      "          (2): ReLU(inplace=True)\n",
      "        )\n",
      "        (cheap_operation): Sequential(\n",
      "          (0): Conv2d(20, 20, kernel_size=(3, 3), stride=(1, 1), padding=(1, 1), groups=20, bias=False)\n",
      "          (1): BatchNorm2d(20, eps=1e-05, momentum=0.1, affine=True, track_running_stats=True)\n",
      "          (2): ReLU(inplace=True)\n",
      "        )\n",
      "      )\n",
      "      (batchNorm_0): BatchNorm2d(40, eps=1e-05, momentum=0.1, affine=True, track_running_stats=True)\n",
      "      (conv_1): GhostModule(\n",
      "        (primary_conv): Sequential(\n",
      "          (0): Conv2d(40, 20, kernel_size=(3, 3), stride=(1, 1), padding=(1, 1), bias=False)\n",
      "          (1): BatchNorm2d(20, eps=1e-05, momentum=0.1, affine=True, track_running_stats=True)\n",
      "          (2): ReLU(inplace=True)\n",
      "        )\n",
      "        (cheap_operation): Sequential(\n",
      "          (0): Conv2d(20, 20, kernel_size=(3, 3), stride=(1, 1), padding=(1, 1), groups=20, bias=False)\n",
      "          (1): BatchNorm2d(20, eps=1e-05, momentum=0.1, affine=True, track_running_stats=True)\n",
      "          (2): ReLU(inplace=True)\n",
      "        )\n",
      "      )\n",
      "      (batchNorm_1): BatchNorm2d(40, eps=1e-05, momentum=0.1, affine=True, track_running_stats=True)\n",
      "      (conv3x1_2): Conv2d(40, 40, kernel_size=(3, 1), stride=(1, 1), padding=(8, 0), dilation=(8, 8))\n",
      "      (conv1x3_2): Conv2d(40, 40, kernel_size=(1, 3), stride=(1, 1), padding=(0, 8), dilation=(8, 8))\n",
      "      (batchNorm_2): BatchNorm2d(40, eps=1e-05, momentum=0.1, affine=True, track_running_stats=True)\n",
      "      (dropout): Dropout2d(p=0.02, inplace=False)\n",
      "      (relu): ReLU()\n",
      "    )\n",
      "    (13): EDABlock_ghost(\n",
      "      (conv_0): GhostModule(\n",
      "        (primary_conv): Sequential(\n",
      "          (0): Conv2d(330, 20, kernel_size=(1, 1), stride=(1, 1), bias=False)\n",
      "          (1): BatchNorm2d(20, eps=1e-05, momentum=0.1, affine=True, track_running_stats=True)\n",
      "          (2): ReLU(inplace=True)\n",
      "        )\n",
      "        (cheap_operation): Sequential(\n",
      "          (0): Conv2d(20, 20, kernel_size=(3, 3), stride=(1, 1), padding=(1, 1), groups=20, bias=False)\n",
      "          (1): BatchNorm2d(20, eps=1e-05, momentum=0.1, affine=True, track_running_stats=True)\n",
      "          (2): ReLU(inplace=True)\n",
      "        )\n",
      "      )\n",
      "      (batchNorm_0): BatchNorm2d(40, eps=1e-05, momentum=0.1, affine=True, track_running_stats=True)\n",
      "      (conv_1): GhostModule(\n",
      "        (primary_conv): Sequential(\n",
      "          (0): Conv2d(40, 20, kernel_size=(3, 3), stride=(1, 1), padding=(1, 1), bias=False)\n",
      "          (1): BatchNorm2d(20, eps=1e-05, momentum=0.1, affine=True, track_running_stats=True)\n",
      "          (2): ReLU(inplace=True)\n",
      "        )\n",
      "        (cheap_operation): Sequential(\n",
      "          (0): Conv2d(20, 20, kernel_size=(3, 3), stride=(1, 1), padding=(1, 1), groups=20, bias=False)\n",
      "          (1): BatchNorm2d(20, eps=1e-05, momentum=0.1, affine=True, track_running_stats=True)\n",
      "          (2): ReLU(inplace=True)\n",
      "        )\n",
      "      )\n",
      "      (batchNorm_1): BatchNorm2d(40, eps=1e-05, momentum=0.1, affine=True, track_running_stats=True)\n",
      "      (conv3x1_2): Conv2d(40, 40, kernel_size=(3, 1), stride=(1, 1), padding=(8, 0), dilation=(8, 8))\n",
      "      (conv1x3_2): Conv2d(40, 40, kernel_size=(1, 3), stride=(1, 1), padding=(0, 8), dilation=(8, 8))\n",
      "      (batchNorm_2): BatchNorm2d(40, eps=1e-05, momentum=0.1, affine=True, track_running_stats=True)\n",
      "      (dropout): Dropout2d(p=0.02, inplace=False)\n",
      "      (relu): ReLU()\n",
      "    )\n",
      "    (14): EDABlock_ghost(\n",
      "      (conv_0): GhostModule(\n",
      "        (primary_conv): Sequential(\n",
      "          (0): Conv2d(370, 20, kernel_size=(1, 1), stride=(1, 1), bias=False)\n",
      "          (1): BatchNorm2d(20, eps=1e-05, momentum=0.1, affine=True, track_running_stats=True)\n",
      "          (2): ReLU(inplace=True)\n",
      "        )\n",
      "        (cheap_operation): Sequential(\n",
      "          (0): Conv2d(20, 20, kernel_size=(3, 3), stride=(1, 1), padding=(1, 1), groups=20, bias=False)\n",
      "          (1): BatchNorm2d(20, eps=1e-05, momentum=0.1, affine=True, track_running_stats=True)\n",
      "          (2): ReLU(inplace=True)\n",
      "        )\n",
      "      )\n",
      "      (batchNorm_0): BatchNorm2d(40, eps=1e-05, momentum=0.1, affine=True, track_running_stats=True)\n",
      "      (conv_1): GhostModule(\n",
      "        (primary_conv): Sequential(\n",
      "          (0): Conv2d(40, 20, kernel_size=(3, 3), stride=(1, 1), padding=(1, 1), bias=False)\n",
      "          (1): BatchNorm2d(20, eps=1e-05, momentum=0.1, affine=True, track_running_stats=True)\n",
      "          (2): ReLU(inplace=True)\n",
      "        )\n",
      "        (cheap_operation): Sequential(\n",
      "          (0): Conv2d(20, 20, kernel_size=(3, 3), stride=(1, 1), padding=(1, 1), groups=20, bias=False)\n",
      "          (1): BatchNorm2d(20, eps=1e-05, momentum=0.1, affine=True, track_running_stats=True)\n",
      "          (2): ReLU(inplace=True)\n",
      "        )\n",
      "      )\n",
      "      (batchNorm_1): BatchNorm2d(40, eps=1e-05, momentum=0.1, affine=True, track_running_stats=True)\n",
      "      (conv3x1_2): Conv2d(40, 40, kernel_size=(3, 1), stride=(1, 1), padding=(16, 0), dilation=(16, 16))\n",
      "      (conv1x3_2): Conv2d(40, 40, kernel_size=(1, 3), stride=(1, 1), padding=(0, 16), dilation=(16, 16))\n",
      "      (batchNorm_2): BatchNorm2d(40, eps=1e-05, momentum=0.1, affine=True, track_running_stats=True)\n",
      "      (dropout): Dropout2d(p=0.02, inplace=False)\n",
      "      (relu): ReLU()\n",
      "    )\n",
      "    (15): EDABlock_ghost(\n",
      "      (conv_0): GhostModule(\n",
      "        (primary_conv): Sequential(\n",
      "          (0): Conv2d(410, 20, kernel_size=(1, 1), stride=(1, 1), bias=False)\n",
      "          (1): BatchNorm2d(20, eps=1e-05, momentum=0.1, affine=True, track_running_stats=True)\n",
      "          (2): ReLU(inplace=True)\n",
      "        )\n",
      "        (cheap_operation): Sequential(\n",
      "          (0): Conv2d(20, 20, kernel_size=(3, 3), stride=(1, 1), padding=(1, 1), groups=20, bias=False)\n",
      "          (1): BatchNorm2d(20, eps=1e-05, momentum=0.1, affine=True, track_running_stats=True)\n",
      "          (2): ReLU(inplace=True)\n",
      "        )\n",
      "      )\n",
      "      (batchNorm_0): BatchNorm2d(40, eps=1e-05, momentum=0.1, affine=True, track_running_stats=True)\n",
      "      (conv_1): GhostModule(\n",
      "        (primary_conv): Sequential(\n",
      "          (0): Conv2d(40, 20, kernel_size=(3, 3), stride=(1, 1), padding=(1, 1), bias=False)\n",
      "          (1): BatchNorm2d(20, eps=1e-05, momentum=0.1, affine=True, track_running_stats=True)\n",
      "          (2): ReLU(inplace=True)\n",
      "        )\n",
      "        (cheap_operation): Sequential(\n",
      "          (0): Conv2d(20, 20, kernel_size=(3, 3), stride=(1, 1), padding=(1, 1), groups=20, bias=False)\n",
      "          (1): BatchNorm2d(20, eps=1e-05, momentum=0.1, affine=True, track_running_stats=True)\n",
      "          (2): ReLU(inplace=True)\n",
      "        )\n",
      "      )\n",
      "      (batchNorm_1): BatchNorm2d(40, eps=1e-05, momentum=0.1, affine=True, track_running_stats=True)\n",
      "      (conv3x1_2): Conv2d(40, 40, kernel_size=(3, 1), stride=(1, 1), padding=(16, 0), dilation=(16, 16))\n",
      "      (conv1x3_2): Conv2d(40, 40, kernel_size=(1, 3), stride=(1, 1), padding=(0, 16), dilation=(16, 16))\n",
      "      (batchNorm_2): BatchNorm2d(40, eps=1e-05, momentum=0.1, affine=True, track_running_stats=True)\n",
      "      (dropout): Dropout2d(p=0.02, inplace=False)\n",
      "      (relu): ReLU()\n",
      "    )\n",
      "  )\n",
      "  (project_layer): Conv2d(450, 1, kernel_size=(1, 1), stride=(1, 1))\n",
      ")\n",
      "Total number of parameters: 443970\n"
     ]
    }
   ],
   "source": [
    "print_network(net)"
   ]
  },
  {
   "cell_type": "markdown",
   "metadata": {
    "id": "yJlfnxGFsh02"
   },
   "source": [
    "# Train"
   ]
  },
  {
   "cell_type": "code",
   "execution_count": 18,
   "metadata": {
    "id": "81pyCVGnTv8N"
   },
   "outputs": [],
   "source": [
    "# metrics\n",
    "def mIoU(pred_mask, mask, smooth=1e-10, n_classes=1):\n",
    "  with torch.no_grad():\n",
    "    pred_mask = F.softmax(pred_mask, dim=1)\n",
    "    pred_mask = torch.argmax(pred_mask, dim=1)\n",
    "    pred_mask = pred_mask.contiguous().view(-1)\n",
    "    mask = mask.contiguous().view(-1)\n",
    "\n",
    "    iou_per_class = []\n",
    "    for clas in range(0, n_classes): #loop per pixel class\n",
    "      true_class = pred_mask == clas\n",
    "      true_label = mask == clas\n",
    "\n",
    "      if true_label.long().sum().item() == 0: #no exist label in this loop\n",
    "        iou_per_class.append(np.nan)\n",
    "      else:\n",
    "        intersect = torch.logical_and(true_class, true_label).sum().float().item()\n",
    "        union = torch.logical_or(true_class, true_label).sum().float().item()\n",
    "\n",
    "        iou = (intersect + smooth) / (union +smooth)\n",
    "        iou_per_class.append(iou)\n",
    "  return np.nanmean(iou_per_class)\n",
    "\n",
    "def pixel_accuracy(output, mask):\n",
    "  with torch.no_grad():\n",
    "    output = torch.argmax(F.softmax(output, dim=1), dim=1)\n",
    "    correct = torch.eq(output, mask).int()\n",
    "    accuracy = float(correct.sum()) / float(correct.numel())\n",
    "  return accuracy"
   ]
  },
  {
   "cell_type": "code",
   "execution_count": 19,
   "metadata": {
    "colab": {
     "base_uri": "https://localhost:8080/"
    },
    "id": "o0cTwzaZtjrr",
    "outputId": "a244fd6b-3464-45b4-a85a-46e14b0145c1"
   },
   "outputs": [
    {
     "name": "stdout",
     "output_type": "stream",
     "text": [
      "path： /home/user/Desktop/lanyard_segmentation/guardrail/train_data/features_cropped\n",
      "directory： []\n",
      "file： ['0001_4.png', '0079_7.png', '0048_9.png', '0087_7.png', '0010_10.png', '0047_9.png', '0042_1.png', '0051_7.png', '0060_6.png', '0039_7.png', '0002_8.png', '0028_8.png', '0011_10.png', '0024_1.png', '0013_6.png', '0058_3.png', '0017_9.png', '0065_10.png', '0046_5.png', '0026_5.png', '0056_9.png', '0043_10.png', '0036_1.png', '0032_7.png', '0057_1.png', '0074_6.png', '0025_8.png', '0020_2.png', '0079_6.png', '0064_4.png', '0047_1.png', '0066_4.png', '0080_5.png', '0071_9.png', '0065_9.png', '0051_8.png', '0031_6.png', '0044_9.png', '0020_7.png', '0019_6.png', '0016_4.png', '0017_10.png', '0059_9.png', '0015_4.png', '0045_9.png', '0051_4.png', '0029_9.png', '0082_10.png', '0030_8.png', '0023_2.png', '0079_9.png', '0019_3.png', '0013_4.png', '0002_3.png', '0047_6.png', '0002_1.png', '0057_7.png', '0040_3.png', '0010_1.png', '0012_4.png', '0079_4.png', '0050_8.png', '0067_7.png', '0006_5.png', '0040_9.png', '0005_9.png', '0013_3.png', '0025_3.png', '0054_2.png', '0024_8.png', '0029_6.png', '0023_9.png', '0065_1.png', '0040_1.png', '0032_5.png', '0018_6.png', '0036_8.png', '0046_9.png', '0005_5.png', '0026_1.png', '0011_8.png', '0061_3.png', '0052_8.png', '0087_2.png', '0046_1.png', '0001_6.png', '0003_4.png', '0065_4.png', '0087_6.png', '0041_2.png', '0032_1.png', '0034_7.png', '0070_3.png', '0068_10.png', '0032_3.png', '0068_7.png', '0063_1.png', '0011_6.png', '0048_4.png', '0046_6.png', '0076_6.png', '0056_1.png', '0066_7.png', '0052_3.png', '0010_2.png', '0021_10.png', '0026_8.png', '0080_3.png', '0063_7.png', '0014_8.png', '0088_6.png', '0034_3.png', '0069_5.png', '0042_8.png', '0049_6.png', '0038_5.png', '0048_5.png', '0029_1.png', '0030_10.png', '0006_6.png', '0051_9.png', '0082_3.png', '0019_2.png', '0005_1.png', '0015_5.png', '0053_7.png', '0004_6.png', '0013_5.png', '0036_2.png', '0059_3.png', '0040_6.png', '0058_6.png', '0054_7.png', '0048_7.png', '0006_1.png', '0002_5.png', '0060_9.png', '0028_2.png', '0039_9.png', '0074_9.png', '0025_2.png', '0023_3.png', '0033_9.png', '0071_10.png', '0018_1.png', '0076_10.png', '0088_9.png', '0080_2.png', '0073_6.png', '0038_7.png', '0003_10.png', '0063_5.png', '0003_3.png', '0014_4.png', '0006_4.png', '0051_2.png', '0054_6.png', '0076_3.png', '0073_9.png', '0018_4.png', '0082_6.png', '0060_2.png', '0080_4.png', '0029_3.png', '0028_9.png', '0065_3.png', '0068_3.png', '0037_7.png', '0013_9.png', '0056_7.png', '0017_6.png', '0068_4.png', '0020_10.png', '0049_5.png', '0067_3.png', '0040_4.png', '0073_4.png', '0007_8.png', '0085_3.png', '0046_2.png', '0056_10.png', '0057_2.png', '0019_9.png', '0037_8.png', '0043_5.png', '0055_3.png', '0014_7.png', '0029_8.png', '0014_1.png', '0063_6.png', '0085_9.png', '0045_1.png', '0067_1.png', '0002_9.png', '0038_4.png', '0034_6.png', '0068_9.png', '0079_2.png', '0024_5.png', '0062_2.png', '0055_4.png', '0003_9.png', '0014_2.png', '0030_4.png', '0001_8.png', '0041_5.png', '0051_5.png', '0012_5.png', '0069_3.png', '0005_7.png', '0071_7.png', '0012_10.png', '0019_10.png', '0074_2.png', '0064_1.png', '0073_2.png', '0047_8.png', '0006_9.png', '0028_3.png', '0020_3.png', '0008_9.png', '0036_4.png', '0074_10.png', '0060_7.png', '0009_7.png', '0045_8.png', '0023_4.png', '0068_8.png', '0058_2.png', '0033_10.png', '0053_5.png', '0038_2.png', '0007_4.png', '0011_3.png', '0065_8.png', '0049_9.png', '0067_2.png', '0031_5.png', '0007_2.png', '0038_9.png', '0048_1.png', '0067_10.png', '0015_8.png', '0071_2.png', '0004_2.png', '0016_2.png', '0019_4.png', '0082_8.png', '0032_10.png', '0028_7.png', '0055_2.png', '0057_9.png', '0059_10.png', '0062_9.png', '0035_5.png', '0003_1.png', '0011_5.png', '0017_7.png', '0042_7.png', '0070_4.png', '0005_3.png', '0009_1.png', '0061_2.png', '0005_2.png', '0012_2.png', '0054_9.png', '0057_5.png', '0049_4.png', '0014_6.png', '0045_3.png', '0005_8.png', '0040_7.png', '0063_10.png', '0085_1.png', '0040_10.png', '0052_6.png', '0054_1.png', '0022_10.png', '0041_10.png', '0028_4.png', '0074_8.png', '0065_2.png', '0076_9.png', '0061_8.png', '0087_8.png', '0017_3.png', '0042_3.png', '0061_9.png', '0004_10.png', '0052_2.png', '0041_7.png', '0055_8.png', '0024_4.png', '0015_9.png', '0074_4.png', '0064_10.png', '0042_5.png', '0041_4.png', '0058_1.png', '0024_9.png', '0043_4.png', '0085_10.png', '0044_2.png', '0031_8.png', '0011_2.png', '0030_2.png', '0054_3.png', '0076_5.png', '0007_3.png', '0026_4.png', '0059_5.png', '0062_4.png', '0056_5.png', '0016_6.png', '0013_2.png', '0044_1.png', '0009_10.png', '0017_1.png', '0026_7.png', '0067_4.png', '0070_7.png', '0064_3.png', '0068_6.png', '0017_4.png', '0074_3.png', '0009_9.png', '0016_8.png', '0013_10.png', '0029_5.png', '0082_1.png', '0039_10.png', '0087_9.png', '0019_7.png', '0057_3.png', '0043_1.png', '0080_8.png', '0074_1.png', '0008_4.png', '0021_4.png', '0023_6.png', '0056_3.png', '0030_1.png', '0063_3.png', '0039_5.png', '0041_6.png', '0074_7.png', '0015_1.png', '0085_5.png', '0066_2.png', '0088_8.png', '0010_9.png', '0059_4.png', '0039_4.png', '0082_2.png', '0036_6.png', '0002_6.png', '0062_8.png', '0020_8.png', '0062_5.png', '0015_7.png', '0036_9.png', '0062_1.png', '0074_5.png', '0040_2.png', '0054_8.png', '0022_3.png', '0005_6.png', '0037_10.png', '0035_8.png', '0066_3.png', '0059_2.png', '0021_9.png', '0040_8.png', '0012_8.png', '0045_4.png', '0042_9.png', '0051_1.png', '0064_5.png', '0034_9.png', '0025_6.png', '0063_4.png', '0082_7.png', '0055_9.png', '0070_10.png', '0016_5.png', '0020_1.png', '0087_1.png', '0015_10.png', '0003_5.png', '0035_1.png', '0073_8.png', '0049_3.png', '0008_5.png', '0033_8.png', '0016_3.png', '0049_10.png', '0073_3.png', '0045_10.png', '0037_2.png', '0002_2.png', '0062_3.png', '0061_4.png', '0024_6.png', '0039_3.png', '0061_6.png', '0007_6.png', '0058_4.png', '0056_8.png', '0032_8.png', '0047_4.png', '0059_6.png', '0053_6.png', '0019_1.png', '0001_2.png', '0001_1.png', '0044_10.png', '0043_2.png', '0060_1.png', '0055_10.png', '0061_5.png', '0027_7.png', '0037_6.png', '0082_4.png', '0088_4.png', '0041_8.png', '0046_4.png', '0085_6.png', '0008_10.png', '0027_5.png', '0067_9.png', '0017_2.png', '0065_6.png', '0004_9.png', '0080_7.png', '0085_8.png', '0051_6.png', '0053_4.png', '0058_7.png', '0064_9.png', '0073_7.png', '0050_3.png', '0043_8.png', '0069_1.png', '0030_5.png', '0006_7.png', '0058_9.png', '0068_1.png', '0010_3.png', '0024_3.png', '0013_8.png', '0020_9.png', '0013_1.png', '0025_4.png', '0038_1.png', '0016_7.png', '0035_10.png', '0026_9.png', '0058_10.png', '0019_5.png', '0011_7.png', '0049_8.png', '0053_2.png', '0018_10.png', '0003_7.png', '0015_6.png', '0007_9.png', '0064_8.png', '0027_8.png', '0057_10.png', '0024_7.png', '0024_10.png', '0030_6.png', '0058_5.png', '0031_4.png', '0008_7.png', '0008_2.png', '0071_6.png', '0048_6.png', '0037_1.png', '0062_10.png', '0080_10.png', '0018_2.png', '0003_8.png', '0025_7.png', '0022_2.png', '0060_3.png', '0037_3.png', '0002_7.png', '0082_5.png', '0009_8.png', '0006_8.png', '0016_10.png', '0057_4.png', '0009_5.png', '0023_1.png', '0053_10.png', '0065_7.png', '0033_4.png', '0047_5.png', '0004_1.png', '0040_5.png', '0053_8.png', '0037_4.png', '0069_9.png', '0053_1.png', '0049_1.png', '0085_7.png', '0004_7.png', '0021_2.png', '0054_5.png', '0034_4.png', '0038_8.png', '0036_7.png', '0064_7.png', '0076_4.png', '0073_5.png', '0069_7.png', '0036_5.png', '0052_4.png', '0002_4.png', '0016_9.png', '0070_8.png', '0041_1.png', '0007_1.png', '0048_2.png', '0025_9.png', '0004_4.png', '0037_5.png', '0050_7.png', '0043_9.png', '0046_7.png', '0023_8.png', '0080_1.png', '0008_1.png', '0079_8.png', '0021_5.png', '0039_6.png', '0056_4.png', '0026_3.png', '0016_1.png', '0088_7.png', '0044_8.png', '0025_5.png', '0012_9.png', '0071_1.png', '0047_2.png', '0048_8.png', '0069_8.png', '0014_3.png', '0010_4.png', '0006_3.png', '0034_2.png', '0008_3.png', '0062_6.png', '0067_6.png', '0056_6.png', '0028_6.png', '0041_9.png', '0079_10.png', '0039_1.png', '0033_1.png', '0032_4.png', '0071_5.png', '0053_3.png', '0051_3.png', '0042_10.png', '0044_5.png', '0030_9.png', '0066_8.png', '0079_1.png', '0035_9.png', '0005_10.png', '0088_10.png', '0009_2.png', '0012_3.png', '0020_6.png', '0013_7.png', '0032_6.png', '0088_3.png', '0031_7.png', '0060_10.png', '0028_10.png', '0027_3.png', '0004_8.png', '0052_7.png', '0044_6.png', '0061_10.png', '0021_1.png', '0035_2.png', '0069_2.png', '0087_5.png', '0061_1.png', '0076_2.png', '0033_7.png', '0001_9.png', '0079_3.png', '0021_8.png', '0031_9.png', '0015_3.png', '0088_1.png', '0069_4.png', '0020_5.png', '0008_8.png', '0014_5.png', '0044_4.png', '0050_2.png', '0020_4.png', '0043_6.png', '0004_5.png', '0006_2.png', '0043_3.png', '0073_1.png', '0070_9.png', '0017_5.png', '0054_4.png', '0059_1.png', '0012_1.png', '0059_8.png', '0017_8.png', '0059_7.png', '0063_8.png', '0066_5.png', '0027_6.png', '0046_3.png', '0066_1.png', '0044_3.png', '0045_7.png', '0070_6.png', '0032_9.png', '0022_1.png', '0063_9.png', '0035_4.png', '0068_2.png', '0070_2.png', '0060_5.png', '0031_10.png', '0033_3.png', '0050_4.png', '0057_6.png', '0035_3.png', '0082_9.png', '0019_8.png', '0042_6.png', '0033_2.png', '0034_10.png', '0060_8.png', '0007_5.png', '0031_1.png', '0007_10.png', '0027_4.png', '0067_5.png', '0041_3.png', '0005_4.png', '0023_5.png', '0034_5.png', '0070_5.png', '0014_9.png', '0071_3.png', '0055_7.png', '0012_6.png', '0038_6.png', '0003_2.png', '0066_10.png', '0011_4.png', '0021_6.png', '0008_6.png', '0030_3.png', '0023_10.png', '0071_8.png', '0050_10.png', '0070_1.png', '0047_7.png', '0031_3.png', '0029_10.png', '0028_5.png', '0018_3.png', '0014_10.png', '0003_6.png', '0043_7.png', '0049_7.png', '0018_8.png', '0044_7.png', '0055_6.png', '0045_2.png', '0063_2.png', '0033_5.png', '0065_5.png', '0029_4.png', '0030_7.png', '0032_2.png', '0045_6.png', '0026_2.png', '0052_5.png', '0050_5.png', '0058_8.png', '0029_2.png', '0039_8.png', '0047_10.png', '0022_4.png', '0051_10.png', '0046_10.png', '0045_5.png', '0061_7.png', '0062_7.png', '0050_9.png', '0049_2.png', '0031_2.png', '0050_1.png', '0085_4.png', '0071_4.png', '0035_7.png', '0042_2.png', '0006_10.png', '0067_8.png', '0087_4.png', '0018_5.png', '0056_2.png', '0033_6.png', '0076_7.png', '0021_7.png', '0024_2.png', '0073_10.png', '0027_9.png', '0009_4.png', '0042_4.png', '0087_3.png', '0055_5.png', '0069_10.png', '0025_1.png', '0027_2.png', '0026_6.png', '0004_3.png', '0066_6.png', '0022_9.png', '0001_7.png', '0001_10.png', '0039_2.png', '0080_6.png', '0060_4.png', '0064_6.png', '0009_3.png', '0038_3.png', '0023_7.png', '0036_3.png', '0052_10.png', '0047_3.png', '0025_10.png', '0011_1.png', '0038_10.png', '0087_10.png', '0088_2.png', '0048_3.png', '0001_5.png', '0001_3.png', '0050_6.png', '0018_9.png', '0027_1.png', '0076_8.png', '0088_5.png', '0009_6.png', '0069_6.png', '0054_10.png', '0034_1.png', '0015_2.png', '0036_10.png', '0012_7.png', '0053_9.png', '0080_9.png', '0052_9.png', '0064_2.png', '0035_6.png', '0046_8.png', '0055_1.png', '0007_7.png', '0028_1.png', '0011_9.png', '0002_10.png', '0068_5.png', '0052_1.png', '0085_2.png', '0029_7.png', '0066_9.png', '0026_10.png', '0048_10.png', '0076_1.png', '0021_3.png', '0057_8.png', '0079_5.png', '0034_8.png', '0027_10.png', '0018_7.png', '0037_9.png']\n"
     ]
    },
    {
     "name": "stderr",
     "output_type": "stream",
     "text": [
      "100%|██████████| 792/792 [00:00<00:00, 2921626.01it/s]\n"
     ]
    },
    {
     "name": "stdout",
     "output_type": "stream",
     "text": [
      "Read  792  files\n",
      "path： /home/user/Desktop/lanyard_segmentation/guardrail/train_data/labels_cropped\n",
      "directory： []\n",
      "file： ['0001_4.png', '0079_7.png', '0048_9.png', '0087_7.png', '0010_10.png', '0047_9.png', '0042_1.png', '0051_7.png', '0060_6.png', '0039_7.png', '0002_8.png', '0028_8.png', '0011_10.png', '0024_1.png', '0013_6.png', '0058_3.png', '0017_9.png', '0065_10.png', '0046_5.png', '0026_5.png', '0056_9.png', '0043_10.png', '0036_1.png', '0032_7.png', '0057_1.png', '0074_6.png', '0025_8.png', '0020_2.png', '0079_6.png', '0064_4.png', '0047_1.png', '0066_4.png', '0080_5.png', '0071_9.png', '0065_9.png', '0051_8.png', '0031_6.png', '0044_9.png', '0020_7.png', '0019_6.png', '0016_4.png', '0017_10.png', '0059_9.png', '0015_4.png', '0045_9.png', '0051_4.png', '0029_9.png', '0082_10.png', '0030_8.png', '0023_2.png', '0079_9.png', '0019_3.png', '0013_4.png', '0002_3.png', '0047_6.png', '0002_1.png', '0057_7.png', '0040_3.png', '0010_1.png', '0012_4.png', '0079_4.png', '0050_8.png', '0067_7.png', '0006_5.png', '0040_9.png', '0005_9.png', '0013_3.png', '0025_3.png', '0054_2.png', '0024_8.png', '0029_6.png', '0023_9.png', '0065_1.png', '0040_1.png', '0032_5.png', '0018_6.png', '0036_8.png', '0046_9.png', '0005_5.png', '0026_1.png', '0011_8.png', '0061_3.png', '0052_8.png', '0087_2.png', '0046_1.png', '0001_6.png', '0003_4.png', '0065_4.png', '0087_6.png', '0041_2.png', '0032_1.png', '0034_7.png', '0070_3.png', '0068_10.png', '0032_3.png', '0068_7.png', '0063_1.png', '0011_6.png', '0048_4.png', '0046_6.png', '0076_6.png', '0056_1.png', '0066_7.png', '0052_3.png', '0010_2.png', '0021_10.png', '0026_8.png', '0080_3.png', '0063_7.png', '0014_8.png', '0088_6.png', '0034_3.png', '0069_5.png', '0042_8.png', '0049_6.png', '0038_5.png', '0048_5.png', '0029_1.png', '0030_10.png', '0006_6.png', '0051_9.png', '0082_3.png', '0019_2.png', '0005_1.png', '0015_5.png', '0053_7.png', '0004_6.png', '0013_5.png', '0036_2.png', '0059_3.png', '0040_6.png', '0058_6.png', '0054_7.png', '0048_7.png', '0006_1.png', '0002_5.png', '0060_9.png', '0028_2.png', '0039_9.png', '0074_9.png', '0025_2.png', '0023_3.png', '0033_9.png', '0071_10.png', '0018_1.png', '0076_10.png', '0088_9.png', '0080_2.png', '0073_6.png', '0038_7.png', '0003_10.png', '0063_5.png', '0003_3.png', '0014_4.png', '0006_4.png', '0051_2.png', '0054_6.png', '0076_3.png', '0073_9.png', '0018_4.png', '0082_6.png', '0060_2.png', '0080_4.png', '0029_3.png', '0028_9.png', '0065_3.png', '0068_3.png', '0037_7.png', '0013_9.png', '0056_7.png', '0017_6.png', '0068_4.png', '0020_10.png', '0049_5.png', '0067_3.png', '0040_4.png', '0073_4.png', '0007_8.png', '0085_3.png', '0046_2.png', '0056_10.png', '0057_2.png', '0019_9.png', '0037_8.png', '0043_5.png', '0055_3.png', '0014_7.png', '0029_8.png', '0014_1.png', '0063_6.png', '0085_9.png', '0045_1.png', '0067_1.png', '0002_9.png', '0038_4.png', '0034_6.png', '0068_9.png', '0079_2.png', '0024_5.png', '0062_2.png', '0055_4.png', '0003_9.png', '0014_2.png', '0030_4.png', '0001_8.png', '0041_5.png', '0051_5.png', '0012_5.png', '0069_3.png', '0005_7.png', '0071_7.png', '0012_10.png', '0019_10.png', '0074_2.png', '0064_1.png', '0073_2.png', '0047_8.png', '0006_9.png', '0028_3.png', '0020_3.png', '0008_9.png', '0036_4.png', '0074_10.png', '0060_7.png', '0009_7.png', '0045_8.png', '0023_4.png', '0068_8.png', '0058_2.png', '0033_10.png', '0053_5.png', '0038_2.png', '0007_4.png', '0011_3.png', '0065_8.png', '0049_9.png', '0067_2.png', '0031_5.png', '0007_2.png', '0038_9.png', '0048_1.png', '0067_10.png', '0015_8.png', '0071_2.png', '0004_2.png', '0016_2.png', '0019_4.png', '0082_8.png', '0032_10.png', '0028_7.png', '0055_2.png', '0057_9.png', '0059_10.png', '0062_9.png', '0035_5.png', '0003_1.png', '0011_5.png', '0017_7.png', '0042_7.png', '0070_4.png', '0005_3.png', '0009_1.png', '0061_2.png', '0005_2.png', '0012_2.png', '0054_9.png', '0057_5.png', '0049_4.png', '0014_6.png', '0045_3.png', '0005_8.png', '0040_7.png', '0063_10.png', '0085_1.png', '0040_10.png', '0052_6.png', '0054_1.png', '0022_10.png', '0041_10.png', '0028_4.png', '0074_8.png', '0065_2.png', '0076_9.png', '0061_8.png', '0087_8.png', '0017_3.png', '0042_3.png', '0061_9.png', '0004_10.png', '0052_2.png', '0041_7.png', '0055_8.png', '0024_4.png', '0015_9.png', '0074_4.png', '0064_10.png', '0042_5.png', '0041_4.png', '0058_1.png', '0024_9.png', '0043_4.png', '0085_10.png', '0044_2.png', '0031_8.png', '0011_2.png', '0030_2.png', '0054_3.png', '0076_5.png', '0007_3.png', '0026_4.png', '0059_5.png', '0062_4.png', '0056_5.png', '0016_6.png', '0013_2.png', '0044_1.png', '0009_10.png', '0017_1.png', '0026_7.png', '0067_4.png', '0070_7.png', '0064_3.png', '0068_6.png', '0017_4.png', '0074_3.png', '0009_9.png', '0016_8.png', '0013_10.png', '0029_5.png', '0082_1.png', '0039_10.png', '0087_9.png', '0019_7.png', '0057_3.png', '0043_1.png', '0080_8.png', '0074_1.png', '0008_4.png', '0021_4.png', '0023_6.png', '0056_3.png', '0030_1.png', '0063_3.png', '0039_5.png', '0041_6.png', '0074_7.png', '0015_1.png', '0085_5.png', '0066_2.png', '0088_8.png', '0010_9.png', '0059_4.png', '0039_4.png', '0082_2.png', '0036_6.png', '0002_6.png', '0062_8.png', '0020_8.png', '0062_5.png', '0015_7.png', '0036_9.png', '0062_1.png', '0074_5.png', '0040_2.png', '0054_8.png', '0022_3.png', '0005_6.png', '0037_10.png', '0035_8.png', '0066_3.png', '0059_2.png', '0021_9.png', '0040_8.png', '0012_8.png', '0045_4.png', '0042_9.png', '0051_1.png', '0064_5.png', '0034_9.png', '0025_6.png', '0063_4.png', '0082_7.png', '0055_9.png', '0070_10.png', '0016_5.png', '0020_1.png', '0087_1.png', '0015_10.png', '0003_5.png', '0035_1.png', '0073_8.png', '0049_3.png', '0008_5.png', '0033_8.png', '0016_3.png', '0049_10.png', '0073_3.png', '0045_10.png', '0037_2.png', '0002_2.png', '0062_3.png', '0061_4.png', '0024_6.png', '0039_3.png', '0061_6.png', '0007_6.png', '0058_4.png', '0056_8.png', '0032_8.png', '0047_4.png', '0059_6.png', '0053_6.png', '0019_1.png', '0001_2.png', '0001_1.png', '0044_10.png', '0043_2.png', '0060_1.png', '0055_10.png', '0061_5.png', '0027_7.png', '0037_6.png', '0082_4.png', '0088_4.png', '0041_8.png', '0046_4.png', '0085_6.png', '0008_10.png', '0027_5.png', '0067_9.png', '0017_2.png', '0065_6.png', '0004_9.png', '0080_7.png', '0085_8.png', '0051_6.png', '0053_4.png', '0058_7.png', '0064_9.png', '0073_7.png', '0050_3.png', '0043_8.png', '0069_1.png', '0030_5.png', '0006_7.png', '0058_9.png', '0068_1.png', '0010_3.png', '0024_3.png', '0013_8.png', '0020_9.png', '0013_1.png', '0025_4.png', '0038_1.png', '0016_7.png', '0035_10.png', '0026_9.png', '0058_10.png', '0019_5.png', '0011_7.png', '0049_8.png', '0053_2.png', '0018_10.png', '0003_7.png', '0015_6.png', '0007_9.png', '0064_8.png', '0027_8.png', '0057_10.png', '0024_7.png', '0024_10.png', '0030_6.png', '0058_5.png', '0031_4.png', '0008_7.png', '0008_2.png', '0071_6.png', '0048_6.png', '0037_1.png', '0062_10.png', '0080_10.png', '0018_2.png', '0003_8.png', '0025_7.png', '0022_2.png', '0060_3.png', '0037_3.png', '0002_7.png', '0082_5.png', '0009_8.png', '0006_8.png', '0016_10.png', '0057_4.png', '0009_5.png', '0023_1.png', '0053_10.png', '0065_7.png', '0033_4.png', '0047_5.png', '0004_1.png', '0040_5.png', '0053_8.png', '0037_4.png', '0069_9.png', '0053_1.png', '0049_1.png', '0085_7.png', '0004_7.png', '0021_2.png', '0054_5.png', '0034_4.png', '0038_8.png', '0036_7.png', '0064_7.png', '0076_4.png', '0073_5.png', '0069_7.png', '0036_5.png', '0052_4.png', '0002_4.png', '0016_9.png', '0070_8.png', '0041_1.png', '0007_1.png', '0048_2.png', '0025_9.png', '0004_4.png', '0037_5.png', '0050_7.png', '0043_9.png', '0046_7.png', '0023_8.png', '0080_1.png', '0008_1.png', '0079_8.png', '0021_5.png', '0039_6.png', '0056_4.png', '0026_3.png', '0016_1.png', '0088_7.png', '0044_8.png', '0025_5.png', '0012_9.png', '0071_1.png', '0047_2.png', '0048_8.png', '0069_8.png', '0014_3.png', '0010_4.png', '0006_3.png', '0034_2.png', '0008_3.png', '0062_6.png', '0067_6.png', '0056_6.png', '0028_6.png', '0041_9.png', '0079_10.png', '0039_1.png', '0033_1.png', '0032_4.png', '0071_5.png', '0053_3.png', '0051_3.png', '0042_10.png', '0044_5.png', '0030_9.png', '0066_8.png', '0079_1.png', '0035_9.png', '0005_10.png', '0088_10.png', '0009_2.png', '0012_3.png', '0020_6.png', '0013_7.png', '0032_6.png', '0088_3.png', '0031_7.png', '0060_10.png', '0028_10.png', '0027_3.png', '0004_8.png', '0052_7.png', '0044_6.png', '0061_10.png', '0021_1.png', '0035_2.png', '0069_2.png', '0087_5.png', '0061_1.png', '0076_2.png', '0033_7.png', '0001_9.png', '0079_3.png', '0021_8.png', '0031_9.png', '0015_3.png', '0088_1.png', '0069_4.png', '0020_5.png', '0008_8.png', '0014_5.png', '0044_4.png', '0050_2.png', '0020_4.png', '0043_6.png', '0004_5.png', '0006_2.png', '0043_3.png', '0073_1.png', '0070_9.png', '0017_5.png', '0054_4.png', '0059_1.png', '0012_1.png', '0059_8.png', '0017_8.png', '0059_7.png', '0063_8.png', '0066_5.png', '0027_6.png', '0046_3.png', '0066_1.png', '0044_3.png', '0045_7.png', '0070_6.png', '0032_9.png', '0022_1.png', '0063_9.png', '0035_4.png', '0068_2.png', '0070_2.png', '0060_5.png', '0031_10.png', '0033_3.png', '0050_4.png', '0057_6.png', '0035_3.png', '0082_9.png', '0019_8.png', '0042_6.png', '0033_2.png', '0034_10.png', '0060_8.png', '0007_5.png', '0031_1.png', '0007_10.png', '0027_4.png', '0067_5.png', '0041_3.png', '0005_4.png', '0023_5.png', '0034_5.png', '0070_5.png', '0014_9.png', '0071_3.png', '0055_7.png', '0012_6.png', '0038_6.png', '0003_2.png', '0066_10.png', '0011_4.png', '0021_6.png', '0008_6.png', '0030_3.png', '0023_10.png', '0071_8.png', '0050_10.png', '0070_1.png', '0047_7.png', '0031_3.png', '0029_10.png', '0028_5.png', '0018_3.png', '0014_10.png', '0003_6.png', '0043_7.png', '0049_7.png', '0018_8.png', '0044_7.png', '0055_6.png', '0045_2.png', '0063_2.png', '0033_5.png', '0065_5.png', '0029_4.png', '0030_7.png', '0032_2.png', '0045_6.png', '0026_2.png', '0052_5.png', '0050_5.png', '0058_8.png', '0029_2.png', '0039_8.png', '0047_10.png', '0022_4.png', '0051_10.png', '0046_10.png', '0045_5.png', '0061_7.png', '0062_7.png', '0050_9.png', '0049_2.png', '0031_2.png', '0050_1.png', '0085_4.png', '0071_4.png', '0035_7.png', '0042_2.png', '0006_10.png', '0067_8.png', '0087_4.png', '0018_5.png', '0056_2.png', '0033_6.png', '0076_7.png', '0021_7.png', '0024_2.png', '0073_10.png', '0027_9.png', '0009_4.png', '0042_4.png', '0087_3.png', '0055_5.png', '0069_10.png', '0025_1.png', '0027_2.png', '0026_6.png', '0004_3.png', '0066_6.png', '0022_9.png', '0001_7.png', '0001_10.png', '0039_2.png', '0080_6.png', '0060_4.png', '0064_6.png', '0009_3.png', '0038_3.png', '0023_7.png', '0036_3.png', '0052_10.png', '0047_3.png', '0025_10.png', '0011_1.png', '0038_10.png', '0087_10.png', '0088_2.png', '0048_3.png', '0001_5.png', '0001_3.png', '0050_6.png', '0018_9.png', '0027_1.png', '0076_8.png', '0088_5.png', '0009_6.png', '0069_6.png', '0054_10.png', '0034_1.png', '0015_2.png', '0036_10.png', '0012_7.png', '0053_9.png', '0080_9.png', '0052_9.png', '0064_2.png', '0035_6.png', '0046_8.png', '0055_1.png', '0007_7.png', '0028_1.png', '0011_9.png', '0002_10.png', '0068_5.png', '0052_1.png', '0085_2.png', '0029_7.png', '0066_9.png', '0026_10.png', '0048_10.png', '0076_1.png', '0021_3.png', '0057_8.png', '0079_5.png', '0034_8.png', '0027_10.png', '0018_7.png', '0037_9.png']\n"
     ]
    },
    {
     "name": "stderr",
     "output_type": "stream",
     "text": [
      "100%|██████████| 792/792 [00:00<00:00, 2913937.52it/s]"
     ]
    },
    {
     "name": "stdout",
     "output_type": "stream",
     "text": [
      "Read  792  files\n"
     ]
    },
    {
     "name": "stderr",
     "output_type": "stream",
     "text": [
      "\n"
     ]
    }
   ],
   "source": [
    "input_imgs = read_images(train_features_folder)\n",
    "output_imgs = read_images(train_labels_folder)\n",
    "classes = [\"guardrail\"]\n",
    "cm2lbl = make_cm2lbl()"
   ]
  },
  {
   "cell_type": "code",
   "execution_count": 20,
   "metadata": {
    "colab": {
     "base_uri": "https://localhost:8080/"
    },
    "id": "RzcmWtuAtjrs",
    "outputId": "2b210235-dff6-4061-b88f-a83b12af964b"
   },
   "outputs": [
    {
     "name": "stdout",
     "output_type": "stream",
     "text": [
      "Read 633 images\n",
      "Read 159 images\n"
     ]
    }
   ],
   "source": [
    "input_train, input_vali, output_train, output_vali = train_test_split(input_imgs, output_imgs, test_size=0.2, random_state=42)\n",
    "train_dataset_vis = IS_Dataset(input_train, output_train, classes=classes, cm2lbl=cm2lbl)\n",
    "validation_dataset_vis = IS_Dataset(input_vali, output_vali, classes=classes, cm2lbl=cm2lbl)"
   ]
  },
  {
   "cell_type": "code",
   "execution_count": 21,
   "metadata": {
    "colab": {
     "base_uri": "https://localhost:8080/",
     "height": 314
    },
    "id": "j5t2RjpKtjrs",
    "outputId": "2b02062e-584d-449d-c15a-aebd858ecbf9"
   },
   "outputs": [
    {
     "name": "stdout",
     "output_type": "stream",
     "text": [
      "(512, 512, 3)\n",
      "(512, 512, 1)\n"
     ]
    },
    {
     "data": {
      "image/png": "[encoded data removed]",
      "text/plain": [
       "<Figure size 1152x360 with 2 Axes>"
      ]
     },
     "metadata": {},
     "output_type": "display_data"
    }
   ],
   "source": [
    "image, mask = train_dataset_vis[70]\n",
    "print(image.shape)\n",
    "print(mask.shape)\n",
    "visualize(\n",
    "    image=image, \n",
    "    lanyard_mask=mask[..., 0].squeeze(),\n",
    ")"
   ]
  },
  {
   "cell_type": "code",
   "execution_count": 22,
   "metadata": {
    "colab": {
     "base_uri": "https://localhost:8080/"
    },
    "id": "rMeQu18ztjrt",
    "outputId": "f123c791-0345-46ed-b54a-6ebdb76ce23b"
   },
   "outputs": [
    {
     "name": "stdout",
     "output_type": "stream",
     "text": [
      "Read 633 images\n",
      "Read 159 images\n"
     ]
    }
   ],
   "source": [
    "train_dataset = IS_Dataset(\n",
    "  input_train, \n",
    "  output_train, \n",
    "  transform=transform,\n",
    "  transform_toTensor=transform_toTensor,\n",
    "  classes=classes,\n",
    "  cm2lbl=cm2lbl\n",
    "  )\n",
    "validation_dataset = IS_Dataset(\n",
    "  input_vali, \n",
    "  output_vali,\n",
    "  classes=classes,\n",
    "  transform=transform, \n",
    "  transform_toTensor=transform_toTensor,\n",
    "  cm2lbl=cm2lbl\n",
    "  )\n",
    "  \n",
    "train_dataloader = DataLoader(train_dataset, 8, shuffle=True, num_workers=2)\n",
    "validation_dataloader = DataLoader(validation_dataset, 1, shuffle=False, num_workers=2)"
   ]
  },
  {
   "cell_type": "code",
   "execution_count": 23,
   "metadata": {
    "id": "xthIC0nR5mmP"
   },
   "outputs": [],
   "source": [
    "def dice_loss(pred, target, smooth = 1.):\n",
    "    pred = pred.contiguous()\n",
    "    target = target.contiguous()    \n",
    "\n",
    "    intersection = (pred * target).sum(dim=2).sum(dim=2)\n",
    "    \n",
    "    loss = (1 - ((2. * intersection + smooth) / (pred.sum(dim=2).sum(dim=2) + target.sum(dim=2).sum(dim=2) + smooth)))\n",
    "    \n",
    "    return loss.mean()\n",
    "\n",
    "def calc_loss(pred, target, metrics, bce_weight=0.5):\n",
    "    bce = F.binary_cross_entropy_with_logits(pred, target)\n",
    "        \n",
    "    pred = F.sigmoid(pred)\n",
    "    dice = dice_loss(pred, target)\n",
    "    \n",
    "    loss = bce * bce_weight + dice * (1 - bce_weight)\n",
    "    \n",
    "    metrics['bce'] += bce.data.cpu().numpy() * target.size(0)\n",
    "    metrics['dice'] += dice.data.cpu().numpy() * target.size(0)\n",
    "    metrics['loss'] += loss.data.cpu().numpy() * target.size(0)\n",
    "    \n",
    "    return loss\n",
    "\n",
    "def print_metrics(metrics, epoch_samples, phase):    \n",
    "    outputs = []\n",
    "    for k in metrics.keys():\n",
    "        outputs.append(\"{}: {:4f}\".format(k, metrics[k] / epoch_samples))\n",
    "        \n",
    "    print(\"{}: {}\".format(phase, \", \".join(outputs)))  "
   ]
  },
  {
   "cell_type": "code",
   "execution_count": 24,
   "metadata": {
    "id": "7nBxJzIG5t_x"
   },
   "outputs": [],
   "source": [
    "image_datasets = {\n",
    "    'train': train_dataset, 'val': validation_dataset\n",
    "}\n",
    "\n",
    "dataloaders = {\n",
    "    'train': train_dataloader,\n",
    "    'val': validation_dataloader\n",
    "}\n",
    "\n",
    "def train_model(model, optimizer, scheduler, num_epochs=25, best_model_path=None):\n",
    "    \n",
    "    if best_model_path:\n",
    "        print(\"Loading best model weight\")\n",
    "        model = torch.load(best_model_path)\n",
    "        best_model_wts = model.state_dict()\n",
    "        model.load_state_dict(best_model_wts)\n",
    "    else:\n",
    "        best_model_wts = copy.deepcopy(model.state_dict())\n",
    "        \n",
    "    best_loss = 1e10\n",
    "\n",
    "    for epoch in range(num_epochs):\n",
    "        print('Epoch {}/{}'.format(epoch, num_epochs - 1))\n",
    "        print('-' * 10)\n",
    "        \n",
    "        if ((epoch % 5) == 0) and (epoch > 1):\n",
    "            weight_path = '/home/user/Desktop/lanyard_segmentation/0425/backups_EDAnet_ghost/model_'+ str(epoch+1) +'.pth'\n",
    "            torch.save(model,weight_path)\n",
    "            print(\"save model\")\n",
    "            \n",
    "        since = time.time()\n",
    "\n",
    "        # Each epoch has a training and validation phase\n",
    "        for phase in ['train', 'val']:\n",
    "            if phase == 'train':\n",
    "                scheduler.step()\n",
    "                for param_group in optimizer.param_groups:\n",
    "                    print(\"LR\", param_group['lr'])\n",
    "                    \n",
    "                model.train()  # Set model to training mode\n",
    "            else:\n",
    "                model.eval()   # Set model to evaluate mode\n",
    "\n",
    "            metrics = defaultdict(float)\n",
    "            epoch_samples = 0\n",
    "            \n",
    "            for data in dataloaders[phase]:\n",
    "                inputs, labels = data\n",
    "                inputs = inputs.to(device)\n",
    "                labels = labels.to(device)             \n",
    "\n",
    "                # zero the parameter gradients\n",
    "                optimizer.zero_grad()\n",
    "\n",
    "                # forward\n",
    "                # track history if only in train\n",
    "                with torch.set_grad_enabled(phase == 'train'):\n",
    "                    outputs = model(inputs)\n",
    "                    loss = calc_loss(outputs, labels, metrics)\n",
    "\n",
    "                    # backward + optimize only if in training phase\n",
    "                    if phase == 'train':\n",
    "                        loss.backward()\n",
    "                        optimizer.step()\n",
    "                        \n",
    "\n",
    "                # statistics\n",
    "                epoch_samples += inputs.size(0)\n",
    "\n",
    "            print_metrics(metrics, epoch_samples, phase)\n",
    "            epoch_loss = metrics['loss'] / epoch_samples\n",
    "\n",
    "            # deep copy the model\n",
    "            if phase == 'val' and epoch_loss < best_loss:\n",
    "                print(\"saving best model\")\n",
    "                \n",
    "                torch.save(model,'/home/user/Desktop/lanyard_segmentation/0425/backups_EDAnet_ghost/best_model.pth')\n",
    "                best_loss = epoch_loss\n",
    "                best_model_wts = copy.deepcopy(model.state_dict())\n",
    "            \n",
    "        time_elapsed = time.time() - since\n",
    "        print('{:.0f}m {:.0f}s'.format(time_elapsed // 60, time_elapsed % 60))\n",
    "    print('Best val loss: {:4f}'.format(best_loss))\n",
    "\n",
    "    # load best model weights\n",
    "    model.load_state_dict(best_model_wts)\n",
    "    return model"
   ]
  },
  {
   "cell_type": "code",
   "execution_count": 25,
   "metadata": {
    "colab": {
     "base_uri": "https://localhost:8080/",
     "height": 558
    },
    "id": "l5WaFtrr56Vr",
    "outputId": "b666893e-4ff6-4497-dd89-1f6f429cb25b"
   },
   "outputs": [
    {
     "name": "stdout",
     "output_type": "stream",
     "text": [
      "cuda:0\n"
     ]
    }
   ],
   "source": [
    "device = torch.device(\"cuda:0\" if torch.cuda.is_available() else \"cpu\")\n",
    "print(device)\n",
    "\n",
    "num_class = 1\n",
    "num_epochs = 25\n",
    "model = EDAnet().to(device)\n",
    "weight_decay = 1e-4\n",
    "max_lr = 5e-4\n",
    "# Observe that all parameters are being optimized\n",
    "optimizer_ft = torch.optim.Adam(model.parameters(), lr=max_lr, weight_decay=weight_decay)\n",
    "lambda1 = lambda epoch: (1-epoch/num_epochs) ** 0.9\n",
    "\n",
    "exp_lr_scheduler = torch.optim.lr_scheduler.LambdaLR(optimizer_ft, lr_lambda=[lambda1])\n",
    "# exp_lr_scheduler.get_lr()\n",
    "# exp_lr_scheduler = lr_scheduler.StepLR(optimizer_ft, step_size=25, gamma=0.1)\n",
    "# bm_path = '/kaggle/input/unet-17epoch/best_model.pt'\n"
   ]
  },
  {
   "cell_type": "code",
   "execution_count": 26,
   "metadata": {},
   "outputs": [
    {
     "name": "stdout",
     "output_type": "stream",
     "text": [
      "Epoch 0/24\n",
      "----------\n",
      "LR 0.00048196346062927547\n"
     ]
    },
    {
     "name": "stderr",
     "output_type": "stream",
     "text": [
      "/home/user/anaconda3/envs/jamie_segmentation/lib/python3.6/site-packages/torch/optim/lr_scheduler.py:134: UserWarning: Detected call of `lr_scheduler.step()` before `optimizer.step()`. In PyTorch 1.1.0 and later, you should call them in the opposite order: `optimizer.step()` before `lr_scheduler.step()`.  Failure to do this will result in PyTorch skipping the first value of the learning rate schedule. See more details at https://pytorch.org/docs/stable/optim.html#how-to-adjust-learning-rate\n",
      "  \"https://pytorch.org/docs/stable/optim.html#how-to-adjust-learning-rate\", UserWarning)\n",
      "/home/user/anaconda3/envs/jamie_segmentation/lib/python3.6/site-packages/torch/nn/functional.py:1805: UserWarning: nn.functional.sigmoid is deprecated. Use torch.sigmoid instead.\n",
      "  warnings.warn(\"nn.functional.sigmoid is deprecated. Use torch.sigmoid instead.\")\n"
     ]
    },
    {
     "name": "stdout",
     "output_type": "stream",
     "text": [
      "train: bce: 0.281463, dice: 0.832205, loss: 0.556834\n",
      "val: bce: 0.229465, dice: 0.778700, loss: 0.504082\n",
      "saving best model\n",
      "0m 51s\n",
      "Epoch 1/24\n",
      "----------\n",
      "LR 0.0004638515892816641\n",
      "train: bce: 0.205578, dice: 0.694375, loss: 0.449976\n",
      "val: bce: 0.181541, dice: 0.626399, loss: 0.403970\n",
      "saving best model\n",
      "0m 51s\n",
      "Epoch 2/24\n",
      "----------\n",
      "LR 0.00044566077304449995\n",
      "train: bce: 0.182158, dice: 0.597617, loss: 0.389887\n",
      "val: bce: 0.181541, dice: 0.574293, loss: 0.377917\n",
      "saving best model\n",
      "0m 52s\n",
      "Epoch 3/24\n",
      "----------\n",
      "LR 0.00042738705301356716\n",
      "train: bce: 0.176129, dice: 0.545930, loss: 0.361029\n",
      "val: bce: 0.211407, dice: 0.580888, loss: 0.396148\n",
      "0m 51s\n",
      "Epoch 4/24\n",
      "----------\n",
      "LR 0.00040902607302542923\n",
      "train: bce: 0.171216, dice: 0.514442, loss: 0.342829\n",
      "val: bce: 0.159785, dice: 0.500294, loss: 0.330039\n",
      "saving best model\n",
      "0m 51s\n",
      "Epoch 5/24\n",
      "----------\n",
      "save model\n",
      "LR 0.0003905730178340304\n",
      "train: bce: 0.167385, dice: 0.505708, loss: 0.336547\n",
      "val: bce: 0.165035, dice: 0.480884, loss: 0.322959\n",
      "saving best model\n",
      "0m 52s\n",
      "Epoch 6/24\n",
      "----------\n",
      "LR 0.0003720225378839164\n",
      "train: bce: 0.164286, dice: 0.475730, loss: 0.320008\n",
      "val: bce: 0.159363, dice: 0.466863, loss: 0.313113\n",
      "saving best model\n",
      "0m 51s\n",
      "Epoch 7/24\n",
      "----------\n",
      "LR 0.00035336865686177077\n",
      "train: bce: 0.163797, dice: 0.466472, loss: 0.315134\n",
      "val: bce: 0.172616, dice: 0.496666, loss: 0.334641\n",
      "0m 51s\n",
      "Epoch 8/24\n",
      "----------\n",
      "LR 0.0003346046568292074\n",
      "train: bce: 0.159165, dice: 0.452619, loss: 0.305892\n",
      "val: bce: 0.170070, dice: 0.465388, loss: 0.317729\n",
      "0m 51s\n",
      "Epoch 9/24\n",
      "----------\n",
      "LR 0.00031572293374467766\n",
      "train: bce: 0.146046, dice: 0.423090, loss: 0.284568\n",
      "val: bce: 0.179537, dice: 0.460820, loss: 0.320179\n",
      "0m 51s\n",
      "Epoch 10/24\n",
      "----------\n",
      "save model\n",
      "LR 0.00029671481323529297\n",
      "train: bce: 0.154074, dice: 0.433296, loss: 0.293685\n",
      "val: bce: 0.153506, dice: 0.446096, loss: 0.299801\n",
      "saving best model\n",
      "0m 51s\n",
      "Epoch 11/24\n",
      "----------\n",
      "LR 0.00027757031202430184\n",
      "train: bce: 0.152512, dice: 0.436087, loss: 0.294300\n",
      "val: bce: 0.157280, dice: 0.449329, loss: 0.303304\n",
      "0m 50s\n",
      "Epoch 12/24\n",
      "----------\n",
      "LR 0.0002582778235073065\n",
      "train: bce: 0.151210, dice: 0.422021, loss: 0.286616\n",
      "val: bce: 0.119460, dice: 0.396466, loss: 0.257963\n",
      "saving best model\n",
      "0m 52s\n",
      "Epoch 13/24\n",
      "----------\n",
      "LR 0.0002388236949212524\n",
      "train: bce: 0.143012, dice: 0.405283, loss: 0.274148\n",
      "val: bce: 0.161175, dice: 0.407220, loss: 0.284197\n",
      "0m 51s\n",
      "Epoch 14/24\n",
      "----------\n",
      "LR 0.00021919164527704348\n",
      "train: bce: 0.149466, dice: 0.416931, loss: 0.283198\n",
      "val: bce: 0.132305, dice: 0.392736, loss: 0.262520\n",
      "0m 51s\n",
      "Epoch 15/24\n",
      "----------\n",
      "save model\n",
      "LR 0.0001993619417846922\n",
      "train: bce: 0.156731, dice: 0.418209, loss: 0.287470\n",
      "val: bce: 0.132355, dice: 0.408411, loss: 0.270383\n",
      "0m 51s\n",
      "Epoch 16/24\n",
      "----------\n",
      "LR 0.00017931019581530385\n",
      "train: bce: 0.153795, dice: 0.408093, loss: 0.280944\n",
      "val: bce: 0.138080, dice: 0.390046, loss: 0.264063\n",
      "0m 51s\n",
      "Epoch 17/24\n",
      "----------\n",
      "LR 0.00015900553138349974\n",
      "train: bce: 0.153830, dice: 0.411094, loss: 0.282462\n",
      "val: bce: 0.121462, dice: 0.378049, loss: 0.249756\n",
      "saving best model\n",
      "0m 52s\n",
      "Epoch 18/24\n",
      "----------\n",
      "LR 0.00013840765859838175\n",
      "train: bce: 0.144297, dice: 0.386968, loss: 0.265633\n",
      "val: bce: 0.126979, dice: 0.394941, loss: 0.260960\n",
      "0m 51s\n",
      "Epoch 19/24\n",
      "----------\n",
      "LR 0.00011746189430880188\n",
      "train: bce: 0.145018, dice: 0.394888, loss: 0.269953\n",
      "val: bce: 0.146011, dice: 0.378355, loss: 0.262183\n",
      "0m 51s\n",
      "Epoch 20/24\n",
      "----------\n",
      "save model\n",
      "LR 9.608995471851451e-05\n",
      "train: bce: 0.144377, dice: 0.382360, loss: 0.263368\n",
      "val: bce: 0.161962, dice: 0.423184, loss: 0.292573\n",
      "0m 51s\n",
      "Epoch 21/24\n",
      "----------\n",
      "LR 7.417082774876436e-05\n",
      "train: bce: 0.143464, dice: 0.384758, loss: 0.264111\n",
      "val: bce: 0.141801, dice: 0.391193, loss: 0.266497\n",
      "0m 51s\n",
      "Epoch 22/24\n",
      "----------\n",
      "LR 5.149333174180893e-05\n",
      "train: bce: 0.148143, dice: 0.391417, loss: 0.269780\n",
      "val: bce: 0.124116, dice: 0.368987, loss: 0.246551\n",
      "saving best model\n",
      "0m 52s\n",
      "Epoch 23/24\n",
      "----------\n",
      "LR 2.7594593229224316e-05\n",
      "train: bce: 0.148373, dice: 0.386497, loss: 0.267435\n",
      "val: bce: 0.134101, dice: 0.390645, loss: 0.262373\n",
      "0m 51s\n",
      "Epoch 24/24\n",
      "----------\n",
      "LR 0.0\n",
      "train: bce: 0.138163, dice: 0.378694, loss: 0.258429\n",
      "val: bce: 0.132009, dice: 0.378021, loss: 0.255015\n",
      "0m 52s\n",
      "Best val loss: 0.246551\n"
     ]
    }
   ],
   "source": [
    "model = train_model(model, optimizer_ft, exp_lr_scheduler, num_epochs=num_epochs, best_model_path=None)"
   ]
  },
  {
   "cell_type": "markdown",
   "metadata": {},
   "source": [
    "# Test"
   ]
  },
  {
   "cell_type": "code",
   "execution_count": 27,
   "metadata": {},
   "outputs": [],
   "source": [
    "import imgviz"
   ]
  },
  {
   "cell_type": "code",
   "execution_count": 28,
   "metadata": {},
   "outputs": [],
   "source": [
    "def label_viz(pr_mask_gray_uni_list, pr_mask_gray, image_vis, classes):\n",
    "  idx = range(len(pr_mask_gray_uni_list))\n",
    "\n",
    "  vis_dict = dict(zip(pr_mask_gray_uni_list, idx))\n",
    "\n",
    "  pr_mask_viz = pr_mask_gray\n",
    "    \n",
    "  for i in range(pr_mask_viz.shape[0]):\n",
    "    for j in range(pr_mask_viz.shape[1]):\n",
    "      pr_mask_viz[i][j] = vis_dict[pr_mask_viz[i][j]]\n",
    "\n",
    "  pr_mask_viz = pr_mask_viz.astype(np.int32)\n",
    "  print('pr_mask_viz shape: ',pr_mask_viz.shape)\n",
    "  lbl_viz = imgviz.label2rgb(\n",
    "      label=pr_mask_viz, image=imgviz.asgray(image_vis), label_names=classes, loc=\"rb\"\n",
    "  )\n",
    "  \n",
    "  return lbl_viz"
   ]
  },
  {
   "cell_type": "code",
   "execution_count": 29,
   "metadata": {},
   "outputs": [
    {
     "data": {
      "text/plain": [
       "0.75"
      ]
     },
     "execution_count": 29,
     "metadata": {},
     "output_type": "execute_result"
    }
   ],
   "source": [
    "def ratioFunction(num1, num2):\n",
    "    num1 = int(num1) # Now we are good\n",
    "    num2 = int(num2) # Good, good\n",
    "    if num1 > num2:\n",
    "        ratio12 = num2/num1\n",
    "    else:\n",
    "        ratio12 = num1/num2\n",
    "#     print('The ratio of', num1, 'and', num2,'is', ratio12 + '.')\n",
    "    return ratio12\n",
    "ratioFunction(288, 216)"
   ]
  },
  {
   "cell_type": "code",
   "execution_count": 30,
   "metadata": {},
   "outputs": [],
   "source": [
    "class IS_Dataset_test(Dataset):\n",
    "  CLASSES = ['background', 'girder', 'net', 'lanyard', 'guardrail']\n",
    "  def __init__(self, data_list, label_list, classes, cm2lbl, transform=None, transform_toTensor=None, resize_size=None):\n",
    "\n",
    "    self.data_list = data_list\n",
    "    self.label_list = label_list\n",
    "    self.transform = transform\n",
    "    self.transform_toTensor = transform_toTensor\n",
    "    self.cm2lbl = cm2lbl\n",
    "    self.resize_size = resize_size\n",
    "    # convert str names to class values on masks\n",
    "    self.class_values = [self.CLASSES.index(cls.lower()) for cls in classes]\n",
    "    print('Read ' + str(len(self.data_list)) + ' images')\n",
    "    \n",
    "  def __getitem__(self, index):\n",
    "    # read data\n",
    "    image = cv2.imread(self.data_list[index])\n",
    "    image = cv2.cvtColor(image, cv2.COLOR_BGR2RGB)\n",
    "#     image = cv2.resize(image, self.resize_size, interpolation=cv2.INTER_AREA)\n",
    "        \n",
    "    mask = cv2.imread(self.label_list[index])\n",
    "#     mask = cv2.resize(mask, self.resize_size, interpolation=cv2.INTER_NEAREST)\n",
    "    if self.resize_size:\n",
    "        image = cv2.resize(image, self.resize_size, interpolation=cv2.INTER_AREA)\n",
    "        mask = cv2.resize(mask, self.resize_size, interpolation=cv2.INTER_NEAREST)\n",
    "    if image.shape[0] > 1400 or image.shape[1] > 1400 :\n",
    "        ratio = ratioFunction(image.shape[0], image.shape[1])\n",
    "        new_size = (960, int(960*ratio))\n",
    "        image = cv2.resize(image, new_size, interpolation=cv2.INTER_AREA)\n",
    "        mask = cv2.resize(mask, new_size, interpolation=cv2.INTER_NEAREST)\n",
    "    if image.shape[0]%16 !=0 or image.shape[1]%16 !=0 :\n",
    "        new_size = (960, 720)\n",
    "        image = cv2.resize(image, new_size, interpolation=cv2.INTER_AREA)\n",
    "        mask = cv2.resize(mask, new_size, interpolation=cv2.INTER_NEAREST)\n",
    "    print(image.shape)\n",
    "    # apply data augmentations\n",
    "    if self.transform:\n",
    "      # ndarray to PIL image\n",
    "      image = Image.fromarray(image)\n",
    "      mask = Image.fromarray(mask)\n",
    "      # apply the transforms\n",
    "      image = self.transform(image)\n",
    "      mask = self.transform(mask)\n",
    "\n",
    "    #把RGB改成0,1,...,class_num : (w, w, 1)\n",
    "    mask = image2label(mask, self.cm2lbl)\n",
    "    mask = mask.squeeze()\n",
    "    # print(np.unique(mask))\n",
    "    # print(mask.shape)\n",
    "\n",
    "    # 把每個不同目標分成0,1 : (w, w, class_num)\n",
    "    masks = [(mask == v) for v in self.class_values]\n",
    "    mask = np.stack(masks, axis=-1).astype('float')\n",
    "\n",
    "    if self.transform_toTensor:\n",
    "      image = self.transform_toTensor(image)\n",
    "      mask = self.transform_toTensor(mask)\n",
    "\n",
    "    return image, mask\n",
    "    \n",
    "  def __len__(self):\n",
    "    return len(self.data_list)"
   ]
  },
  {
   "cell_type": "code",
   "execution_count": 31,
   "metadata": {},
   "outputs": [],
   "source": [
    "# viz_classes = ['background', 'lanyard']\n",
    "viz_classes = ['guardrail']\n",
    "classes = ['guardrail']"
   ]
  },
  {
   "cell_type": "code",
   "execution_count": 32,
   "metadata": {},
   "outputs": [],
   "source": [
    "def random_vis_lanyard_re(weight_path, classes, test_features_folder, test_labels_folder, prefix=None):\n",
    "  best_model = torch.load(weight_path + '/best_model.pth')\n",
    "  test_input_imgs = read_images(test_features_folder)\n",
    "  test_output_imgs = read_images(test_labels_folder)\n",
    "\n",
    "  cm2lbl = make_cm2lbl()\n",
    "\n",
    "  test_dataset = IS_Dataset_test(\n",
    "      test_input_imgs, \n",
    "      test_output_imgs, \n",
    "#       transform=transform,\n",
    "      transform_toTensor=transform_toTensor,\n",
    "      classes=classes,\n",
    "      cm2lbl=cm2lbl\n",
    "   )\n",
    "  test_dataset_vis = IS_Dataset_test(test_input_imgs, test_output_imgs, classes=classes, cm2lbl=cm2lbl)\n",
    "\n",
    "  test_resized_dataset = IS_Dataset_test(\n",
    "      test_input_imgs, \n",
    "      test_output_imgs, \n",
    "#       transform=transform,\n",
    "      transform_toTensor=transform_toTensor,\n",
    "      classes=classes,\n",
    "      cm2lbl=cm2lbl,resize_size=(512,512)\n",
    "  )\n",
    "  \n",
    "  \n",
    "  for i in tqdm(range(20)):\n",
    "#     n = np.random.choice(len(test_dataset))\n",
    "    n = i\n",
    "    image_vis = test_dataset_vis[n][0].astype('uint8')\n",
    "\n",
    "    image, gt_mask = test_dataset[n]\n",
    "    image_resized, gt_mask_resized = test_resized_dataset[n]\n",
    "    \n",
    "    gt_mask = gt_mask.squeeze()\n",
    "#     gt_mask_tensor = torch.from_numpy(gt_mask)\n",
    "    gt_mask_tensor = gt_mask\n",
    "    \n",
    "    gt_mask_resized = gt_mask_resized.squeeze()\n",
    "    \n",
    "#     x_tensor = torch.from_numpy(image).to('cuda').unsqueeze(0)\n",
    "    torch.cuda.empty_cache()\n",
    "    x_tensor = image.to('cuda').unsqueeze(0)\n",
    "    pr_mask = best_model(x_tensor).data\n",
    "    pr_mask = torch.sigmoid(pr_mask)\n",
    "#     print('pr_mask unique :', np.unique(pr_mask.squeeze().cpu().numpy()))\n",
    "    pr_mask = (pr_mask.squeeze().cpu().numpy().round())\n",
    "\n",
    "    \n",
    "#     x_tensor_resized = torch.from_numpy(image_resized).to('cuda').unsqueeze(0)\n",
    "    x_tensor_resized = image_resized.to('cuda').unsqueeze(0)\n",
    "    print('pr_mask shape:', pr_mask.shape)\n",
    "    pr_mask_resized = best_model(x_tensor_resized).data\n",
    "    pr_mask_resized = torch.sigmoid(pr_mask_resized)\n",
    "    pr_mask_resized = (pr_mask_resized.squeeze().cpu().numpy().round())\n",
    "    pr_mask_resized_return = cv2.resize(pr_mask_resized, (gt_mask.shape[1], gt_mask.shape[0]), interpolation=cv2.INTER_NEAREST)\n",
    "#     print('pr_mask_resized_return shape:', pr_mask_resized_return.shape)\n",
    "    pr_mask_resized_return_uni = np.unique(pr_mask_resized_return)\n",
    "    pr_mask_resized_return_uni_list = pr_mask_resized_return_uni.tolist()\n",
    "    \n",
    "    \n",
    "\n",
    "    # save_images(save_img_dir, prefix_img, \n",
    "    #       image=image_vis, \n",
    "    #       ground_truth_mask=gt_mask, \n",
    "    #       predicted_mask=pr_mask,\n",
    "    #       prediced_resized_mask=pr_mask_resized_return,\n",
    "    #       mask_viz = lbl_viz\n",
    "    # )\n",
    "\n",
    "    visualize(\n",
    "        image=image_vis, \n",
    "        ground_truth_mask=gt_mask, \n",
    "        predicted_mask=pr_mask,\n",
    "        prediced_resized_mask=pr_mask_resized_return,\n",
    "#         lbl_viz = lbl_viz\n",
    "    )\n",
    "\n"
   ]
  },
  {
   "cell_type": "code",
   "execution_count": 33,
   "metadata": {},
   "outputs": [],
   "source": [
    "weight_path = '/home/user/Desktop/lanyard_segmentation/0425/backups_EDAnet_ghost'\n",
    "test_features_folder = '/home/user/Desktop/lanyard_segmentation/guardrail/test_data/features'\n",
    "test_labels_folder = '/home/user/Desktop/lanyard_segmentation/guardrail/test_data/labels'\n",
    "orig_features_folder = '/home/user/Desktop/lanyard_segmentation/guardrail/orig_features'\n",
    "orig_labels_folder = '/home/user/Desktop/lanyard_segmentation/guardrail/orig_labels'"
   ]
  },
  {
   "cell_type": "code",
   "execution_count": null,
   "metadata": {},
   "outputs": [],
   "source": [
    "random_vis_lanyard_re(weight_path, classes, test_features_folder, test_labels_folder)"
   ]
  },
  {
   "cell_type": "code",
   "execution_count": null,
   "metadata": {},
   "outputs": [],
   "source": [
    "random_vis_lanyard_re(weight_path, classes, orig_features_folder, orig_labels_folder)"
   ]
  },
  {
   "cell_type": "code",
   "execution_count": 36,
   "metadata": {},
   "outputs": [],
   "source": [
    "# F.iou(y_pr, y_gt, eps=1e-7, threshold=0.5, ignore_channels=None)\n",
    "def _take_channels(*xs, ignore_channels=None):\n",
    "    if ignore_channels is None:\n",
    "        return xs\n",
    "    else:\n",
    "        channels = [channel for channel in range(xs[0].shape[1]) if channel not in ignore_channels]\n",
    "        xs = [torch.index_select(x, dim=1, index=torch.tensor(channels).to(x.device)) for x in xs]\n",
    "        return xs\n",
    "\n",
    "\n",
    "def _threshold(x, threshold=None):\n",
    "    if threshold is not None:\n",
    "        return (x > threshold)\n",
    "    else:\n",
    "        return x\n",
    "    \n",
    "def iou(pr, gt, eps=1e-7, threshold=None, ignore_channels=None):\n",
    "    \"\"\"Calculate Intersection over Union between ground truth and prediction\n",
    "    Args:\n",
    "        pr (torch.Tensor): predicted tensor\n",
    "        gt (torch.Tensor):  ground truth tensor\n",
    "        eps (float): epsilon to avoid zero division\n",
    "        threshold: threshold for outputs binarization\n",
    "    Returns:\n",
    "        float: IoU (Jaccard) score\n",
    "    \"\"\"\n",
    "\n",
    "    pr = _threshold(pr, threshold=threshold)\n",
    "    pr, gt = _take_channels(pr, gt, ignore_channels=ignore_channels)\n",
    "\n",
    "    intersection = torch.sum(gt * pr)\n",
    "    union = torch.sum(gt) + torch.sum(pr) - intersection + eps\n",
    "    return (intersection + eps) / union\n"
   ]
  },
  {
   "cell_type": "code",
   "execution_count": 37,
   "metadata": {},
   "outputs": [],
   "source": [
    "def test_lanyard_re(weight_path, classes, test_features_folder, test_labels_folder, prefix=None):\n",
    "  iou_scores = []\n",
    "  iou_scores_resized = []\n",
    "  best_model = torch.load(weight_path + '/best_model.pth')\n",
    "  test_input_imgs = read_images(test_features_folder)\n",
    "  test_output_imgs = read_images(test_labels_folder)\n",
    "\n",
    "  cm2lbl = make_cm2lbl()\n",
    "\n",
    "  test_dataset = IS_Dataset_test(\n",
    "      test_input_imgs, \n",
    "      test_output_imgs, \n",
    "#       transform=transform,\n",
    "      transform_toTensor=transform_toTensor,\n",
    "      classes=classes,\n",
    "      cm2lbl=cm2lbl\n",
    "   )\n",
    "  test_dataset_vis = IS_Dataset_test(test_input_imgs, test_output_imgs, classes=classes, cm2lbl=cm2lbl)\n",
    "\n",
    "  test_resized_dataset = IS_Dataset(\n",
    "      test_input_imgs, \n",
    "      test_output_imgs, \n",
    "#       transform=transform,\n",
    "      transform_toTensor=transform_toTensor,\n",
    "      classes=classes,\n",
    "      cm2lbl=cm2lbl,resize_size=(512,512)\n",
    "  )\n",
    "  \n",
    "  \n",
    "  for i in tqdm(range(len(test_dataset))):\n",
    "    image_vis = test_dataset_vis[i][0].astype('uint8')\n",
    "\n",
    "    image, gt_mask = test_dataset[i]\n",
    "    image_resized, gt_mask_resized = test_resized_dataset[i]\n",
    "    \n",
    "    gt_mask = gt_mask.squeeze()\n",
    "#     gt_mask_tensor = torch.from_numpy(gt_mask)\n",
    "    gt_mask_tensor = gt_mask\n",
    "    \n",
    "    gt_mask_resized = gt_mask_resized.squeeze()\n",
    "    \n",
    "#     x_tensor = torch.from_numpy(image).to('cuda').unsqueeze(0)\n",
    "    x_tensor = image.to('cuda').unsqueeze(0)\n",
    "    pr_mask = best_model(x_tensor).data\n",
    "    pr_mask = torch.sigmoid(pr_mask)\n",
    "    pr_mask = (pr_mask.squeeze().cpu().numpy().round())\n",
    "    pr_mask_tensor = torch.from_numpy(pr_mask)\n",
    "    \n",
    "#     x_tensor_resized = torch.from_numpy(image_resized).to('cuda').unsqueeze(0)\n",
    "    x_tensor_resized = image_resized.to('cuda').unsqueeze(0)\n",
    "    pr_mask_resized = best_model(x_tensor_resized).data\n",
    "    pr_mask_resized = torch.sigmoid(pr_mask_resized)\n",
    "    pr_mask_resized = (pr_mask_resized.squeeze().cpu().numpy().round())\n",
    "    pr_mask_resized_return = cv2.resize(pr_mask_resized, (gt_mask.shape[1], gt_mask.shape[0]), interpolation=cv2.INTER_NEAREST)\n",
    "    pr_mask_resized_return_tensor = torch.from_numpy(pr_mask_resized_return)\n",
    "    \n",
    "    iou_score = iou(pr_mask_tensor, gt_mask_tensor, eps=1e-7, threshold=0.5, ignore_channels=None)\n",
    "    iou_score_resized = iou(pr_mask_resized_return_tensor, gt_mask_tensor, eps=1e-7, threshold=0.5, ignore_channels=None)\n",
    "    iou_scores.append(iou_score)\n",
    "    iou_scores_resized.append(iou_score_resized)\n",
    "    \n",
    "\n",
    "  return np.mean(iou_scores), np.mean(iou_scores_resized)"
   ]
  },
  {
   "cell_type": "code",
   "execution_count": 38,
   "metadata": {},
   "outputs": [
    {
     "name": "stdout",
     "output_type": "stream",
     "text": [
      "path： /home/user/Desktop/lanyard_segmentation/guardrail/test_data/features\n",
      "directory： []\n",
      "file： ['0075.png', '0086.png', '0019.png', '0083.png', '0054.png', '0001.png', '0050.png', '0056.png', '0058.png', '0084.png', '0081.png', '0034.png', '0023.png']\n"
     ]
    },
    {
     "name": "stderr",
     "output_type": "stream",
     "text": [
      "100%|██████████| 13/13 [00:00<00:00, 197557.80it/s]\n"
     ]
    },
    {
     "name": "stdout",
     "output_type": "stream",
     "text": [
      "Read  13  files\n",
      "path： /home/user/Desktop/lanyard_segmentation/guardrail/test_data/labels\n",
      "directory： []\n",
      "file： ['0075.png', '0086.png', '0019.png', '0083.png', '0054.png', '0001.png', '0050.png', '0056.png', '0058.png', '0084.png', '0081.png', '0034.png', '0023.png']\n"
     ]
    },
    {
     "name": "stderr",
     "output_type": "stream",
     "text": [
      "100%|██████████| 13/13 [00:00<00:00, 147367.44it/s]\n"
     ]
    },
    {
     "name": "stdout",
     "output_type": "stream",
     "text": [
      "Read  13  files\n",
      "Read 13 images\n",
      "Read 13 images\n",
      "Read 13 images\n"
     ]
    },
    {
     "name": "stderr",
     "output_type": "stream",
     "text": [
      "\r\n",
      "  0%|          | 0/13 [00:00<?, ?it/s]"
     ]
    },
    {
     "name": "stdout",
     "output_type": "stream",
     "text": [
      "(720, 960, 3)\n",
      "(720, 960, 3)\n"
     ]
    },
    {
     "name": "stderr",
     "output_type": "stream",
     "text": [
      "\r\n",
      "  8%|▊         | 1/13 [00:01<00:14,  1.20s/it]"
     ]
    },
    {
     "name": "stdout",
     "output_type": "stream",
     "text": [
      "(720, 960, 3)\n",
      "(720, 960, 3)\n"
     ]
    },
    {
     "name": "stderr",
     "output_type": "stream",
     "text": [
      "\r\n",
      " 15%|█▌        | 2/13 [00:02<00:13,  1.21s/it]"
     ]
    },
    {
     "name": "stdout",
     "output_type": "stream",
     "text": [
      "(720, 960, 3)\n",
      "(720, 960, 3)\n"
     ]
    },
    {
     "name": "stderr",
     "output_type": "stream",
     "text": [
      "\r\n",
      " 23%|██▎       | 3/13 [00:03<00:11,  1.18s/it]"
     ]
    },
    {
     "name": "stdout",
     "output_type": "stream",
     "text": [
      "(720, 960, 3)\n",
      "(720, 960, 3)\n"
     ]
    },
    {
     "name": "stderr",
     "output_type": "stream",
     "text": [
      "\r\n",
      " 31%|███       | 4/13 [00:04<00:10,  1.19s/it]"
     ]
    },
    {
     "name": "stdout",
     "output_type": "stream",
     "text": [
      "(720, 960, 3)\n",
      "(720, 960, 3)\n"
     ]
    },
    {
     "name": "stderr",
     "output_type": "stream",
     "text": [
      "\r\n",
      " 38%|███▊      | 5/13 [00:05<00:08,  1.09s/it]"
     ]
    },
    {
     "name": "stdout",
     "output_type": "stream",
     "text": [
      "(720, 960, 3)\n",
      "(720, 960, 3)\n"
     ]
    },
    {
     "name": "stderr",
     "output_type": "stream",
     "text": [
      "\r\n",
      " 46%|████▌     | 6/13 [00:06<00:07,  1.06s/it]"
     ]
    },
    {
     "name": "stdout",
     "output_type": "stream",
     "text": [
      "(720, 960, 3)\n",
      "(720, 960, 3)\n"
     ]
    },
    {
     "name": "stderr",
     "output_type": "stream",
     "text": [
      "\r\n",
      " 54%|█████▍    | 7/13 [00:07<00:06,  1.01s/it]"
     ]
    },
    {
     "name": "stdout",
     "output_type": "stream",
     "text": [
      "(720, 960, 3)\n",
      "(720, 960, 3)\n"
     ]
    },
    {
     "name": "stderr",
     "output_type": "stream",
     "text": [
      "\r\n",
      " 62%|██████▏   | 8/13 [00:08<00:04,  1.01it/s]"
     ]
    },
    {
     "name": "stdout",
     "output_type": "stream",
     "text": [
      "(720, 960, 3)\n",
      "(720, 960, 3)\n"
     ]
    },
    {
     "name": "stderr",
     "output_type": "stream",
     "text": [
      " 77%|███████▋  | 10/13 [00:09<00:02,  1.33it/s]"
     ]
    },
    {
     "name": "stdout",
     "output_type": "stream",
     "text": [
      "(720, 960, 3)\n",
      "(720, 960, 3)\n",
      "(720, 960, 3)\n"
     ]
    },
    {
     "name": "stderr",
     "output_type": "stream",
     "text": [
      "\r\n",
      " 85%|████████▍ | 11/13 [00:09<00:01,  1.75it/s]"
     ]
    },
    {
     "name": "stdout",
     "output_type": "stream",
     "text": [
      "(720, 960, 3)\n",
      "(720, 960, 3)\n",
      "(720, 960, 3)\n"
     ]
    },
    {
     "name": "stderr",
     "output_type": "stream",
     "text": [
      "100%|██████████| 13/13 [00:10<00:00,  1.27it/s]"
     ]
    },
    {
     "name": "stdout",
     "output_type": "stream",
     "text": [
      "(720, 960, 3)\n",
      "(720, 960, 3)\n"
     ]
    },
    {
     "name": "stderr",
     "output_type": "stream",
     "text": [
      "\n"
     ]
    }
   ],
   "source": [
    "iou_scores, iou_scores_resized = test_lanyard_re(weight_path, classes, test_features_folder, test_labels_folder)"
   ]
  },
  {
   "cell_type": "code",
   "execution_count": 39,
   "metadata": {},
   "outputs": [
    {
     "name": "stdout",
     "output_type": "stream",
     "text": [
      "0.6503219844242557\n",
      "0.5441145846423179\n"
     ]
    }
   ],
   "source": [
    "# test on test set\n",
    "print(iou_scores)\n",
    "print(iou_scores_resized)"
   ]
  },
  {
   "cell_type": "code",
   "execution_count": 40,
   "metadata": {},
   "outputs": [
    {
     "name": "stdout",
     "output_type": "stream",
     "text": [
      "path： /home/user/Desktop/lanyard_segmentation/guardrail/orig_features\n",
      "directory： []\n",
      "file： ['0075.png', '0028.png', '0022.png', '0086.png', '0003.png', '0057.png', '0020.png', '0074.png', '0019.png', '0079.png', '0083.png', '0051.png', '0047.png', '0072.png', '0031.png', '0071.png', '0030.png', '0015.png', '0070.png', '0068.png', '0018.png', '0017.png', '0067.png', '0052.png', '0060.png', '0037.png', '0039.png', '0088.png', '0027.png', '0054.png', '0001.png', '0038.png', '0050.png', '0077.png', '0024.png', '0013.png', '0056.png', '0016.png', '0009.png', '0061.png', '0066.png', '0045.png', '0055.png', '0059.png', '0064.png', '0026.png', '0025.png', '0058.png', '0063.png', '0046.png', '0084.png', '0069.png', '0004.png', '0078.png', '0065.png', '0012.png', '0035.png', '0042.png', '0002.png', '0076.png', '0081.png', '0034.png', '0062.png', '0053.png', '0010.png', '0023.png', '0032.png', '0082.png', '0006.png', '0029.png', '0073.png', '0008.png', '0036.png', '0043.png', '0080.png', '0021.png', '0049.png', '0005.png', '0040.png', '0041.png', '0007.png', '0087.png', '0085.png', '0014.png', '0011.png', '0048.png', '0033.png', '0044.png']\n"
     ]
    },
    {
     "name": "stderr",
     "output_type": "stream",
     "text": [
      "100%|██████████| 88/88 [00:00<00:00, 1264036.82it/s]\n"
     ]
    },
    {
     "name": "stdout",
     "output_type": "stream",
     "text": [
      "Read  88  files\n",
      "path： /home/user/Desktop/lanyard_segmentation/guardrail/orig_labels\n",
      "directory： []\n",
      "file： ['0075.png', '0028.png', '0022.png', '0086.png', '0003.png', '0057.png', '0020.png', '0074.png', '0019.png', '0079.png', '0083.png', '0051.png', '0047.png', '0072.png', '0031.png', '0071.png', '0030.png', '0015.png', '0070.png', '0068.png', '0018.png', '0017.png', '0067.png', '0052.png', '0060.png', '0037.png', '0039.png', '0088.png', '0027.png', '0054.png', '0001.png', '0038.png', '0050.png', '0077.png', '0024.png', '0013.png', '0056.png', '0016.png', '0009.png', '0061.png', '0066.png', '0045.png', '0055.png', '0059.png', '0064.png', '0026.png', '0025.png', '0058.png', '0063.png', '0046.png', '0084.png', '0069.png', '0004.png', '0078.png', '0065.png', '0012.png', '0035.png', '0042.png', '0002.png', '0076.png', '0081.png', '0034.png', '0062.png', '0053.png', '0010.png', '0023.png', '0032.png', '0082.png', '0006.png', '0029.png', '0073.png', '0008.png', '0036.png', '0043.png', '0080.png', '0021.png', '0049.png', '0005.png', '0040.png', '0041.png', '0007.png', '0087.png', '0085.png', '0014.png', '0011.png', '0048.png', '0033.png', '0044.png']\n"
     ]
    },
    {
     "name": "stderr",
     "output_type": "stream",
     "text": [
      "100%|██████████| 88/88 [00:00<00:00, 1757613.10it/s]\n"
     ]
    },
    {
     "name": "stdout",
     "output_type": "stream",
     "text": [
      "Read  88  files\n",
      "Read 88 images\n",
      "Read 88 images\n",
      "Read 88 images\n"
     ]
    },
    {
     "name": "stderr",
     "output_type": "stream",
     "text": [
      "\r\n",
      "  0%|          | 0/88 [00:00<?, ?it/s]"
     ]
    },
    {
     "name": "stdout",
     "output_type": "stream",
     "text": [
      "(720, 960, 3)\n",
      "(720, 960, 3)\n"
     ]
    },
    {
     "name": "stderr",
     "output_type": "stream",
     "text": [
      "  2%|▏         | 2/88 [00:01<00:53,  1.62it/s]"
     ]
    },
    {
     "name": "stdout",
     "output_type": "stream",
     "text": [
      "(720, 960, 3)\n",
      "(720, 960, 3)\n",
      "(720, 960, 3)\n"
     ]
    },
    {
     "name": "stderr",
     "output_type": "stream",
     "text": [
      "\r\n",
      "  3%|▎         | 3/88 [00:01<00:34,  2.45it/s]"
     ]
    },
    {
     "name": "stdout",
     "output_type": "stream",
     "text": [
      "(720, 960, 3)\n",
      "(720, 960, 3)\n",
      "(720, 960, 3)\n"
     ]
    },
    {
     "name": "stderr",
     "output_type": "stream",
     "text": [
      "  6%|▌         | 5/88 [00:01<00:21,  3.87it/s]"
     ]
    },
    {
     "name": "stdout",
     "output_type": "stream",
     "text": [
      "(720, 960, 3)\n",
      "(720, 960, 3)\n",
      "(720, 960, 3)\n"
     ]
    },
    {
     "name": "stderr",
     "output_type": "stream",
     "text": [
      "\r\n",
      "  7%|▋         | 6/88 [00:02<00:18,  4.40it/s]"
     ]
    },
    {
     "name": "stdout",
     "output_type": "stream",
     "text": [
      "(720, 960, 3)\n",
      "(720, 960, 3)\n",
      "(720, 960, 3)\n"
     ]
    },
    {
     "name": "stderr",
     "output_type": "stream",
     "text": [
      "  9%|▉         | 8/88 [00:02<00:15,  5.11it/s]"
     ]
    },
    {
     "name": "stdout",
     "output_type": "stream",
     "text": [
      "(720, 960, 3)\n",
      "(720, 960, 3)\n",
      "(720, 960, 3)\n"
     ]
    },
    {
     "name": "stderr",
     "output_type": "stream",
     "text": [
      "\r\n",
      " 10%|█         | 9/88 [00:02<00:15,  5.07it/s]"
     ]
    },
    {
     "name": "stdout",
     "output_type": "stream",
     "text": [
      "(720, 960, 3)\n",
      "(720, 960, 3)\n",
      "(720, 960, 3)\n"
     ]
    },
    {
     "name": "stderr",
     "output_type": "stream",
     "text": [
      " 12%|█▎        | 11/88 [00:02<00:14,  5.19it/s]"
     ]
    },
    {
     "name": "stdout",
     "output_type": "stream",
     "text": [
      "(720, 960, 3)\n",
      "(720, 960, 3)\n",
      "(720, 960, 3)\n"
     ]
    },
    {
     "name": "stderr",
     "output_type": "stream",
     "text": [
      "\r\n",
      " 14%|█▎        | 12/88 [00:03<00:14,  5.16it/s]"
     ]
    },
    {
     "name": "stdout",
     "output_type": "stream",
     "text": [
      "(720, 960, 3)\n",
      "(720, 960, 3)\n",
      "(720, 960, 3)\n"
     ]
    },
    {
     "name": "stderr",
     "output_type": "stream",
     "text": [
      " 16%|█▌        | 14/88 [00:03<00:13,  5.32it/s]"
     ]
    },
    {
     "name": "stdout",
     "output_type": "stream",
     "text": [
      "(720, 960, 3)\n",
      "(720, 960, 3)\n",
      "(720, 960, 3)\n"
     ]
    },
    {
     "name": "stderr",
     "output_type": "stream",
     "text": [
      "\r\n",
      " 17%|█▋        | 15/88 [00:03<00:13,  5.50it/s]"
     ]
    },
    {
     "name": "stdout",
     "output_type": "stream",
     "text": [
      "(720, 960, 3)\n",
      "(720, 960, 3)\n",
      "(720, 960, 3)\n"
     ]
    },
    {
     "name": "stderr",
     "output_type": "stream",
     "text": [
      " 19%|█▉        | 17/88 [00:04<00:12,  5.75it/s]"
     ]
    },
    {
     "name": "stdout",
     "output_type": "stream",
     "text": [
      "(720, 960, 3)\n",
      "(720, 960, 3)\n",
      "(720, 960, 3)\n",
      "(720, 960, 3)\n"
     ]
    },
    {
     "name": "stderr",
     "output_type": "stream",
     "text": [
      "\r\n",
      " 20%|██        | 18/88 [00:05<00:35,  1.99it/s]"
     ]
    },
    {
     "name": "stdout",
     "output_type": "stream",
     "text": [
      "(720, 960, 3)\n",
      "(720, 960, 3)\n"
     ]
    },
    {
     "name": "stderr",
     "output_type": "stream",
     "text": [
      "\r\n",
      " 22%|██▏       | 19/88 [00:06<00:52,  1.32it/s]"
     ]
    },
    {
     "name": "stdout",
     "output_type": "stream",
     "text": [
      "(720, 960, 3)\n",
      "(720, 960, 3)\n"
     ]
    },
    {
     "name": "stderr",
     "output_type": "stream",
     "text": [
      "\r\n",
      " 23%|██▎       | 20/88 [00:08<01:03,  1.07it/s]"
     ]
    },
    {
     "name": "stdout",
     "output_type": "stream",
     "text": [
      "(720, 960, 3)\n",
      "(720, 960, 3)\n"
     ]
    },
    {
     "name": "stderr",
     "output_type": "stream",
     "text": [
      "\r\n",
      " 24%|██▍       | 21/88 [00:09<01:08,  1.03s/it]"
     ]
    },
    {
     "name": "stdout",
     "output_type": "stream",
     "text": [
      "(720, 960, 3)\n",
      "(720, 960, 3)\n"
     ]
    },
    {
     "name": "stderr",
     "output_type": "stream",
     "text": [
      "\r\n",
      " 25%|██▌       | 22/88 [00:10<01:12,  1.10s/it]"
     ]
    },
    {
     "name": "stdout",
     "output_type": "stream",
     "text": [
      "(720, 960, 3)\n",
      "(720, 960, 3)\n"
     ]
    },
    {
     "name": "stderr",
     "output_type": "stream",
     "text": [
      "\r\n",
      " 26%|██▌       | 23/88 [00:11<01:13,  1.12s/it]"
     ]
    },
    {
     "name": "stdout",
     "output_type": "stream",
     "text": [
      "(720, 960, 3)\n",
      "(720, 960, 3)\n"
     ]
    },
    {
     "name": "stderr",
     "output_type": "stream",
     "text": [
      "\r\n",
      " 27%|██▋       | 24/88 [00:13<01:15,  1.18s/it]"
     ]
    },
    {
     "name": "stdout",
     "output_type": "stream",
     "text": [
      "(720, 960, 3)\n",
      "(720, 960, 3)\n"
     ]
    },
    {
     "name": "stderr",
     "output_type": "stream",
     "text": [
      "\r\n",
      " 28%|██▊       | 25/88 [00:14<01:15,  1.20s/it]"
     ]
    },
    {
     "name": "stdout",
     "output_type": "stream",
     "text": [
      "(720, 960, 3)\n",
      "(720, 960, 3)\n"
     ]
    },
    {
     "name": "stderr",
     "output_type": "stream",
     "text": [
      "\r\n",
      " 30%|██▉       | 26/88 [00:15<01:16,  1.23s/it]"
     ]
    },
    {
     "name": "stdout",
     "output_type": "stream",
     "text": [
      "(720, 960, 3)\n",
      "(720, 960, 3)\n"
     ]
    },
    {
     "name": "stderr",
     "output_type": "stream",
     "text": [
      "\r\n",
      " 31%|███       | 27/88 [00:16<01:15,  1.24s/it]"
     ]
    },
    {
     "name": "stdout",
     "output_type": "stream",
     "text": [
      "(720, 960, 3)\n",
      "(720, 960, 3)\n"
     ]
    },
    {
     "name": "stderr",
     "output_type": "stream",
     "text": [
      "\r\n",
      " 32%|███▏      | 28/88 [00:18<01:14,  1.24s/it]"
     ]
    },
    {
     "name": "stdout",
     "output_type": "stream",
     "text": [
      "(720, 960, 3)\n",
      "(720, 960, 3)\n"
     ]
    },
    {
     "name": "stderr",
     "output_type": "stream",
     "text": [
      "\r\n",
      " 33%|███▎      | 29/88 [00:19<01:11,  1.21s/it]"
     ]
    },
    {
     "name": "stdout",
     "output_type": "stream",
     "text": [
      "(720, 960, 3)\n",
      "(720, 960, 3)\n"
     ]
    },
    {
     "name": "stderr",
     "output_type": "stream",
     "text": [
      "\r\n",
      " 34%|███▍      | 30/88 [00:20<01:10,  1.21s/it]"
     ]
    },
    {
     "name": "stdout",
     "output_type": "stream",
     "text": [
      "(720, 960, 3)\n",
      "(720, 960, 3)\n"
     ]
    },
    {
     "name": "stderr",
     "output_type": "stream",
     "text": [
      "\r\n",
      " 35%|███▌      | 31/88 [00:21<01:09,  1.22s/it]"
     ]
    },
    {
     "name": "stdout",
     "output_type": "stream",
     "text": [
      "(720, 960, 3)\n",
      "(720, 960, 3)\n"
     ]
    },
    {
     "name": "stderr",
     "output_type": "stream",
     "text": [
      "\r\n",
      " 36%|███▋      | 32/88 [00:22<01:07,  1.21s/it]"
     ]
    },
    {
     "name": "stdout",
     "output_type": "stream",
     "text": [
      "(720, 960, 3)\n",
      "(720, 960, 3)\n"
     ]
    },
    {
     "name": "stderr",
     "output_type": "stream",
     "text": [
      "\r\n",
      " 38%|███▊      | 33/88 [00:24<01:07,  1.23s/it]"
     ]
    },
    {
     "name": "stdout",
     "output_type": "stream",
     "text": [
      "(720, 960, 3)\n",
      "(720, 960, 3)\n"
     ]
    },
    {
     "name": "stderr",
     "output_type": "stream",
     "text": [
      "\r\n",
      " 39%|███▊      | 34/88 [00:25<01:07,  1.24s/it]"
     ]
    },
    {
     "name": "stdout",
     "output_type": "stream",
     "text": [
      "(720, 960, 3)\n",
      "(720, 960, 3)\n"
     ]
    },
    {
     "name": "stderr",
     "output_type": "stream",
     "text": [
      "\r\n",
      " 40%|███▉      | 35/88 [00:26<01:05,  1.24s/it]"
     ]
    },
    {
     "name": "stdout",
     "output_type": "stream",
     "text": [
      "(720, 960, 3)\n",
      "(720, 960, 3)\n"
     ]
    },
    {
     "name": "stderr",
     "output_type": "stream",
     "text": [
      "\r\n",
      " 41%|████      | 36/88 [00:27<01:03,  1.22s/it]"
     ]
    },
    {
     "name": "stdout",
     "output_type": "stream",
     "text": [
      "(720, 960, 3)\n",
      "(720, 960, 3)\n"
     ]
    },
    {
     "name": "stderr",
     "output_type": "stream",
     "text": [
      "\r\n",
      " 42%|████▏     | 37/88 [00:28<01:01,  1.20s/it]"
     ]
    },
    {
     "name": "stdout",
     "output_type": "stream",
     "text": [
      "(720, 960, 3)\n",
      "(720, 960, 3)\n"
     ]
    },
    {
     "name": "stderr",
     "output_type": "stream",
     "text": [
      "\r\n",
      " 43%|████▎     | 38/88 [00:30<01:00,  1.22s/it]"
     ]
    },
    {
     "name": "stdout",
     "output_type": "stream",
     "text": [
      "(720, 960, 3)\n",
      "(720, 960, 3)\n"
     ]
    },
    {
     "name": "stderr",
     "output_type": "stream",
     "text": [
      "\r\n",
      " 44%|████▍     | 39/88 [00:31<00:59,  1.22s/it]"
     ]
    },
    {
     "name": "stdout",
     "output_type": "stream",
     "text": [
      "(720, 960, 3)\n",
      "(720, 960, 3)\n"
     ]
    },
    {
     "name": "stderr",
     "output_type": "stream",
     "text": [
      "\r\n",
      " 45%|████▌     | 40/88 [00:32<00:59,  1.24s/it]"
     ]
    },
    {
     "name": "stdout",
     "output_type": "stream",
     "text": [
      "(720, 960, 3)\n",
      "(720, 960, 3)\n"
     ]
    },
    {
     "name": "stderr",
     "output_type": "stream",
     "text": [
      "\r\n",
      " 47%|████▋     | 41/88 [00:34<00:58,  1.25s/it]"
     ]
    },
    {
     "name": "stdout",
     "output_type": "stream",
     "text": [
      "(720, 960, 3)\n",
      "(720, 960, 3)\n"
     ]
    },
    {
     "name": "stderr",
     "output_type": "stream",
     "text": [
      "\r\n",
      " 48%|████▊     | 42/88 [00:35<00:57,  1.26s/it]"
     ]
    },
    {
     "name": "stdout",
     "output_type": "stream",
     "text": [
      "(720, 960, 3)\n",
      "(720, 960, 3)\n"
     ]
    },
    {
     "name": "stderr",
     "output_type": "stream",
     "text": [
      "\r\n",
      " 49%|████▉     | 43/88 [00:36<00:57,  1.28s/it]"
     ]
    },
    {
     "name": "stdout",
     "output_type": "stream",
     "text": [
      "(720, 960, 3)\n",
      "(720, 960, 3)\n"
     ]
    },
    {
     "name": "stderr",
     "output_type": "stream",
     "text": [
      "\r\n",
      " 50%|█████     | 44/88 [00:37<00:56,  1.28s/it]"
     ]
    },
    {
     "name": "stdout",
     "output_type": "stream",
     "text": [
      "(720, 960, 3)\n",
      "(720, 960, 3)\n"
     ]
    },
    {
     "name": "stderr",
     "output_type": "stream",
     "text": [
      "\r\n",
      " 51%|█████     | 45/88 [00:38<00:51,  1.20s/it]"
     ]
    },
    {
     "name": "stdout",
     "output_type": "stream",
     "text": [
      "(720, 960, 3)\n",
      "(720, 960, 3)\n"
     ]
    },
    {
     "name": "stderr",
     "output_type": "stream",
     "text": [
      "\r\n",
      " 52%|█████▏    | 46/88 [00:39<00:47,  1.13s/it]"
     ]
    },
    {
     "name": "stdout",
     "output_type": "stream",
     "text": [
      "(720, 960, 3)\n",
      "(720, 960, 3)\n"
     ]
    },
    {
     "name": "stderr",
     "output_type": "stream",
     "text": [
      "\r\n",
      " 53%|█████▎    | 47/88 [00:40<00:43,  1.07s/it]"
     ]
    },
    {
     "name": "stdout",
     "output_type": "stream",
     "text": [
      "(720, 960, 3)\n",
      "(720, 960, 3)\n"
     ]
    },
    {
     "name": "stderr",
     "output_type": "stream",
     "text": [
      "\r\n",
      " 55%|█████▍    | 48/88 [00:41<00:41,  1.03s/it]"
     ]
    },
    {
     "name": "stdout",
     "output_type": "stream",
     "text": [
      "(720, 960, 3)\n",
      "(720, 960, 3)\n"
     ]
    },
    {
     "name": "stderr",
     "output_type": "stream",
     "text": [
      "\r\n",
      " 56%|█████▌    | 49/88 [00:42<00:38,  1.01it/s]"
     ]
    },
    {
     "name": "stdout",
     "output_type": "stream",
     "text": [
      "(720, 960, 3)\n",
      "(720, 960, 3)\n"
     ]
    },
    {
     "name": "stderr",
     "output_type": "stream",
     "text": [
      "\r\n",
      " 57%|█████▋    | 50/88 [00:43<00:37,  1.03it/s]"
     ]
    },
    {
     "name": "stdout",
     "output_type": "stream",
     "text": [
      "(720, 960, 3)\n",
      "(720, 960, 3)\n"
     ]
    },
    {
     "name": "stderr",
     "output_type": "stream",
     "text": [
      "\r\n",
      " 58%|█████▊    | 51/88 [00:44<00:35,  1.05it/s]"
     ]
    },
    {
     "name": "stdout",
     "output_type": "stream",
     "text": [
      "(720, 960, 3)\n",
      "(720, 960, 3)\n"
     ]
    },
    {
     "name": "stderr",
     "output_type": "stream",
     "text": [
      "\r\n",
      " 59%|█████▉    | 52/88 [00:45<00:33,  1.06it/s]"
     ]
    },
    {
     "name": "stdout",
     "output_type": "stream",
     "text": [
      "(720, 960, 3)\n",
      "(720, 960, 3)\n"
     ]
    },
    {
     "name": "stderr",
     "output_type": "stream",
     "text": [
      "\r\n",
      " 60%|██████    | 53/88 [00:46<00:33,  1.04it/s]"
     ]
    },
    {
     "name": "stdout",
     "output_type": "stream",
     "text": [
      "(720, 960, 3)\n",
      "(720, 960, 3)\n"
     ]
    },
    {
     "name": "stderr",
     "output_type": "stream",
     "text": [
      "\r\n",
      " 61%|██████▏   | 54/88 [00:47<00:33,  1.03it/s]"
     ]
    },
    {
     "name": "stdout",
     "output_type": "stream",
     "text": [
      "(720, 960, 3)\n",
      "(720, 960, 3)\n"
     ]
    },
    {
     "name": "stderr",
     "output_type": "stream",
     "text": [
      "\r\n",
      " 62%|██████▎   | 55/88 [00:48<00:32,  1.01it/s]"
     ]
    },
    {
     "name": "stdout",
     "output_type": "stream",
     "text": [
      "(720, 960, 3)\n",
      "(720, 960, 3)\n"
     ]
    },
    {
     "name": "stderr",
     "output_type": "stream",
     "text": [
      "\r\n",
      " 64%|██████▎   | 56/88 [00:49<00:31,  1.03it/s]"
     ]
    },
    {
     "name": "stdout",
     "output_type": "stream",
     "text": [
      "(720, 960, 3)\n",
      "(720, 960, 3)\n"
     ]
    },
    {
     "name": "stderr",
     "output_type": "stream",
     "text": [
      "\r\n",
      " 65%|██████▍   | 57/88 [00:50<00:30,  1.03it/s]"
     ]
    },
    {
     "name": "stdout",
     "output_type": "stream",
     "text": [
      "(720, 960, 3)\n",
      "(720, 960, 3)\n"
     ]
    },
    {
     "name": "stderr",
     "output_type": "stream",
     "text": [
      "\r\n",
      " 66%|██████▌   | 58/88 [00:51<00:29,  1.03it/s]"
     ]
    },
    {
     "name": "stdout",
     "output_type": "stream",
     "text": [
      "(720, 960, 3)\n",
      "(720, 960, 3)\n"
     ]
    },
    {
     "name": "stderr",
     "output_type": "stream",
     "text": [
      "\r\n",
      " 67%|██████▋   | 59/88 [00:52<00:27,  1.06it/s]"
     ]
    },
    {
     "name": "stdout",
     "output_type": "stream",
     "text": [
      "(720, 960, 3)\n",
      "(720, 960, 3)\n"
     ]
    },
    {
     "name": "stderr",
     "output_type": "stream",
     "text": [
      "\r\n",
      " 68%|██████▊   | 60/88 [00:53<00:26,  1.06it/s]"
     ]
    },
    {
     "name": "stdout",
     "output_type": "stream",
     "text": [
      "(720, 960, 3)\n",
      "(720, 960, 3)\n"
     ]
    },
    {
     "name": "stderr",
     "output_type": "stream",
     "text": [
      "\r\n",
      " 69%|██████▉   | 61/88 [00:54<00:25,  1.05it/s]"
     ]
    },
    {
     "name": "stdout",
     "output_type": "stream",
     "text": [
      "(720, 960, 3)\n",
      "(720, 960, 3)\n"
     ]
    },
    {
     "name": "stderr",
     "output_type": "stream",
     "text": [
      "\r\n",
      " 70%|███████   | 62/88 [00:55<00:24,  1.04it/s]"
     ]
    },
    {
     "name": "stdout",
     "output_type": "stream",
     "text": [
      "(720, 960, 3)\n",
      "(720, 960, 3)\n"
     ]
    },
    {
     "name": "stderr",
     "output_type": "stream",
     "text": [
      "\r\n",
      " 72%|███████▏  | 63/88 [00:56<00:24,  1.04it/s]"
     ]
    },
    {
     "name": "stdout",
     "output_type": "stream",
     "text": [
      "(720, 960, 3)\n",
      "(720, 960, 3)\n"
     ]
    },
    {
     "name": "stderr",
     "output_type": "stream",
     "text": [
      "\r\n",
      " 73%|███████▎  | 64/88 [00:56<00:22,  1.07it/s]"
     ]
    },
    {
     "name": "stdout",
     "output_type": "stream",
     "text": [
      "(720, 960, 3)\n",
      "(720, 960, 3)\n"
     ]
    },
    {
     "name": "stderr",
     "output_type": "stream",
     "text": [
      "\r\n",
      " 74%|███████▍  | 65/88 [00:57<00:21,  1.08it/s]"
     ]
    },
    {
     "name": "stdout",
     "output_type": "stream",
     "text": [
      "(720, 960, 3)\n",
      "(720, 960, 3)\n"
     ]
    },
    {
     "name": "stderr",
     "output_type": "stream",
     "text": [
      "\r\n",
      " 75%|███████▌  | 66/88 [00:58<00:20,  1.06it/s]"
     ]
    },
    {
     "name": "stdout",
     "output_type": "stream",
     "text": [
      "(720, 960, 3)\n",
      "(720, 960, 3)\n"
     ]
    },
    {
     "name": "stderr",
     "output_type": "stream",
     "text": [
      "\r\n",
      " 76%|███████▌  | 67/88 [00:59<00:19,  1.06it/s]"
     ]
    },
    {
     "name": "stdout",
     "output_type": "stream",
     "text": [
      "(720, 960, 3)\n",
      "(720, 960, 3)\n"
     ]
    },
    {
     "name": "stderr",
     "output_type": "stream",
     "text": [
      " 78%|███████▊  | 69/88 [01:00<00:13,  1.43it/s]"
     ]
    },
    {
     "name": "stdout",
     "output_type": "stream",
     "text": [
      "(720, 960, 3)\n",
      "(720, 960, 3)\n",
      "(720, 960, 3)\n"
     ]
    },
    {
     "name": "stderr",
     "output_type": "stream",
     "text": [
      "\r\n",
      " 80%|███████▉  | 70/88 [01:00<00:09,  1.82it/s]"
     ]
    },
    {
     "name": "stdout",
     "output_type": "stream",
     "text": [
      "(720, 960, 3)\n",
      "(720, 960, 3)\n",
      "(720, 960, 3)\n"
     ]
    },
    {
     "name": "stderr",
     "output_type": "stream",
     "text": [
      "\r\n",
      " 81%|████████  | 71/88 [01:01<00:07,  2.27it/s]"
     ]
    },
    {
     "name": "stdout",
     "output_type": "stream",
     "text": [
      "(720, 960, 3)\n",
      "(720, 960, 3)\n"
     ]
    },
    {
     "name": "stderr",
     "output_type": "stream",
     "text": [
      "\r\n",
      " 82%|████████▏ | 72/88 [01:02<00:09,  1.61it/s]"
     ]
    },
    {
     "name": "stdout",
     "output_type": "stream",
     "text": [
      "(720, 960, 3)\n",
      "(720, 960, 3)\n"
     ]
    },
    {
     "name": "stderr",
     "output_type": "stream",
     "text": [
      "\r\n",
      " 83%|████████▎ | 73/88 [01:03<00:11,  1.35it/s]"
     ]
    },
    {
     "name": "stdout",
     "output_type": "stream",
     "text": [
      "(720, 960, 3)\n",
      "(720, 960, 3)\n"
     ]
    },
    {
     "name": "stderr",
     "output_type": "stream",
     "text": [
      "\r\n",
      " 84%|████████▍ | 74/88 [01:04<00:11,  1.19it/s]"
     ]
    },
    {
     "name": "stdout",
     "output_type": "stream",
     "text": [
      "(720, 960, 3)\n",
      "(720, 960, 3)\n"
     ]
    },
    {
     "name": "stderr",
     "output_type": "stream",
     "text": [
      "\r\n",
      " 85%|████████▌ | 75/88 [01:05<00:11,  1.10it/s]"
     ]
    },
    {
     "name": "stdout",
     "output_type": "stream",
     "text": [
      "(720, 960, 3)\n",
      "(720, 960, 3)\n"
     ]
    },
    {
     "name": "stderr",
     "output_type": "stream",
     "text": [
      " 89%|████████▊ | 78/88 [01:06<00:05,  1.91it/s]"
     ]
    },
    {
     "name": "stdout",
     "output_type": "stream",
     "text": [
      "(720, 960, 3)\n",
      "(720, 960, 3)\n",
      "(720, 960, 3)\n",
      "(720, 960, 3)\n",
      "(720, 960, 3)\n"
     ]
    },
    {
     "name": "stderr",
     "output_type": "stream",
     "text": [
      "\r\n",
      " 90%|████████▉ | 79/88 [01:06<00:03,  2.31it/s]"
     ]
    },
    {
     "name": "stdout",
     "output_type": "stream",
     "text": [
      "(720, 960, 3)\n",
      "(720, 960, 3)\n",
      "(720, 960, 3)\n"
     ]
    },
    {
     "name": "stderr",
     "output_type": "stream",
     "text": [
      " 92%|█████████▏| 81/88 [01:06<00:02,  3.27it/s]"
     ]
    },
    {
     "name": "stdout",
     "output_type": "stream",
     "text": [
      "(720, 960, 3)\n",
      "(720, 960, 3)\n",
      "(720, 960, 3)\n"
     ]
    },
    {
     "name": "stderr",
     "output_type": "stream",
     "text": [
      "\r\n",
      " 93%|█████████▎| 82/88 [01:07<00:01,  3.73it/s]"
     ]
    },
    {
     "name": "stdout",
     "output_type": "stream",
     "text": [
      "(720, 960, 3)\n",
      "(720, 960, 3)\n",
      "(720, 960, 3)\n"
     ]
    },
    {
     "name": "stderr",
     "output_type": "stream",
     "text": [
      " 95%|█████████▌| 84/88 [01:07<00:00,  4.61it/s]"
     ]
    },
    {
     "name": "stdout",
     "output_type": "stream",
     "text": [
      "(720, 960, 3)\n",
      "(720, 960, 3)\n",
      "(720, 960, 3)\n"
     ]
    },
    {
     "name": "stderr",
     "output_type": "stream",
     "text": [
      "\r\n",
      " 97%|█████████▋| 85/88 [01:07<00:00,  4.96it/s]"
     ]
    },
    {
     "name": "stdout",
     "output_type": "stream",
     "text": [
      "(720, 960, 3)\n",
      "(720, 960, 3)\n",
      "(720, 960, 3)\n"
     ]
    },
    {
     "name": "stderr",
     "output_type": "stream",
     "text": [
      " 99%|█████████▉| 87/88 [01:07<00:00,  5.45it/s]"
     ]
    },
    {
     "name": "stdout",
     "output_type": "stream",
     "text": [
      "(720, 960, 3)\n",
      "(720, 960, 3)\n",
      "(720, 960, 3)\n"
     ]
    },
    {
     "name": "stderr",
     "output_type": "stream",
     "text": [
      "100%|██████████| 88/88 [01:08<00:00,  1.29it/s]"
     ]
    },
    {
     "name": "stdout",
     "output_type": "stream",
     "text": [
      "(720, 960, 3)\n"
     ]
    },
    {
     "name": "stderr",
     "output_type": "stream",
     "text": [
      "\n"
     ]
    }
   ],
   "source": [
    "iou_scores, iou_scores_resized = test_lanyard_re(weight_path, classes, orig_features_folder, orig_labels_folder)"
   ]
  },
  {
   "cell_type": "code",
   "execution_count": 41,
   "metadata": {},
   "outputs": [
    {
     "name": "stdout",
     "output_type": "stream",
     "text": [
      "0.6401528895968626\n",
      "0.5306393487448907\n"
     ]
    }
   ],
   "source": [
    "# test on train set\n",
    "print(iou_scores)\n",
    "print(iou_scores_resized)"
   ]
  },
  {
   "cell_type": "code",
   "execution_count": null,
   "metadata": {},
   "outputs": [],
   "source": []
  }
 ],
 "metadata": {
  "accelerator": "GPU",
  "colab": {
   "collapsed_sections": [],
   "name": "20210930EDAnet.ipynb",
   "provenance": [],
   "toc_visible": true
  },
  "kernelspec": {
   "display_name": "Python 3",
   "language": "python",
   "name": "python3"
  },
  "language_info": {
   "codemirror_mode": {
    "name": "ipython",
    "version": 3
   },
   "file_extension": ".py",
   "mimetype": "text/x-python",
   "name": "python",
   "nbconvert_exporter": "python",
   "pygments_lexer": "ipython3",
   "version": "3.6.13"
  }
 },
 "nbformat": 4,
 "nbformat_minor": 1
}
