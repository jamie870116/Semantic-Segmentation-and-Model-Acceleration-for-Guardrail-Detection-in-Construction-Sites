{
 "cells": [
  {
   "cell_type": "markdown",
   "id": "b5405068",
   "metadata": {},
   "source": [
    "# Import"
   ]
  },
  {
   "cell_type": "code",
   "execution_count": 1,
   "id": "7e7e52ed",
   "metadata": {},
   "outputs": [],
   "source": [
    "import torch\n",
    "import torch.nn as nn\n",
    "import torch.nn.functional as F\n",
    "from torch.autograd import Variable\n",
    "import torch.utils.model_zoo as model_zoo\n",
    "import numpy as np\n",
    "from PIL import Image\n",
    "from torch.utils import data\n",
    "from torchvision import transforms, utils\n",
    "from torch.utils.data import Dataset, DataLoader\n",
    "import matplotlib.pyplot as plt\n",
    "import torchvision\n",
    "import random\n",
    "import torch.optim as opt\n",
    "from tqdm import tqdm\n",
    "import time\n",
    "\n",
    "import os\n",
    "from torchsummary import summary\n",
    "import cv2\n",
    "from sklearn.model_selection import train_test_split\n",
    "\n",
    "import copy\n",
    "from collections import defaultdict\n",
    "\n",
    "import re\n",
    "import math"
   ]
  },
  {
   "cell_type": "markdown",
   "id": "0b38d758",
   "metadata": {},
   "source": [
    "# Helper"
   ]
  },
  {
   "cell_type": "code",
   "execution_count": 2,
   "id": "84cc593c",
   "metadata": {},
   "outputs": [],
   "source": [
    "def read_images(root_path): \n",
    "  \"\"\" \n",
    "    Args : directory path\n",
    "    Return : list with file path\n",
    "  \"\"\"\n",
    "\n",
    "  for root, dirs, files in os.walk(root_path):\n",
    "    print(\"path：\", root)\n",
    "    print(\"directory：\", dirs)\n",
    "    print(\"file：\", files)\n",
    "    \n",
    "  org_imgs = [(root + \"/\" + file_name) for file_name in tqdm(files)]\n",
    "  org_imgs.sort()\n",
    "  print(\"Read \",len(org_imgs), \" files\")\n",
    "  return org_imgs\n",
    "\n",
    "def make_cm2lbl():\n",
    "\n",
    "  colormap = [[0,0,0], [0,0,128], [0,128,128], [128,0,0], [0,128,0]] # background, grider, net, lanyard, guardrail \n",
    "\n",
    "  cm2lbl = np.zeros(256**3) # for each pixel 0~255 , channel = 3(RGB)\n",
    "  for i,cm in enumerate(colormap):\n",
    "      cm2lbl[(cm[0]*256+cm[1])*256+cm[2]] = i\n",
    "      # print(i)\n",
    "      # print((cm[0]*256+cm[1])*256+cm[2]\n",
    "  return cm2lbl\n",
    "\n",
    "\n",
    "def image2label(img, cm2lbl):\n",
    "  data = np.array(img, dtype='int32')\n",
    "  idx = (data[:, :, 0] * 256 + data[:, :, 1]) * 256 + data[:, :, 2]\n",
    "  # print(np.unique(idx))\n",
    "  # print(cm2lbl[idx])\n",
    "  result = np.array(cm2lbl[idx], dtype='int64')  \n",
    "  return result[:,:,None]\n",
    "\n",
    "# helper function for data visualization\n",
    "def visualize(**images):\n",
    "  \"\"\"PLot images in one row.\"\"\"\n",
    "  n = len(images)\n",
    "  plt.figure(figsize=(16, 5))\n",
    "  for i, (name, image) in enumerate(images.items()):\n",
    "    plt.subplot(1, n, i + 1)\n",
    "    plt.xticks([])\n",
    "    plt.yticks([])\n",
    "    plt.title(' '.join(name.split('_')).title())\n",
    "    plt.imshow(image)\n",
    "  plt.show()\n",
    "\n",
    "def print_network(net):\n",
    "  num_params = 0\n",
    "  for param in net.parameters():\n",
    "    num_params += param.numel()\n",
    "  print(net)\n",
    "  print('Total number of parameters: %d' % num_params)"
   ]
  },
  {
   "cell_type": "markdown",
   "id": "2d2e5443",
   "metadata": {},
   "source": [
    "# Dataset"
   ]
  },
  {
   "cell_type": "code",
   "execution_count": 3,
   "id": "2946b1cd",
   "metadata": {},
   "outputs": [],
   "source": [
    "train_features_folder = \"/home/user/Desktop/lanyard_segmentation/guardrail/train_data/features_cropped\"\n",
    "train_labels_folder = \"/home/user/Desktop/lanyard_segmentation/guardrail/train_data/labels_cropped\""
   ]
  },
  {
   "cell_type": "code",
   "execution_count": 4,
   "id": "a61826c9",
   "metadata": {},
   "outputs": [],
   "source": [
    "# transformer\n",
    "transform = transforms.Compose([\n",
    "    transforms.RandomHorizontalFlip(p=0.9),\n",
    "    transforms.RandomAffine(degrees=0, translate=(0.005, 0.0025)),\n",
    "])\n",
    "transform_toTensor = transforms.Compose([\n",
    "    transforms.ToTensor()\n",
    "])"
   ]
  },
  {
   "cell_type": "code",
   "execution_count": 5,
   "id": "4d0f5df2",
   "metadata": {},
   "outputs": [],
   "source": [
    "class IS_Dataset(Dataset):\n",
    "  CLASSES = ['background', 'girder', 'net', 'lanyard', 'guardrail']\n",
    "  def __init__(self, data_list, label_list, classes, cm2lbl, transform=None, transform_toTensor=None, resize_size=(256, 256)):\n",
    "\n",
    "    self.data_list = data_list\n",
    "    self.label_list = label_list\n",
    "    self.transform = transform\n",
    "    self.transform_toTensor = transform_toTensor\n",
    "    self.cm2lbl = cm2lbl\n",
    "    self.resize_size = resize_size\n",
    "    # convert str names to class values on masks\n",
    "    self.class_values = [self.CLASSES.index(cls.lower()) for cls in classes]\n",
    "    print('Read ' + str(len(self.data_list)) + ' images')\n",
    "    \n",
    "  def __getitem__(self, index):\n",
    "    # read data\n",
    "    image = cv2.imread(self.data_list[index])\n",
    "    image = cv2.cvtColor(image, cv2.COLOR_BGR2RGB)\n",
    "    image = cv2.resize(image, self.resize_size, interpolation=cv2.INTER_AREA)\n",
    "        \n",
    "    mask = cv2.imread(self.label_list[index])\n",
    "    mask = cv2.resize(mask, self.resize_size, interpolation=cv2.INTER_NEAREST)\n",
    "\n",
    "    # apply data augmentations\n",
    "    if self.transform:\n",
    "      # ndarray to PIL image\n",
    "      image = Image.fromarray(image)\n",
    "      mask = Image.fromarray(mask)\n",
    "      # apply the transforms\n",
    "      image = self.transform(image)\n",
    "      mask = self.transform(mask)\n",
    "\n",
    "    mask = image2label(mask, self.cm2lbl)\n",
    "    mask = mask.squeeze()\n",
    "    # print(np.unique(mask))\n",
    "    # print(mask.shape)\n",
    "\n",
    "    masks = [(mask == v) for v in self.class_values]\n",
    "    mask = np.stack(masks, axis=-1).astype('float')\n",
    "\n",
    "    if self.transform_toTensor:\n",
    "      image = self.transform_toTensor(image)\n",
    "      mask = self.transform_toTensor(mask)\n",
    "\n",
    "    return image, mask\n",
    "    \n",
    "  def __len__(self):\n",
    "    return len(self.data_list)"
   ]
  },
  {
   "cell_type": "code",
   "execution_count": 85,
   "id": "e4b17b4a",
   "metadata": {},
   "outputs": [
    {
     "name": "stdout",
     "output_type": "stream",
     "text": [
      "path： /home/user/Desktop/lanyard_segmentation/guardrail/train_data/features_cropped\n",
      "directory： []\n",
      "file： ['0001_4.png', '0079_7.png', '0048_9.png', '0087_7.png', '0010_10.png', '0047_9.png', '0042_1.png', '0051_7.png', '0060_6.png', '0039_7.png', '0002_8.png', '0028_8.png', '0011_10.png', '0024_1.png', '0013_6.png', '0058_3.png', '0017_9.png', '0065_10.png', '0046_5.png', '0026_5.png', '0056_9.png', '0043_10.png', '0036_1.png', '0032_7.png', '0057_1.png', '0074_6.png', '0025_8.png', '0020_2.png', '0079_6.png', '0064_4.png', '0047_1.png', '0066_4.png', '0080_5.png', '0071_9.png', '0065_9.png', '0051_8.png', '0031_6.png', '0044_9.png', '0020_7.png', '0019_6.png', '0016_4.png', '0017_10.png', '0059_9.png', '0015_4.png', '0045_9.png', '0051_4.png', '0029_9.png', '0082_10.png', '0030_8.png', '0023_2.png', '0079_9.png', '0019_3.png', '0013_4.png', '0002_3.png', '0047_6.png', '0002_1.png', '0057_7.png', '0040_3.png', '0010_1.png', '0012_4.png', '0079_4.png', '0050_8.png', '0067_7.png', '0006_5.png', '0040_9.png', '0005_9.png', '0013_3.png', '0025_3.png', '0054_2.png', '0024_8.png', '0029_6.png', '0023_9.png', '0065_1.png', '0040_1.png', '0032_5.png', '0018_6.png', '0036_8.png', '0046_9.png', '0005_5.png', '0026_1.png', '0011_8.png', '0061_3.png', '0052_8.png', '0087_2.png', '0046_1.png', '0001_6.png', '0003_4.png', '0065_4.png', '0087_6.png', '0041_2.png', '0032_1.png', '0034_7.png', '0070_3.png', '0068_10.png', '0032_3.png', '0068_7.png', '0063_1.png', '0011_6.png', '0048_4.png', '0046_6.png', '0076_6.png', '0056_1.png', '0066_7.png', '0052_3.png', '0010_2.png', '0021_10.png', '0026_8.png', '0080_3.png', '0063_7.png', '0014_8.png', '0088_6.png', '0034_3.png', '0069_5.png', '0042_8.png', '0049_6.png', '0038_5.png', '0048_5.png', '0029_1.png', '0030_10.png', '0006_6.png', '0051_9.png', '0082_3.png', '0019_2.png', '0005_1.png', '0015_5.png', '0053_7.png', '0004_6.png', '0013_5.png', '0036_2.png', '0059_3.png', '0040_6.png', '0058_6.png', '0054_7.png', '0048_7.png', '0006_1.png', '0002_5.png', '0060_9.png', '0028_2.png', '0039_9.png', '0074_9.png', '0025_2.png', '0023_3.png', '0033_9.png', '0071_10.png', '0018_1.png', '0076_10.png', '0088_9.png', '0080_2.png', '0073_6.png', '0038_7.png', '0003_10.png', '0063_5.png', '0003_3.png', '0014_4.png', '0006_4.png', '0051_2.png', '0054_6.png', '0076_3.png', '0073_9.png', '0018_4.png', '0082_6.png', '0060_2.png', '0080_4.png', '0029_3.png', '0028_9.png', '0065_3.png', '0068_3.png', '0037_7.png', '0013_9.png', '0056_7.png', '0017_6.png', '0068_4.png', '0020_10.png', '0049_5.png', '0067_3.png', '0040_4.png', '0073_4.png', '0007_8.png', '0085_3.png', '0046_2.png', '0056_10.png', '0057_2.png', '0019_9.png', '0037_8.png', '0043_5.png', '0055_3.png', '0014_7.png', '0029_8.png', '0014_1.png', '0063_6.png', '0085_9.png', '0045_1.png', '0067_1.png', '0002_9.png', '0038_4.png', '0034_6.png', '0068_9.png', '0079_2.png', '0024_5.png', '0062_2.png', '0055_4.png', '0003_9.png', '0014_2.png', '0030_4.png', '0001_8.png', '0041_5.png', '0051_5.png', '0012_5.png', '0069_3.png', '0005_7.png', '0071_7.png', '0012_10.png', '0019_10.png', '0074_2.png', '0064_1.png', '0073_2.png', '0047_8.png', '0006_9.png', '0028_3.png', '0020_3.png', '0008_9.png', '0036_4.png', '0074_10.png', '0060_7.png', '0009_7.png', '0045_8.png', '0023_4.png', '0068_8.png', '0058_2.png', '0033_10.png', '0053_5.png', '0038_2.png', '0007_4.png', '0011_3.png', '0065_8.png', '0049_9.png', '0067_2.png', '0031_5.png', '0007_2.png', '0038_9.png', '0048_1.png', '0067_10.png', '0015_8.png', '0071_2.png', '0004_2.png', '0016_2.png', '0019_4.png', '0082_8.png', '0032_10.png', '0028_7.png', '0055_2.png', '0057_9.png', '0059_10.png', '0062_9.png', '0035_5.png', '0003_1.png', '0011_5.png', '0017_7.png', '0042_7.png', '0070_4.png', '0005_3.png', '0009_1.png', '0061_2.png', '0005_2.png', '0012_2.png', '0054_9.png', '0057_5.png', '0049_4.png', '0014_6.png', '0045_3.png', '0005_8.png', '0040_7.png', '0063_10.png', '0085_1.png', '0040_10.png', '0052_6.png', '0054_1.png', '0022_10.png', '0041_10.png', '0028_4.png', '0074_8.png', '0065_2.png', '0076_9.png', '0061_8.png', '0087_8.png', '0017_3.png', '0042_3.png', '0061_9.png', '0004_10.png', '0052_2.png', '0041_7.png', '0055_8.png', '0024_4.png', '0015_9.png', '0074_4.png', '0064_10.png', '0042_5.png', '0041_4.png', '0058_1.png', '0024_9.png', '0043_4.png', '0085_10.png', '0044_2.png', '0031_8.png', '0011_2.png', '0030_2.png', '0054_3.png', '0076_5.png', '0007_3.png', '0026_4.png', '0059_5.png', '0062_4.png', '0056_5.png', '0016_6.png', '0013_2.png', '0044_1.png', '0009_10.png', '0017_1.png', '0026_7.png', '0067_4.png', '0070_7.png', '0064_3.png', '0068_6.png', '0017_4.png', '0074_3.png', '0009_9.png', '0016_8.png', '0013_10.png', '0029_5.png', '0082_1.png', '0039_10.png', '0087_9.png', '0019_7.png', '0057_3.png', '0043_1.png', '0080_8.png', '0074_1.png', '0008_4.png', '0021_4.png', '0023_6.png', '0056_3.png', '0030_1.png', '0063_3.png', '0039_5.png', '0041_6.png', '0074_7.png', '0015_1.png', '0085_5.png', '0066_2.png', '0088_8.png', '0010_9.png', '0059_4.png', '0039_4.png', '0082_2.png', '0036_6.png', '0002_6.png', '0062_8.png', '0020_8.png', '0062_5.png', '0015_7.png', '0036_9.png', '0062_1.png', '0074_5.png', '0040_2.png', '0054_8.png', '0022_3.png', '0005_6.png', '0037_10.png', '0035_8.png', '0066_3.png', '0059_2.png', '0021_9.png', '0040_8.png', '0012_8.png', '0045_4.png', '0042_9.png', '0051_1.png', '0064_5.png', '0034_9.png', '0025_6.png', '0063_4.png', '0082_7.png', '0055_9.png', '0070_10.png', '0016_5.png', '0020_1.png', '0087_1.png', '0015_10.png', '0003_5.png', '0035_1.png', '0073_8.png', '0049_3.png', '0008_5.png', '0033_8.png', '0016_3.png', '0049_10.png', '0073_3.png', '0045_10.png', '0037_2.png', '0002_2.png', '0062_3.png', '0061_4.png', '0024_6.png', '0039_3.png', '0061_6.png', '0007_6.png', '0058_4.png', '0056_8.png', '0032_8.png', '0047_4.png', '0059_6.png', '0053_6.png', '0019_1.png', '0001_2.png', '0001_1.png', '0044_10.png', '0043_2.png', '0060_1.png', '0055_10.png', '0061_5.png', '0027_7.png', '0037_6.png', '0082_4.png', '0088_4.png', '0041_8.png', '0046_4.png', '0085_6.png', '0008_10.png', '0027_5.png', '0067_9.png', '0017_2.png', '0065_6.png', '0004_9.png', '0080_7.png', '0085_8.png', '0051_6.png', '0053_4.png', '0058_7.png', '0064_9.png', '0073_7.png', '0050_3.png', '0043_8.png', '0069_1.png', '0030_5.png', '0006_7.png', '0058_9.png', '0068_1.png', '0010_3.png', '0024_3.png', '0013_8.png', '0020_9.png', '0013_1.png', '0025_4.png', '0038_1.png', '0016_7.png', '0035_10.png', '0026_9.png', '0058_10.png', '0019_5.png', '0011_7.png', '0049_8.png', '0053_2.png', '0018_10.png', '0003_7.png', '0015_6.png', '0007_9.png', '0064_8.png', '0027_8.png', '0057_10.png', '0024_7.png', '0024_10.png', '0030_6.png', '0058_5.png', '0031_4.png', '0008_7.png', '0008_2.png', '0071_6.png', '0048_6.png', '0037_1.png', '0062_10.png', '0080_10.png', '0018_2.png', '0003_8.png', '0025_7.png', '0022_2.png', '0060_3.png', '0037_3.png', '0002_7.png', '0082_5.png', '0009_8.png', '0006_8.png', '0016_10.png', '0057_4.png', '0009_5.png', '0023_1.png', '0053_10.png', '0065_7.png', '0033_4.png', '0047_5.png', '0004_1.png', '0040_5.png', '0053_8.png', '0037_4.png', '0069_9.png', '0053_1.png', '0049_1.png', '0085_7.png', '0004_7.png', '0021_2.png', '0054_5.png', '0034_4.png', '0038_8.png', '0036_7.png', '0064_7.png', '0076_4.png', '0073_5.png', '0069_7.png', '0036_5.png', '0052_4.png', '0002_4.png', '0016_9.png', '0070_8.png', '0041_1.png', '0007_1.png', '0048_2.png', '0025_9.png', '0004_4.png', '0037_5.png', '0050_7.png', '0043_9.png', '0046_7.png', '0023_8.png', '0080_1.png', '0008_1.png', '0079_8.png', '0021_5.png', '0039_6.png', '0056_4.png', '0026_3.png', '0016_1.png', '0088_7.png', '0044_8.png', '0025_5.png', '0012_9.png', '0071_1.png', '0047_2.png', '0048_8.png', '0069_8.png', '0014_3.png', '0010_4.png', '0006_3.png', '0034_2.png', '0008_3.png', '0062_6.png', '0067_6.png', '0056_6.png', '0028_6.png', '0041_9.png', '0079_10.png', '0039_1.png', '0033_1.png', '0032_4.png', '0071_5.png', '0053_3.png', '0051_3.png', '0042_10.png', '0044_5.png', '0030_9.png', '0066_8.png', '0079_1.png', '0035_9.png', '0005_10.png', '0088_10.png', '0009_2.png', '0012_3.png', '0020_6.png', '0013_7.png', '0032_6.png', '0088_3.png', '0031_7.png', '0060_10.png', '0028_10.png', '0027_3.png', '0004_8.png', '0052_7.png', '0044_6.png', '0061_10.png', '0021_1.png', '0035_2.png', '0069_2.png', '0087_5.png', '0061_1.png', '0076_2.png', '0033_7.png', '0001_9.png', '0079_3.png', '0021_8.png', '0031_9.png', '0015_3.png', '0088_1.png', '0069_4.png', '0020_5.png', '0008_8.png', '0014_5.png', '0044_4.png', '0050_2.png', '0020_4.png', '0043_6.png', '0004_5.png', '0006_2.png', '0043_3.png', '0073_1.png', '0070_9.png', '0017_5.png', '0054_4.png', '0059_1.png', '0012_1.png', '0059_8.png', '0017_8.png', '0059_7.png', '0063_8.png', '0066_5.png', '0027_6.png', '0046_3.png', '0066_1.png', '0044_3.png', '0045_7.png', '0070_6.png', '0032_9.png', '0022_1.png', '0063_9.png', '0035_4.png', '0068_2.png', '0070_2.png', '0060_5.png', '0031_10.png', '0033_3.png', '0050_4.png', '0057_6.png', '0035_3.png', '0082_9.png', '0019_8.png', '0042_6.png', '0033_2.png', '0034_10.png', '0060_8.png', '0007_5.png', '0031_1.png', '0007_10.png', '0027_4.png', '0067_5.png', '0041_3.png', '0005_4.png', '0023_5.png', '0034_5.png', '0070_5.png', '0014_9.png', '0071_3.png', '0055_7.png', '0012_6.png', '0038_6.png', '0003_2.png', '0066_10.png', '0011_4.png', '0021_6.png', '0008_6.png', '0030_3.png', '0023_10.png', '0071_8.png', '0050_10.png', '0070_1.png', '0047_7.png', '0031_3.png', '0029_10.png', '0028_5.png', '0018_3.png', '0014_10.png', '0003_6.png', '0043_7.png', '0049_7.png', '0018_8.png', '0044_7.png', '0055_6.png', '0045_2.png', '0063_2.png', '0033_5.png', '0065_5.png', '0029_4.png', '0030_7.png', '0032_2.png', '0045_6.png', '0026_2.png', '0052_5.png', '0050_5.png', '0058_8.png', '0029_2.png', '0039_8.png', '0047_10.png', '0022_4.png', '0051_10.png', '0046_10.png', '0045_5.png', '0061_7.png', '0062_7.png', '0050_9.png', '0049_2.png', '0031_2.png', '0050_1.png', '0085_4.png', '0071_4.png', '0035_7.png', '0042_2.png', '0006_10.png', '0067_8.png', '0087_4.png', '0018_5.png', '0056_2.png', '0033_6.png', '0076_7.png', '0021_7.png', '0024_2.png', '0073_10.png', '0027_9.png', '0009_4.png', '0042_4.png', '0087_3.png', '0055_5.png', '0069_10.png', '0025_1.png', '0027_2.png', '0026_6.png', '0004_3.png', '0066_6.png', '0022_9.png', '0001_7.png', '0001_10.png', '0039_2.png', '0080_6.png', '0060_4.png', '0064_6.png', '0009_3.png', '0038_3.png', '0023_7.png', '0036_3.png', '0052_10.png', '0047_3.png', '0025_10.png', '0011_1.png', '0038_10.png', '0087_10.png', '0088_2.png', '0048_3.png', '0001_5.png', '0001_3.png', '0050_6.png', '0018_9.png', '0027_1.png', '0076_8.png', '0088_5.png', '0009_6.png', '0069_6.png', '0054_10.png', '0034_1.png', '0015_2.png', '0036_10.png', '0012_7.png', '0053_9.png', '0080_9.png', '0052_9.png', '0064_2.png', '0035_6.png', '0046_8.png', '0055_1.png', '0007_7.png', '0028_1.png', '0011_9.png', '0002_10.png', '0068_5.png', '0052_1.png', '0085_2.png', '0029_7.png', '0066_9.png', '0026_10.png', '0048_10.png', '0076_1.png', '0021_3.png', '0057_8.png', '0079_5.png', '0034_8.png', '0027_10.png', '0018_7.png', '0037_9.png']\n"
     ]
    },
    {
     "name": "stderr",
     "output_type": "stream",
     "text": [
      "100%|██████████| 792/792 [00:00<00:00, 3396614.28it/s]\n"
     ]
    },
    {
     "name": "stdout",
     "output_type": "stream",
     "text": [
      "Read  792  files\n",
      "path： /home/user/Desktop/lanyard_segmentation/guardrail/train_data/labels_cropped\n",
      "directory： []\n",
      "file： ['0001_4.png', '0079_7.png', '0048_9.png', '0087_7.png', '0010_10.png', '0047_9.png', '0042_1.png', '0051_7.png', '0060_6.png', '0039_7.png', '0002_8.png', '0028_8.png', '0011_10.png', '0024_1.png', '0013_6.png', '0058_3.png', '0017_9.png', '0065_10.png', '0046_5.png', '0026_5.png', '0056_9.png', '0043_10.png', '0036_1.png', '0032_7.png', '0057_1.png', '0074_6.png', '0025_8.png', '0020_2.png', '0079_6.png', '0064_4.png', '0047_1.png', '0066_4.png', '0080_5.png', '0071_9.png', '0065_9.png', '0051_8.png', '0031_6.png', '0044_9.png', '0020_7.png', '0019_6.png', '0016_4.png', '0017_10.png', '0059_9.png', '0015_4.png', '0045_9.png', '0051_4.png', '0029_9.png', '0082_10.png', '0030_8.png', '0023_2.png', '0079_9.png', '0019_3.png', '0013_4.png', '0002_3.png', '0047_6.png', '0002_1.png', '0057_7.png', '0040_3.png', '0010_1.png', '0012_4.png', '0079_4.png', '0050_8.png', '0067_7.png', '0006_5.png', '0040_9.png', '0005_9.png', '0013_3.png', '0025_3.png', '0054_2.png', '0024_8.png', '0029_6.png', '0023_9.png', '0065_1.png', '0040_1.png', '0032_5.png', '0018_6.png', '0036_8.png', '0046_9.png', '0005_5.png', '0026_1.png', '0011_8.png', '0061_3.png', '0052_8.png', '0087_2.png', '0046_1.png', '0001_6.png', '0003_4.png', '0065_4.png', '0087_6.png', '0041_2.png', '0032_1.png', '0034_7.png', '0070_3.png', '0068_10.png', '0032_3.png', '0068_7.png', '0063_1.png', '0011_6.png', '0048_4.png', '0046_6.png', '0076_6.png', '0056_1.png', '0066_7.png', '0052_3.png', '0010_2.png', '0021_10.png', '0026_8.png', '0080_3.png', '0063_7.png', '0014_8.png', '0088_6.png', '0034_3.png', '0069_5.png', '0042_8.png', '0049_6.png', '0038_5.png', '0048_5.png', '0029_1.png', '0030_10.png', '0006_6.png', '0051_9.png', '0082_3.png', '0019_2.png', '0005_1.png', '0015_5.png', '0053_7.png', '0004_6.png', '0013_5.png', '0036_2.png', '0059_3.png', '0040_6.png', '0058_6.png', '0054_7.png', '0048_7.png', '0006_1.png', '0002_5.png', '0060_9.png', '0028_2.png', '0039_9.png', '0074_9.png', '0025_2.png', '0023_3.png', '0033_9.png', '0071_10.png', '0018_1.png', '0076_10.png', '0088_9.png', '0080_2.png', '0073_6.png', '0038_7.png', '0003_10.png', '0063_5.png', '0003_3.png', '0014_4.png', '0006_4.png', '0051_2.png', '0054_6.png', '0076_3.png', '0073_9.png', '0018_4.png', '0082_6.png', '0060_2.png', '0080_4.png', '0029_3.png', '0028_9.png', '0065_3.png', '0068_3.png', '0037_7.png', '0013_9.png', '0056_7.png', '0017_6.png', '0068_4.png', '0020_10.png', '0049_5.png', '0067_3.png', '0040_4.png', '0073_4.png', '0007_8.png', '0085_3.png', '0046_2.png', '0056_10.png', '0057_2.png', '0019_9.png', '0037_8.png', '0043_5.png', '0055_3.png', '0014_7.png', '0029_8.png', '0014_1.png', '0063_6.png', '0085_9.png', '0045_1.png', '0067_1.png', '0002_9.png', '0038_4.png', '0034_6.png', '0068_9.png', '0079_2.png', '0024_5.png', '0062_2.png', '0055_4.png', '0003_9.png', '0014_2.png', '0030_4.png', '0001_8.png', '0041_5.png', '0051_5.png', '0012_5.png', '0069_3.png', '0005_7.png', '0071_7.png', '0012_10.png', '0019_10.png', '0074_2.png', '0064_1.png', '0073_2.png', '0047_8.png', '0006_9.png', '0028_3.png', '0020_3.png', '0008_9.png', '0036_4.png', '0074_10.png', '0060_7.png', '0009_7.png', '0045_8.png', '0023_4.png', '0068_8.png', '0058_2.png', '0033_10.png', '0053_5.png', '0038_2.png', '0007_4.png', '0011_3.png', '0065_8.png', '0049_9.png', '0067_2.png', '0031_5.png', '0007_2.png', '0038_9.png', '0048_1.png', '0067_10.png', '0015_8.png', '0071_2.png', '0004_2.png', '0016_2.png', '0019_4.png', '0082_8.png', '0032_10.png', '0028_7.png', '0055_2.png', '0057_9.png', '0059_10.png', '0062_9.png', '0035_5.png', '0003_1.png', '0011_5.png', '0017_7.png', '0042_7.png', '0070_4.png', '0005_3.png', '0009_1.png', '0061_2.png', '0005_2.png', '0012_2.png', '0054_9.png', '0057_5.png', '0049_4.png', '0014_6.png', '0045_3.png', '0005_8.png', '0040_7.png', '0063_10.png', '0085_1.png', '0040_10.png', '0052_6.png', '0054_1.png', '0022_10.png', '0041_10.png', '0028_4.png', '0074_8.png', '0065_2.png', '0076_9.png', '0061_8.png', '0087_8.png', '0017_3.png', '0042_3.png', '0061_9.png', '0004_10.png', '0052_2.png', '0041_7.png', '0055_8.png', '0024_4.png', '0015_9.png', '0074_4.png', '0064_10.png', '0042_5.png', '0041_4.png', '0058_1.png', '0024_9.png', '0043_4.png', '0085_10.png', '0044_2.png', '0031_8.png', '0011_2.png', '0030_2.png', '0054_3.png', '0076_5.png', '0007_3.png', '0026_4.png', '0059_5.png', '0062_4.png', '0056_5.png', '0016_6.png', '0013_2.png', '0044_1.png', '0009_10.png', '0017_1.png', '0026_7.png', '0067_4.png', '0070_7.png', '0064_3.png', '0068_6.png', '0017_4.png', '0074_3.png', '0009_9.png', '0016_8.png', '0013_10.png', '0029_5.png', '0082_1.png', '0039_10.png', '0087_9.png', '0019_7.png', '0057_3.png', '0043_1.png', '0080_8.png', '0074_1.png', '0008_4.png', '0021_4.png', '0023_6.png', '0056_3.png', '0030_1.png', '0063_3.png', '0039_5.png', '0041_6.png', '0074_7.png', '0015_1.png', '0085_5.png', '0066_2.png', '0088_8.png', '0010_9.png', '0059_4.png', '0039_4.png', '0082_2.png', '0036_6.png', '0002_6.png', '0062_8.png', '0020_8.png', '0062_5.png', '0015_7.png', '0036_9.png', '0062_1.png', '0074_5.png', '0040_2.png', '0054_8.png', '0022_3.png', '0005_6.png', '0037_10.png', '0035_8.png', '0066_3.png', '0059_2.png', '0021_9.png', '0040_8.png', '0012_8.png', '0045_4.png', '0042_9.png', '0051_1.png', '0064_5.png', '0034_9.png', '0025_6.png', '0063_4.png', '0082_7.png', '0055_9.png', '0070_10.png', '0016_5.png', '0020_1.png', '0087_1.png', '0015_10.png', '0003_5.png', '0035_1.png', '0073_8.png', '0049_3.png', '0008_5.png', '0033_8.png', '0016_3.png', '0049_10.png', '0073_3.png', '0045_10.png', '0037_2.png', '0002_2.png', '0062_3.png', '0061_4.png', '0024_6.png', '0039_3.png', '0061_6.png', '0007_6.png', '0058_4.png', '0056_8.png', '0032_8.png', '0047_4.png', '0059_6.png', '0053_6.png', '0019_1.png', '0001_2.png', '0001_1.png', '0044_10.png', '0043_2.png', '0060_1.png', '0055_10.png', '0061_5.png', '0027_7.png', '0037_6.png', '0082_4.png', '0088_4.png', '0041_8.png', '0046_4.png', '0085_6.png', '0008_10.png', '0027_5.png', '0067_9.png', '0017_2.png', '0065_6.png', '0004_9.png', '0080_7.png', '0085_8.png', '0051_6.png', '0053_4.png', '0058_7.png', '0064_9.png', '0073_7.png', '0050_3.png', '0043_8.png', '0069_1.png', '0030_5.png', '0006_7.png', '0058_9.png', '0068_1.png', '0010_3.png', '0024_3.png', '0013_8.png', '0020_9.png', '0013_1.png', '0025_4.png', '0038_1.png', '0016_7.png', '0035_10.png', '0026_9.png', '0058_10.png', '0019_5.png', '0011_7.png', '0049_8.png', '0053_2.png', '0018_10.png', '0003_7.png', '0015_6.png', '0007_9.png', '0064_8.png', '0027_8.png', '0057_10.png', '0024_7.png', '0024_10.png', '0030_6.png', '0058_5.png', '0031_4.png', '0008_7.png', '0008_2.png', '0071_6.png', '0048_6.png', '0037_1.png', '0062_10.png', '0080_10.png', '0018_2.png', '0003_8.png', '0025_7.png', '0022_2.png', '0060_3.png', '0037_3.png', '0002_7.png', '0082_5.png', '0009_8.png', '0006_8.png', '0016_10.png', '0057_4.png', '0009_5.png', '0023_1.png', '0053_10.png', '0065_7.png', '0033_4.png', '0047_5.png', '0004_1.png', '0040_5.png', '0053_8.png', '0037_4.png', '0069_9.png', '0053_1.png', '0049_1.png', '0085_7.png', '0004_7.png', '0021_2.png', '0054_5.png', '0034_4.png', '0038_8.png', '0036_7.png', '0064_7.png', '0076_4.png', '0073_5.png', '0069_7.png', '0036_5.png', '0052_4.png', '0002_4.png', '0016_9.png', '0070_8.png', '0041_1.png', '0007_1.png', '0048_2.png', '0025_9.png', '0004_4.png', '0037_5.png', '0050_7.png', '0043_9.png', '0046_7.png', '0023_8.png', '0080_1.png', '0008_1.png', '0079_8.png', '0021_5.png', '0039_6.png', '0056_4.png', '0026_3.png', '0016_1.png', '0088_7.png', '0044_8.png', '0025_5.png', '0012_9.png', '0071_1.png', '0047_2.png', '0048_8.png', '0069_8.png', '0014_3.png', '0010_4.png', '0006_3.png', '0034_2.png', '0008_3.png', '0062_6.png', '0067_6.png', '0056_6.png', '0028_6.png', '0041_9.png', '0079_10.png', '0039_1.png', '0033_1.png', '0032_4.png', '0071_5.png', '0053_3.png', '0051_3.png', '0042_10.png', '0044_5.png', '0030_9.png', '0066_8.png', '0079_1.png', '0035_9.png', '0005_10.png', '0088_10.png', '0009_2.png', '0012_3.png', '0020_6.png', '0013_7.png', '0032_6.png', '0088_3.png', '0031_7.png', '0060_10.png', '0028_10.png', '0027_3.png', '0004_8.png', '0052_7.png', '0044_6.png', '0061_10.png', '0021_1.png', '0035_2.png', '0069_2.png', '0087_5.png', '0061_1.png', '0076_2.png', '0033_7.png', '0001_9.png', '0079_3.png', '0021_8.png', '0031_9.png', '0015_3.png', '0088_1.png', '0069_4.png', '0020_5.png', '0008_8.png', '0014_5.png', '0044_4.png', '0050_2.png', '0020_4.png', '0043_6.png', '0004_5.png', '0006_2.png', '0043_3.png', '0073_1.png', '0070_9.png', '0017_5.png', '0054_4.png', '0059_1.png', '0012_1.png', '0059_8.png', '0017_8.png', '0059_7.png', '0063_8.png', '0066_5.png', '0027_6.png', '0046_3.png', '0066_1.png', '0044_3.png', '0045_7.png', '0070_6.png', '0032_9.png', '0022_1.png', '0063_9.png', '0035_4.png', '0068_2.png', '0070_2.png', '0060_5.png', '0031_10.png', '0033_3.png', '0050_4.png', '0057_6.png', '0035_3.png', '0082_9.png', '0019_8.png', '0042_6.png', '0033_2.png', '0034_10.png', '0060_8.png', '0007_5.png', '0031_1.png', '0007_10.png', '0027_4.png', '0067_5.png', '0041_3.png', '0005_4.png', '0023_5.png', '0034_5.png', '0070_5.png', '0014_9.png', '0071_3.png', '0055_7.png', '0012_6.png', '0038_6.png', '0003_2.png', '0066_10.png', '0011_4.png', '0021_6.png', '0008_6.png', '0030_3.png', '0023_10.png', '0071_8.png', '0050_10.png', '0070_1.png', '0047_7.png', '0031_3.png', '0029_10.png', '0028_5.png', '0018_3.png', '0014_10.png', '0003_6.png', '0043_7.png', '0049_7.png', '0018_8.png', '0044_7.png', '0055_6.png', '0045_2.png', '0063_2.png', '0033_5.png', '0065_5.png', '0029_4.png', '0030_7.png', '0032_2.png', '0045_6.png', '0026_2.png', '0052_5.png', '0050_5.png', '0058_8.png', '0029_2.png', '0039_8.png', '0047_10.png', '0022_4.png', '0051_10.png', '0046_10.png', '0045_5.png', '0061_7.png', '0062_7.png', '0050_9.png', '0049_2.png', '0031_2.png', '0050_1.png', '0085_4.png', '0071_4.png', '0035_7.png', '0042_2.png', '0006_10.png', '0067_8.png', '0087_4.png', '0018_5.png', '0056_2.png', '0033_6.png', '0076_7.png', '0021_7.png', '0024_2.png', '0073_10.png', '0027_9.png', '0009_4.png', '0042_4.png', '0087_3.png', '0055_5.png', '0069_10.png', '0025_1.png', '0027_2.png', '0026_6.png', '0004_3.png', '0066_6.png', '0022_9.png', '0001_7.png', '0001_10.png', '0039_2.png', '0080_6.png', '0060_4.png', '0064_6.png', '0009_3.png', '0038_3.png', '0023_7.png', '0036_3.png', '0052_10.png', '0047_3.png', '0025_10.png', '0011_1.png', '0038_10.png', '0087_10.png', '0088_2.png', '0048_3.png', '0001_5.png', '0001_3.png', '0050_6.png', '0018_9.png', '0027_1.png', '0076_8.png', '0088_5.png', '0009_6.png', '0069_6.png', '0054_10.png', '0034_1.png', '0015_2.png', '0036_10.png', '0012_7.png', '0053_9.png', '0080_9.png', '0052_9.png', '0064_2.png', '0035_6.png', '0046_8.png', '0055_1.png', '0007_7.png', '0028_1.png', '0011_9.png', '0002_10.png', '0068_5.png', '0052_1.png', '0085_2.png', '0029_7.png', '0066_9.png', '0026_10.png', '0048_10.png', '0076_1.png', '0021_3.png', '0057_8.png', '0079_5.png', '0034_8.png', '0027_10.png', '0018_7.png', '0037_9.png']\n"
     ]
    },
    {
     "name": "stderr",
     "output_type": "stream",
     "text": [
      "100%|██████████| 792/792 [00:00<00:00, 3587352.88it/s]"
     ]
    },
    {
     "name": "stdout",
     "output_type": "stream",
     "text": [
      "Read  792  files\n"
     ]
    },
    {
     "name": "stderr",
     "output_type": "stream",
     "text": [
      "\n"
     ]
    }
   ],
   "source": [
    "input_imgs = read_images(train_features_folder)\n",
    "output_imgs = read_images(train_labels_folder)\n",
    "classes = [\"guardrail\"]\n",
    "cm2lbl = make_cm2lbl()\n"
   ]
  },
  {
   "cell_type": "code",
   "execution_count": 86,
   "id": "ed743616",
   "metadata": {},
   "outputs": [
    {
     "name": "stdout",
     "output_type": "stream",
     "text": [
      "Read 633 images\n",
      "Read 159 images\n"
     ]
    }
   ],
   "source": [
    "input_train, input_vali, output_train, output_vali = train_test_split(input_imgs, output_imgs, test_size=0.2, random_state=42)\n",
    "train_dataset_vis = IS_Dataset(input_train, output_train, classes=classes, cm2lbl=cm2lbl)\n",
    "validation_dataset_vis = IS_Dataset(input_vali, output_vali, classes=classes, cm2lbl=cm2lbl)"
   ]
  },
  {
   "cell_type": "code",
   "execution_count": 87,
   "id": "cbe0e8e2",
   "metadata": {},
   "outputs": [
    {
     "name": "stdout",
     "output_type": "stream",
     "text": [
      "(256, 256, 3)\n",
      "(256, 256, 1)\n"
     ]
    },
    {
     "data": {
      "image/png": "[encoded data removed]",
      "text/plain": [
       "<Figure size 1152x360 with 2 Axes>"
      ]
     },
     "metadata": {},
     "output_type": "display_data"
    }
   ],
   "source": [
    "image, mask = train_dataset_vis[300]\n",
    "print(image.shape)\n",
    "print(mask.shape)\n",
    "visualize(\n",
    "    image=image, \n",
    "    lanyard_mask=mask[..., 0].squeeze(),\n",
    ")"
   ]
  },
  {
   "cell_type": "markdown",
   "id": "d2bbd67d",
   "metadata": {},
   "source": [
    "# Model"
   ]
  },
  {
   "cell_type": "code",
   "execution_count": 6,
   "id": "0b0a08c4",
   "metadata": {},
   "outputs": [],
   "source": [
    "class GhostModule(nn.Module):\n",
    "    def __init__(self, inp, oup, kernel_size=1, ratio=2, dw_size=3, stride=1, relu=True, dilation=None, batchnorm=True):\n",
    "        super(GhostModule, self).__init__()\n",
    "        self.oup = oup\n",
    "        init_channels = math.ceil(oup / ratio)\n",
    "        new_channels = init_channels*(ratio-1)\n",
    "        if dilation:\n",
    "            self.primary_conv = nn.Sequential(\n",
    "                nn.Conv2d(inp, init_channels, kernel_size, stride, kernel_size//2, dilation=dilation,bias=False),\n",
    "                nn.BatchNorm2d(init_channels) if batchnorm else nn.Sequential(),\n",
    "                nn.ReLU6(inplace=True) if relu else nn.Sequential(),\n",
    "            )\n",
    "\n",
    "            self.cheap_operation = nn.Sequential(\n",
    "                nn.Conv2d(init_channels, new_channels, dw_size, 1, dw_size//2, dilation=dilation, groups=init_channels, bias=False),\n",
    "                nn.BatchNorm2d(new_channels) if batchnorm else nn.Sequential(),\n",
    "                nn.ReLU6(inplace=True) if relu else nn.Sequential(),\n",
    "            )\n",
    "        else:\n",
    "            self.primary_conv = nn.Sequential(\n",
    "                nn.Conv2d(inp, init_channels, kernel_size, stride, kernel_size//2, bias=False),\n",
    "                nn.BatchNorm2d(init_channels) if batchnorm else nn.Sequential(),\n",
    "                nn.ReLU(inplace=True) if relu else nn.Sequential(),\n",
    "            )\n",
    "\n",
    "            self.cheap_operation = nn.Sequential(\n",
    "                nn.Conv2d(init_channels, new_channels, dw_size, 1, dw_size//2, groups=init_channels, bias=False),\n",
    "                nn.BatchNorm2d(new_channels) if batchnorm else nn.Sequential(),\n",
    "                nn.ReLU(inplace=True) if relu else nn.Sequential(),\n",
    "            )            \n",
    "    def forward(self, x):\n",
    "        x1 = self.primary_conv(x)\n",
    "        x2 = self.cheap_operation(x1)\n",
    "        out = torch.cat([x1,x2], dim=1)\n",
    "        return out[:,:self.oup,:,:]"
   ]
  },
  {
   "cell_type": "code",
   "execution_count": 7,
   "id": "4655017f",
   "metadata": {},
   "outputs": [],
   "source": [
    "class SeparableConv2d(nn.Module):\n",
    "    def __init__(self, inplanes, planes, kernel_size=3, stride=1, padding=0, dilation=1, bias=False):\n",
    "        super(SeparableConv2d, self).__init__()\n",
    "\n",
    "        self.conv1 = nn.Conv2d(inplanes, inplanes, kernel_size, stride, padding, dilation,\n",
    "                               groups=inplanes, bias=bias)\n",
    "        self.pointwise = nn.Conv2d(inplanes, planes, 1, 1, 0, 1, 1, bias=bias)\n",
    "\n",
    "    def forward(self, x):\n",
    "        x = self.conv1(x)\n",
    "        x = self.pointwise(x)\n",
    "        return x\n",
    "\n",
    "\n",
    "def fixed_padding(inputs, kernel_size, rate):\n",
    "    kernel_size_effective = kernel_size + (kernel_size - 1) * (rate - 1)\n",
    "    pad_total = kernel_size_effective - 1\n",
    "    pad_beg = pad_total // 2\n",
    "    pad_end = pad_total - pad_beg\n",
    "    padded_inputs = F.pad(inputs, (pad_beg, pad_end, pad_beg, pad_end))\n",
    "    return padded_inputs\n",
    "\n",
    "\n",
    "class SeparableConv2d_same(nn.Module):\n",
    "    def __init__(self, inplanes, planes, kernel_size=3, stride=1, dilation=1, bias=False):\n",
    "        super(SeparableConv2d_same, self).__init__()\n",
    "#         self.ghost = GhostModule(inplanes, planes, kernel_size=3, stride=stride, dilation=1, relu=False, batchnorm=False)\n",
    "        self.conv1 = nn.Conv2d(inplanes, inplanes, kernel_size, stride, 0, dilation,\n",
    "                               groups=inplanes, bias=bias)\n",
    "        self.pointwise = nn.Conv2d(inplanes, planes, 1, 1, 0, 1, 1, bias=bias)\n",
    "\n",
    "    def forward(self, x):\n",
    "        x = fixed_padding(x, self.conv1.kernel_size[0], rate=self.conv1.dilation[0])\n",
    "#         x = self.ghost(x)\n",
    "        x = self.conv1(x)\n",
    "        x = self.pointwise(x)\n",
    "        return x\n",
    "\n",
    "\n",
    "class Block(nn.Module):\n",
    "    def __init__(self, inplanes, planes, reps, stride=1, dilation=1, start_with_relu=True, grow_first=True, is_last=False):\n",
    "        super(Block, self).__init__()\n",
    "\n",
    "        if planes != inplanes or stride != 1:\n",
    "            self.skip = GhostModule(inplanes, planes, kernel_size=1, stride=stride, relu=False)\n",
    "#             self.skip = nn.Conv2d(inplanes, planes, 1, stride=stride, bias=False)\n",
    "#             self.skipbn = nn.BatchNorm2d(planes)\n",
    "        else:\n",
    "            self.skip = None\n",
    "\n",
    "        self.relu = nn.ReLU(inplace=True)\n",
    "        rep = []\n",
    "\n",
    "        filters = inplanes\n",
    "        if grow_first:\n",
    "            rep.append(self.relu)\n",
    "#             rep.append(GhostModule(inplanes, planes, kernel_size=3, stride=1, relu=False, dilation=dilation))\n",
    "            rep.append(SeparableConv2d_same(inplanes, planes, 3, stride=1, dilation=dilation))\n",
    "            rep.append(nn.BatchNorm2d(planes))\n",
    "            filters = planes\n",
    "\n",
    "        for i in range(reps - 1):\n",
    "            rep.append(self.relu)\n",
    "#             rep.append(GhostModule(filters, filters, kernel_size=3, stride=1, relu=False, dilation=dilation))\n",
    "            rep.append(SeparableConv2d_same(filters, filters, 3, stride=1, dilation=dilation))\n",
    "            rep.append(nn.BatchNorm2d(filters))\n",
    "\n",
    "        if not grow_first:\n",
    "            rep.append(self.relu)\n",
    "#             rep.append(GhostModule(inplanes, planes, kernel_size=3, stride=1, relu=False, dilation=dilation))\n",
    "            rep.append(SeparableConv2d_same(inplanes, planes, 3, stride=1, dilation=dilation))\n",
    "            rep.append(nn.BatchNorm2d(planes))\n",
    "\n",
    "        if not start_with_relu:\n",
    "            rep = rep[1:]\n",
    "\n",
    "        if stride != 1:\n",
    "            rep.append(GhostModule(planes, planes, kernel_size=3, stride=2, relu=False, batchnorm=False))\n",
    "#             rep.append(SeparableConv2d_same(planes, planes, 3, stride=2))\n",
    "\n",
    "        if stride == 1 and is_last:\n",
    "            rep.append(GhostModule(planes, planes, kernel_size=3, stride=1, relu=False, batchnorm=False))\n",
    "#             rep.append(SeparableConv2d_same(planes, planes, 3, stride=1))\n",
    "\n",
    "\n",
    "        self.rep = nn.Sequential(*rep)\n",
    "\n",
    "    def forward(self, inp):\n",
    "        x = self.rep(inp)\n",
    "\n",
    "        if self.skip is not None:\n",
    "            skip = self.skip(inp)\n",
    "#             skip = self.skipbn(skip)\n",
    "        else:\n",
    "            skip = inp\n",
    "\n",
    "        x += skip\n",
    "\n",
    "        return x\n",
    "\n",
    "\n"
   ]
  },
  {
   "cell_type": "code",
   "execution_count": 8,
   "id": "318b5aaa",
   "metadata": {},
   "outputs": [],
   "source": [
    "class Xception(nn.Module):\n",
    "    \"\"\"\n",
    "    Modified Alighed Xception\n",
    "    \"\"\"\n",
    "    def __init__(self, inplanes=3, os=16, pretrained=False):\n",
    "        super(Xception, self).__init__()\n",
    "\n",
    "        if os == 16:\n",
    "            entry_block3_stride = 2\n",
    "            middle_block_rate = 1\n",
    "            exit_block_rates = (1, 2)\n",
    "        elif os == 8:\n",
    "            entry_block3_stride = 1\n",
    "            middle_block_rate = 2\n",
    "            exit_block_rates = (2, 4)\n",
    "        else:\n",
    "            raise NotImplementedError\n",
    "\n",
    "\n",
    "        # Entry flow\n",
    "        self.conv1 = GhostModule(inplanes, 32, kernel_size=3, stride=2)\n",
    "#         self.conv1 = nn.Conv2d(inplanes, 32, 3, stride=2, padding=1, bias=False)\n",
    "#         self.bn1 = nn.BatchNorm2d(32)\n",
    "        self.relu = nn.ReLU(inplace=True)\n",
    "\n",
    "        self.conv2 = GhostModule(32, 64, kernel_size=3, stride=1, relu=False)\n",
    "#         self.conv2 = nn.Conv2d(32, 64, 3, stride=1, padding=1, bias=False)\n",
    "#         self.bn2 = nn.BatchNorm2d(64)\n",
    "\n",
    "        self.block1 = Block(64, 128, reps=2, stride=2, start_with_relu=False)\n",
    "        self.block2 = Block(128, 256, reps=2, stride=2, start_with_relu=True, grow_first=True)\n",
    "        self.block3 = Block(256, 728, reps=2, stride=entry_block3_stride, start_with_relu=True, grow_first=True,\n",
    "                            is_last=True)\n",
    "\n",
    "        # Middle flow\n",
    "        self.block4  = Block(728, 728, reps=3, stride=1, dilation=middle_block_rate, start_with_relu=True, grow_first=True)\n",
    "        self.block5  = Block(728, 728, reps=3, stride=1, dilation=middle_block_rate, start_with_relu=True, grow_first=True)\n",
    "        self.block6  = Block(728, 728, reps=3, stride=1, dilation=middle_block_rate, start_with_relu=True, grow_first=True)\n",
    "        self.block7  = Block(728, 728, reps=3, stride=1, dilation=middle_block_rate, start_with_relu=True, grow_first=True)\n",
    "        self.block8  = Block(728, 728, reps=3, stride=1, dilation=middle_block_rate, start_with_relu=True, grow_first=True)\n",
    "        self.block9  = Block(728, 728, reps=3, stride=1, dilation=middle_block_rate, start_with_relu=True, grow_first=True)\n",
    "        self.block10 = Block(728, 728, reps=3, stride=1, dilation=middle_block_rate, start_with_relu=True, grow_first=True)\n",
    "        self.block11 = Block(728, 728, reps=3, stride=1, dilation=middle_block_rate, start_with_relu=True, grow_first=True)\n",
    "        self.block12 = Block(728, 728, reps=3, stride=1, dilation=middle_block_rate, start_with_relu=True, grow_first=True)\n",
    "        self.block13 = Block(728, 728, reps=3, stride=1, dilation=middle_block_rate, start_with_relu=True, grow_first=True)\n",
    "        self.block14 = Block(728, 728, reps=3, stride=1, dilation=middle_block_rate, start_with_relu=True, grow_first=True)\n",
    "        self.block15 = Block(728, 728, reps=3, stride=1, dilation=middle_block_rate, start_with_relu=True, grow_first=True)\n",
    "        self.block16 = Block(728, 728, reps=3, stride=1, dilation=middle_block_rate, start_with_relu=True, grow_first=True)\n",
    "        self.block17 = Block(728, 728, reps=3, stride=1, dilation=middle_block_rate, start_with_relu=True, grow_first=True)\n",
    "        self.block18 = Block(728, 728, reps=3, stride=1, dilation=middle_block_rate, start_with_relu=True, grow_first=True)\n",
    "        self.block19 = Block(728, 728, reps=3, stride=1, dilation=middle_block_rate, start_with_relu=True, grow_first=True)\n",
    "\n",
    "        # Exit flow\n",
    "        self.block20 = Block(728, 1024, reps=2, stride=1, dilation=exit_block_rates[0],\n",
    "                             start_with_relu=True, grow_first=False, is_last=True)\n",
    "        \n",
    "        \n",
    "        self.conv3 = SeparableConv2d_same(1024, 1536, 3, stride=1, dilation=exit_block_rates[1])\n",
    "        self.bn3 = nn.BatchNorm2d(1536)\n",
    "        \n",
    "        self.conv4 = SeparableConv2d_same(1536, 1536, 3, stride=1, dilation=exit_block_rates[1])\n",
    "        self.bn4 = nn.BatchNorm2d(1536)\n",
    "\n",
    "        self.conv5 = SeparableConv2d_same(1536, 2048, 3, stride=1, dilation=exit_block_rates[1])\n",
    "        self.bn5 = nn.BatchNorm2d(2048)\n",
    "\n",
    "        # Init weights\n",
    "        self.__init_weight()\n",
    "\n",
    "        # Load pretrained model\n",
    "        if pretrained:\n",
    "            self.__load_xception_pretrained()\n",
    "\n",
    "    def forward(self, x):\n",
    "        # Entry flow\n",
    "        x = self.conv1(x)\n",
    "#         x = self.bn1(x)\n",
    "#         x = self.relu(x)\n",
    "\n",
    "        x = self.conv2(x)\n",
    "#         x = self.bn2(x)\n",
    "#         x = self.relu(x)\n",
    "\n",
    "        x = self.block1(x)\n",
    "        low_level_feat = x\n",
    "        x = self.block2(x)\n",
    "        x = self.block3(x)\n",
    "\n",
    "        # Middle flow\n",
    "        x = self.block4(x)\n",
    "        x = self.block5(x)\n",
    "        x = self.block6(x)\n",
    "        x = self.block7(x)\n",
    "        x = self.block8(x)\n",
    "        x = self.block9(x)\n",
    "        x = self.block10(x)\n",
    "        x = self.block11(x)\n",
    "        x = self.block12(x)\n",
    "        x = self.block13(x)\n",
    "        x = self.block14(x)\n",
    "        x = self.block15(x)\n",
    "        x = self.block16(x)\n",
    "        x = self.block17(x)\n",
    "        x = self.block18(x)\n",
    "        x = self.block19(x)\n",
    "\n",
    "        # Exit flow\n",
    "        x = self.block20(x)\n",
    "        x = self.conv3(x)\n",
    "        x = self.bn3(x)\n",
    "        x = self.relu(x)\n",
    "\n",
    "        x = self.conv4(x)\n",
    "        x = self.bn4(x)\n",
    "        x = self.relu(x)\n",
    "\n",
    "        x = self.conv5(x)\n",
    "        x = self.bn5(x)\n",
    "        x = self.relu(x)\n",
    "\n",
    "        return x, low_level_feat\n",
    "\n",
    "    def __init_weight(self):\n",
    "        for m in self.modules():\n",
    "            if isinstance(m, nn.Conv2d):\n",
    "                # n = m.kernel_size[0] * m.kernel_size[1] * m.out_channels\n",
    "                # m.weight.data.normal_(0, math.sqrt(2. / n))\n",
    "                torch.nn.init.kaiming_normal_(m.weight)\n",
    "            elif isinstance(m, nn.BatchNorm2d):\n",
    "                m.weight.data.fill_(1)\n",
    "                m.bias.data.zero_()\n",
    "\n",
    "    def __load_xception_pretrained(self):\n",
    "        pretrain_dict = model_zoo.load_url('http://data.lip6.fr/cadene/pretrainedmodels/xception-b5690688.pth')\n",
    "        model_dict = {}\n",
    "        state_dict = self.state_dict()\n",
    "\n",
    "        for k, v in pretrain_dict.items():\n",
    "            print(k)\n",
    "            if k in state_dict:\n",
    "                if 'pointwise' in k:\n",
    "                    v = v.unsqueeze(-1).unsqueeze(-1)\n",
    "                if k.startswith('block12'):\n",
    "                    model_dict[k.replace('block12', 'block20')] = v\n",
    "                elif k.startswith('block11'):\n",
    "                    model_dict[k.replace('block11', 'block12')] = v\n",
    "                elif k.startswith('conv3'):\n",
    "                    model_dict[k] = v\n",
    "                elif k.startswith('bn3'):\n",
    "                    model_dict[k] = v\n",
    "                    model_dict[k.replace('bn3', 'bn4')] = v\n",
    "                elif k.startswith('conv4'):\n",
    "                    model_dict[k.replace('conv4', 'conv5')] = v\n",
    "                elif k.startswith('bn4'):\n",
    "                    model_dict[k.replace('bn4', 'bn5')] = v\n",
    "                else:\n",
    "                    model_dict[k] = v\n",
    "        state_dict.update(model_dict)\n",
    "        self.load_state_dict(state_dict)\n",
    "\n",
    "class ASPP_module(nn.Module):\n",
    "    def __init__(self, inplanes, planes, rate):\n",
    "        super(ASPP_module, self).__init__()\n",
    "        if rate == 1:\n",
    "            kernel_size = 1\n",
    "            padding = 0\n",
    "        else:\n",
    "            kernel_size = 3\n",
    "            padding = rate\n",
    "        self.atrous_convolution = nn.Conv2d(inplanes, planes, kernel_size=kernel_size,\n",
    "                                            stride=1, padding=padding, dilation=rate, bias=False)\n",
    "#         self.atrous_convolution = GhostModule(inplanes, planes, kernel_size=kernel_size, stride=1, dilation=rate)\n",
    "        self.bn = nn.BatchNorm2d(planes)\n",
    "        self.relu = nn.ReLU()\n",
    "\n",
    "        self.__init_weight()\n",
    "\n",
    "    def forward(self, x):\n",
    "        x = self.atrous_convolution(x)\n",
    "        x = self.bn(x)\n",
    "        x = self.relu(x)\n",
    "        return x\n",
    "\n",
    "    def __init_weight(self):\n",
    "        for m in self.modules():\n",
    "            if isinstance(m, nn.Conv2d):\n",
    "                # n = m.kernel_size[0] * m.kernel_size[1] * m.out_channels\n",
    "                # m.weight.data.normal_(0, math.sqrt(2. / n))\n",
    "                torch.nn.init.kaiming_normal_(m.weight)\n",
    "            elif isinstance(m, nn.BatchNorm2d):\n",
    "                m.weight.data.fill_(1)\n",
    "                m.bias.data.zero_()\n",
    "\n",
    "\n"
   ]
  },
  {
   "cell_type": "code",
   "execution_count": 9,
   "id": "adb38891",
   "metadata": {},
   "outputs": [],
   "source": [
    "class DeepLabv3_plus(nn.Module):\n",
    "    def __init__(self, nInputChannels=3, n_classes=21, os=16, pretrained=False, _print=True):\n",
    "        if _print:\n",
    "            print(\"Constructing DeepLabv3+ model...\")\n",
    "            print(\"Number of classes: {}\".format(n_classes))\n",
    "            print(\"Output stride: {}\".format(os))\n",
    "            print(\"Number of Input Channels: {}\".format(nInputChannels))\n",
    "        super(DeepLabv3_plus, self).__init__()\n",
    "\n",
    "        # Atrous Conv\n",
    "        self.xception_features = Xception(nInputChannels, os, pretrained)\n",
    "\n",
    "        # ASPP\n",
    "        if os == 16:\n",
    "            rates = [1, 6, 12, 18]\n",
    "        elif os == 8:\n",
    "            rates = [1, 12, 24, 36]\n",
    "        else:\n",
    "            raise NotImplementedError\n",
    "\n",
    "        self.aspp1 = ASPP_module(2048, 256, rate=rates[0])\n",
    "        self.aspp2 = ASPP_module(2048, 256, rate=rates[1])\n",
    "        self.aspp3 = ASPP_module(2048, 256, rate=rates[2])\n",
    "        self.aspp4 = ASPP_module(2048, 256, rate=rates[3])\n",
    "\n",
    "        self.relu = nn.ReLU()\n",
    "\n",
    "        self.global_avg_pool = nn.Sequential(nn.AdaptiveAvgPool2d((1, 1)),\n",
    "                                             GhostModule(2048, 256, kernel_size=1, stride=1)\n",
    "#                                              nn.Conv2d(2048, 256, 1, stride=1, bias=False),\n",
    "#                                              nn.BatchNorm2d(256),\n",
    "#                                              nn.ReLU()\n",
    "                                            )\n",
    "        self.conv1 = GhostModule(1280, 256, kernel_size=1, stride=1)\n",
    "#         self.conv1 = nn.Conv2d(1280, 256, 1, bias=False)\n",
    "#         self.bn1 = nn.BatchNorm2d(256)\n",
    "\n",
    "        # adopt [1x1, 48] for channel reduction.\n",
    "        self.conv2 = GhostModule(128, 48, kernel_size=1, stride=1)\n",
    "#         self.conv2 = nn.Conv2d(128, 48, 1, bias=False)\n",
    "#         self.bn2 = nn.BatchNorm2d(48)\n",
    "\n",
    "        self.last_conv = nn.Sequential(GhostModule(304, 256, kernel_size=3, stride=1),\n",
    "                                       GhostModule(256, 256, kernel_size=3, stride=1),\n",
    "                                       GhostModule(256, n_classes, kernel_size=1, stride=1, relu=False, batchnorm=False)\n",
    "#                                        nn.Conv2d(304, 256, kernel_size=3, stride=1, padding=1, bias=False),\n",
    "#                                        nn.BatchNorm2d(256),\n",
    "#                                        nn.ReLU(),\n",
    "#                                        nn.Conv2d(256, 256, kernel_size=3, stride=1, padding=1, bias=False),\n",
    "#                                        nn.BatchNorm2d(256),\n",
    "#                                        nn.ReLU(),\n",
    "#                                        nn.Conv2d(256, n_classes, kernel_size=1, stride=1)\n",
    "                                      )\n",
    "\n",
    "    def forward(self, input):\n",
    "        x, low_level_features = self.xception_features(input)\n",
    "        x1 = self.aspp1(x)\n",
    "        x2 = self.aspp2(x)\n",
    "        x3 = self.aspp3(x)\n",
    "        x4 = self.aspp4(x)\n",
    "        x5 = self.global_avg_pool(x)\n",
    "        x5 = F.upsample(x5, size=x4.size()[2:], mode='bilinear', align_corners=True)\n",
    "\n",
    "        x = torch.cat((x1, x2, x3, x4, x5), dim=1)\n",
    "\n",
    "        x = self.conv1(x)\n",
    "#         x = self.bn1(x)\n",
    "#         x = self.relu(x)\n",
    "        x = F.upsample(x, size=(int(math.ceil(input.size()[-2]/4)),\n",
    "                                int(math.ceil(input.size()[-1]/4))), mode='bilinear', align_corners=True)\n",
    "\n",
    "        low_level_features = self.conv2(low_level_features)\n",
    "#         low_level_features = self.bn2(low_level_features)\n",
    "#         low_level_features = self.relu(low_level_features)\n",
    "\n",
    "\n",
    "        x = torch.cat((x, low_level_features), dim=1)\n",
    "        x = self.last_conv(x)\n",
    "        x = F.upsample(x, size=input.size()[2:], mode='bilinear', align_corners=True)\n",
    "\n",
    "        return x\n",
    "\n",
    "    def freeze_bn(self):\n",
    "        for m in self.modules():\n",
    "            if isinstance(m, nn.BatchNorm2d):\n",
    "                m.eval()\n",
    "\n",
    "    def __init_weight(self):\n",
    "        for m in self.modules():\n",
    "            if isinstance(m, nn.Conv2d):\n",
    "                n = m.kernel_size[0] * m.kernel_size[1] * m.out_channels\n",
    "                m.weight.data.normal_(0, math.sqrt(2. / n))\n",
    "                # torch.nn.init.kaiming_normal_(m.weight)\n",
    "            elif isinstance(m, nn.BatchNorm2d):\n",
    "                m.weight.data.fill_(1)\n",
    "                m.bias.data.zero_()\n",
    "\n"
   ]
  },
  {
   "cell_type": "code",
   "execution_count": 10,
   "id": "c83992c5",
   "metadata": {},
   "outputs": [],
   "source": [
    "def get_1x_lr_params(model):\n",
    "    \"\"\"\n",
    "    This generator returns all the parameters of the net except for\n",
    "    the last classification layer. Note that for each batchnorm layer,\n",
    "    requires_grad is set to False in deeplab_resnet.py, therefore this function does not return\n",
    "    any batchnorm parameter\n",
    "    \"\"\"\n",
    "    b = [model.xception_features]\n",
    "    for i in range(len(b)):\n",
    "        for k in b[i].parameters():\n",
    "            if k.requires_grad:\n",
    "                yield k\n",
    "\n",
    "\n",
    "def get_10x_lr_params(model):\n",
    "    \"\"\"\n",
    "    This generator returns all the parameters for the last layer of the net,\n",
    "    which does the classification of pixel into classes\n",
    "    \"\"\"\n",
    "    b = [model.aspp1, model.aspp2, model.aspp3, model.aspp4, model.conv1, model.conv2, model.last_conv]\n",
    "    for j in range(len(b)):\n",
    "        for k in b[j].parameters():\n",
    "            if k.requires_grad:\n",
    "                yield k"
   ]
  },
  {
   "cell_type": "code",
   "execution_count": 93,
   "id": "bc3ec251",
   "metadata": {},
   "outputs": [
    {
     "name": "stdout",
     "output_type": "stream",
     "text": [
      "Constructing DeepLabv3+ model...\n",
      "Number of classes: 1\n",
      "Output stride: 16\n",
      "Number of Input Channels: 3\n",
      "torch.Size([1, 1, 512, 512])\n"
     ]
    }
   ],
   "source": [
    "model = DeepLabv3_plus(nInputChannels=3, n_classes=1, os=16, pretrained=False, _print=True)\n",
    "model.eval()\n",
    "image = torch.randn(1, 3, 512, 512)\n",
    "with torch.no_grad():\n",
    "  output = model.forward(image)\n",
    "print(output.size())"
   ]
  },
  {
   "cell_type": "code",
   "execution_count": 94,
   "id": "7ba8edf6",
   "metadata": {},
   "outputs": [
    {
     "name": "stdout",
     "output_type": "stream",
     "text": [
      "DeepLabv3_plus(\n",
      "  (xception_features): Xception(\n",
      "    (conv1): GhostModule(\n",
      "      (primary_conv): Sequential(\n",
      "        (0): Conv2d(3, 16, kernel_size=(3, 3), stride=(2, 2), padding=(1, 1), bias=False)\n",
      "        (1): BatchNorm2d(16, eps=1e-05, momentum=0.1, affine=True, track_running_stats=True)\n",
      "        (2): ReLU(inplace=True)\n",
      "      )\n",
      "      (cheap_operation): Sequential(\n",
      "        (0): Conv2d(16, 16, kernel_size=(3, 3), stride=(1, 1), padding=(1, 1), groups=16, bias=False)\n",
      "        (1): BatchNorm2d(16, eps=1e-05, momentum=0.1, affine=True, track_running_stats=True)\n",
      "        (2): ReLU(inplace=True)\n",
      "      )\n",
      "    )\n",
      "    (relu): ReLU(inplace=True)\n",
      "    (conv2): GhostModule(\n",
      "      (primary_conv): Sequential(\n",
      "        (0): Conv2d(32, 32, kernel_size=(3, 3), stride=(1, 1), padding=(1, 1), bias=False)\n",
      "        (1): BatchNorm2d(32, eps=1e-05, momentum=0.1, affine=True, track_running_stats=True)\n",
      "        (2): Sequential()\n",
      "      )\n",
      "      (cheap_operation): Sequential(\n",
      "        (0): Conv2d(32, 32, kernel_size=(3, 3), stride=(1, 1), padding=(1, 1), groups=32, bias=False)\n",
      "        (1): BatchNorm2d(32, eps=1e-05, momentum=0.1, affine=True, track_running_stats=True)\n",
      "        (2): Sequential()\n",
      "      )\n",
      "    )\n",
      "    (block1): Block(\n",
      "      (skip): GhostModule(\n",
      "        (primary_conv): Sequential(\n",
      "          (0): Conv2d(64, 64, kernel_size=(1, 1), stride=(2, 2), bias=False)\n",
      "          (1): BatchNorm2d(64, eps=1e-05, momentum=0.1, affine=True, track_running_stats=True)\n",
      "          (2): Sequential()\n",
      "        )\n",
      "        (cheap_operation): Sequential(\n",
      "          (0): Conv2d(64, 64, kernel_size=(3, 3), stride=(1, 1), padding=(1, 1), groups=64, bias=False)\n",
      "          (1): BatchNorm2d(64, eps=1e-05, momentum=0.1, affine=True, track_running_stats=True)\n",
      "          (2): Sequential()\n",
      "        )\n",
      "      )\n",
      "      (relu): ReLU(inplace=True)\n",
      "      (rep): Sequential(\n",
      "        (0): SeparableConv2d_same(\n",
      "          (conv1): Conv2d(64, 64, kernel_size=(3, 3), stride=(1, 1), groups=64, bias=False)\n",
      "          (pointwise): Conv2d(64, 128, kernel_size=(1, 1), stride=(1, 1), bias=False)\n",
      "        )\n",
      "        (1): BatchNorm2d(128, eps=1e-05, momentum=0.1, affine=True, track_running_stats=True)\n",
      "        (2): ReLU(inplace=True)\n",
      "        (3): SeparableConv2d_same(\n",
      "          (conv1): Conv2d(128, 128, kernel_size=(3, 3), stride=(1, 1), groups=128, bias=False)\n",
      "          (pointwise): Conv2d(128, 128, kernel_size=(1, 1), stride=(1, 1), bias=False)\n",
      "        )\n",
      "        (4): BatchNorm2d(128, eps=1e-05, momentum=0.1, affine=True, track_running_stats=True)\n",
      "        (5): GhostModule(\n",
      "          (primary_conv): Sequential(\n",
      "            (0): Conv2d(128, 64, kernel_size=(3, 3), stride=(2, 2), padding=(1, 1), bias=False)\n",
      "            (1): Sequential()\n",
      "            (2): Sequential()\n",
      "          )\n",
      "          (cheap_operation): Sequential(\n",
      "            (0): Conv2d(64, 64, kernel_size=(3, 3), stride=(1, 1), padding=(1, 1), groups=64, bias=False)\n",
      "            (1): Sequential()\n",
      "            (2): Sequential()\n",
      "          )\n",
      "        )\n",
      "      )\n",
      "    )\n",
      "    (block2): Block(\n",
      "      (skip): GhostModule(\n",
      "        (primary_conv): Sequential(\n",
      "          (0): Conv2d(128, 128, kernel_size=(1, 1), stride=(2, 2), bias=False)\n",
      "          (1): BatchNorm2d(128, eps=1e-05, momentum=0.1, affine=True, track_running_stats=True)\n",
      "          (2): Sequential()\n",
      "        )\n",
      "        (cheap_operation): Sequential(\n",
      "          (0): Conv2d(128, 128, kernel_size=(3, 3), stride=(1, 1), padding=(1, 1), groups=128, bias=False)\n",
      "          (1): BatchNorm2d(128, eps=1e-05, momentum=0.1, affine=True, track_running_stats=True)\n",
      "          (2): Sequential()\n",
      "        )\n",
      "      )\n",
      "      (relu): ReLU(inplace=True)\n",
      "      (rep): Sequential(\n",
      "        (0): ReLU(inplace=True)\n",
      "        (1): SeparableConv2d_same(\n",
      "          (conv1): Conv2d(128, 128, kernel_size=(3, 3), stride=(1, 1), groups=128, bias=False)\n",
      "          (pointwise): Conv2d(128, 256, kernel_size=(1, 1), stride=(1, 1), bias=False)\n",
      "        )\n",
      "        (2): BatchNorm2d(256, eps=1e-05, momentum=0.1, affine=True, track_running_stats=True)\n",
      "        (3): ReLU(inplace=True)\n",
      "        (4): SeparableConv2d_same(\n",
      "          (conv1): Conv2d(256, 256, kernel_size=(3, 3), stride=(1, 1), groups=256, bias=False)\n",
      "          (pointwise): Conv2d(256, 256, kernel_size=(1, 1), stride=(1, 1), bias=False)\n",
      "        )\n",
      "        (5): BatchNorm2d(256, eps=1e-05, momentum=0.1, affine=True, track_running_stats=True)\n",
      "        (6): GhostModule(\n",
      "          (primary_conv): Sequential(\n",
      "            (0): Conv2d(256, 128, kernel_size=(3, 3), stride=(2, 2), padding=(1, 1), bias=False)\n",
      "            (1): Sequential()\n",
      "            (2): Sequential()\n",
      "          )\n",
      "          (cheap_operation): Sequential(\n",
      "            (0): Conv2d(128, 128, kernel_size=(3, 3), stride=(1, 1), padding=(1, 1), groups=128, bias=False)\n",
      "            (1): Sequential()\n",
      "            (2): Sequential()\n",
      "          )\n",
      "        )\n",
      "      )\n",
      "    )\n",
      "    (block3): Block(\n",
      "      (skip): GhostModule(\n",
      "        (primary_conv): Sequential(\n",
      "          (0): Conv2d(256, 364, kernel_size=(1, 1), stride=(2, 2), bias=False)\n",
      "          (1): BatchNorm2d(364, eps=1e-05, momentum=0.1, affine=True, track_running_stats=True)\n",
      "          (2): Sequential()\n",
      "        )\n",
      "        (cheap_operation): Sequential(\n",
      "          (0): Conv2d(364, 364, kernel_size=(3, 3), stride=(1, 1), padding=(1, 1), groups=364, bias=False)\n",
      "          (1): BatchNorm2d(364, eps=1e-05, momentum=0.1, affine=True, track_running_stats=True)\n",
      "          (2): Sequential()\n",
      "        )\n",
      "      )\n",
      "      (relu): ReLU(inplace=True)\n",
      "      (rep): Sequential(\n",
      "        (0): ReLU(inplace=True)\n",
      "        (1): SeparableConv2d_same(\n",
      "          (conv1): Conv2d(256, 256, kernel_size=(3, 3), stride=(1, 1), groups=256, bias=False)\n",
      "          (pointwise): Conv2d(256, 728, kernel_size=(1, 1), stride=(1, 1), bias=False)\n",
      "        )\n",
      "        (2): BatchNorm2d(728, eps=1e-05, momentum=0.1, affine=True, track_running_stats=True)\n",
      "        (3): ReLU(inplace=True)\n",
      "        (4): SeparableConv2d_same(\n",
      "          (conv1): Conv2d(728, 728, kernel_size=(3, 3), stride=(1, 1), groups=728, bias=False)\n",
      "          (pointwise): Conv2d(728, 728, kernel_size=(1, 1), stride=(1, 1), bias=False)\n",
      "        )\n",
      "        (5): BatchNorm2d(728, eps=1e-05, momentum=0.1, affine=True, track_running_stats=True)\n",
      "        (6): GhostModule(\n",
      "          (primary_conv): Sequential(\n",
      "            (0): Conv2d(728, 364, kernel_size=(3, 3), stride=(2, 2), padding=(1, 1), bias=False)\n",
      "            (1): Sequential()\n",
      "            (2): Sequential()\n",
      "          )\n",
      "          (cheap_operation): Sequential(\n",
      "            (0): Conv2d(364, 364, kernel_size=(3, 3), stride=(1, 1), padding=(1, 1), groups=364, bias=False)\n",
      "            (1): Sequential()\n",
      "            (2): Sequential()\n",
      "          )\n",
      "        )\n",
      "      )\n",
      "    )\n",
      "    (block4): Block(\n",
      "      (relu): ReLU(inplace=True)\n",
      "      (rep): Sequential(\n",
      "        (0): ReLU(inplace=True)\n",
      "        (1): SeparableConv2d_same(\n",
      "          (conv1): Conv2d(728, 728, kernel_size=(3, 3), stride=(1, 1), groups=728, bias=False)\n",
      "          (pointwise): Conv2d(728, 728, kernel_size=(1, 1), stride=(1, 1), bias=False)\n",
      "        )\n",
      "        (2): BatchNorm2d(728, eps=1e-05, momentum=0.1, affine=True, track_running_stats=True)\n",
      "        (3): ReLU(inplace=True)\n",
      "        (4): SeparableConv2d_same(\n",
      "          (conv1): Conv2d(728, 728, kernel_size=(3, 3), stride=(1, 1), groups=728, bias=False)\n",
      "          (pointwise): Conv2d(728, 728, kernel_size=(1, 1), stride=(1, 1), bias=False)\n",
      "        )\n",
      "        (5): BatchNorm2d(728, eps=1e-05, momentum=0.1, affine=True, track_running_stats=True)\n",
      "        (6): ReLU(inplace=True)\n",
      "        (7): SeparableConv2d_same(\n",
      "          (conv1): Conv2d(728, 728, kernel_size=(3, 3), stride=(1, 1), groups=728, bias=False)\n",
      "          (pointwise): Conv2d(728, 728, kernel_size=(1, 1), stride=(1, 1), bias=False)\n",
      "        )\n",
      "        (8): BatchNorm2d(728, eps=1e-05, momentum=0.1, affine=True, track_running_stats=True)\n",
      "      )\n",
      "    )\n",
      "    (block5): Block(\n",
      "      (relu): ReLU(inplace=True)\n",
      "      (rep): Sequential(\n",
      "        (0): ReLU(inplace=True)\n",
      "        (1): SeparableConv2d_same(\n",
      "          (conv1): Conv2d(728, 728, kernel_size=(3, 3), stride=(1, 1), groups=728, bias=False)\n",
      "          (pointwise): Conv2d(728, 728, kernel_size=(1, 1), stride=(1, 1), bias=False)\n",
      "        )\n",
      "        (2): BatchNorm2d(728, eps=1e-05, momentum=0.1, affine=True, track_running_stats=True)\n",
      "        (3): ReLU(inplace=True)\n",
      "        (4): SeparableConv2d_same(\n",
      "          (conv1): Conv2d(728, 728, kernel_size=(3, 3), stride=(1, 1), groups=728, bias=False)\n",
      "          (pointwise): Conv2d(728, 728, kernel_size=(1, 1), stride=(1, 1), bias=False)\n",
      "        )\n",
      "        (5): BatchNorm2d(728, eps=1e-05, momentum=0.1, affine=True, track_running_stats=True)\n",
      "        (6): ReLU(inplace=True)\n",
      "        (7): SeparableConv2d_same(\n",
      "          (conv1): Conv2d(728, 728, kernel_size=(3, 3), stride=(1, 1), groups=728, bias=False)\n",
      "          (pointwise): Conv2d(728, 728, kernel_size=(1, 1), stride=(1, 1), bias=False)\n",
      "        )\n",
      "        (8): BatchNorm2d(728, eps=1e-05, momentum=0.1, affine=True, track_running_stats=True)\n",
      "      )\n",
      "    )\n",
      "    (block6): Block(\n",
      "      (relu): ReLU(inplace=True)\n",
      "      (rep): Sequential(\n",
      "        (0): ReLU(inplace=True)\n",
      "        (1): SeparableConv2d_same(\n",
      "          (conv1): Conv2d(728, 728, kernel_size=(3, 3), stride=(1, 1), groups=728, bias=False)\n",
      "          (pointwise): Conv2d(728, 728, kernel_size=(1, 1), stride=(1, 1), bias=False)\n",
      "        )\n",
      "        (2): BatchNorm2d(728, eps=1e-05, momentum=0.1, affine=True, track_running_stats=True)\n",
      "        (3): ReLU(inplace=True)\n",
      "        (4): SeparableConv2d_same(\n",
      "          (conv1): Conv2d(728, 728, kernel_size=(3, 3), stride=(1, 1), groups=728, bias=False)\n",
      "          (pointwise): Conv2d(728, 728, kernel_size=(1, 1), stride=(1, 1), bias=False)\n",
      "        )\n",
      "        (5): BatchNorm2d(728, eps=1e-05, momentum=0.1, affine=True, track_running_stats=True)\n",
      "        (6): ReLU(inplace=True)\n",
      "        (7): SeparableConv2d_same(\n",
      "          (conv1): Conv2d(728, 728, kernel_size=(3, 3), stride=(1, 1), groups=728, bias=False)\n",
      "          (pointwise): Conv2d(728, 728, kernel_size=(1, 1), stride=(1, 1), bias=False)\n",
      "        )\n",
      "        (8): BatchNorm2d(728, eps=1e-05, momentum=0.1, affine=True, track_running_stats=True)\n",
      "      )\n",
      "    )\n",
      "    (block7): Block(\n",
      "      (relu): ReLU(inplace=True)\n",
      "      (rep): Sequential(\n",
      "        (0): ReLU(inplace=True)\n",
      "        (1): SeparableConv2d_same(\n",
      "          (conv1): Conv2d(728, 728, kernel_size=(3, 3), stride=(1, 1), groups=728, bias=False)\n",
      "          (pointwise): Conv2d(728, 728, kernel_size=(1, 1), stride=(1, 1), bias=False)\n",
      "        )\n",
      "        (2): BatchNorm2d(728, eps=1e-05, momentum=0.1, affine=True, track_running_stats=True)\n",
      "        (3): ReLU(inplace=True)\n",
      "        (4): SeparableConv2d_same(\n",
      "          (conv1): Conv2d(728, 728, kernel_size=(3, 3), stride=(1, 1), groups=728, bias=False)\n",
      "          (pointwise): Conv2d(728, 728, kernel_size=(1, 1), stride=(1, 1), bias=False)\n",
      "        )\n",
      "        (5): BatchNorm2d(728, eps=1e-05, momentum=0.1, affine=True, track_running_stats=True)\n",
      "        (6): ReLU(inplace=True)\n",
      "        (7): SeparableConv2d_same(\n",
      "          (conv1): Conv2d(728, 728, kernel_size=(3, 3), stride=(1, 1), groups=728, bias=False)\n",
      "          (pointwise): Conv2d(728, 728, kernel_size=(1, 1), stride=(1, 1), bias=False)\n",
      "        )\n",
      "        (8): BatchNorm2d(728, eps=1e-05, momentum=0.1, affine=True, track_running_stats=True)\n",
      "      )\n",
      "    )\n",
      "    (block8): Block(\n",
      "      (relu): ReLU(inplace=True)\n",
      "      (rep): Sequential(\n",
      "        (0): ReLU(inplace=True)\n",
      "        (1): SeparableConv2d_same(\n",
      "          (conv1): Conv2d(728, 728, kernel_size=(3, 3), stride=(1, 1), groups=728, bias=False)\n",
      "          (pointwise): Conv2d(728, 728, kernel_size=(1, 1), stride=(1, 1), bias=False)\n",
      "        )\n",
      "        (2): BatchNorm2d(728, eps=1e-05, momentum=0.1, affine=True, track_running_stats=True)\n",
      "        (3): ReLU(inplace=True)\n",
      "        (4): SeparableConv2d_same(\n",
      "          (conv1): Conv2d(728, 728, kernel_size=(3, 3), stride=(1, 1), groups=728, bias=False)\n",
      "          (pointwise): Conv2d(728, 728, kernel_size=(1, 1), stride=(1, 1), bias=False)\n",
      "        )\n",
      "        (5): BatchNorm2d(728, eps=1e-05, momentum=0.1, affine=True, track_running_stats=True)\n",
      "        (6): ReLU(inplace=True)\n",
      "        (7): SeparableConv2d_same(\n",
      "          (conv1): Conv2d(728, 728, kernel_size=(3, 3), stride=(1, 1), groups=728, bias=False)\n",
      "          (pointwise): Conv2d(728, 728, kernel_size=(1, 1), stride=(1, 1), bias=False)\n",
      "        )\n",
      "        (8): BatchNorm2d(728, eps=1e-05, momentum=0.1, affine=True, track_running_stats=True)\n",
      "      )\n",
      "    )\n",
      "    (block9): Block(\n",
      "      (relu): ReLU(inplace=True)\n",
      "      (rep): Sequential(\n",
      "        (0): ReLU(inplace=True)\n",
      "        (1): SeparableConv2d_same(\n",
      "          (conv1): Conv2d(728, 728, kernel_size=(3, 3), stride=(1, 1), groups=728, bias=False)\n",
      "          (pointwise): Conv2d(728, 728, kernel_size=(1, 1), stride=(1, 1), bias=False)\n",
      "        )\n",
      "        (2): BatchNorm2d(728, eps=1e-05, momentum=0.1, affine=True, track_running_stats=True)\n",
      "        (3): ReLU(inplace=True)\n",
      "        (4): SeparableConv2d_same(\n",
      "          (conv1): Conv2d(728, 728, kernel_size=(3, 3), stride=(1, 1), groups=728, bias=False)\n",
      "          (pointwise): Conv2d(728, 728, kernel_size=(1, 1), stride=(1, 1), bias=False)\n",
      "        )\n",
      "        (5): BatchNorm2d(728, eps=1e-05, momentum=0.1, affine=True, track_running_stats=True)\n",
      "        (6): ReLU(inplace=True)\n",
      "        (7): SeparableConv2d_same(\n",
      "          (conv1): Conv2d(728, 728, kernel_size=(3, 3), stride=(1, 1), groups=728, bias=False)\n",
      "          (pointwise): Conv2d(728, 728, kernel_size=(1, 1), stride=(1, 1), bias=False)\n",
      "        )\n",
      "        (8): BatchNorm2d(728, eps=1e-05, momentum=0.1, affine=True, track_running_stats=True)\n",
      "      )\n",
      "    )\n",
      "    (block10): Block(\n",
      "      (relu): ReLU(inplace=True)\n",
      "      (rep): Sequential(\n",
      "        (0): ReLU(inplace=True)\n",
      "        (1): SeparableConv2d_same(\n",
      "          (conv1): Conv2d(728, 728, kernel_size=(3, 3), stride=(1, 1), groups=728, bias=False)\n",
      "          (pointwise): Conv2d(728, 728, kernel_size=(1, 1), stride=(1, 1), bias=False)\n",
      "        )\n",
      "        (2): BatchNorm2d(728, eps=1e-05, momentum=0.1, affine=True, track_running_stats=True)\n",
      "        (3): ReLU(inplace=True)\n",
      "        (4): SeparableConv2d_same(\n",
      "          (conv1): Conv2d(728, 728, kernel_size=(3, 3), stride=(1, 1), groups=728, bias=False)\n",
      "          (pointwise): Conv2d(728, 728, kernel_size=(1, 1), stride=(1, 1), bias=False)\n",
      "        )\n",
      "        (5): BatchNorm2d(728, eps=1e-05, momentum=0.1, affine=True, track_running_stats=True)\n",
      "        (6): ReLU(inplace=True)\n",
      "        (7): SeparableConv2d_same(\n",
      "          (conv1): Conv2d(728, 728, kernel_size=(3, 3), stride=(1, 1), groups=728, bias=False)\n",
      "          (pointwise): Conv2d(728, 728, kernel_size=(1, 1), stride=(1, 1), bias=False)\n",
      "        )\n",
      "        (8): BatchNorm2d(728, eps=1e-05, momentum=0.1, affine=True, track_running_stats=True)\n",
      "      )\n",
      "    )\n",
      "    (block11): Block(\n",
      "      (relu): ReLU(inplace=True)\n",
      "      (rep): Sequential(\n",
      "        (0): ReLU(inplace=True)\n",
      "        (1): SeparableConv2d_same(\n",
      "          (conv1): Conv2d(728, 728, kernel_size=(3, 3), stride=(1, 1), groups=728, bias=False)\n",
      "          (pointwise): Conv2d(728, 728, kernel_size=(1, 1), stride=(1, 1), bias=False)\n",
      "        )\n",
      "        (2): BatchNorm2d(728, eps=1e-05, momentum=0.1, affine=True, track_running_stats=True)\n",
      "        (3): ReLU(inplace=True)\n",
      "        (4): SeparableConv2d_same(\n",
      "          (conv1): Conv2d(728, 728, kernel_size=(3, 3), stride=(1, 1), groups=728, bias=False)\n",
      "          (pointwise): Conv2d(728, 728, kernel_size=(1, 1), stride=(1, 1), bias=False)\n",
      "        )\n",
      "        (5): BatchNorm2d(728, eps=1e-05, momentum=0.1, affine=True, track_running_stats=True)\n",
      "        (6): ReLU(inplace=True)\n",
      "        (7): SeparableConv2d_same(\n",
      "          (conv1): Conv2d(728, 728, kernel_size=(3, 3), stride=(1, 1), groups=728, bias=False)\n",
      "          (pointwise): Conv2d(728, 728, kernel_size=(1, 1), stride=(1, 1), bias=False)\n",
      "        )\n",
      "        (8): BatchNorm2d(728, eps=1e-05, momentum=0.1, affine=True, track_running_stats=True)\n",
      "      )\n",
      "    )\n",
      "    (block12): Block(\n",
      "      (relu): ReLU(inplace=True)\n",
      "      (rep): Sequential(\n",
      "        (0): ReLU(inplace=True)\n",
      "        (1): SeparableConv2d_same(\n",
      "          (conv1): Conv2d(728, 728, kernel_size=(3, 3), stride=(1, 1), groups=728, bias=False)\n",
      "          (pointwise): Conv2d(728, 728, kernel_size=(1, 1), stride=(1, 1), bias=False)\n",
      "        )\n",
      "        (2): BatchNorm2d(728, eps=1e-05, momentum=0.1, affine=True, track_running_stats=True)\n",
      "        (3): ReLU(inplace=True)\n",
      "        (4): SeparableConv2d_same(\n",
      "          (conv1): Conv2d(728, 728, kernel_size=(3, 3), stride=(1, 1), groups=728, bias=False)\n",
      "          (pointwise): Conv2d(728, 728, kernel_size=(1, 1), stride=(1, 1), bias=False)\n",
      "        )\n",
      "        (5): BatchNorm2d(728, eps=1e-05, momentum=0.1, affine=True, track_running_stats=True)\n",
      "        (6): ReLU(inplace=True)\n",
      "        (7): SeparableConv2d_same(\n",
      "          (conv1): Conv2d(728, 728, kernel_size=(3, 3), stride=(1, 1), groups=728, bias=False)\n",
      "          (pointwise): Conv2d(728, 728, kernel_size=(1, 1), stride=(1, 1), bias=False)\n",
      "        )\n",
      "        (8): BatchNorm2d(728, eps=1e-05, momentum=0.1, affine=True, track_running_stats=True)\n",
      "      )\n",
      "    )\n",
      "    (block13): Block(\n",
      "      (relu): ReLU(inplace=True)\n",
      "      (rep): Sequential(\n",
      "        (0): ReLU(inplace=True)\n",
      "        (1): SeparableConv2d_same(\n",
      "          (conv1): Conv2d(728, 728, kernel_size=(3, 3), stride=(1, 1), groups=728, bias=False)\n",
      "          (pointwise): Conv2d(728, 728, kernel_size=(1, 1), stride=(1, 1), bias=False)\n",
      "        )\n",
      "        (2): BatchNorm2d(728, eps=1e-05, momentum=0.1, affine=True, track_running_stats=True)\n",
      "        (3): ReLU(inplace=True)\n",
      "        (4): SeparableConv2d_same(\n",
      "          (conv1): Conv2d(728, 728, kernel_size=(3, 3), stride=(1, 1), groups=728, bias=False)\n",
      "          (pointwise): Conv2d(728, 728, kernel_size=(1, 1), stride=(1, 1), bias=False)\n",
      "        )\n",
      "        (5): BatchNorm2d(728, eps=1e-05, momentum=0.1, affine=True, track_running_stats=True)\n",
      "        (6): ReLU(inplace=True)\n",
      "        (7): SeparableConv2d_same(\n",
      "          (conv1): Conv2d(728, 728, kernel_size=(3, 3), stride=(1, 1), groups=728, bias=False)\n",
      "          (pointwise): Conv2d(728, 728, kernel_size=(1, 1), stride=(1, 1), bias=False)\n",
      "        )\n",
      "        (8): BatchNorm2d(728, eps=1e-05, momentum=0.1, affine=True, track_running_stats=True)\n",
      "      )\n",
      "    )\n",
      "    (block14): Block(\n",
      "      (relu): ReLU(inplace=True)\n",
      "      (rep): Sequential(\n",
      "        (0): ReLU(inplace=True)\n",
      "        (1): SeparableConv2d_same(\n",
      "          (conv1): Conv2d(728, 728, kernel_size=(3, 3), stride=(1, 1), groups=728, bias=False)\n",
      "          (pointwise): Conv2d(728, 728, kernel_size=(1, 1), stride=(1, 1), bias=False)\n",
      "        )\n",
      "        (2): BatchNorm2d(728, eps=1e-05, momentum=0.1, affine=True, track_running_stats=True)\n",
      "        (3): ReLU(inplace=True)\n",
      "        (4): SeparableConv2d_same(\n",
      "          (conv1): Conv2d(728, 728, kernel_size=(3, 3), stride=(1, 1), groups=728, bias=False)\n",
      "          (pointwise): Conv2d(728, 728, kernel_size=(1, 1), stride=(1, 1), bias=False)\n",
      "        )\n",
      "        (5): BatchNorm2d(728, eps=1e-05, momentum=0.1, affine=True, track_running_stats=True)\n",
      "        (6): ReLU(inplace=True)\n",
      "        (7): SeparableConv2d_same(\n",
      "          (conv1): Conv2d(728, 728, kernel_size=(3, 3), stride=(1, 1), groups=728, bias=False)\n",
      "          (pointwise): Conv2d(728, 728, kernel_size=(1, 1), stride=(1, 1), bias=False)\n",
      "        )\n",
      "        (8): BatchNorm2d(728, eps=1e-05, momentum=0.1, affine=True, track_running_stats=True)\n",
      "      )\n",
      "    )\n",
      "    (block15): Block(\n",
      "      (relu): ReLU(inplace=True)\n",
      "      (rep): Sequential(\n",
      "        (0): ReLU(inplace=True)\n",
      "        (1): SeparableConv2d_same(\n",
      "          (conv1): Conv2d(728, 728, kernel_size=(3, 3), stride=(1, 1), groups=728, bias=False)\n",
      "          (pointwise): Conv2d(728, 728, kernel_size=(1, 1), stride=(1, 1), bias=False)\n",
      "        )\n",
      "        (2): BatchNorm2d(728, eps=1e-05, momentum=0.1, affine=True, track_running_stats=True)\n",
      "        (3): ReLU(inplace=True)\n",
      "        (4): SeparableConv2d_same(\n",
      "          (conv1): Conv2d(728, 728, kernel_size=(3, 3), stride=(1, 1), groups=728, bias=False)\n",
      "          (pointwise): Conv2d(728, 728, kernel_size=(1, 1), stride=(1, 1), bias=False)\n",
      "        )\n",
      "        (5): BatchNorm2d(728, eps=1e-05, momentum=0.1, affine=True, track_running_stats=True)\n",
      "        (6): ReLU(inplace=True)\n",
      "        (7): SeparableConv2d_same(\n",
      "          (conv1): Conv2d(728, 728, kernel_size=(3, 3), stride=(1, 1), groups=728, bias=False)\n",
      "          (pointwise): Conv2d(728, 728, kernel_size=(1, 1), stride=(1, 1), bias=False)\n",
      "        )\n",
      "        (8): BatchNorm2d(728, eps=1e-05, momentum=0.1, affine=True, track_running_stats=True)\n",
      "      )\n",
      "    )\n",
      "    (block16): Block(\n",
      "      (relu): ReLU(inplace=True)\n",
      "      (rep): Sequential(\n",
      "        (0): ReLU(inplace=True)\n",
      "        (1): SeparableConv2d_same(\n",
      "          (conv1): Conv2d(728, 728, kernel_size=(3, 3), stride=(1, 1), groups=728, bias=False)\n",
      "          (pointwise): Conv2d(728, 728, kernel_size=(1, 1), stride=(1, 1), bias=False)\n",
      "        )\n",
      "        (2): BatchNorm2d(728, eps=1e-05, momentum=0.1, affine=True, track_running_stats=True)\n",
      "        (3): ReLU(inplace=True)\n",
      "        (4): SeparableConv2d_same(\n",
      "          (conv1): Conv2d(728, 728, kernel_size=(3, 3), stride=(1, 1), groups=728, bias=False)\n",
      "          (pointwise): Conv2d(728, 728, kernel_size=(1, 1), stride=(1, 1), bias=False)\n",
      "        )\n",
      "        (5): BatchNorm2d(728, eps=1e-05, momentum=0.1, affine=True, track_running_stats=True)\n",
      "        (6): ReLU(inplace=True)\n",
      "        (7): SeparableConv2d_same(\n",
      "          (conv1): Conv2d(728, 728, kernel_size=(3, 3), stride=(1, 1), groups=728, bias=False)\n",
      "          (pointwise): Conv2d(728, 728, kernel_size=(1, 1), stride=(1, 1), bias=False)\n",
      "        )\n",
      "        (8): BatchNorm2d(728, eps=1e-05, momentum=0.1, affine=True, track_running_stats=True)\n",
      "      )\n",
      "    )\n",
      "    (block17): Block(\n",
      "      (relu): ReLU(inplace=True)\n",
      "      (rep): Sequential(\n",
      "        (0): ReLU(inplace=True)\n",
      "        (1): SeparableConv2d_same(\n",
      "          (conv1): Conv2d(728, 728, kernel_size=(3, 3), stride=(1, 1), groups=728, bias=False)\n",
      "          (pointwise): Conv2d(728, 728, kernel_size=(1, 1), stride=(1, 1), bias=False)\n",
      "        )\n",
      "        (2): BatchNorm2d(728, eps=1e-05, momentum=0.1, affine=True, track_running_stats=True)\n",
      "        (3): ReLU(inplace=True)\n",
      "        (4): SeparableConv2d_same(\n",
      "          (conv1): Conv2d(728, 728, kernel_size=(3, 3), stride=(1, 1), groups=728, bias=False)\n",
      "          (pointwise): Conv2d(728, 728, kernel_size=(1, 1), stride=(1, 1), bias=False)\n",
      "        )\n",
      "        (5): BatchNorm2d(728, eps=1e-05, momentum=0.1, affine=True, track_running_stats=True)\n",
      "        (6): ReLU(inplace=True)\n",
      "        (7): SeparableConv2d_same(\n",
      "          (conv1): Conv2d(728, 728, kernel_size=(3, 3), stride=(1, 1), groups=728, bias=False)\n",
      "          (pointwise): Conv2d(728, 728, kernel_size=(1, 1), stride=(1, 1), bias=False)\n",
      "        )\n",
      "        (8): BatchNorm2d(728, eps=1e-05, momentum=0.1, affine=True, track_running_stats=True)\n",
      "      )\n",
      "    )\n",
      "    (block18): Block(\n",
      "      (relu): ReLU(inplace=True)\n",
      "      (rep): Sequential(\n",
      "        (0): ReLU(inplace=True)\n",
      "        (1): SeparableConv2d_same(\n",
      "          (conv1): Conv2d(728, 728, kernel_size=(3, 3), stride=(1, 1), groups=728, bias=False)\n",
      "          (pointwise): Conv2d(728, 728, kernel_size=(1, 1), stride=(1, 1), bias=False)\n",
      "        )\n",
      "        (2): BatchNorm2d(728, eps=1e-05, momentum=0.1, affine=True, track_running_stats=True)\n",
      "        (3): ReLU(inplace=True)\n",
      "        (4): SeparableConv2d_same(\n",
      "          (conv1): Conv2d(728, 728, kernel_size=(3, 3), stride=(1, 1), groups=728, bias=False)\n",
      "          (pointwise): Conv2d(728, 728, kernel_size=(1, 1), stride=(1, 1), bias=False)\n",
      "        )\n",
      "        (5): BatchNorm2d(728, eps=1e-05, momentum=0.1, affine=True, track_running_stats=True)\n",
      "        (6): ReLU(inplace=True)\n",
      "        (7): SeparableConv2d_same(\n",
      "          (conv1): Conv2d(728, 728, kernel_size=(3, 3), stride=(1, 1), groups=728, bias=False)\n",
      "          (pointwise): Conv2d(728, 728, kernel_size=(1, 1), stride=(1, 1), bias=False)\n",
      "        )\n",
      "        (8): BatchNorm2d(728, eps=1e-05, momentum=0.1, affine=True, track_running_stats=True)\n",
      "      )\n",
      "    )\n",
      "    (block19): Block(\n",
      "      (relu): ReLU(inplace=True)\n",
      "      (rep): Sequential(\n",
      "        (0): ReLU(inplace=True)\n",
      "        (1): SeparableConv2d_same(\n",
      "          (conv1): Conv2d(728, 728, kernel_size=(3, 3), stride=(1, 1), groups=728, bias=False)\n",
      "          (pointwise): Conv2d(728, 728, kernel_size=(1, 1), stride=(1, 1), bias=False)\n",
      "        )\n",
      "        (2): BatchNorm2d(728, eps=1e-05, momentum=0.1, affine=True, track_running_stats=True)\n",
      "        (3): ReLU(inplace=True)\n",
      "        (4): SeparableConv2d_same(\n",
      "          (conv1): Conv2d(728, 728, kernel_size=(3, 3), stride=(1, 1), groups=728, bias=False)\n",
      "          (pointwise): Conv2d(728, 728, kernel_size=(1, 1), stride=(1, 1), bias=False)\n",
      "        )\n",
      "        (5): BatchNorm2d(728, eps=1e-05, momentum=0.1, affine=True, track_running_stats=True)\n",
      "        (6): ReLU(inplace=True)\n",
      "        (7): SeparableConv2d_same(\n",
      "          (conv1): Conv2d(728, 728, kernel_size=(3, 3), stride=(1, 1), groups=728, bias=False)\n",
      "          (pointwise): Conv2d(728, 728, kernel_size=(1, 1), stride=(1, 1), bias=False)\n",
      "        )\n",
      "        (8): BatchNorm2d(728, eps=1e-05, momentum=0.1, affine=True, track_running_stats=True)\n",
      "      )\n",
      "    )\n",
      "    (block20): Block(\n",
      "      (skip): GhostModule(\n",
      "        (primary_conv): Sequential(\n",
      "          (0): Conv2d(728, 512, kernel_size=(1, 1), stride=(1, 1), bias=False)\n",
      "          (1): BatchNorm2d(512, eps=1e-05, momentum=0.1, affine=True, track_running_stats=True)\n",
      "          (2): Sequential()\n",
      "        )\n",
      "        (cheap_operation): Sequential(\n",
      "          (0): Conv2d(512, 512, kernel_size=(3, 3), stride=(1, 1), padding=(1, 1), groups=512, bias=False)\n",
      "          (1): BatchNorm2d(512, eps=1e-05, momentum=0.1, affine=True, track_running_stats=True)\n",
      "          (2): Sequential()\n",
      "        )\n",
      "      )\n",
      "      (relu): ReLU(inplace=True)\n",
      "      (rep): Sequential(\n",
      "        (0): ReLU(inplace=True)\n",
      "        (1): SeparableConv2d_same(\n",
      "          (conv1): Conv2d(728, 728, kernel_size=(3, 3), stride=(1, 1), groups=728, bias=False)\n",
      "          (pointwise): Conv2d(728, 728, kernel_size=(1, 1), stride=(1, 1), bias=False)\n",
      "        )\n",
      "        (2): BatchNorm2d(728, eps=1e-05, momentum=0.1, affine=True, track_running_stats=True)\n",
      "        (3): ReLU(inplace=True)\n",
      "        (4): SeparableConv2d_same(\n",
      "          (conv1): Conv2d(728, 728, kernel_size=(3, 3), stride=(1, 1), groups=728, bias=False)\n",
      "          (pointwise): Conv2d(728, 1024, kernel_size=(1, 1), stride=(1, 1), bias=False)\n",
      "        )\n",
      "        (5): BatchNorm2d(1024, eps=1e-05, momentum=0.1, affine=True, track_running_stats=True)\n",
      "        (6): GhostModule(\n",
      "          (primary_conv): Sequential(\n",
      "            (0): Conv2d(1024, 512, kernel_size=(3, 3), stride=(1, 1), padding=(1, 1), bias=False)\n",
      "            (1): Sequential()\n",
      "            (2): Sequential()\n",
      "          )\n",
      "          (cheap_operation): Sequential(\n",
      "            (0): Conv2d(512, 512, kernel_size=(3, 3), stride=(1, 1), padding=(1, 1), groups=512, bias=False)\n",
      "            (1): Sequential()\n",
      "            (2): Sequential()\n",
      "          )\n",
      "        )\n",
      "      )\n",
      "    )\n",
      "    (conv3): SeparableConv2d_same(\n",
      "      (conv1): Conv2d(1024, 1024, kernel_size=(3, 3), stride=(1, 1), dilation=(2, 2), groups=1024, bias=False)\n",
      "      (pointwise): Conv2d(1024, 1536, kernel_size=(1, 1), stride=(1, 1), bias=False)\n",
      "    )\n",
      "    (bn3): BatchNorm2d(1536, eps=1e-05, momentum=0.1, affine=True, track_running_stats=True)\n",
      "    (conv4): SeparableConv2d_same(\n",
      "      (conv1): Conv2d(1536, 1536, kernel_size=(3, 3), stride=(1, 1), dilation=(2, 2), groups=1536, bias=False)\n",
      "      (pointwise): Conv2d(1536, 1536, kernel_size=(1, 1), stride=(1, 1), bias=False)\n",
      "    )\n",
      "    (bn4): BatchNorm2d(1536, eps=1e-05, momentum=0.1, affine=True, track_running_stats=True)\n",
      "    (conv5): SeparableConv2d_same(\n",
      "      (conv1): Conv2d(1536, 1536, kernel_size=(3, 3), stride=(1, 1), dilation=(2, 2), groups=1536, bias=False)\n",
      "      (pointwise): Conv2d(1536, 2048, kernel_size=(1, 1), stride=(1, 1), bias=False)\n",
      "    )\n",
      "    (bn5): BatchNorm2d(2048, eps=1e-05, momentum=0.1, affine=True, track_running_stats=True)\n",
      "  )\n",
      "  (aspp1): ASPP_module(\n",
      "    (atrous_convolution): Conv2d(2048, 256, kernel_size=(1, 1), stride=(1, 1), bias=False)\n",
      "    (bn): BatchNorm2d(256, eps=1e-05, momentum=0.1, affine=True, track_running_stats=True)\n",
      "    (relu): ReLU()\n",
      "  )\n",
      "  (aspp2): ASPP_module(\n",
      "    (atrous_convolution): Conv2d(2048, 256, kernel_size=(3, 3), stride=(1, 1), padding=(6, 6), dilation=(6, 6), bias=False)\n",
      "    (bn): BatchNorm2d(256, eps=1e-05, momentum=0.1, affine=True, track_running_stats=True)\n",
      "    (relu): ReLU()\n",
      "  )\n",
      "  (aspp3): ASPP_module(\n",
      "    (atrous_convolution): Conv2d(2048, 256, kernel_size=(3, 3), stride=(1, 1), padding=(12, 12), dilation=(12, 12), bias=False)\n",
      "    (bn): BatchNorm2d(256, eps=1e-05, momentum=0.1, affine=True, track_running_stats=True)\n",
      "    (relu): ReLU()\n",
      "  )\n",
      "  (aspp4): ASPP_module(\n",
      "    (atrous_convolution): Conv2d(2048, 256, kernel_size=(3, 3), stride=(1, 1), padding=(18, 18), dilation=(18, 18), bias=False)\n",
      "    (bn): BatchNorm2d(256, eps=1e-05, momentum=0.1, affine=True, track_running_stats=True)\n",
      "    (relu): ReLU()\n",
      "  )\n",
      "  (relu): ReLU()\n",
      "  (global_avg_pool): Sequential(\n",
      "    (0): AdaptiveAvgPool2d(output_size=(1, 1))\n",
      "    (1): GhostModule(\n",
      "      (primary_conv): Sequential(\n",
      "        (0): Conv2d(2048, 128, kernel_size=(1, 1), stride=(1, 1), bias=False)\n",
      "        (1): BatchNorm2d(128, eps=1e-05, momentum=0.1, affine=True, track_running_stats=True)\n",
      "        (2): ReLU(inplace=True)\n",
      "      )\n",
      "      (cheap_operation): Sequential(\n",
      "        (0): Conv2d(128, 128, kernel_size=(3, 3), stride=(1, 1), padding=(1, 1), groups=128, bias=False)\n",
      "        (1): BatchNorm2d(128, eps=1e-05, momentum=0.1, affine=True, track_running_stats=True)\n",
      "        (2): ReLU(inplace=True)\n",
      "      )\n",
      "    )\n",
      "  )\n",
      "  (conv1): GhostModule(\n",
      "    (primary_conv): Sequential(\n",
      "      (0): Conv2d(1280, 128, kernel_size=(1, 1), stride=(1, 1), bias=False)\n",
      "      (1): BatchNorm2d(128, eps=1e-05, momentum=0.1, affine=True, track_running_stats=True)\n",
      "      (2): ReLU(inplace=True)\n",
      "    )\n",
      "    (cheap_operation): Sequential(\n",
      "      (0): Conv2d(128, 128, kernel_size=(3, 3), stride=(1, 1), padding=(1, 1), groups=128, bias=False)\n",
      "      (1): BatchNorm2d(128, eps=1e-05, momentum=0.1, affine=True, track_running_stats=True)\n",
      "      (2): ReLU(inplace=True)\n",
      "    )\n",
      "  )\n",
      "  (conv2): GhostModule(\n",
      "    (primary_conv): Sequential(\n",
      "      (0): Conv2d(128, 24, kernel_size=(1, 1), stride=(1, 1), bias=False)\n",
      "      (1): BatchNorm2d(24, eps=1e-05, momentum=0.1, affine=True, track_running_stats=True)\n",
      "      (2): ReLU(inplace=True)\n",
      "    )\n",
      "    (cheap_operation): Sequential(\n",
      "      (0): Conv2d(24, 24, kernel_size=(3, 3), stride=(1, 1), padding=(1, 1), groups=24, bias=False)\n",
      "      (1): BatchNorm2d(24, eps=1e-05, momentum=0.1, affine=True, track_running_stats=True)\n",
      "      (2): ReLU(inplace=True)\n",
      "    )\n",
      "  )\n",
      "  (last_conv): Sequential(\n",
      "    (0): GhostModule(\n",
      "      (primary_conv): Sequential(\n",
      "        (0): Conv2d(304, 128, kernel_size=(3, 3), stride=(1, 1), padding=(1, 1), bias=False)\n",
      "        (1): BatchNorm2d(128, eps=1e-05, momentum=0.1, affine=True, track_running_stats=True)\n",
      "        (2): ReLU(inplace=True)\n",
      "      )\n",
      "      (cheap_operation): Sequential(\n",
      "        (0): Conv2d(128, 128, kernel_size=(3, 3), stride=(1, 1), padding=(1, 1), groups=128, bias=False)\n",
      "        (1): BatchNorm2d(128, eps=1e-05, momentum=0.1, affine=True, track_running_stats=True)\n",
      "        (2): ReLU(inplace=True)\n",
      "      )\n",
      "    )\n",
      "    (1): GhostModule(\n",
      "      (primary_conv): Sequential(\n",
      "        (0): Conv2d(256, 128, kernel_size=(3, 3), stride=(1, 1), padding=(1, 1), bias=False)\n",
      "        (1): BatchNorm2d(128, eps=1e-05, momentum=0.1, affine=True, track_running_stats=True)\n",
      "        (2): ReLU(inplace=True)\n",
      "      )\n",
      "      (cheap_operation): Sequential(\n",
      "        (0): Conv2d(128, 128, kernel_size=(3, 3), stride=(1, 1), padding=(1, 1), groups=128, bias=False)\n",
      "        (1): BatchNorm2d(128, eps=1e-05, momentum=0.1, affine=True, track_running_stats=True)\n",
      "        (2): ReLU(inplace=True)\n",
      "      )\n",
      "    )\n",
      "    (2): GhostModule(\n",
      "      (primary_conv): Sequential(\n",
      "        (0): Conv2d(256, 1, kernel_size=(1, 1), stride=(1, 1), bias=False)\n",
      "        (1): Sequential()\n",
      "        (2): Sequential()\n",
      "      )\n",
      "      (cheap_operation): Sequential(\n",
      "        (0): Conv2d(1, 1, kernel_size=(3, 3), stride=(1, 1), padding=(1, 1), bias=False)\n",
      "        (1): Sequential()\n",
      "        (2): Sequential()\n",
      "      )\n",
      "    )\n",
      "  )\n",
      ")\n",
      "Total number of parameters: 58854241\n"
     ]
    }
   ],
   "source": [
    "print_network(model)"
   ]
  },
  {
   "cell_type": "markdown",
   "id": "5f99fd57",
   "metadata": {},
   "source": [
    "# Train"
   ]
  },
  {
   "cell_type": "code",
   "execution_count": 11,
   "id": "9210f33f",
   "metadata": {},
   "outputs": [],
   "source": [
    "# metrics\n",
    "def mIoU(pred_mask, mask, smooth=1e-10, n_classes=1):\n",
    "  with torch.no_grad():\n",
    "    pred_mask = F.softmax(pred_mask, dim=1)\n",
    "    pred_mask = torch.argmax(pred_mask, dim=1)\n",
    "    pred_mask = pred_mask.contiguous().view(-1)\n",
    "    mask = mask.contiguous().view(-1)\n",
    "\n",
    "    iou_per_class = []\n",
    "    for clas in range(0, n_classes): #loop per pixel class\n",
    "      true_class = pred_mask == clas\n",
    "      true_label = mask == clas\n",
    "\n",
    "      if true_label.long().sum().item() == 0: #no exist label in this loop\n",
    "        iou_per_class.append(np.nan)\n",
    "      else:\n",
    "        intersect = torch.logical_and(true_class, true_label).sum().float().item()\n",
    "        union = torch.logical_or(true_class, true_label).sum().float().item()\n",
    "\n",
    "        iou = (intersect + smooth) / (union +smooth)\n",
    "        iou_per_class.append(iou)\n",
    "  return np.nanmean(iou_per_class)\n",
    "\n",
    "def pixel_accuracy(output, mask):\n",
    "  with torch.no_grad():\n",
    "    output = torch.argmax(F.softmax(output, dim=1), dim=1)\n",
    "    correct = torch.eq(output, mask).int()\n",
    "    accuracy = float(correct.sum()) / float(correct.numel())\n",
    "  return accuracy"
   ]
  },
  {
   "cell_type": "code",
   "execution_count": 96,
   "id": "0948470d",
   "metadata": {},
   "outputs": [
    {
     "name": "stdout",
     "output_type": "stream",
     "text": [
      "path： /home/user/Desktop/lanyard_segmentation/guardrail/train_data/features_cropped\n",
      "directory： []\n",
      "file： ['0001_4.png', '0079_7.png', '0048_9.png', '0087_7.png', '0010_10.png', '0047_9.png', '0042_1.png', '0051_7.png', '0060_6.png', '0039_7.png', '0002_8.png', '0028_8.png', '0011_10.png', '0024_1.png', '0013_6.png', '0058_3.png', '0017_9.png', '0065_10.png', '0046_5.png', '0026_5.png', '0056_9.png', '0043_10.png', '0036_1.png', '0032_7.png', '0057_1.png', '0074_6.png', '0025_8.png', '0020_2.png', '0079_6.png', '0064_4.png', '0047_1.png', '0066_4.png', '0080_5.png', '0071_9.png', '0065_9.png', '0051_8.png', '0031_6.png', '0044_9.png', '0020_7.png', '0019_6.png', '0016_4.png', '0017_10.png', '0059_9.png', '0015_4.png', '0045_9.png', '0051_4.png', '0029_9.png', '0082_10.png', '0030_8.png', '0023_2.png', '0079_9.png', '0019_3.png', '0013_4.png', '0002_3.png', '0047_6.png', '0002_1.png', '0057_7.png', '0040_3.png', '0010_1.png', '0012_4.png', '0079_4.png', '0050_8.png', '0067_7.png', '0006_5.png', '0040_9.png', '0005_9.png', '0013_3.png', '0025_3.png', '0054_2.png', '0024_8.png', '0029_6.png', '0023_9.png', '0065_1.png', '0040_1.png', '0032_5.png', '0018_6.png', '0036_8.png', '0046_9.png', '0005_5.png', '0026_1.png', '0011_8.png', '0061_3.png', '0052_8.png', '0087_2.png', '0046_1.png', '0001_6.png', '0003_4.png', '0065_4.png', '0087_6.png', '0041_2.png', '0032_1.png', '0034_7.png', '0070_3.png', '0068_10.png', '0032_3.png', '0068_7.png', '0063_1.png', '0011_6.png', '0048_4.png', '0046_6.png', '0076_6.png', '0056_1.png', '0066_7.png', '0052_3.png', '0010_2.png', '0021_10.png', '0026_8.png', '0080_3.png', '0063_7.png', '0014_8.png', '0088_6.png', '0034_3.png', '0069_5.png', '0042_8.png', '0049_6.png', '0038_5.png', '0048_5.png', '0029_1.png', '0030_10.png', '0006_6.png', '0051_9.png', '0082_3.png', '0019_2.png', '0005_1.png', '0015_5.png', '0053_7.png', '0004_6.png', '0013_5.png', '0036_2.png', '0059_3.png', '0040_6.png', '0058_6.png', '0054_7.png', '0048_7.png', '0006_1.png', '0002_5.png', '0060_9.png', '0028_2.png', '0039_9.png', '0074_9.png', '0025_2.png', '0023_3.png', '0033_9.png', '0071_10.png', '0018_1.png', '0076_10.png', '0088_9.png', '0080_2.png', '0073_6.png', '0038_7.png', '0003_10.png', '0063_5.png', '0003_3.png', '0014_4.png', '0006_4.png', '0051_2.png', '0054_6.png', '0076_3.png', '0073_9.png', '0018_4.png', '0082_6.png', '0060_2.png', '0080_4.png', '0029_3.png', '0028_9.png', '0065_3.png', '0068_3.png', '0037_7.png', '0013_9.png', '0056_7.png', '0017_6.png', '0068_4.png', '0020_10.png', '0049_5.png', '0067_3.png', '0040_4.png', '0073_4.png', '0007_8.png', '0085_3.png', '0046_2.png', '0056_10.png', '0057_2.png', '0019_9.png', '0037_8.png', '0043_5.png', '0055_3.png', '0014_7.png', '0029_8.png', '0014_1.png', '0063_6.png', '0085_9.png', '0045_1.png', '0067_1.png', '0002_9.png', '0038_4.png', '0034_6.png', '0068_9.png', '0079_2.png', '0024_5.png', '0062_2.png', '0055_4.png', '0003_9.png', '0014_2.png', '0030_4.png', '0001_8.png', '0041_5.png', '0051_5.png', '0012_5.png', '0069_3.png', '0005_7.png', '0071_7.png', '0012_10.png', '0019_10.png', '0074_2.png', '0064_1.png', '0073_2.png', '0047_8.png', '0006_9.png', '0028_3.png', '0020_3.png', '0008_9.png', '0036_4.png', '0074_10.png', '0060_7.png', '0009_7.png', '0045_8.png', '0023_4.png', '0068_8.png', '0058_2.png', '0033_10.png', '0053_5.png', '0038_2.png', '0007_4.png', '0011_3.png', '0065_8.png', '0049_9.png', '0067_2.png', '0031_5.png', '0007_2.png', '0038_9.png', '0048_1.png', '0067_10.png', '0015_8.png', '0071_2.png', '0004_2.png', '0016_2.png', '0019_4.png', '0082_8.png', '0032_10.png', '0028_7.png', '0055_2.png', '0057_9.png', '0059_10.png', '0062_9.png', '0035_5.png', '0003_1.png', '0011_5.png', '0017_7.png', '0042_7.png', '0070_4.png', '0005_3.png', '0009_1.png', '0061_2.png', '0005_2.png', '0012_2.png', '0054_9.png', '0057_5.png', '0049_4.png', '0014_6.png', '0045_3.png', '0005_8.png', '0040_7.png', '0063_10.png', '0085_1.png', '0040_10.png', '0052_6.png', '0054_1.png', '0022_10.png', '0041_10.png', '0028_4.png', '0074_8.png', '0065_2.png', '0076_9.png', '0061_8.png', '0087_8.png', '0017_3.png', '0042_3.png', '0061_9.png', '0004_10.png', '0052_2.png', '0041_7.png', '0055_8.png', '0024_4.png', '0015_9.png', '0074_4.png', '0064_10.png', '0042_5.png', '0041_4.png', '0058_1.png', '0024_9.png', '0043_4.png', '0085_10.png', '0044_2.png', '0031_8.png', '0011_2.png', '0030_2.png', '0054_3.png', '0076_5.png', '0007_3.png', '0026_4.png', '0059_5.png', '0062_4.png', '0056_5.png', '0016_6.png', '0013_2.png', '0044_1.png', '0009_10.png', '0017_1.png', '0026_7.png', '0067_4.png', '0070_7.png', '0064_3.png', '0068_6.png', '0017_4.png', '0074_3.png', '0009_9.png', '0016_8.png', '0013_10.png', '0029_5.png', '0082_1.png', '0039_10.png', '0087_9.png', '0019_7.png', '0057_3.png', '0043_1.png', '0080_8.png', '0074_1.png', '0008_4.png', '0021_4.png', '0023_6.png', '0056_3.png', '0030_1.png', '0063_3.png', '0039_5.png', '0041_6.png', '0074_7.png', '0015_1.png', '0085_5.png', '0066_2.png', '0088_8.png', '0010_9.png', '0059_4.png', '0039_4.png', '0082_2.png', '0036_6.png', '0002_6.png', '0062_8.png', '0020_8.png', '0062_5.png', '0015_7.png', '0036_9.png', '0062_1.png', '0074_5.png', '0040_2.png', '0054_8.png', '0022_3.png', '0005_6.png', '0037_10.png', '0035_8.png', '0066_3.png', '0059_2.png', '0021_9.png', '0040_8.png', '0012_8.png', '0045_4.png', '0042_9.png', '0051_1.png', '0064_5.png', '0034_9.png', '0025_6.png', '0063_4.png', '0082_7.png', '0055_9.png', '0070_10.png', '0016_5.png', '0020_1.png', '0087_1.png', '0015_10.png', '0003_5.png', '0035_1.png', '0073_8.png', '0049_3.png', '0008_5.png', '0033_8.png', '0016_3.png', '0049_10.png', '0073_3.png', '0045_10.png', '0037_2.png', '0002_2.png', '0062_3.png', '0061_4.png', '0024_6.png', '0039_3.png', '0061_6.png', '0007_6.png', '0058_4.png', '0056_8.png', '0032_8.png', '0047_4.png', '0059_6.png', '0053_6.png', '0019_1.png', '0001_2.png', '0001_1.png', '0044_10.png', '0043_2.png', '0060_1.png', '0055_10.png', '0061_5.png', '0027_7.png', '0037_6.png', '0082_4.png', '0088_4.png', '0041_8.png', '0046_4.png', '0085_6.png', '0008_10.png', '0027_5.png', '0067_9.png', '0017_2.png', '0065_6.png', '0004_9.png', '0080_7.png', '0085_8.png', '0051_6.png', '0053_4.png', '0058_7.png', '0064_9.png', '0073_7.png', '0050_3.png', '0043_8.png', '0069_1.png', '0030_5.png', '0006_7.png', '0058_9.png', '0068_1.png', '0010_3.png', '0024_3.png', '0013_8.png', '0020_9.png', '0013_1.png', '0025_4.png', '0038_1.png', '0016_7.png', '0035_10.png', '0026_9.png', '0058_10.png', '0019_5.png', '0011_7.png', '0049_8.png', '0053_2.png', '0018_10.png', '0003_7.png', '0015_6.png', '0007_9.png', '0064_8.png', '0027_8.png', '0057_10.png', '0024_7.png', '0024_10.png', '0030_6.png', '0058_5.png', '0031_4.png', '0008_7.png', '0008_2.png', '0071_6.png', '0048_6.png', '0037_1.png', '0062_10.png', '0080_10.png', '0018_2.png', '0003_8.png', '0025_7.png', '0022_2.png', '0060_3.png', '0037_3.png', '0002_7.png', '0082_5.png', '0009_8.png', '0006_8.png', '0016_10.png', '0057_4.png', '0009_5.png', '0023_1.png', '0053_10.png', '0065_7.png', '0033_4.png', '0047_5.png', '0004_1.png', '0040_5.png', '0053_8.png', '0037_4.png', '0069_9.png', '0053_1.png', '0049_1.png', '0085_7.png', '0004_7.png', '0021_2.png', '0054_5.png', '0034_4.png', '0038_8.png', '0036_7.png', '0064_7.png', '0076_4.png', '0073_5.png', '0069_7.png', '0036_5.png', '0052_4.png', '0002_4.png', '0016_9.png', '0070_8.png', '0041_1.png', '0007_1.png', '0048_2.png', '0025_9.png', '0004_4.png', '0037_5.png', '0050_7.png', '0043_9.png', '0046_7.png', '0023_8.png', '0080_1.png', '0008_1.png', '0079_8.png', '0021_5.png', '0039_6.png', '0056_4.png', '0026_3.png', '0016_1.png', '0088_7.png', '0044_8.png', '0025_5.png', '0012_9.png', '0071_1.png', '0047_2.png', '0048_8.png', '0069_8.png', '0014_3.png', '0010_4.png', '0006_3.png', '0034_2.png', '0008_3.png', '0062_6.png', '0067_6.png', '0056_6.png', '0028_6.png', '0041_9.png', '0079_10.png', '0039_1.png', '0033_1.png', '0032_4.png', '0071_5.png', '0053_3.png', '0051_3.png', '0042_10.png', '0044_5.png', '0030_9.png', '0066_8.png', '0079_1.png', '0035_9.png', '0005_10.png', '0088_10.png', '0009_2.png', '0012_3.png', '0020_6.png', '0013_7.png', '0032_6.png', '0088_3.png', '0031_7.png', '0060_10.png', '0028_10.png', '0027_3.png', '0004_8.png', '0052_7.png', '0044_6.png', '0061_10.png', '0021_1.png', '0035_2.png', '0069_2.png', '0087_5.png', '0061_1.png', '0076_2.png', '0033_7.png', '0001_9.png', '0079_3.png', '0021_8.png', '0031_9.png', '0015_3.png', '0088_1.png', '0069_4.png', '0020_5.png', '0008_8.png', '0014_5.png', '0044_4.png', '0050_2.png', '0020_4.png', '0043_6.png', '0004_5.png', '0006_2.png', '0043_3.png', '0073_1.png', '0070_9.png', '0017_5.png', '0054_4.png', '0059_1.png', '0012_1.png', '0059_8.png', '0017_8.png', '0059_7.png', '0063_8.png', '0066_5.png', '0027_6.png', '0046_3.png', '0066_1.png', '0044_3.png', '0045_7.png', '0070_6.png', '0032_9.png', '0022_1.png', '0063_9.png', '0035_4.png', '0068_2.png', '0070_2.png', '0060_5.png', '0031_10.png', '0033_3.png', '0050_4.png', '0057_6.png', '0035_3.png', '0082_9.png', '0019_8.png', '0042_6.png', '0033_2.png', '0034_10.png', '0060_8.png', '0007_5.png', '0031_1.png', '0007_10.png', '0027_4.png', '0067_5.png', '0041_3.png', '0005_4.png', '0023_5.png', '0034_5.png', '0070_5.png', '0014_9.png', '0071_3.png', '0055_7.png', '0012_6.png', '0038_6.png', '0003_2.png', '0066_10.png', '0011_4.png', '0021_6.png', '0008_6.png', '0030_3.png', '0023_10.png', '0071_8.png', '0050_10.png', '0070_1.png', '0047_7.png', '0031_3.png', '0029_10.png', '0028_5.png', '0018_3.png', '0014_10.png', '0003_6.png', '0043_7.png', '0049_7.png', '0018_8.png', '0044_7.png', '0055_6.png', '0045_2.png', '0063_2.png', '0033_5.png', '0065_5.png', '0029_4.png', '0030_7.png', '0032_2.png', '0045_6.png', '0026_2.png', '0052_5.png', '0050_5.png', '0058_8.png', '0029_2.png', '0039_8.png', '0047_10.png', '0022_4.png', '0051_10.png', '0046_10.png', '0045_5.png', '0061_7.png', '0062_7.png', '0050_9.png', '0049_2.png', '0031_2.png', '0050_1.png', '0085_4.png', '0071_4.png', '0035_7.png', '0042_2.png', '0006_10.png', '0067_8.png', '0087_4.png', '0018_5.png', '0056_2.png', '0033_6.png', '0076_7.png', '0021_7.png', '0024_2.png', '0073_10.png', '0027_9.png', '0009_4.png', '0042_4.png', '0087_3.png', '0055_5.png', '0069_10.png', '0025_1.png', '0027_2.png', '0026_6.png', '0004_3.png', '0066_6.png', '0022_9.png', '0001_7.png', '0001_10.png', '0039_2.png', '0080_6.png', '0060_4.png', '0064_6.png', '0009_3.png', '0038_3.png', '0023_7.png', '0036_3.png', '0052_10.png', '0047_3.png', '0025_10.png', '0011_1.png', '0038_10.png', '0087_10.png', '0088_2.png', '0048_3.png', '0001_5.png', '0001_3.png', '0050_6.png', '0018_9.png', '0027_1.png', '0076_8.png', '0088_5.png', '0009_6.png', '0069_6.png', '0054_10.png', '0034_1.png', '0015_2.png', '0036_10.png', '0012_7.png', '0053_9.png', '0080_9.png', '0052_9.png', '0064_2.png', '0035_6.png', '0046_8.png', '0055_1.png', '0007_7.png', '0028_1.png', '0011_9.png', '0002_10.png', '0068_5.png', '0052_1.png', '0085_2.png', '0029_7.png', '0066_9.png', '0026_10.png', '0048_10.png', '0076_1.png', '0021_3.png', '0057_8.png', '0079_5.png', '0034_8.png', '0027_10.png', '0018_7.png', '0037_9.png']\n"
     ]
    },
    {
     "name": "stderr",
     "output_type": "stream",
     "text": [
      "100%|██████████| 792/792 [00:00<00:00, 3033688.37it/s]\n"
     ]
    },
    {
     "name": "stdout",
     "output_type": "stream",
     "text": [
      "Read  792  files\n",
      "path： /home/user/Desktop/lanyard_segmentation/guardrail/train_data/labels_cropped\n",
      "directory： []\n",
      "file： ['0001_4.png', '0079_7.png', '0048_9.png', '0087_7.png', '0010_10.png', '0047_9.png', '0042_1.png', '0051_7.png', '0060_6.png', '0039_7.png', '0002_8.png', '0028_8.png', '0011_10.png', '0024_1.png', '0013_6.png', '0058_3.png', '0017_9.png', '0065_10.png', '0046_5.png', '0026_5.png', '0056_9.png', '0043_10.png', '0036_1.png', '0032_7.png', '0057_1.png', '0074_6.png', '0025_8.png', '0020_2.png', '0079_6.png', '0064_4.png', '0047_1.png', '0066_4.png', '0080_5.png', '0071_9.png', '0065_9.png', '0051_8.png', '0031_6.png', '0044_9.png', '0020_7.png', '0019_6.png', '0016_4.png', '0017_10.png', '0059_9.png', '0015_4.png', '0045_9.png', '0051_4.png', '0029_9.png', '0082_10.png', '0030_8.png', '0023_2.png', '0079_9.png', '0019_3.png', '0013_4.png', '0002_3.png', '0047_6.png', '0002_1.png', '0057_7.png', '0040_3.png', '0010_1.png', '0012_4.png', '0079_4.png', '0050_8.png', '0067_7.png', '0006_5.png', '0040_9.png', '0005_9.png', '0013_3.png', '0025_3.png', '0054_2.png', '0024_8.png', '0029_6.png', '0023_9.png', '0065_1.png', '0040_1.png', '0032_5.png', '0018_6.png', '0036_8.png', '0046_9.png', '0005_5.png', '0026_1.png', '0011_8.png', '0061_3.png', '0052_8.png', '0087_2.png', '0046_1.png', '0001_6.png', '0003_4.png', '0065_4.png', '0087_6.png', '0041_2.png', '0032_1.png', '0034_7.png', '0070_3.png', '0068_10.png', '0032_3.png', '0068_7.png', '0063_1.png', '0011_6.png', '0048_4.png', '0046_6.png', '0076_6.png', '0056_1.png', '0066_7.png', '0052_3.png', '0010_2.png', '0021_10.png', '0026_8.png', '0080_3.png', '0063_7.png', '0014_8.png', '0088_6.png', '0034_3.png', '0069_5.png', '0042_8.png', '0049_6.png', '0038_5.png', '0048_5.png', '0029_1.png', '0030_10.png', '0006_6.png', '0051_9.png', '0082_3.png', '0019_2.png', '0005_1.png', '0015_5.png', '0053_7.png', '0004_6.png', '0013_5.png', '0036_2.png', '0059_3.png', '0040_6.png', '0058_6.png', '0054_7.png', '0048_7.png', '0006_1.png', '0002_5.png', '0060_9.png', '0028_2.png', '0039_9.png', '0074_9.png', '0025_2.png', '0023_3.png', '0033_9.png', '0071_10.png', '0018_1.png', '0076_10.png', '0088_9.png', '0080_2.png', '0073_6.png', '0038_7.png', '0003_10.png', '0063_5.png', '0003_3.png', '0014_4.png', '0006_4.png', '0051_2.png', '0054_6.png', '0076_3.png', '0073_9.png', '0018_4.png', '0082_6.png', '0060_2.png', '0080_4.png', '0029_3.png', '0028_9.png', '0065_3.png', '0068_3.png', '0037_7.png', '0013_9.png', '0056_7.png', '0017_6.png', '0068_4.png', '0020_10.png', '0049_5.png', '0067_3.png', '0040_4.png', '0073_4.png', '0007_8.png', '0085_3.png', '0046_2.png', '0056_10.png', '0057_2.png', '0019_9.png', '0037_8.png', '0043_5.png', '0055_3.png', '0014_7.png', '0029_8.png', '0014_1.png', '0063_6.png', '0085_9.png', '0045_1.png', '0067_1.png', '0002_9.png', '0038_4.png', '0034_6.png', '0068_9.png', '0079_2.png', '0024_5.png', '0062_2.png', '0055_4.png', '0003_9.png', '0014_2.png', '0030_4.png', '0001_8.png', '0041_5.png', '0051_5.png', '0012_5.png', '0069_3.png', '0005_7.png', '0071_7.png', '0012_10.png', '0019_10.png', '0074_2.png', '0064_1.png', '0073_2.png', '0047_8.png', '0006_9.png', '0028_3.png', '0020_3.png', '0008_9.png', '0036_4.png', '0074_10.png', '0060_7.png', '0009_7.png', '0045_8.png', '0023_4.png', '0068_8.png', '0058_2.png', '0033_10.png', '0053_5.png', '0038_2.png', '0007_4.png', '0011_3.png', '0065_8.png', '0049_9.png', '0067_2.png', '0031_5.png', '0007_2.png', '0038_9.png', '0048_1.png', '0067_10.png', '0015_8.png', '0071_2.png', '0004_2.png', '0016_2.png', '0019_4.png', '0082_8.png', '0032_10.png', '0028_7.png', '0055_2.png', '0057_9.png', '0059_10.png', '0062_9.png', '0035_5.png', '0003_1.png', '0011_5.png', '0017_7.png', '0042_7.png', '0070_4.png', '0005_3.png', '0009_1.png', '0061_2.png', '0005_2.png', '0012_2.png', '0054_9.png', '0057_5.png', '0049_4.png', '0014_6.png', '0045_3.png', '0005_8.png', '0040_7.png', '0063_10.png', '0085_1.png', '0040_10.png', '0052_6.png', '0054_1.png', '0022_10.png', '0041_10.png', '0028_4.png', '0074_8.png', '0065_2.png', '0076_9.png', '0061_8.png', '0087_8.png', '0017_3.png', '0042_3.png', '0061_9.png', '0004_10.png', '0052_2.png', '0041_7.png', '0055_8.png', '0024_4.png', '0015_9.png', '0074_4.png', '0064_10.png', '0042_5.png', '0041_4.png', '0058_1.png', '0024_9.png', '0043_4.png', '0085_10.png', '0044_2.png', '0031_8.png', '0011_2.png', '0030_2.png', '0054_3.png', '0076_5.png', '0007_3.png', '0026_4.png', '0059_5.png', '0062_4.png', '0056_5.png', '0016_6.png', '0013_2.png', '0044_1.png', '0009_10.png', '0017_1.png', '0026_7.png', '0067_4.png', '0070_7.png', '0064_3.png', '0068_6.png', '0017_4.png', '0074_3.png', '0009_9.png', '0016_8.png', '0013_10.png', '0029_5.png', '0082_1.png', '0039_10.png', '0087_9.png', '0019_7.png', '0057_3.png', '0043_1.png', '0080_8.png', '0074_1.png', '0008_4.png', '0021_4.png', '0023_6.png', '0056_3.png', '0030_1.png', '0063_3.png', '0039_5.png', '0041_6.png', '0074_7.png', '0015_1.png', '0085_5.png', '0066_2.png', '0088_8.png', '0010_9.png', '0059_4.png', '0039_4.png', '0082_2.png', '0036_6.png', '0002_6.png', '0062_8.png', '0020_8.png', '0062_5.png', '0015_7.png', '0036_9.png', '0062_1.png', '0074_5.png', '0040_2.png', '0054_8.png', '0022_3.png', '0005_6.png', '0037_10.png', '0035_8.png', '0066_3.png', '0059_2.png', '0021_9.png', '0040_8.png', '0012_8.png', '0045_4.png', '0042_9.png', '0051_1.png', '0064_5.png', '0034_9.png', '0025_6.png', '0063_4.png', '0082_7.png', '0055_9.png', '0070_10.png', '0016_5.png', '0020_1.png', '0087_1.png', '0015_10.png', '0003_5.png', '0035_1.png', '0073_8.png', '0049_3.png', '0008_5.png', '0033_8.png', '0016_3.png', '0049_10.png', '0073_3.png', '0045_10.png', '0037_2.png', '0002_2.png', '0062_3.png', '0061_4.png', '0024_6.png', '0039_3.png', '0061_6.png', '0007_6.png', '0058_4.png', '0056_8.png', '0032_8.png', '0047_4.png', '0059_6.png', '0053_6.png', '0019_1.png', '0001_2.png', '0001_1.png', '0044_10.png', '0043_2.png', '0060_1.png', '0055_10.png', '0061_5.png', '0027_7.png', '0037_6.png', '0082_4.png', '0088_4.png', '0041_8.png', '0046_4.png', '0085_6.png', '0008_10.png', '0027_5.png', '0067_9.png', '0017_2.png', '0065_6.png', '0004_9.png', '0080_7.png', '0085_8.png', '0051_6.png', '0053_4.png', '0058_7.png', '0064_9.png', '0073_7.png', '0050_3.png', '0043_8.png', '0069_1.png', '0030_5.png', '0006_7.png', '0058_9.png', '0068_1.png', '0010_3.png', '0024_3.png', '0013_8.png', '0020_9.png', '0013_1.png', '0025_4.png', '0038_1.png', '0016_7.png', '0035_10.png', '0026_9.png', '0058_10.png', '0019_5.png', '0011_7.png', '0049_8.png', '0053_2.png', '0018_10.png', '0003_7.png', '0015_6.png', '0007_9.png', '0064_8.png', '0027_8.png', '0057_10.png', '0024_7.png', '0024_10.png', '0030_6.png', '0058_5.png', '0031_4.png', '0008_7.png', '0008_2.png', '0071_6.png', '0048_6.png', '0037_1.png', '0062_10.png', '0080_10.png', '0018_2.png', '0003_8.png', '0025_7.png', '0022_2.png', '0060_3.png', '0037_3.png', '0002_7.png', '0082_5.png', '0009_8.png', '0006_8.png', '0016_10.png', '0057_4.png', '0009_5.png', '0023_1.png', '0053_10.png', '0065_7.png', '0033_4.png', '0047_5.png', '0004_1.png', '0040_5.png', '0053_8.png', '0037_4.png', '0069_9.png', '0053_1.png', '0049_1.png', '0085_7.png', '0004_7.png', '0021_2.png', '0054_5.png', '0034_4.png', '0038_8.png', '0036_7.png', '0064_7.png', '0076_4.png', '0073_5.png', '0069_7.png', '0036_5.png', '0052_4.png', '0002_4.png', '0016_9.png', '0070_8.png', '0041_1.png', '0007_1.png', '0048_2.png', '0025_9.png', '0004_4.png', '0037_5.png', '0050_7.png', '0043_9.png', '0046_7.png', '0023_8.png', '0080_1.png', '0008_1.png', '0079_8.png', '0021_5.png', '0039_6.png', '0056_4.png', '0026_3.png', '0016_1.png', '0088_7.png', '0044_8.png', '0025_5.png', '0012_9.png', '0071_1.png', '0047_2.png', '0048_8.png', '0069_8.png', '0014_3.png', '0010_4.png', '0006_3.png', '0034_2.png', '0008_3.png', '0062_6.png', '0067_6.png', '0056_6.png', '0028_6.png', '0041_9.png', '0079_10.png', '0039_1.png', '0033_1.png', '0032_4.png', '0071_5.png', '0053_3.png', '0051_3.png', '0042_10.png', '0044_5.png', '0030_9.png', '0066_8.png', '0079_1.png', '0035_9.png', '0005_10.png', '0088_10.png', '0009_2.png', '0012_3.png', '0020_6.png', '0013_7.png', '0032_6.png', '0088_3.png', '0031_7.png', '0060_10.png', '0028_10.png', '0027_3.png', '0004_8.png', '0052_7.png', '0044_6.png', '0061_10.png', '0021_1.png', '0035_2.png', '0069_2.png', '0087_5.png', '0061_1.png', '0076_2.png', '0033_7.png', '0001_9.png', '0079_3.png', '0021_8.png', '0031_9.png', '0015_3.png', '0088_1.png', '0069_4.png', '0020_5.png', '0008_8.png', '0014_5.png', '0044_4.png', '0050_2.png', '0020_4.png', '0043_6.png', '0004_5.png', '0006_2.png', '0043_3.png', '0073_1.png', '0070_9.png', '0017_5.png', '0054_4.png', '0059_1.png', '0012_1.png', '0059_8.png', '0017_8.png', '0059_7.png', '0063_8.png', '0066_5.png', '0027_6.png', '0046_3.png', '0066_1.png', '0044_3.png', '0045_7.png', '0070_6.png', '0032_9.png', '0022_1.png', '0063_9.png', '0035_4.png', '0068_2.png', '0070_2.png', '0060_5.png', '0031_10.png', '0033_3.png', '0050_4.png', '0057_6.png', '0035_3.png', '0082_9.png', '0019_8.png', '0042_6.png', '0033_2.png', '0034_10.png', '0060_8.png', '0007_5.png', '0031_1.png', '0007_10.png', '0027_4.png', '0067_5.png', '0041_3.png', '0005_4.png', '0023_5.png', '0034_5.png', '0070_5.png', '0014_9.png', '0071_3.png', '0055_7.png', '0012_6.png', '0038_6.png', '0003_2.png', '0066_10.png', '0011_4.png', '0021_6.png', '0008_6.png', '0030_3.png', '0023_10.png', '0071_8.png', '0050_10.png', '0070_1.png', '0047_7.png', '0031_3.png', '0029_10.png', '0028_5.png', '0018_3.png', '0014_10.png', '0003_6.png', '0043_7.png', '0049_7.png', '0018_8.png', '0044_7.png', '0055_6.png', '0045_2.png', '0063_2.png', '0033_5.png', '0065_5.png', '0029_4.png', '0030_7.png', '0032_2.png', '0045_6.png', '0026_2.png', '0052_5.png', '0050_5.png', '0058_8.png', '0029_2.png', '0039_8.png', '0047_10.png', '0022_4.png', '0051_10.png', '0046_10.png', '0045_5.png', '0061_7.png', '0062_7.png', '0050_9.png', '0049_2.png', '0031_2.png', '0050_1.png', '0085_4.png', '0071_4.png', '0035_7.png', '0042_2.png', '0006_10.png', '0067_8.png', '0087_4.png', '0018_5.png', '0056_2.png', '0033_6.png', '0076_7.png', '0021_7.png', '0024_2.png', '0073_10.png', '0027_9.png', '0009_4.png', '0042_4.png', '0087_3.png', '0055_5.png', '0069_10.png', '0025_1.png', '0027_2.png', '0026_6.png', '0004_3.png', '0066_6.png', '0022_9.png', '0001_7.png', '0001_10.png', '0039_2.png', '0080_6.png', '0060_4.png', '0064_6.png', '0009_3.png', '0038_3.png', '0023_7.png', '0036_3.png', '0052_10.png', '0047_3.png', '0025_10.png', '0011_1.png', '0038_10.png', '0087_10.png', '0088_2.png', '0048_3.png', '0001_5.png', '0001_3.png', '0050_6.png', '0018_9.png', '0027_1.png', '0076_8.png', '0088_5.png', '0009_6.png', '0069_6.png', '0054_10.png', '0034_1.png', '0015_2.png', '0036_10.png', '0012_7.png', '0053_9.png', '0080_9.png', '0052_9.png', '0064_2.png', '0035_6.png', '0046_8.png', '0055_1.png', '0007_7.png', '0028_1.png', '0011_9.png', '0002_10.png', '0068_5.png', '0052_1.png', '0085_2.png', '0029_7.png', '0066_9.png', '0026_10.png', '0048_10.png', '0076_1.png', '0021_3.png', '0057_8.png', '0079_5.png', '0034_8.png', '0027_10.png', '0018_7.png', '0037_9.png']\n"
     ]
    },
    {
     "name": "stderr",
     "output_type": "stream",
     "text": [
      "100%|██████████| 792/792 [00:00<00:00, 3504102.08it/s]"
     ]
    },
    {
     "name": "stdout",
     "output_type": "stream",
     "text": [
      "Read  792  files\n"
     ]
    },
    {
     "name": "stderr",
     "output_type": "stream",
     "text": [
      "\n"
     ]
    }
   ],
   "source": [
    "input_imgs = read_images(train_features_folder)\n",
    "output_imgs = read_images(train_labels_folder)\n",
    "classes = [\"guardrail\"]\n",
    "cm2lbl = make_cm2lbl()"
   ]
  },
  {
   "cell_type": "code",
   "execution_count": 97,
   "id": "0b8efc74",
   "metadata": {},
   "outputs": [
    {
     "name": "stdout",
     "output_type": "stream",
     "text": [
      "Read 633 images\n",
      "Read 159 images\n"
     ]
    }
   ],
   "source": [
    "input_train, input_vali, output_train, output_vali = train_test_split(input_imgs, output_imgs, test_size=0.2, random_state=42)\n",
    "train_dataset_vis = IS_Dataset(input_train, output_train, classes=classes, cm2lbl=cm2lbl)\n",
    "validation_dataset_vis = IS_Dataset(input_vali, output_vali, classes=classes, cm2lbl=cm2lbl)"
   ]
  },
  {
   "cell_type": "code",
   "execution_count": 98,
   "id": "14eb21e4",
   "metadata": {},
   "outputs": [
    {
     "name": "stdout",
     "output_type": "stream",
     "text": [
      "(256, 256, 3)\n",
      "(256, 256, 1)\n"
     ]
    },
    {
     "data": {
      "image/png": "[encoded data removed]",
      "text/plain": [
       "<Figure size 1152x360 with 2 Axes>"
      ]
     },
     "metadata": {},
     "output_type": "display_data"
    }
   ],
   "source": [
    "image, mask = train_dataset_vis[100]\n",
    "print(image.shape)\n",
    "print(mask.shape)\n",
    "visualize(\n",
    "    image=image, \n",
    "    lanyard_mask=mask[..., 0].squeeze(),\n",
    ")"
   ]
  },
  {
   "cell_type": "code",
   "execution_count": 99,
   "id": "fccabbde",
   "metadata": {},
   "outputs": [
    {
     "name": "stdout",
     "output_type": "stream",
     "text": [
      "Read 633 images\n",
      "Read 159 images\n"
     ]
    }
   ],
   "source": [
    "train_dataset = IS_Dataset(\n",
    "  input_train, \n",
    "  output_train, \n",
    "  transform=transform,\n",
    "  transform_toTensor=transform_toTensor,\n",
    "  classes=classes,\n",
    "  cm2lbl=cm2lbl\n",
    "  )\n",
    "validation_dataset = IS_Dataset(\n",
    "  input_vali, \n",
    "  output_vali,\n",
    "  classes=classes,\n",
    "  transform=transform, \n",
    "  transform_toTensor=transform_toTensor,\n",
    "  cm2lbl=cm2lbl\n",
    "  )\n",
    "  \n",
    "train_dataloader = DataLoader(train_dataset, 8, shuffle=True, num_workers=2, drop_last=True)\n",
    "validation_dataloader = DataLoader(validation_dataset, 1, shuffle=False, num_workers=2, drop_last=True)"
   ]
  },
  {
   "cell_type": "code",
   "execution_count": 12,
   "id": "ded6422c",
   "metadata": {},
   "outputs": [],
   "source": [
    "def dice_loss(pred, target, smooth = 1.):\n",
    "    pred = pred.contiguous()\n",
    "    target = target.contiguous()    \n",
    "\n",
    "    intersection = (pred * target).sum(dim=2).sum(dim=2)\n",
    "    \n",
    "    loss = (1 - ((2. * intersection + smooth) / (pred.sum(dim=2).sum(dim=2) + target.sum(dim=2).sum(dim=2) + smooth)))\n",
    "    \n",
    "    return loss.mean()\n",
    "\n",
    "def calc_loss(pred, target, metrics, bce_weight=0.5):\n",
    "    bce = F.binary_cross_entropy_with_logits(pred, target)\n",
    "        \n",
    "    pred = F.sigmoid(pred)\n",
    "    dice = dice_loss(pred, target)\n",
    "    \n",
    "    loss = bce * bce_weight + dice * (1 - bce_weight)\n",
    "    \n",
    "    metrics['bce'] += bce.data.cpu().numpy() * target.size(0)\n",
    "    metrics['dice'] += dice.data.cpu().numpy() * target.size(0)\n",
    "    metrics['loss'] += loss.data.cpu().numpy() * target.size(0)\n",
    "    \n",
    "    return loss\n",
    "\n",
    "def print_metrics(metrics, epoch_samples, phase):    \n",
    "    outputs = []\n",
    "    for k in metrics.keys():\n",
    "        outputs.append(\"{}: {:4f}\".format(k, metrics[k] / epoch_samples))\n",
    "        \n",
    "    print(\"{}: {}\".format(phase, \", \".join(outputs)))  "
   ]
  },
  {
   "cell_type": "code",
   "execution_count": 101,
   "id": "7eae8aac",
   "metadata": {},
   "outputs": [],
   "source": [
    "image_datasets = {\n",
    "    'train': train_dataset, 'val': validation_dataset\n",
    "}\n",
    "\n",
    "dataloaders = {\n",
    "    'train': train_dataloader,\n",
    "    'val': validation_dataloader\n",
    "}\n",
    "\n",
    "def train_model(model, optimizer, scheduler, num_epochs=25, best_model_path=None):\n",
    "    \n",
    "    if best_model_path:\n",
    "        print(\"Loading best model weight\")\n",
    "        model = torch.load(best_model_path)\n",
    "        best_model_wts = model.state_dict()\n",
    "        model.load_state_dict(best_model_wts)\n",
    "    else:\n",
    "        best_model_wts = copy.deepcopy(model.state_dict())\n",
    "        \n",
    "    best_loss = 1e10\n",
    "\n",
    "    for epoch in range(num_epochs):\n",
    "        print('Epoch {}/{}'.format(epoch, num_epochs - 1))\n",
    "        print('-' * 10)\n",
    "        \n",
    "        if ((epoch % 5) == 0) and (epoch > 1):\n",
    "            weight_path = '/home/user/Desktop/lanyard_segmentation/0425/backups_DeepLabv3plus_xcetption_ghost/model_'+ str(epoch+1) +'.pth'\n",
    "            torch.save(model,weight_path)\n",
    "            print(\"save model\")\n",
    "            \n",
    "        since = time.time()\n",
    "\n",
    "        # Each epoch has a training and validation phase\n",
    "        for phase in ['train', 'val']:\n",
    "            if phase == 'train':\n",
    "                scheduler.step()\n",
    "                for param_group in optimizer.param_groups:\n",
    "                    print(\"LR\", param_group['lr'])\n",
    "                    \n",
    "                model.train()  # Set model to training mode\n",
    "            else:\n",
    "                model.eval()   # Set model to evaluate mode\n",
    "\n",
    "            metrics = defaultdict(float)\n",
    "            epoch_samples = 0\n",
    "            \n",
    "            for data in dataloaders[phase]:\n",
    "                inputs, labels = data\n",
    "                inputs = inputs.to(device)\n",
    "                labels = labels.to(device)             \n",
    "\n",
    "                # zero the parameter gradients\n",
    "                optimizer.zero_grad()\n",
    "\n",
    "                # forward\n",
    "                # track history if only in train\n",
    "                with torch.set_grad_enabled(phase == 'train'):\n",
    "                    outputs = model(inputs)\n",
    "                    loss = calc_loss(outputs, labels, metrics)\n",
    "\n",
    "                    # backward + optimize only if in training phase\n",
    "                    if phase == 'train':\n",
    "                        loss.backward()\n",
    "                        optimizer.step()\n",
    "                        \n",
    "\n",
    "                # statistics\n",
    "                epoch_samples += inputs.size(0)\n",
    "\n",
    "            print_metrics(metrics, epoch_samples, phase)\n",
    "            epoch_loss = metrics['loss'] / epoch_samples\n",
    "\n",
    "            # deep copy the model\n",
    "            if phase == 'val' and epoch_loss < best_loss:\n",
    "                print(\"saving best model\")\n",
    "                \n",
    "                torch.save(model,'/home/user/Desktop/lanyard_segmentation/0425/backups_DeepLabv3plus_xcetption_ghost/best_model.pth')\n",
    "                best_loss = epoch_loss\n",
    "                best_model_wts = copy.deepcopy(model.state_dict())\n",
    "            \n",
    "        time_elapsed = time.time() - since\n",
    "        print('{:.0f}m {:.0f}s'.format(time_elapsed // 60, time_elapsed % 60))\n",
    "    print('Best val loss: {:4f}'.format(best_loss))\n",
    "\n",
    "    # load best model weights\n",
    "    model.load_state_dict(best_model_wts)\n",
    "    return model"
   ]
  },
  {
   "cell_type": "code",
   "execution_count": 102,
   "id": "4392412d",
   "metadata": {},
   "outputs": [
    {
     "name": "stdout",
     "output_type": "stream",
     "text": [
      "cuda:0\n",
      "Constructing DeepLabv3+ model...\n",
      "Number of classes: 1\n",
      "Output stride: 8\n",
      "Number of Input Channels: 3\n",
      "DeepLabv3_plus(\n",
      "  (xception_features): Xception(\n",
      "    (conv1): GhostModule(\n",
      "      (primary_conv): Sequential(\n",
      "        (0): Conv2d(3, 16, kernel_size=(3, 3), stride=(2, 2), padding=(1, 1), bias=False)\n",
      "        (1): BatchNorm2d(16, eps=1e-05, momentum=0.1, affine=True, track_running_stats=True)\n",
      "        (2): ReLU(inplace=True)\n",
      "      )\n",
      "      (cheap_operation): Sequential(\n",
      "        (0): Conv2d(16, 16, kernel_size=(3, 3), stride=(1, 1), padding=(1, 1), groups=16, bias=False)\n",
      "        (1): BatchNorm2d(16, eps=1e-05, momentum=0.1, affine=True, track_running_stats=True)\n",
      "        (2): ReLU(inplace=True)\n",
      "      )\n",
      "    )\n",
      "    (relu): ReLU(inplace=True)\n",
      "    (conv2): GhostModule(\n",
      "      (primary_conv): Sequential(\n",
      "        (0): Conv2d(32, 32, kernel_size=(3, 3), stride=(1, 1), padding=(1, 1), bias=False)\n",
      "        (1): BatchNorm2d(32, eps=1e-05, momentum=0.1, affine=True, track_running_stats=True)\n",
      "        (2): Sequential()\n",
      "      )\n",
      "      (cheap_operation): Sequential(\n",
      "        (0): Conv2d(32, 32, kernel_size=(3, 3), stride=(1, 1), padding=(1, 1), groups=32, bias=False)\n",
      "        (1): BatchNorm2d(32, eps=1e-05, momentum=0.1, affine=True, track_running_stats=True)\n",
      "        (2): Sequential()\n",
      "      )\n",
      "    )\n",
      "    (block1): Block(\n",
      "      (skip): GhostModule(\n",
      "        (primary_conv): Sequential(\n",
      "          (0): Conv2d(64, 64, kernel_size=(1, 1), stride=(2, 2), bias=False)\n",
      "          (1): BatchNorm2d(64, eps=1e-05, momentum=0.1, affine=True, track_running_stats=True)\n",
      "          (2): Sequential()\n",
      "        )\n",
      "        (cheap_operation): Sequential(\n",
      "          (0): Conv2d(64, 64, kernel_size=(3, 3), stride=(1, 1), padding=(1, 1), groups=64, bias=False)\n",
      "          (1): BatchNorm2d(64, eps=1e-05, momentum=0.1, affine=True, track_running_stats=True)\n",
      "          (2): Sequential()\n",
      "        )\n",
      "      )\n",
      "      (relu): ReLU(inplace=True)\n",
      "      (rep): Sequential(\n",
      "        (0): SeparableConv2d_same(\n",
      "          (conv1): Conv2d(64, 64, kernel_size=(3, 3), stride=(1, 1), groups=64, bias=False)\n",
      "          (pointwise): Conv2d(64, 128, kernel_size=(1, 1), stride=(1, 1), bias=False)\n",
      "        )\n",
      "        (1): BatchNorm2d(128, eps=1e-05, momentum=0.1, affine=True, track_running_stats=True)\n",
      "        (2): ReLU(inplace=True)\n",
      "        (3): SeparableConv2d_same(\n",
      "          (conv1): Conv2d(128, 128, kernel_size=(3, 3), stride=(1, 1), groups=128, bias=False)\n",
      "          (pointwise): Conv2d(128, 128, kernel_size=(1, 1), stride=(1, 1), bias=False)\n",
      "        )\n",
      "        (4): BatchNorm2d(128, eps=1e-05, momentum=0.1, affine=True, track_running_stats=True)\n",
      "        (5): GhostModule(\n",
      "          (primary_conv): Sequential(\n",
      "            (0): Conv2d(128, 64, kernel_size=(3, 3), stride=(2, 2), padding=(1, 1), bias=False)\n",
      "            (1): Sequential()\n",
      "            (2): Sequential()\n",
      "          )\n",
      "          (cheap_operation): Sequential(\n",
      "            (0): Conv2d(64, 64, kernel_size=(3, 3), stride=(1, 1), padding=(1, 1), groups=64, bias=False)\n",
      "            (1): Sequential()\n",
      "            (2): Sequential()\n",
      "          )\n",
      "        )\n",
      "      )\n",
      "    )\n",
      "    (block2): Block(\n",
      "      (skip): GhostModule(\n",
      "        (primary_conv): Sequential(\n",
      "          (0): Conv2d(128, 128, kernel_size=(1, 1), stride=(2, 2), bias=False)\n",
      "          (1): BatchNorm2d(128, eps=1e-05, momentum=0.1, affine=True, track_running_stats=True)\n",
      "          (2): Sequential()\n",
      "        )\n",
      "        (cheap_operation): Sequential(\n",
      "          (0): Conv2d(128, 128, kernel_size=(3, 3), stride=(1, 1), padding=(1, 1), groups=128, bias=False)\n",
      "          (1): BatchNorm2d(128, eps=1e-05, momentum=0.1, affine=True, track_running_stats=True)\n",
      "          (2): Sequential()\n",
      "        )\n",
      "      )\n",
      "      (relu): ReLU(inplace=True)\n",
      "      (rep): Sequential(\n",
      "        (0): ReLU(inplace=True)\n",
      "        (1): SeparableConv2d_same(\n",
      "          (conv1): Conv2d(128, 128, kernel_size=(3, 3), stride=(1, 1), groups=128, bias=False)\n",
      "          (pointwise): Conv2d(128, 256, kernel_size=(1, 1), stride=(1, 1), bias=False)\n",
      "        )\n",
      "        (2): BatchNorm2d(256, eps=1e-05, momentum=0.1, affine=True, track_running_stats=True)\n",
      "        (3): ReLU(inplace=True)\n",
      "        (4): SeparableConv2d_same(\n",
      "          (conv1): Conv2d(256, 256, kernel_size=(3, 3), stride=(1, 1), groups=256, bias=False)\n",
      "          (pointwise): Conv2d(256, 256, kernel_size=(1, 1), stride=(1, 1), bias=False)\n",
      "        )\n",
      "        (5): BatchNorm2d(256, eps=1e-05, momentum=0.1, affine=True, track_running_stats=True)\n",
      "        (6): GhostModule(\n",
      "          (primary_conv): Sequential(\n",
      "            (0): Conv2d(256, 128, kernel_size=(3, 3), stride=(2, 2), padding=(1, 1), bias=False)\n",
      "            (1): Sequential()\n",
      "            (2): Sequential()\n",
      "          )\n",
      "          (cheap_operation): Sequential(\n",
      "            (0): Conv2d(128, 128, kernel_size=(3, 3), stride=(1, 1), padding=(1, 1), groups=128, bias=False)\n",
      "            (1): Sequential()\n",
      "            (2): Sequential()\n",
      "          )\n",
      "        )\n",
      "      )\n",
      "    )\n",
      "    (block3): Block(\n",
      "      (skip): GhostModule(\n",
      "        (primary_conv): Sequential(\n",
      "          (0): Conv2d(256, 364, kernel_size=(1, 1), stride=(1, 1), bias=False)\n",
      "          (1): BatchNorm2d(364, eps=1e-05, momentum=0.1, affine=True, track_running_stats=True)\n",
      "          (2): Sequential()\n",
      "        )\n",
      "        (cheap_operation): Sequential(\n",
      "          (0): Conv2d(364, 364, kernel_size=(3, 3), stride=(1, 1), padding=(1, 1), groups=364, bias=False)\n",
      "          (1): BatchNorm2d(364, eps=1e-05, momentum=0.1, affine=True, track_running_stats=True)\n",
      "          (2): Sequential()\n",
      "        )\n",
      "      )\n",
      "      (relu): ReLU(inplace=True)\n",
      "      (rep): Sequential(\n",
      "        (0): ReLU(inplace=True)\n",
      "        (1): SeparableConv2d_same(\n",
      "          (conv1): Conv2d(256, 256, kernel_size=(3, 3), stride=(1, 1), groups=256, bias=False)\n",
      "          (pointwise): Conv2d(256, 728, kernel_size=(1, 1), stride=(1, 1), bias=False)\n",
      "        )\n",
      "        (2): BatchNorm2d(728, eps=1e-05, momentum=0.1, affine=True, track_running_stats=True)\n",
      "        (3): ReLU(inplace=True)\n",
      "        (4): SeparableConv2d_same(\n",
      "          (conv1): Conv2d(728, 728, kernel_size=(3, 3), stride=(1, 1), groups=728, bias=False)\n",
      "          (pointwise): Conv2d(728, 728, kernel_size=(1, 1), stride=(1, 1), bias=False)\n",
      "        )\n",
      "        (5): BatchNorm2d(728, eps=1e-05, momentum=0.1, affine=True, track_running_stats=True)\n",
      "        (6): GhostModule(\n",
      "          (primary_conv): Sequential(\n",
      "            (0): Conv2d(728, 364, kernel_size=(3, 3), stride=(1, 1), padding=(1, 1), bias=False)\n",
      "            (1): Sequential()\n",
      "            (2): Sequential()\n",
      "          )\n",
      "          (cheap_operation): Sequential(\n",
      "            (0): Conv2d(364, 364, kernel_size=(3, 3), stride=(1, 1), padding=(1, 1), groups=364, bias=False)\n",
      "            (1): Sequential()\n",
      "            (2): Sequential()\n",
      "          )\n",
      "        )\n",
      "      )\n",
      "    )\n",
      "    (block4): Block(\n",
      "      (relu): ReLU(inplace=True)\n",
      "      (rep): Sequential(\n",
      "        (0): ReLU(inplace=True)\n",
      "        (1): SeparableConv2d_same(\n",
      "          (conv1): Conv2d(728, 728, kernel_size=(3, 3), stride=(1, 1), dilation=(2, 2), groups=728, bias=False)\n",
      "          (pointwise): Conv2d(728, 728, kernel_size=(1, 1), stride=(1, 1), bias=False)\n",
      "        )\n",
      "        (2): BatchNorm2d(728, eps=1e-05, momentum=0.1, affine=True, track_running_stats=True)\n",
      "        (3): ReLU(inplace=True)\n",
      "        (4): SeparableConv2d_same(\n",
      "          (conv1): Conv2d(728, 728, kernel_size=(3, 3), stride=(1, 1), dilation=(2, 2), groups=728, bias=False)\n",
      "          (pointwise): Conv2d(728, 728, kernel_size=(1, 1), stride=(1, 1), bias=False)\n",
      "        )\n",
      "        (5): BatchNorm2d(728, eps=1e-05, momentum=0.1, affine=True, track_running_stats=True)\n",
      "        (6): ReLU(inplace=True)\n",
      "        (7): SeparableConv2d_same(\n",
      "          (conv1): Conv2d(728, 728, kernel_size=(3, 3), stride=(1, 1), dilation=(2, 2), groups=728, bias=False)\n",
      "          (pointwise): Conv2d(728, 728, kernel_size=(1, 1), stride=(1, 1), bias=False)\n",
      "        )\n",
      "        (8): BatchNorm2d(728, eps=1e-05, momentum=0.1, affine=True, track_running_stats=True)\n",
      "      )\n",
      "    )\n",
      "    (block5): Block(\n",
      "      (relu): ReLU(inplace=True)\n",
      "      (rep): Sequential(\n",
      "        (0): ReLU(inplace=True)\n",
      "        (1): SeparableConv2d_same(\n",
      "          (conv1): Conv2d(728, 728, kernel_size=(3, 3), stride=(1, 1), dilation=(2, 2), groups=728, bias=False)\n",
      "          (pointwise): Conv2d(728, 728, kernel_size=(1, 1), stride=(1, 1), bias=False)\n",
      "        )\n",
      "        (2): BatchNorm2d(728, eps=1e-05, momentum=0.1, affine=True, track_running_stats=True)\n",
      "        (3): ReLU(inplace=True)\n",
      "        (4): SeparableConv2d_same(\n",
      "          (conv1): Conv2d(728, 728, kernel_size=(3, 3), stride=(1, 1), dilation=(2, 2), groups=728, bias=False)\n",
      "          (pointwise): Conv2d(728, 728, kernel_size=(1, 1), stride=(1, 1), bias=False)\n",
      "        )\n",
      "        (5): BatchNorm2d(728, eps=1e-05, momentum=0.1, affine=True, track_running_stats=True)\n",
      "        (6): ReLU(inplace=True)\n",
      "        (7): SeparableConv2d_same(\n",
      "          (conv1): Conv2d(728, 728, kernel_size=(3, 3), stride=(1, 1), dilation=(2, 2), groups=728, bias=False)\n",
      "          (pointwise): Conv2d(728, 728, kernel_size=(1, 1), stride=(1, 1), bias=False)\n",
      "        )\n",
      "        (8): BatchNorm2d(728, eps=1e-05, momentum=0.1, affine=True, track_running_stats=True)\n",
      "      )\n",
      "    )\n",
      "    (block6): Block(\n",
      "      (relu): ReLU(inplace=True)\n",
      "      (rep): Sequential(\n",
      "        (0): ReLU(inplace=True)\n",
      "        (1): SeparableConv2d_same(\n",
      "          (conv1): Conv2d(728, 728, kernel_size=(3, 3), stride=(1, 1), dilation=(2, 2), groups=728, bias=False)\n",
      "          (pointwise): Conv2d(728, 728, kernel_size=(1, 1), stride=(1, 1), bias=False)\n",
      "        )\n",
      "        (2): BatchNorm2d(728, eps=1e-05, momentum=0.1, affine=True, track_running_stats=True)\n",
      "        (3): ReLU(inplace=True)\n",
      "        (4): SeparableConv2d_same(\n",
      "          (conv1): Conv2d(728, 728, kernel_size=(3, 3), stride=(1, 1), dilation=(2, 2), groups=728, bias=False)\n",
      "          (pointwise): Conv2d(728, 728, kernel_size=(1, 1), stride=(1, 1), bias=False)\n",
      "        )\n",
      "        (5): BatchNorm2d(728, eps=1e-05, momentum=0.1, affine=True, track_running_stats=True)\n",
      "        (6): ReLU(inplace=True)\n",
      "        (7): SeparableConv2d_same(\n",
      "          (conv1): Conv2d(728, 728, kernel_size=(3, 3), stride=(1, 1), dilation=(2, 2), groups=728, bias=False)\n",
      "          (pointwise): Conv2d(728, 728, kernel_size=(1, 1), stride=(1, 1), bias=False)\n",
      "        )\n",
      "        (8): BatchNorm2d(728, eps=1e-05, momentum=0.1, affine=True, track_running_stats=True)\n",
      "      )\n",
      "    )\n",
      "    (block7): Block(\n",
      "      (relu): ReLU(inplace=True)\n",
      "      (rep): Sequential(\n",
      "        (0): ReLU(inplace=True)\n",
      "        (1): SeparableConv2d_same(\n",
      "          (conv1): Conv2d(728, 728, kernel_size=(3, 3), stride=(1, 1), dilation=(2, 2), groups=728, bias=False)\n",
      "          (pointwise): Conv2d(728, 728, kernel_size=(1, 1), stride=(1, 1), bias=False)\n",
      "        )\n",
      "        (2): BatchNorm2d(728, eps=1e-05, momentum=0.1, affine=True, track_running_stats=True)\n",
      "        (3): ReLU(inplace=True)\n",
      "        (4): SeparableConv2d_same(\n",
      "          (conv1): Conv2d(728, 728, kernel_size=(3, 3), stride=(1, 1), dilation=(2, 2), groups=728, bias=False)\n",
      "          (pointwise): Conv2d(728, 728, kernel_size=(1, 1), stride=(1, 1), bias=False)\n",
      "        )\n",
      "        (5): BatchNorm2d(728, eps=1e-05, momentum=0.1, affine=True, track_running_stats=True)\n",
      "        (6): ReLU(inplace=True)\n",
      "        (7): SeparableConv2d_same(\n",
      "          (conv1): Conv2d(728, 728, kernel_size=(3, 3), stride=(1, 1), dilation=(2, 2), groups=728, bias=False)\n",
      "          (pointwise): Conv2d(728, 728, kernel_size=(1, 1), stride=(1, 1), bias=False)\n",
      "        )\n",
      "        (8): BatchNorm2d(728, eps=1e-05, momentum=0.1, affine=True, track_running_stats=True)\n",
      "      )\n",
      "    )\n",
      "    (block8): Block(\n",
      "      (relu): ReLU(inplace=True)\n",
      "      (rep): Sequential(\n",
      "        (0): ReLU(inplace=True)\n",
      "        (1): SeparableConv2d_same(\n",
      "          (conv1): Conv2d(728, 728, kernel_size=(3, 3), stride=(1, 1), dilation=(2, 2), groups=728, bias=False)\n",
      "          (pointwise): Conv2d(728, 728, kernel_size=(1, 1), stride=(1, 1), bias=False)\n",
      "        )\n",
      "        (2): BatchNorm2d(728, eps=1e-05, momentum=0.1, affine=True, track_running_stats=True)\n",
      "        (3): ReLU(inplace=True)\n",
      "        (4): SeparableConv2d_same(\n",
      "          (conv1): Conv2d(728, 728, kernel_size=(3, 3), stride=(1, 1), dilation=(2, 2), groups=728, bias=False)\n",
      "          (pointwise): Conv2d(728, 728, kernel_size=(1, 1), stride=(1, 1), bias=False)\n",
      "        )\n",
      "        (5): BatchNorm2d(728, eps=1e-05, momentum=0.1, affine=True, track_running_stats=True)\n",
      "        (6): ReLU(inplace=True)\n",
      "        (7): SeparableConv2d_same(\n",
      "          (conv1): Conv2d(728, 728, kernel_size=(3, 3), stride=(1, 1), dilation=(2, 2), groups=728, bias=False)\n",
      "          (pointwise): Conv2d(728, 728, kernel_size=(1, 1), stride=(1, 1), bias=False)\n",
      "        )\n",
      "        (8): BatchNorm2d(728, eps=1e-05, momentum=0.1, affine=True, track_running_stats=True)\n",
      "      )\n",
      "    )\n",
      "    (block9): Block(\n",
      "      (relu): ReLU(inplace=True)\n",
      "      (rep): Sequential(\n",
      "        (0): ReLU(inplace=True)\n",
      "        (1): SeparableConv2d_same(\n",
      "          (conv1): Conv2d(728, 728, kernel_size=(3, 3), stride=(1, 1), dilation=(2, 2), groups=728, bias=False)\n",
      "          (pointwise): Conv2d(728, 728, kernel_size=(1, 1), stride=(1, 1), bias=False)\n",
      "        )\n",
      "        (2): BatchNorm2d(728, eps=1e-05, momentum=0.1, affine=True, track_running_stats=True)\n",
      "        (3): ReLU(inplace=True)\n",
      "        (4): SeparableConv2d_same(\n",
      "          (conv1): Conv2d(728, 728, kernel_size=(3, 3), stride=(1, 1), dilation=(2, 2), groups=728, bias=False)\n",
      "          (pointwise): Conv2d(728, 728, kernel_size=(1, 1), stride=(1, 1), bias=False)\n",
      "        )\n",
      "        (5): BatchNorm2d(728, eps=1e-05, momentum=0.1, affine=True, track_running_stats=True)\n",
      "        (6): ReLU(inplace=True)\n",
      "        (7): SeparableConv2d_same(\n",
      "          (conv1): Conv2d(728, 728, kernel_size=(3, 3), stride=(1, 1), dilation=(2, 2), groups=728, bias=False)\n",
      "          (pointwise): Conv2d(728, 728, kernel_size=(1, 1), stride=(1, 1), bias=False)\n",
      "        )\n",
      "        (8): BatchNorm2d(728, eps=1e-05, momentum=0.1, affine=True, track_running_stats=True)\n",
      "      )\n",
      "    )\n",
      "    (block10): Block(\n",
      "      (relu): ReLU(inplace=True)\n",
      "      (rep): Sequential(\n",
      "        (0): ReLU(inplace=True)\n",
      "        (1): SeparableConv2d_same(\n",
      "          (conv1): Conv2d(728, 728, kernel_size=(3, 3), stride=(1, 1), dilation=(2, 2), groups=728, bias=False)\n",
      "          (pointwise): Conv2d(728, 728, kernel_size=(1, 1), stride=(1, 1), bias=False)\n",
      "        )\n",
      "        (2): BatchNorm2d(728, eps=1e-05, momentum=0.1, affine=True, track_running_stats=True)\n",
      "        (3): ReLU(inplace=True)\n",
      "        (4): SeparableConv2d_same(\n",
      "          (conv1): Conv2d(728, 728, kernel_size=(3, 3), stride=(1, 1), dilation=(2, 2), groups=728, bias=False)\n",
      "          (pointwise): Conv2d(728, 728, kernel_size=(1, 1), stride=(1, 1), bias=False)\n",
      "        )\n",
      "        (5): BatchNorm2d(728, eps=1e-05, momentum=0.1, affine=True, track_running_stats=True)\n",
      "        (6): ReLU(inplace=True)\n",
      "        (7): SeparableConv2d_same(\n",
      "          (conv1): Conv2d(728, 728, kernel_size=(3, 3), stride=(1, 1), dilation=(2, 2), groups=728, bias=False)\n",
      "          (pointwise): Conv2d(728, 728, kernel_size=(1, 1), stride=(1, 1), bias=False)\n",
      "        )\n",
      "        (8): BatchNorm2d(728, eps=1e-05, momentum=0.1, affine=True, track_running_stats=True)\n",
      "      )\n",
      "    )\n",
      "    (block11): Block(\n",
      "      (relu): ReLU(inplace=True)\n",
      "      (rep): Sequential(\n",
      "        (0): ReLU(inplace=True)\n",
      "        (1): SeparableConv2d_same(\n",
      "          (conv1): Conv2d(728, 728, kernel_size=(3, 3), stride=(1, 1), dilation=(2, 2), groups=728, bias=False)\n",
      "          (pointwise): Conv2d(728, 728, kernel_size=(1, 1), stride=(1, 1), bias=False)\n",
      "        )\n",
      "        (2): BatchNorm2d(728, eps=1e-05, momentum=0.1, affine=True, track_running_stats=True)\n",
      "        (3): ReLU(inplace=True)\n",
      "        (4): SeparableConv2d_same(\n",
      "          (conv1): Conv2d(728, 728, kernel_size=(3, 3), stride=(1, 1), dilation=(2, 2), groups=728, bias=False)\n",
      "          (pointwise): Conv2d(728, 728, kernel_size=(1, 1), stride=(1, 1), bias=False)\n",
      "        )\n",
      "        (5): BatchNorm2d(728, eps=1e-05, momentum=0.1, affine=True, track_running_stats=True)\n",
      "        (6): ReLU(inplace=True)\n",
      "        (7): SeparableConv2d_same(\n",
      "          (conv1): Conv2d(728, 728, kernel_size=(3, 3), stride=(1, 1), dilation=(2, 2), groups=728, bias=False)\n",
      "          (pointwise): Conv2d(728, 728, kernel_size=(1, 1), stride=(1, 1), bias=False)\n",
      "        )\n",
      "        (8): BatchNorm2d(728, eps=1e-05, momentum=0.1, affine=True, track_running_stats=True)\n",
      "      )\n",
      "    )\n",
      "    (block12): Block(\n",
      "      (relu): ReLU(inplace=True)\n",
      "      (rep): Sequential(\n",
      "        (0): ReLU(inplace=True)\n",
      "        (1): SeparableConv2d_same(\n",
      "          (conv1): Conv2d(728, 728, kernel_size=(3, 3), stride=(1, 1), dilation=(2, 2), groups=728, bias=False)\n",
      "          (pointwise): Conv2d(728, 728, kernel_size=(1, 1), stride=(1, 1), bias=False)\n",
      "        )\n",
      "        (2): BatchNorm2d(728, eps=1e-05, momentum=0.1, affine=True, track_running_stats=True)\n",
      "        (3): ReLU(inplace=True)\n",
      "        (4): SeparableConv2d_same(\n",
      "          (conv1): Conv2d(728, 728, kernel_size=(3, 3), stride=(1, 1), dilation=(2, 2), groups=728, bias=False)\n",
      "          (pointwise): Conv2d(728, 728, kernel_size=(1, 1), stride=(1, 1), bias=False)\n",
      "        )\n",
      "        (5): BatchNorm2d(728, eps=1e-05, momentum=0.1, affine=True, track_running_stats=True)\n",
      "        (6): ReLU(inplace=True)\n",
      "        (7): SeparableConv2d_same(\n",
      "          (conv1): Conv2d(728, 728, kernel_size=(3, 3), stride=(1, 1), dilation=(2, 2), groups=728, bias=False)\n",
      "          (pointwise): Conv2d(728, 728, kernel_size=(1, 1), stride=(1, 1), bias=False)\n",
      "        )\n",
      "        (8): BatchNorm2d(728, eps=1e-05, momentum=0.1, affine=True, track_running_stats=True)\n",
      "      )\n",
      "    )\n",
      "    (block13): Block(\n",
      "      (relu): ReLU(inplace=True)\n",
      "      (rep): Sequential(\n",
      "        (0): ReLU(inplace=True)\n",
      "        (1): SeparableConv2d_same(\n",
      "          (conv1): Conv2d(728, 728, kernel_size=(3, 3), stride=(1, 1), dilation=(2, 2), groups=728, bias=False)\n",
      "          (pointwise): Conv2d(728, 728, kernel_size=(1, 1), stride=(1, 1), bias=False)\n",
      "        )\n",
      "        (2): BatchNorm2d(728, eps=1e-05, momentum=0.1, affine=True, track_running_stats=True)\n",
      "        (3): ReLU(inplace=True)\n",
      "        (4): SeparableConv2d_same(\n",
      "          (conv1): Conv2d(728, 728, kernel_size=(3, 3), stride=(1, 1), dilation=(2, 2), groups=728, bias=False)\n",
      "          (pointwise): Conv2d(728, 728, kernel_size=(1, 1), stride=(1, 1), bias=False)\n",
      "        )\n",
      "        (5): BatchNorm2d(728, eps=1e-05, momentum=0.1, affine=True, track_running_stats=True)\n",
      "        (6): ReLU(inplace=True)\n",
      "        (7): SeparableConv2d_same(\n",
      "          (conv1): Conv2d(728, 728, kernel_size=(3, 3), stride=(1, 1), dilation=(2, 2), groups=728, bias=False)\n",
      "          (pointwise): Conv2d(728, 728, kernel_size=(1, 1), stride=(1, 1), bias=False)\n",
      "        )\n",
      "        (8): BatchNorm2d(728, eps=1e-05, momentum=0.1, affine=True, track_running_stats=True)\n",
      "      )\n",
      "    )\n",
      "    (block14): Block(\n",
      "      (relu): ReLU(inplace=True)\n",
      "      (rep): Sequential(\n",
      "        (0): ReLU(inplace=True)\n",
      "        (1): SeparableConv2d_same(\n",
      "          (conv1): Conv2d(728, 728, kernel_size=(3, 3), stride=(1, 1), dilation=(2, 2), groups=728, bias=False)\n",
      "          (pointwise): Conv2d(728, 728, kernel_size=(1, 1), stride=(1, 1), bias=False)\n",
      "        )\n",
      "        (2): BatchNorm2d(728, eps=1e-05, momentum=0.1, affine=True, track_running_stats=True)\n",
      "        (3): ReLU(inplace=True)\n",
      "        (4): SeparableConv2d_same(\n",
      "          (conv1): Conv2d(728, 728, kernel_size=(3, 3), stride=(1, 1), dilation=(2, 2), groups=728, bias=False)\n",
      "          (pointwise): Conv2d(728, 728, kernel_size=(1, 1), stride=(1, 1), bias=False)\n",
      "        )\n",
      "        (5): BatchNorm2d(728, eps=1e-05, momentum=0.1, affine=True, track_running_stats=True)\n",
      "        (6): ReLU(inplace=True)\n",
      "        (7): SeparableConv2d_same(\n",
      "          (conv1): Conv2d(728, 728, kernel_size=(3, 3), stride=(1, 1), dilation=(2, 2), groups=728, bias=False)\n",
      "          (pointwise): Conv2d(728, 728, kernel_size=(1, 1), stride=(1, 1), bias=False)\n",
      "        )\n",
      "        (8): BatchNorm2d(728, eps=1e-05, momentum=0.1, affine=True, track_running_stats=True)\n",
      "      )\n",
      "    )\n",
      "    (block15): Block(\n",
      "      (relu): ReLU(inplace=True)\n",
      "      (rep): Sequential(\n",
      "        (0): ReLU(inplace=True)\n",
      "        (1): SeparableConv2d_same(\n",
      "          (conv1): Conv2d(728, 728, kernel_size=(3, 3), stride=(1, 1), dilation=(2, 2), groups=728, bias=False)\n",
      "          (pointwise): Conv2d(728, 728, kernel_size=(1, 1), stride=(1, 1), bias=False)\n",
      "        )\n",
      "        (2): BatchNorm2d(728, eps=1e-05, momentum=0.1, affine=True, track_running_stats=True)\n",
      "        (3): ReLU(inplace=True)\n",
      "        (4): SeparableConv2d_same(\n",
      "          (conv1): Conv2d(728, 728, kernel_size=(3, 3), stride=(1, 1), dilation=(2, 2), groups=728, bias=False)\n",
      "          (pointwise): Conv2d(728, 728, kernel_size=(1, 1), stride=(1, 1), bias=False)\n",
      "        )\n",
      "        (5): BatchNorm2d(728, eps=1e-05, momentum=0.1, affine=True, track_running_stats=True)\n",
      "        (6): ReLU(inplace=True)\n",
      "        (7): SeparableConv2d_same(\n",
      "          (conv1): Conv2d(728, 728, kernel_size=(3, 3), stride=(1, 1), dilation=(2, 2), groups=728, bias=False)\n",
      "          (pointwise): Conv2d(728, 728, kernel_size=(1, 1), stride=(1, 1), bias=False)\n",
      "        )\n",
      "        (8): BatchNorm2d(728, eps=1e-05, momentum=0.1, affine=True, track_running_stats=True)\n",
      "      )\n",
      "    )\n",
      "    (block16): Block(\n",
      "      (relu): ReLU(inplace=True)\n",
      "      (rep): Sequential(\n",
      "        (0): ReLU(inplace=True)\n",
      "        (1): SeparableConv2d_same(\n",
      "          (conv1): Conv2d(728, 728, kernel_size=(3, 3), stride=(1, 1), dilation=(2, 2), groups=728, bias=False)\n",
      "          (pointwise): Conv2d(728, 728, kernel_size=(1, 1), stride=(1, 1), bias=False)\n",
      "        )\n",
      "        (2): BatchNorm2d(728, eps=1e-05, momentum=0.1, affine=True, track_running_stats=True)\n",
      "        (3): ReLU(inplace=True)\n",
      "        (4): SeparableConv2d_same(\n",
      "          (conv1): Conv2d(728, 728, kernel_size=(3, 3), stride=(1, 1), dilation=(2, 2), groups=728, bias=False)\n",
      "          (pointwise): Conv2d(728, 728, kernel_size=(1, 1), stride=(1, 1), bias=False)\n",
      "        )\n",
      "        (5): BatchNorm2d(728, eps=1e-05, momentum=0.1, affine=True, track_running_stats=True)\n",
      "        (6): ReLU(inplace=True)\n",
      "        (7): SeparableConv2d_same(\n",
      "          (conv1): Conv2d(728, 728, kernel_size=(3, 3), stride=(1, 1), dilation=(2, 2), groups=728, bias=False)\n",
      "          (pointwise): Conv2d(728, 728, kernel_size=(1, 1), stride=(1, 1), bias=False)\n",
      "        )\n",
      "        (8): BatchNorm2d(728, eps=1e-05, momentum=0.1, affine=True, track_running_stats=True)\n",
      "      )\n",
      "    )\n",
      "    (block17): Block(\n",
      "      (relu): ReLU(inplace=True)\n",
      "      (rep): Sequential(\n",
      "        (0): ReLU(inplace=True)\n",
      "        (1): SeparableConv2d_same(\n",
      "          (conv1): Conv2d(728, 728, kernel_size=(3, 3), stride=(1, 1), dilation=(2, 2), groups=728, bias=False)\n",
      "          (pointwise): Conv2d(728, 728, kernel_size=(1, 1), stride=(1, 1), bias=False)\n",
      "        )\n",
      "        (2): BatchNorm2d(728, eps=1e-05, momentum=0.1, affine=True, track_running_stats=True)\n",
      "        (3): ReLU(inplace=True)\n",
      "        (4): SeparableConv2d_same(\n",
      "          (conv1): Conv2d(728, 728, kernel_size=(3, 3), stride=(1, 1), dilation=(2, 2), groups=728, bias=False)\n",
      "          (pointwise): Conv2d(728, 728, kernel_size=(1, 1), stride=(1, 1), bias=False)\n",
      "        )\n",
      "        (5): BatchNorm2d(728, eps=1e-05, momentum=0.1, affine=True, track_running_stats=True)\n",
      "        (6): ReLU(inplace=True)\n",
      "        (7): SeparableConv2d_same(\n",
      "          (conv1): Conv2d(728, 728, kernel_size=(3, 3), stride=(1, 1), dilation=(2, 2), groups=728, bias=False)\n",
      "          (pointwise): Conv2d(728, 728, kernel_size=(1, 1), stride=(1, 1), bias=False)\n",
      "        )\n",
      "        (8): BatchNorm2d(728, eps=1e-05, momentum=0.1, affine=True, track_running_stats=True)\n",
      "      )\n",
      "    )\n",
      "    (block18): Block(\n",
      "      (relu): ReLU(inplace=True)\n",
      "      (rep): Sequential(\n",
      "        (0): ReLU(inplace=True)\n",
      "        (1): SeparableConv2d_same(\n",
      "          (conv1): Conv2d(728, 728, kernel_size=(3, 3), stride=(1, 1), dilation=(2, 2), groups=728, bias=False)\n",
      "          (pointwise): Conv2d(728, 728, kernel_size=(1, 1), stride=(1, 1), bias=False)\n",
      "        )\n",
      "        (2): BatchNorm2d(728, eps=1e-05, momentum=0.1, affine=True, track_running_stats=True)\n",
      "        (3): ReLU(inplace=True)\n",
      "        (4): SeparableConv2d_same(\n",
      "          (conv1): Conv2d(728, 728, kernel_size=(3, 3), stride=(1, 1), dilation=(2, 2), groups=728, bias=False)\n",
      "          (pointwise): Conv2d(728, 728, kernel_size=(1, 1), stride=(1, 1), bias=False)\n",
      "        )\n",
      "        (5): BatchNorm2d(728, eps=1e-05, momentum=0.1, affine=True, track_running_stats=True)\n",
      "        (6): ReLU(inplace=True)\n",
      "        (7): SeparableConv2d_same(\n",
      "          (conv1): Conv2d(728, 728, kernel_size=(3, 3), stride=(1, 1), dilation=(2, 2), groups=728, bias=False)\n",
      "          (pointwise): Conv2d(728, 728, kernel_size=(1, 1), stride=(1, 1), bias=False)\n",
      "        )\n",
      "        (8): BatchNorm2d(728, eps=1e-05, momentum=0.1, affine=True, track_running_stats=True)\n",
      "      )\n",
      "    )\n",
      "    (block19): Block(\n",
      "      (relu): ReLU(inplace=True)\n",
      "      (rep): Sequential(\n",
      "        (0): ReLU(inplace=True)\n",
      "        (1): SeparableConv2d_same(\n",
      "          (conv1): Conv2d(728, 728, kernel_size=(3, 3), stride=(1, 1), dilation=(2, 2), groups=728, bias=False)\n",
      "          (pointwise): Conv2d(728, 728, kernel_size=(1, 1), stride=(1, 1), bias=False)\n",
      "        )\n",
      "        (2): BatchNorm2d(728, eps=1e-05, momentum=0.1, affine=True, track_running_stats=True)\n",
      "        (3): ReLU(inplace=True)\n",
      "        (4): SeparableConv2d_same(\n",
      "          (conv1): Conv2d(728, 728, kernel_size=(3, 3), stride=(1, 1), dilation=(2, 2), groups=728, bias=False)\n",
      "          (pointwise): Conv2d(728, 728, kernel_size=(1, 1), stride=(1, 1), bias=False)\n",
      "        )\n",
      "        (5): BatchNorm2d(728, eps=1e-05, momentum=0.1, affine=True, track_running_stats=True)\n",
      "        (6): ReLU(inplace=True)\n",
      "        (7): SeparableConv2d_same(\n",
      "          (conv1): Conv2d(728, 728, kernel_size=(3, 3), stride=(1, 1), dilation=(2, 2), groups=728, bias=False)\n",
      "          (pointwise): Conv2d(728, 728, kernel_size=(1, 1), stride=(1, 1), bias=False)\n",
      "        )\n",
      "        (8): BatchNorm2d(728, eps=1e-05, momentum=0.1, affine=True, track_running_stats=True)\n",
      "      )\n",
      "    )\n",
      "    (block20): Block(\n",
      "      (skip): GhostModule(\n",
      "        (primary_conv): Sequential(\n",
      "          (0): Conv2d(728, 512, kernel_size=(1, 1), stride=(1, 1), bias=False)\n",
      "          (1): BatchNorm2d(512, eps=1e-05, momentum=0.1, affine=True, track_running_stats=True)\n",
      "          (2): Sequential()\n",
      "        )\n",
      "        (cheap_operation): Sequential(\n",
      "          (0): Conv2d(512, 512, kernel_size=(3, 3), stride=(1, 1), padding=(1, 1), groups=512, bias=False)\n",
      "          (1): BatchNorm2d(512, eps=1e-05, momentum=0.1, affine=True, track_running_stats=True)\n",
      "          (2): Sequential()\n",
      "        )\n",
      "      )\n",
      "      (relu): ReLU(inplace=True)\n",
      "      (rep): Sequential(\n",
      "        (0): ReLU(inplace=True)\n",
      "        (1): SeparableConv2d_same(\n",
      "          (conv1): Conv2d(728, 728, kernel_size=(3, 3), stride=(1, 1), dilation=(2, 2), groups=728, bias=False)\n",
      "          (pointwise): Conv2d(728, 728, kernel_size=(1, 1), stride=(1, 1), bias=False)\n",
      "        )\n",
      "        (2): BatchNorm2d(728, eps=1e-05, momentum=0.1, affine=True, track_running_stats=True)\n",
      "        (3): ReLU(inplace=True)\n",
      "        (4): SeparableConv2d_same(\n",
      "          (conv1): Conv2d(728, 728, kernel_size=(3, 3), stride=(1, 1), dilation=(2, 2), groups=728, bias=False)\n",
      "          (pointwise): Conv2d(728, 1024, kernel_size=(1, 1), stride=(1, 1), bias=False)\n",
      "        )\n",
      "        (5): BatchNorm2d(1024, eps=1e-05, momentum=0.1, affine=True, track_running_stats=True)\n",
      "        (6): GhostModule(\n",
      "          (primary_conv): Sequential(\n",
      "            (0): Conv2d(1024, 512, kernel_size=(3, 3), stride=(1, 1), padding=(1, 1), bias=False)\n",
      "            (1): Sequential()\n",
      "            (2): Sequential()\n",
      "          )\n",
      "          (cheap_operation): Sequential(\n",
      "            (0): Conv2d(512, 512, kernel_size=(3, 3), stride=(1, 1), padding=(1, 1), groups=512, bias=False)\n",
      "            (1): Sequential()\n",
      "            (2): Sequential()\n",
      "          )\n",
      "        )\n",
      "      )\n",
      "    )\n",
      "    (conv3): SeparableConv2d_same(\n",
      "      (conv1): Conv2d(1024, 1024, kernel_size=(3, 3), stride=(1, 1), dilation=(4, 4), groups=1024, bias=False)\n",
      "      (pointwise): Conv2d(1024, 1536, kernel_size=(1, 1), stride=(1, 1), bias=False)\n",
      "    )\n",
      "    (bn3): BatchNorm2d(1536, eps=1e-05, momentum=0.1, affine=True, track_running_stats=True)\n",
      "    (conv4): SeparableConv2d_same(\n",
      "      (conv1): Conv2d(1536, 1536, kernel_size=(3, 3), stride=(1, 1), dilation=(4, 4), groups=1536, bias=False)\n",
      "      (pointwise): Conv2d(1536, 1536, kernel_size=(1, 1), stride=(1, 1), bias=False)\n",
      "    )\n",
      "    (bn4): BatchNorm2d(1536, eps=1e-05, momentum=0.1, affine=True, track_running_stats=True)\n",
      "    (conv5): SeparableConv2d_same(\n",
      "      (conv1): Conv2d(1536, 1536, kernel_size=(3, 3), stride=(1, 1), dilation=(4, 4), groups=1536, bias=False)\n",
      "      (pointwise): Conv2d(1536, 2048, kernel_size=(1, 1), stride=(1, 1), bias=False)\n",
      "    )\n",
      "    (bn5): BatchNorm2d(2048, eps=1e-05, momentum=0.1, affine=True, track_running_stats=True)\n",
      "  )\n",
      "  (aspp1): ASPP_module(\n",
      "    (atrous_convolution): Conv2d(2048, 256, kernel_size=(1, 1), stride=(1, 1), bias=False)\n",
      "    (bn): BatchNorm2d(256, eps=1e-05, momentum=0.1, affine=True, track_running_stats=True)\n",
      "    (relu): ReLU()\n",
      "  )\n",
      "  (aspp2): ASPP_module(\n",
      "    (atrous_convolution): Conv2d(2048, 256, kernel_size=(3, 3), stride=(1, 1), padding=(12, 12), dilation=(12, 12), bias=False)\n",
      "    (bn): BatchNorm2d(256, eps=1e-05, momentum=0.1, affine=True, track_running_stats=True)\n",
      "    (relu): ReLU()\n",
      "  )\n",
      "  (aspp3): ASPP_module(\n",
      "    (atrous_convolution): Conv2d(2048, 256, kernel_size=(3, 3), stride=(1, 1), padding=(24, 24), dilation=(24, 24), bias=False)\n",
      "    (bn): BatchNorm2d(256, eps=1e-05, momentum=0.1, affine=True, track_running_stats=True)\n",
      "    (relu): ReLU()\n",
      "  )\n",
      "  (aspp4): ASPP_module(\n",
      "    (atrous_convolution): Conv2d(2048, 256, kernel_size=(3, 3), stride=(1, 1), padding=(36, 36), dilation=(36, 36), bias=False)\n",
      "    (bn): BatchNorm2d(256, eps=1e-05, momentum=0.1, affine=True, track_running_stats=True)\n",
      "    (relu): ReLU()\n",
      "  )\n",
      "  (relu): ReLU()\n",
      "  (global_avg_pool): Sequential(\n",
      "    (0): AdaptiveAvgPool2d(output_size=(1, 1))\n",
      "    (1): GhostModule(\n",
      "      (primary_conv): Sequential(\n",
      "        (0): Conv2d(2048, 128, kernel_size=(1, 1), stride=(1, 1), bias=False)\n",
      "        (1): BatchNorm2d(128, eps=1e-05, momentum=0.1, affine=True, track_running_stats=True)\n",
      "        (2): ReLU(inplace=True)\n",
      "      )\n",
      "      (cheap_operation): Sequential(\n",
      "        (0): Conv2d(128, 128, kernel_size=(3, 3), stride=(1, 1), padding=(1, 1), groups=128, bias=False)\n",
      "        (1): BatchNorm2d(128, eps=1e-05, momentum=0.1, affine=True, track_running_stats=True)\n",
      "        (2): ReLU(inplace=True)\n",
      "      )\n",
      "    )\n",
      "  )\n",
      "  (conv1): GhostModule(\n",
      "    (primary_conv): Sequential(\n",
      "      (0): Conv2d(1280, 128, kernel_size=(1, 1), stride=(1, 1), bias=False)\n",
      "      (1): BatchNorm2d(128, eps=1e-05, momentum=0.1, affine=True, track_running_stats=True)\n",
      "      (2): ReLU(inplace=True)\n",
      "    )\n",
      "    (cheap_operation): Sequential(\n",
      "      (0): Conv2d(128, 128, kernel_size=(3, 3), stride=(1, 1), padding=(1, 1), groups=128, bias=False)\n",
      "      (1): BatchNorm2d(128, eps=1e-05, momentum=0.1, affine=True, track_running_stats=True)\n",
      "      (2): ReLU(inplace=True)\n",
      "    )\n",
      "  )\n",
      "  (conv2): GhostModule(\n",
      "    (primary_conv): Sequential(\n",
      "      (0): Conv2d(128, 24, kernel_size=(1, 1), stride=(1, 1), bias=False)\n",
      "      (1): BatchNorm2d(24, eps=1e-05, momentum=0.1, affine=True, track_running_stats=True)\n",
      "      (2): ReLU(inplace=True)\n",
      "    )\n",
      "    (cheap_operation): Sequential(\n",
      "      (0): Conv2d(24, 24, kernel_size=(3, 3), stride=(1, 1), padding=(1, 1), groups=24, bias=False)\n",
      "      (1): BatchNorm2d(24, eps=1e-05, momentum=0.1, affine=True, track_running_stats=True)\n",
      "      (2): ReLU(inplace=True)\n",
      "    )\n",
      "  )\n",
      "  (last_conv): Sequential(\n",
      "    (0): GhostModule(\n",
      "      (primary_conv): Sequential(\n",
      "        (0): Conv2d(304, 128, kernel_size=(3, 3), stride=(1, 1), padding=(1, 1), bias=False)\n",
      "        (1): BatchNorm2d(128, eps=1e-05, momentum=0.1, affine=True, track_running_stats=True)\n",
      "        (2): ReLU(inplace=True)\n",
      "      )\n",
      "      (cheap_operation): Sequential(\n",
      "        (0): Conv2d(128, 128, kernel_size=(3, 3), stride=(1, 1), padding=(1, 1), groups=128, bias=False)\n",
      "        (1): BatchNorm2d(128, eps=1e-05, momentum=0.1, affine=True, track_running_stats=True)\n",
      "        (2): ReLU(inplace=True)\n",
      "      )\n",
      "    )\n",
      "    (1): GhostModule(\n",
      "      (primary_conv): Sequential(\n",
      "        (0): Conv2d(256, 128, kernel_size=(3, 3), stride=(1, 1), padding=(1, 1), bias=False)\n",
      "        (1): BatchNorm2d(128, eps=1e-05, momentum=0.1, affine=True, track_running_stats=True)\n",
      "        (2): ReLU(inplace=True)\n",
      "      )\n",
      "      (cheap_operation): Sequential(\n",
      "        (0): Conv2d(128, 128, kernel_size=(3, 3), stride=(1, 1), padding=(1, 1), groups=128, bias=False)\n",
      "        (1): BatchNorm2d(128, eps=1e-05, momentum=0.1, affine=True, track_running_stats=True)\n",
      "        (2): ReLU(inplace=True)\n",
      "      )\n",
      "    )\n",
      "    (2): GhostModule(\n",
      "      (primary_conv): Sequential(\n",
      "        (0): Conv2d(256, 1, kernel_size=(1, 1), stride=(1, 1), bias=False)\n",
      "        (1): Sequential()\n",
      "        (2): Sequential()\n",
      "      )\n",
      "      (cheap_operation): Sequential(\n",
      "        (0): Conv2d(1, 1, kernel_size=(3, 3), stride=(1, 1), padding=(1, 1), bias=False)\n",
      "        (1): Sequential()\n",
      "        (2): Sequential()\n",
      "      )\n",
      "    )\n",
      "  )\n",
      ")\n",
      "Total number of parameters: 58854241\n"
     ]
    }
   ],
   "source": [
    "device = torch.device(\"cuda:0\" if torch.cuda.is_available() else \"cpu\")\n",
    "print(device)\n",
    "\n",
    "num_class = 1\n",
    "num_epochs = 25\n",
    "model = DeepLabv3_plus(nInputChannels=3, n_classes=1, os=8, pretrained=False, _print=True).to(device)\n",
    "weight_decay = 1e-4\n",
    "max_lr = 5e-4\n",
    "# Observe that all parameters are being optimized\n",
    "optimizer_ft = torch.optim.Adam(model.parameters(), lr=max_lr, weight_decay=weight_decay)\n",
    "lambda1 = lambda epoch: (1-epoch/num_epochs) ** 0.9\n",
    "\n",
    "exp_lr_scheduler = torch.optim.lr_scheduler.LambdaLR(optimizer_ft, lr_lambda=[lambda1])\n",
    "# exp_lr_scheduler.get_lr()\n",
    "# exp_lr_scheduler = lr_scheduler.StepLR(optimizer_ft, step_size=25, gamma=0.1)\n",
    "# bm_path = '/kaggle/input/unet-17epoch/best_model.pt'\n",
    "torch.cuda.is_available()\n",
    "print_network(model)"
   ]
  },
  {
   "cell_type": "code",
   "execution_count": 103,
   "id": "11901510",
   "metadata": {},
   "outputs": [
    {
     "name": "stdout",
     "output_type": "stream",
     "text": [
      "Epoch 0/24\n",
      "----------\n",
      "LR 0.00048196346062927547\n"
     ]
    },
    {
     "name": "stderr",
     "output_type": "stream",
     "text": [
      "/home/user/anaconda3/envs/jamie_segmentation/lib/python3.6/site-packages/torch/optim/lr_scheduler.py:134: UserWarning: Detected call of `lr_scheduler.step()` before `optimizer.step()`. In PyTorch 1.1.0 and later, you should call them in the opposite order: `optimizer.step()` before `lr_scheduler.step()`.  Failure to do this will result in PyTorch skipping the first value of the learning rate schedule. See more details at https://pytorch.org/docs/stable/optim.html#how-to-adjust-learning-rate\n",
      "  \"https://pytorch.org/docs/stable/optim.html#how-to-adjust-learning-rate\", UserWarning)\n",
      "/home/user/anaconda3/envs/jamie_segmentation/lib/python3.6/site-packages/torch/nn/functional.py:1805: UserWarning: nn.functional.sigmoid is deprecated. Use torch.sigmoid instead.\n",
      "  warnings.warn(\"nn.functional.sigmoid is deprecated. Use torch.sigmoid instead.\")\n"
     ]
    },
    {
     "name": "stdout",
     "output_type": "stream",
     "text": [
      "train: bce: 0.290427, dice: 0.855796, loss: 0.573112\n",
      "val: bce: 0.230767, dice: 0.798419, loss: 0.514593\n",
      "saving best model\n",
      "0m 56s\n",
      "Epoch 1/24\n",
      "----------\n",
      "LR 0.0004638515892816641\n",
      "train: bce: 0.221475, dice: 0.750731, loss: 0.486103\n",
      "val: bce: 0.202250, dice: 0.726845, loss: 0.464548\n",
      "saving best model\n",
      "0m 57s\n",
      "Epoch 2/24\n",
      "----------\n",
      "LR 0.00044566077304449995\n",
      "train: bce: 0.209090, dice: 0.684046, loss: 0.446568\n",
      "val: bce: 0.195807, dice: 0.657840, loss: 0.426823\n",
      "saving best model\n",
      "0m 56s\n",
      "Epoch 3/24\n",
      "----------\n",
      "LR 0.00042738705301356716\n",
      "train: bce: 0.204069, dice: 0.648849, loss: 0.426459\n",
      "val: bce: 0.195383, dice: 0.659281, loss: 0.427332\n",
      "0m 56s\n",
      "Epoch 4/24\n",
      "----------\n",
      "LR 0.00040902607302542923\n",
      "train: bce: 0.192073, dice: 0.609024, loss: 0.400548\n",
      "val: bce: 0.207125, dice: 0.617572, loss: 0.412348\n",
      "saving best model\n",
      "0m 57s\n",
      "Epoch 5/24\n",
      "----------\n",
      "save model\n",
      "LR 0.0003905730178340304\n",
      "train: bce: 0.188272, dice: 0.591112, loss: 0.389692\n",
      "val: bce: 0.176965, dice: 0.590605, loss: 0.383785\n",
      "saving best model\n",
      "0m 58s\n",
      "Epoch 6/24\n",
      "----------\n",
      "LR 0.0003720225378839164\n",
      "train: bce: 0.186760, dice: 0.570041, loss: 0.378400\n",
      "val: bce: 0.172331, dice: 0.567339, loss: 0.369835\n",
      "saving best model\n",
      "0m 57s\n",
      "Epoch 7/24\n",
      "----------\n",
      "LR 0.00035336865686177077\n",
      "train: bce: 0.185759, dice: 0.559592, loss: 0.372676\n",
      "val: bce: 0.181150, dice: 0.564260, loss: 0.372705\n",
      "0m 57s\n",
      "Epoch 8/24\n",
      "----------\n",
      "LR 0.0003346046568292074\n",
      "train: bce: 0.177555, dice: 0.539966, loss: 0.358761\n",
      "val: bce: 0.166772, dice: 0.541531, loss: 0.354152\n",
      "saving best model\n",
      "0m 57s\n",
      "Epoch 9/24\n",
      "----------\n",
      "LR 0.00031572293374467766\n",
      "train: bce: 0.181203, dice: 0.532428, loss: 0.356816\n",
      "val: bce: 0.179588, dice: 0.534501, loss: 0.357044\n",
      "0m 57s\n",
      "Epoch 10/24\n",
      "----------\n",
      "save model\n",
      "LR 0.00029671481323529297\n",
      "train: bce: 0.173459, dice: 0.525276, loss: 0.349368\n",
      "val: bce: 0.146153, dice: 0.493996, loss: 0.320075\n",
      "saving best model\n",
      "0m 58s\n",
      "Epoch 11/24\n",
      "----------\n",
      "LR 0.00027757031202430184\n",
      "train: bce: 0.161684, dice: 0.493356, loss: 0.327520\n",
      "val: bce: 0.180899, dice: 0.503394, loss: 0.342147\n",
      "0m 58s\n",
      "Epoch 12/24\n",
      "----------\n",
      "LR 0.0002582778235073065\n",
      "train: bce: 0.163762, dice: 0.481973, loss: 0.322867\n",
      "val: bce: 0.177352, dice: 0.503220, loss: 0.340286\n",
      "0m 58s\n",
      "Epoch 13/24\n",
      "----------\n",
      "LR 0.0002388236949212524\n",
      "train: bce: 0.161223, dice: 0.475700, loss: 0.318461\n",
      "val: bce: 0.165104, dice: 0.493788, loss: 0.329446\n",
      "0m 58s\n",
      "Epoch 14/24\n",
      "----------\n",
      "LR 0.00021919164527704348\n",
      "train: bce: 0.169835, dice: 0.495289, loss: 0.332562\n",
      "val: bce: 0.264691, dice: 0.676694, loss: 0.470692\n",
      "0m 58s\n",
      "Epoch 15/24\n",
      "----------\n",
      "save model\n",
      "LR 0.0001993619417846922\n",
      "train: bce: 0.161045, dice: 0.474145, loss: 0.317595\n",
      "val: bce: 0.164185, dice: 0.493137, loss: 0.328661\n",
      "0m 58s\n",
      "Epoch 16/24\n",
      "----------\n",
      "LR 0.00017931019581530385\n",
      "train: bce: 0.151961, dice: 0.456469, loss: 0.304215\n",
      "val: bce: 0.190371, dice: 0.526468, loss: 0.358420\n",
      "0m 58s\n",
      "Epoch 17/24\n",
      "----------\n",
      "LR 0.00015900553138349974\n",
      "train: bce: 0.161185, dice: 0.465115, loss: 0.313150\n",
      "val: bce: 0.163469, dice: 0.488919, loss: 0.326194\n",
      "0m 58s\n",
      "Epoch 18/24\n",
      "----------\n",
      "LR 0.00013840765859838175\n",
      "train: bce: 0.162827, dice: 0.466525, loss: 0.314676\n",
      "val: bce: 0.167691, dice: 0.484052, loss: 0.325872\n",
      "0m 58s\n",
      "Epoch 19/24\n",
      "----------\n",
      "LR 0.00011746189430880188\n",
      "train: bce: 0.160882, dice: 0.465968, loss: 0.313425\n",
      "val: bce: 0.146165, dice: 0.459436, loss: 0.302801\n",
      "saving best model\n",
      "0m 59s\n",
      "Epoch 20/24\n",
      "----------\n",
      "save model\n",
      "LR 9.608995471851451e-05\n",
      "train: bce: 0.157965, dice: 0.465977, loss: 0.311971\n",
      "val: bce: 0.150339, dice: 0.469255, loss: 0.309797\n",
      "0m 58s\n",
      "Epoch 21/24\n",
      "----------\n",
      "LR 7.417082774876436e-05\n",
      "train: bce: 0.154627, dice: 0.447358, loss: 0.300992\n",
      "val: bce: 0.155660, dice: 0.463875, loss: 0.309767\n",
      "0m 58s\n",
      "Epoch 22/24\n",
      "----------\n",
      "LR 5.149333174180893e-05\n",
      "train: bce: 0.158231, dice: 0.449683, loss: 0.303957\n",
      "val: bce: 0.140952, dice: 0.452988, loss: 0.296970\n",
      "saving best model\n",
      "0m 59s\n",
      "Epoch 23/24\n",
      "----------\n",
      "LR 2.7594593229224316e-05\n",
      "train: bce: 0.151111, dice: 0.442106, loss: 0.296609\n",
      "val: bce: 0.154477, dice: 0.459897, loss: 0.307187\n",
      "0m 59s\n",
      "Epoch 24/24\n",
      "----------\n",
      "LR 0.0\n",
      "train: bce: 0.150230, dice: 0.431908, loss: 0.291069\n",
      "val: bce: 0.144523, dice: 0.430252, loss: 0.287388\n",
      "saving best model\n",
      "0m 60s\n",
      "Best val loss: 0.287388\n"
     ]
    }
   ],
   "source": [
    "model = train_model(model, optimizer_ft, exp_lr_scheduler, num_epochs=num_epochs, best_model_path=None)"
   ]
  },
  {
   "cell_type": "markdown",
   "id": "d4c8e5bd",
   "metadata": {},
   "source": [
    "# Test"
   ]
  },
  {
   "cell_type": "code",
   "execution_count": 13,
   "id": "65627ce4",
   "metadata": {},
   "outputs": [
    {
     "data": {
      "text/plain": [
       "0.75"
      ]
     },
     "execution_count": 13,
     "metadata": {},
     "output_type": "execute_result"
    }
   ],
   "source": [
    "def ratioFunction(num1, num2):\n",
    "    num1 = int(num1) # Now we are good\n",
    "    num2 = int(num2) # Good, good\n",
    "    if num1 > num2:\n",
    "        ratio12 = num2/num1\n",
    "    else:\n",
    "        ratio12 = num1/num2\n",
    "#     print('The ratio of', num1, 'and', num2,'is', ratio12 + '.')\n",
    "    return ratio12\n",
    "ratioFunction(288, 216)"
   ]
  },
  {
   "cell_type": "code",
   "execution_count": 14,
   "id": "6281d444",
   "metadata": {},
   "outputs": [],
   "source": [
    "class IS_Dataset_test(Dataset):\n",
    "  CLASSES = ['background', 'girder', 'net', 'lanyard', 'guardrail']\n",
    "  def __init__(self, data_list, label_list, classes, cm2lbl, transform=None, transform_toTensor=None, resize_size=None):\n",
    "\n",
    "    self.data_list = data_list\n",
    "    self.label_list = label_list\n",
    "    self.transform = transform\n",
    "    self.transform_toTensor = transform_toTensor\n",
    "    self.cm2lbl = cm2lbl\n",
    "    self.resize_size = resize_size\n",
    "    # convert str names to class values on masks\n",
    "    self.class_values = [self.CLASSES.index(cls.lower()) for cls in classes]\n",
    "    print('Read ' + str(len(self.data_list)) + ' images')\n",
    "    \n",
    "  def __getitem__(self, index):\n",
    "    # read data\n",
    "    image = cv2.imread(self.data_list[index])\n",
    "    image = cv2.cvtColor(image, cv2.COLOR_BGR2RGB)\n",
    "#     image = cv2.resize(image, self.resize_size, interpolation=cv2.INTER_AREA)\n",
    "        \n",
    "    mask = cv2.imread(self.label_list[index])\n",
    "#     mask = cv2.resize(mask, self.resize_size, interpolation=cv2.INTER_NEAREST)\n",
    "    if self.resize_size:\n",
    "        image = cv2.resize(image, self.resize_size, interpolation=cv2.INTER_AREA)\n",
    "        mask = cv2.resize(mask, self.resize_size, interpolation=cv2.INTER_NEAREST)\n",
    "    if image.shape[0] > 1400 or image.shape[1] > 1400 :\n",
    "        ratio = ratioFunction(image.shape[0], image.shape[1])\n",
    "        new_size = (960, int(960*ratio))\n",
    "        image = cv2.resize(image, new_size, interpolation=cv2.INTER_AREA)\n",
    "        mask = cv2.resize(mask, new_size, interpolation=cv2.INTER_NEAREST)\n",
    "    if image.shape[0]%16 !=0 or image.shape[1]%16 !=0 :\n",
    "        new_size = (960, 720)\n",
    "        image = cv2.resize(image, new_size, interpolation=cv2.INTER_AREA)\n",
    "        mask = cv2.resize(mask, new_size, interpolation=cv2.INTER_NEAREST)\n",
    "        \n",
    "    print(image.shape)\n",
    "    # apply data augmentations\n",
    "    if self.transform:\n",
    "      # ndarray to PIL image\n",
    "      image = Image.fromarray(image)\n",
    "      mask = Image.fromarray(mask)\n",
    "      # apply the transforms\n",
    "      image = self.transform(image)\n",
    "      mask = self.transform(mask)\n",
    "\n",
    "    #把RGB改成0,1,...,class_num : (w, w, 1)\n",
    "    mask = image2label(mask, self.cm2lbl)\n",
    "    mask = mask.squeeze()\n",
    "    # print(np.unique(mask))\n",
    "    # print(mask.shape)\n",
    "\n",
    "    # 把每個不同目標分成0,1 : (w, w, class_num)\n",
    "    masks = [(mask == v) for v in self.class_values]\n",
    "    mask = np.stack(masks, axis=-1).astype('float')\n",
    "\n",
    "    if self.transform_toTensor:\n",
    "      image = self.transform_toTensor(image)\n",
    "      mask = self.transform_toTensor(mask)\n",
    "\n",
    "    return image, mask\n",
    "    \n",
    "  def __len__(self):\n",
    "    return len(self.data_list)"
   ]
  },
  {
   "cell_type": "code",
   "execution_count": 15,
   "id": "08d4a392",
   "metadata": {},
   "outputs": [],
   "source": [
    "def label_viz(pr_mask_gray_uni_list, pr_mask_gray, image_vis, classes):\n",
    "  idx = range(len(pr_mask_gray_uni_list))\n",
    "\n",
    "  vis_dict = dict(zip(pr_mask_gray_uni_list, idx))\n",
    "\n",
    "  pr_mask_viz = pr_mask_gray\n",
    "    \n",
    "  for i in range(pr_mask_viz.shape[0]):\n",
    "    for j in range(pr_mask_viz.shape[1]):\n",
    "      pr_mask_viz[i][j] = vis_dict[pr_mask_viz[i][j]]\n",
    "\n",
    "  pr_mask_viz = pr_mask_viz.astype(np.int32)\n",
    "  print('pr_mask_viz shape: ',pr_mask_viz.shape)\n",
    "  lbl_viz = imgviz.label2rgb(\n",
    "      label=pr_mask_viz, image=imgviz.asgray(image_vis), label_names=classes, loc=\"rb\"\n",
    "  )\n",
    "  \n",
    "  return lbl_viz"
   ]
  },
  {
   "cell_type": "code",
   "execution_count": 16,
   "id": "380bbc60",
   "metadata": {},
   "outputs": [],
   "source": [
    "viz_classes = ['guardrail']\n",
    "classes = ['guardrail']"
   ]
  },
  {
   "cell_type": "code",
   "execution_count": 17,
   "id": "43de6612",
   "metadata": {},
   "outputs": [],
   "source": [
    "def random_vis_lanyard_re(weight_path, classes, test_features_folder, test_labels_folder, prefix=None):\n",
    "  best_model = torch.load(weight_path + '/best_model.pth')\n",
    "  test_input_imgs = read_images(test_features_folder)\n",
    "  test_output_imgs = read_images(test_labels_folder)\n",
    "\n",
    "  cm2lbl = make_cm2lbl()\n",
    "\n",
    "  test_dataset = IS_Dataset_test(\n",
    "      test_input_imgs, \n",
    "      test_output_imgs, \n",
    "#       transform=transform,\n",
    "      transform_toTensor=transform_toTensor,\n",
    "      classes=classes,\n",
    "      cm2lbl=cm2lbl\n",
    "   )\n",
    "  test_dataset_vis = IS_Dataset_test(test_input_imgs, test_output_imgs, classes=classes, cm2lbl=cm2lbl)\n",
    "\n",
    "  test_resized_dataset = IS_Dataset(\n",
    "      test_input_imgs, \n",
    "      test_output_imgs, \n",
    "#       transform=transform,\n",
    "      transform_toTensor=transform_toTensor,\n",
    "      classes=classes,\n",
    "      cm2lbl=cm2lbl,resize_size=(512,512)\n",
    "  )\n",
    "  \n",
    "  \n",
    "  for i in tqdm(range(20)):\n",
    "#     n = np.random.choice(len(test_dataset))\n",
    "    n = i\n",
    "    image_vis = test_dataset_vis[n][0].astype('uint8')\n",
    "\n",
    "    image, gt_mask = test_dataset[n]\n",
    "    image_resized, gt_mask_resized = test_resized_dataset[n]\n",
    "    \n",
    "    gt_mask = gt_mask.squeeze()\n",
    "#     gt_mask_tensor = torch.from_numpy(gt_mask)\n",
    "    gt_mask_tensor = gt_mask\n",
    "    \n",
    "    gt_mask_resized = gt_mask_resized.squeeze()\n",
    "    \n",
    "#     x_tensor = torch.from_numpy(image).to('cuda').unsqueeze(0)\n",
    "    torch.cuda.empty_cache()\n",
    "    x_tensor = image.to('cuda').unsqueeze(0)\n",
    "    pr_mask = best_model(x_tensor).data\n",
    "    pr_mask = torch.sigmoid(pr_mask)\n",
    "#     print('pr_mask unique :', np.unique(pr_mask.squeeze().cpu().numpy()))\n",
    "    pr_mask = (pr_mask.squeeze().cpu().numpy().round())\n",
    "\n",
    "    \n",
    "#     x_tensor_resized = torch.from_numpy(image_resized).to('cuda').unsqueeze(0)\n",
    "    x_tensor_resized = image_resized.to('cuda').unsqueeze(0)\n",
    "    print('pr_mask shape:', pr_mask.shape)\n",
    "    pr_mask_resized = best_model(x_tensor_resized).data\n",
    "    pr_mask_resized = torch.sigmoid(pr_mask_resized)\n",
    "    pr_mask_resized = (pr_mask_resized.squeeze().cpu().numpy().round())\n",
    "    pr_mask_resized_return = cv2.resize(pr_mask_resized, (gt_mask.shape[1], gt_mask.shape[0]), interpolation=cv2.INTER_NEAREST)\n",
    "#     print('pr_mask_resized_return shape:', pr_mask_resized_return.shape)\n",
    "    pr_mask_resized_return_uni = np.unique(pr_mask_resized_return)\n",
    "    pr_mask_resized_return_uni_list = pr_mask_resized_return_uni.tolist()\n",
    "    \n",
    "    \n",
    "\n",
    "    # save_images(save_img_dir, prefix_img, \n",
    "    #       image=image_vis, \n",
    "    #       ground_truth_mask=gt_mask, \n",
    "    #       predicted_mask=pr_mask,\n",
    "    #       prediced_resized_mask=pr_mask_resized_return,\n",
    "    #       mask_viz = lbl_viz\n",
    "    # )\n",
    "\n",
    "    visualize(\n",
    "        image=image_vis, \n",
    "        ground_truth_mask=gt_mask, \n",
    "        predicted_mask=pr_mask,\n",
    "        prediced_resized_mask=pr_mask_resized_return,\n",
    "#         lbl_viz = lbl_viz\n",
    "    )\n",
    "\n"
   ]
  },
  {
   "cell_type": "code",
   "execution_count": 18,
   "id": "b4d24fc8",
   "metadata": {},
   "outputs": [],
   "source": [
    "weight_path = '/home/user/Desktop/lanyard_segmentation/0425/backups_DeepLabv3plus_xcetption_ghost'\n",
    "test_features_folder = '/home/user/Desktop/lanyard_segmentation/guardrail/test_data/features'\n",
    "test_labels_folder = '/home/user/Desktop/lanyard_segmentation/guardrail/test_data/labels'\n",
    "orig_features_folder = '/home/user/Desktop/lanyard_segmentation/guardrail/orig_features'\n",
    "orig_labels_folder = '/home/user/Desktop/lanyard_segmentation/guardrail/orig_labels'"
   ]
  },
  {
   "cell_type": "code",
   "execution_count": null,
   "id": "bfcebe40",
   "metadata": {},
   "outputs": [],
   "source": [
    "random_vis_lanyard_re(weight_path, classes, test_features_folder, test_labels_folder)"
   ]
  },
  {
   "cell_type": "code",
   "execution_count": null,
   "id": "5988f91b",
   "metadata": {},
   "outputs": [],
   "source": [
    "random_vis_lanyard_re(weight_path, classes, orig_features_folder, orig_labels_folder)"
   ]
  },
  {
   "cell_type": "code",
   "execution_count": 19,
   "id": "c7ce530d",
   "metadata": {},
   "outputs": [],
   "source": [
    "# F.iou(y_pr, y_gt, eps=1e-7, threshold=0.5, ignore_channels=None)\n",
    "def _take_channels(*xs, ignore_channels=None):\n",
    "    if ignore_channels is None:\n",
    "        return xs\n",
    "    else:\n",
    "        channels = [channel for channel in range(xs[0].shape[1]) if channel not in ignore_channels]\n",
    "        xs = [torch.index_select(x, dim=1, index=torch.tensor(channels).to(x.device)) for x in xs]\n",
    "        return xs\n",
    "\n",
    "\n",
    "def _threshold(x, threshold=None):\n",
    "    if threshold is not None:\n",
    "        return (x > threshold)\n",
    "    else:\n",
    "        return x\n",
    "    \n",
    "def iou(pr, gt, eps=1e-7, threshold=None, ignore_channels=None):\n",
    "    \"\"\"Calculate Intersection over Union between ground truth and prediction\n",
    "    Args:\n",
    "        pr (torch.Tensor): predicted tensor\n",
    "        gt (torch.Tensor):  ground truth tensor\n",
    "        eps (float): epsilon to avoid zero division\n",
    "        threshold: threshold for outputs binarization\n",
    "    Returns:\n",
    "        float: IoU (Jaccard) score\n",
    "    \"\"\"\n",
    "\n",
    "    pr = _threshold(pr, threshold=threshold)\n",
    "    pr, gt = _take_channels(pr, gt, ignore_channels=ignore_channels)\n",
    "\n",
    "    intersection = torch.sum(gt * pr)\n",
    "    union = torch.sum(gt) + torch.sum(pr) - intersection + eps\n",
    "    return (intersection + eps) / union\n"
   ]
  },
  {
   "cell_type": "code",
   "execution_count": 20,
   "id": "dd5e8113",
   "metadata": {},
   "outputs": [],
   "source": [
    "def test_lanyard_re(weight_path, classes, test_features_folder, test_labels_folder, prefix=None):\n",
    "  iou_scores = []\n",
    "  iou_scores_resized = []\n",
    "  best_model = torch.load(weight_path + '/best_model.pth')\n",
    "  test_input_imgs = read_images(test_features_folder)\n",
    "  test_output_imgs = read_images(test_labels_folder)\n",
    "\n",
    "  cm2lbl = make_cm2lbl()\n",
    "\n",
    "  test_dataset = IS_Dataset_test(\n",
    "      test_input_imgs, \n",
    "      test_output_imgs, \n",
    "#       transform=transform,\n",
    "      transform_toTensor=transform_toTensor,\n",
    "      classes=classes,\n",
    "      cm2lbl=cm2lbl\n",
    "   )\n",
    "  test_dataset_vis = IS_Dataset_test(test_input_imgs, test_output_imgs, classes=classes, cm2lbl=cm2lbl)\n",
    "\n",
    "  test_resized_dataset = IS_Dataset(\n",
    "      test_input_imgs, \n",
    "      test_output_imgs, \n",
    "#       transform=transform,\n",
    "      transform_toTensor=transform_toTensor,\n",
    "      classes=classes,\n",
    "      cm2lbl=cm2lbl,resize_size=(512,512)\n",
    "  )\n",
    "  \n",
    "  \n",
    "  for i in tqdm(range(len(test_dataset))):\n",
    "    image_vis = test_dataset_vis[i][0].astype('uint8')\n",
    "\n",
    "    image, gt_mask = test_dataset[i]\n",
    "    image_resized, gt_mask_resized = test_resized_dataset[i]\n",
    "    \n",
    "    gt_mask = gt_mask.squeeze()\n",
    "#     gt_mask_tensor = torch.from_numpy(gt_mask)\n",
    "    gt_mask_tensor = gt_mask\n",
    "    \n",
    "    gt_mask_resized = gt_mask_resized.squeeze()\n",
    "    \n",
    "#     x_tensor = torch.from_numpy(image).to('cuda').unsqueeze(0)\n",
    "    x_tensor = image.to('cuda').unsqueeze(0)\n",
    "    pr_mask = best_model(x_tensor).data\n",
    "    pr_mask = torch.sigmoid(pr_mask)\n",
    "    pr_mask = (pr_mask.squeeze().cpu().numpy().round())\n",
    "    pr_mask_tensor = torch.from_numpy(pr_mask)\n",
    "    \n",
    "#     x_tensor_resized = torch.from_numpy(image_resized).to('cuda').unsqueeze(0)\n",
    "    x_tensor_resized = image_resized.to('cuda').unsqueeze(0)\n",
    "    pr_mask_resized = best_model(x_tensor_resized).data\n",
    "    pr_mask_resized = torch.sigmoid(pr_mask_resized)\n",
    "    pr_mask_resized = (pr_mask_resized.squeeze().cpu().numpy().round())\n",
    "    pr_mask_resized_return = cv2.resize(pr_mask_resized, (gt_mask.shape[1], gt_mask.shape[0]), interpolation=cv2.INTER_NEAREST)\n",
    "    pr_mask_resized_return_tensor = torch.from_numpy(pr_mask_resized_return)\n",
    "    \n",
    "    iou_score = iou(pr_mask_tensor, gt_mask_tensor, eps=1e-7, threshold=0.5, ignore_channels=None)\n",
    "    iou_score_resized = iou(pr_mask_resized_return_tensor, gt_mask_tensor, eps=1e-7, threshold=0.5, ignore_channels=None)\n",
    "    iou_scores.append(iou_score)\n",
    "    iou_scores_resized.append(iou_score_resized)\n",
    "    \n",
    "\n",
    "  return np.mean(iou_scores), np.mean(iou_scores_resized)"
   ]
  },
  {
   "cell_type": "code",
   "execution_count": 21,
   "id": "2b792f14",
   "metadata": {},
   "outputs": [
    {
     "name": "stdout",
     "output_type": "stream",
     "text": [
      "path： /home/user/Desktop/lanyard_segmentation/guardrail/test_data/features\n",
      "directory： []\n",
      "file： ['0075.png', '0086.png', '0019.png', '0083.png', '0054.png', '0001.png', '0050.png', '0056.png', '0058.png', '0084.png', '0081.png', '0034.png', '0023.png']\n"
     ]
    },
    {
     "name": "stderr",
     "output_type": "stream",
     "text": [
      "100%|██████████| 13/13 [00:00<00:00, 220752.84it/s]\n"
     ]
    },
    {
     "name": "stdout",
     "output_type": "stream",
     "text": [
      "Read  13  files\n",
      "path： /home/user/Desktop/lanyard_segmentation/guardrail/test_data/labels\n",
      "directory： []\n",
      "file： ['0075.png', '0086.png', '0019.png', '0083.png', '0054.png', '0001.png', '0050.png', '0056.png', '0058.png', '0084.png', '0081.png', '0034.png', '0023.png']\n"
     ]
    },
    {
     "name": "stderr",
     "output_type": "stream",
     "text": [
      "100%|██████████| 13/13 [00:00<00:00, 182361.04it/s]\n"
     ]
    },
    {
     "name": "stdout",
     "output_type": "stream",
     "text": [
      "Read  13  files\n",
      "Read 13 images\n",
      "Read 13 images\n",
      "Read 13 images\n"
     ]
    },
    {
     "name": "stderr",
     "output_type": "stream",
     "text": [
      "\r\n",
      "  0%|          | 0/13 [00:00<?, ?it/s]"
     ]
    },
    {
     "name": "stdout",
     "output_type": "stream",
     "text": [
      "(720, 960, 3)\n",
      "(720, 960, 3)\n"
     ]
    },
    {
     "name": "stderr",
     "output_type": "stream",
     "text": [
      "/home/user/anaconda3/envs/jamie_segmentation/lib/python3.6/site-packages/torch/nn/functional.py:3487: UserWarning: nn.functional.upsample is deprecated. Use nn.functional.interpolate instead.\n",
      "  warnings.warn(\"nn.functional.upsample is deprecated. Use nn.functional.interpolate instead.\")\n",
      "  8%|▊         | 1/13 [00:01<00:17,  1.44s/it]"
     ]
    },
    {
     "name": "stdout",
     "output_type": "stream",
     "text": [
      "(720, 960, 3)\n",
      "(720, 960, 3)\n"
     ]
    },
    {
     "name": "stderr",
     "output_type": "stream",
     "text": [
      "\r\n",
      " 15%|█▌        | 2/13 [00:02<00:15,  1.41s/it]"
     ]
    },
    {
     "name": "stdout",
     "output_type": "stream",
     "text": [
      "(720, 960, 3)\n",
      "(720, 960, 3)\n"
     ]
    },
    {
     "name": "stderr",
     "output_type": "stream",
     "text": [
      "\r\n",
      " 23%|██▎       | 3/13 [00:04<00:13,  1.37s/it]"
     ]
    },
    {
     "name": "stdout",
     "output_type": "stream",
     "text": [
      "(720, 960, 3)\n",
      "(720, 960, 3)\n"
     ]
    },
    {
     "name": "stderr",
     "output_type": "stream",
     "text": [
      "\r\n",
      " 31%|███       | 4/13 [00:05<00:12,  1.37s/it]"
     ]
    },
    {
     "name": "stdout",
     "output_type": "stream",
     "text": [
      "(720, 960, 3)\n",
      "(720, 960, 3)\n"
     ]
    },
    {
     "name": "stderr",
     "output_type": "stream",
     "text": [
      "\r\n",
      " 38%|███▊      | 5/13 [00:06<00:10,  1.27s/it]"
     ]
    },
    {
     "name": "stdout",
     "output_type": "stream",
     "text": [
      "(720, 960, 3)\n",
      "(720, 960, 3)\n"
     ]
    },
    {
     "name": "stderr",
     "output_type": "stream",
     "text": [
      "\r\n",
      " 46%|████▌     | 6/13 [00:07<00:08,  1.24s/it]"
     ]
    },
    {
     "name": "stdout",
     "output_type": "stream",
     "text": [
      "(720, 960, 3)\n",
      "(720, 960, 3)\n"
     ]
    },
    {
     "name": "stderr",
     "output_type": "stream",
     "text": [
      "\r\n",
      " 54%|█████▍    | 7/13 [00:08<00:07,  1.19s/it]"
     ]
    },
    {
     "name": "stdout",
     "output_type": "stream",
     "text": [
      "(720, 960, 3)\n",
      "(720, 960, 3)\n"
     ]
    },
    {
     "name": "stderr",
     "output_type": "stream",
     "text": [
      "\r\n",
      " 62%|██████▏   | 8/13 [00:10<00:05,  1.17s/it]"
     ]
    },
    {
     "name": "stdout",
     "output_type": "stream",
     "text": [
      "(720, 960, 3)\n",
      "(720, 960, 3)\n"
     ]
    },
    {
     "name": "stderr",
     "output_type": "stream",
     "text": [
      "\r\n",
      " 69%|██████▉   | 9/13 [00:11<00:04,  1.19s/it]"
     ]
    },
    {
     "name": "stdout",
     "output_type": "stream",
     "text": [
      "(720, 960, 3)\n",
      "(720, 960, 3)\n"
     ]
    },
    {
     "name": "stderr",
     "output_type": "stream",
     "text": [
      "\r\n",
      " 77%|███████▋  | 10/13 [00:11<00:02,  1.07it/s]"
     ]
    },
    {
     "name": "stdout",
     "output_type": "stream",
     "text": [
      "(720, 960, 3)\n",
      "(720, 960, 3)\n"
     ]
    },
    {
     "name": "stderr",
     "output_type": "stream",
     "text": [
      "\r\n",
      " 85%|████████▍ | 11/13 [00:11<00:01,  1.30it/s]"
     ]
    },
    {
     "name": "stdout",
     "output_type": "stream",
     "text": [
      "(720, 960, 3)\n",
      "(720, 960, 3)\n"
     ]
    },
    {
     "name": "stderr",
     "output_type": "stream",
     "text": [
      "\r\n",
      " 92%|█████████▏| 12/13 [00:12<00:00,  1.54it/s]"
     ]
    },
    {
     "name": "stdout",
     "output_type": "stream",
     "text": [
      "(720, 960, 3)\n",
      "(720, 960, 3)\n"
     ]
    },
    {
     "name": "stderr",
     "output_type": "stream",
     "text": [
      "100%|██████████| 13/13 [00:12<00:00,  1.02it/s]\n"
     ]
    }
   ],
   "source": [
    "iou_scores, iou_scores_resized = test_lanyard_re(weight_path, classes, test_features_folder, test_labels_folder)"
   ]
  },
  {
   "cell_type": "code",
   "execution_count": 22,
   "id": "babcfc4a",
   "metadata": {},
   "outputs": [
    {
     "name": "stdout",
     "output_type": "stream",
     "text": [
      "0.3262730684305177\n",
      "0.5049720959705174\n"
     ]
    }
   ],
   "source": [
    "# test on test set\n",
    "print(iou_scores)\n",
    "print(iou_scores_resized)"
   ]
  },
  {
   "cell_type": "code",
   "execution_count": 23,
   "id": "fa0acca8",
   "metadata": {},
   "outputs": [
    {
     "name": "stdout",
     "output_type": "stream",
     "text": [
      "path： /home/user/Desktop/lanyard_segmentation/guardrail/orig_features\n",
      "directory： []\n",
      "file： ['0075.png', '0028.png', '0022.png', '0086.png', '0003.png', '0057.png', '0020.png', '0074.png', '0019.png', '0079.png', '0083.png', '0051.png', '0047.png', '0072.png', '0031.png', '0071.png', '0030.png', '0015.png', '0070.png', '0068.png', '0018.png', '0017.png', '0067.png', '0052.png', '0060.png', '0037.png', '0039.png', '0088.png', '0027.png', '0054.png', '0001.png', '0038.png', '0050.png', '0077.png', '0024.png', '0013.png', '0056.png', '0016.png', '0009.png', '0061.png', '0066.png', '0045.png', '0055.png', '0059.png', '0064.png', '0026.png', '0025.png', '0058.png', '0063.png', '0046.png', '0084.png', '0069.png', '0004.png', '0078.png', '0065.png', '0012.png', '0035.png', '0042.png', '0002.png', '0076.png', '0081.png', '0034.png', '0062.png', '0053.png', '0010.png', '0023.png', '0032.png', '0082.png', '0006.png', '0029.png', '0073.png', '0008.png', '0036.png', '0043.png', '0080.png', '0021.png', '0049.png', '0005.png', '0040.png', '0041.png', '0007.png', '0087.png', '0085.png', '0014.png', '0011.png', '0048.png', '0033.png', '0044.png']\n"
     ]
    },
    {
     "name": "stderr",
     "output_type": "stream",
     "text": [
      "100%|██████████| 88/88 [00:00<00:00, 671088.64it/s]\n"
     ]
    },
    {
     "name": "stdout",
     "output_type": "stream",
     "text": [
      "Read  88  files\n",
      "path： /home/user/Desktop/lanyard_segmentation/guardrail/orig_labels\n",
      "directory： []\n",
      "file： ['0075.png', '0028.png', '0022.png', '0086.png', '0003.png', '0057.png', '0020.png', '0074.png', '0019.png', '0079.png', '0083.png', '0051.png', '0047.png', '0072.png', '0031.png', '0071.png', '0030.png', '0015.png', '0070.png', '0068.png', '0018.png', '0017.png', '0067.png', '0052.png', '0060.png', '0037.png', '0039.png', '0088.png', '0027.png', '0054.png', '0001.png', '0038.png', '0050.png', '0077.png', '0024.png', '0013.png', '0056.png', '0016.png', '0009.png', '0061.png', '0066.png', '0045.png', '0055.png', '0059.png', '0064.png', '0026.png', '0025.png', '0058.png', '0063.png', '0046.png', '0084.png', '0069.png', '0004.png', '0078.png', '0065.png', '0012.png', '0035.png', '0042.png', '0002.png', '0076.png', '0081.png', '0034.png', '0062.png', '0053.png', '0010.png', '0023.png', '0032.png', '0082.png', '0006.png', '0029.png', '0073.png', '0008.png', '0036.png', '0043.png', '0080.png', '0021.png', '0049.png', '0005.png', '0040.png', '0041.png', '0007.png', '0087.png', '0085.png', '0014.png', '0011.png', '0048.png', '0033.png', '0044.png']\n"
     ]
    },
    {
     "name": "stderr",
     "output_type": "stream",
     "text": [
      "100%|██████████| 88/88 [00:00<00:00, 885128.90it/s]\n"
     ]
    },
    {
     "name": "stdout",
     "output_type": "stream",
     "text": [
      "Read  88  files\n",
      "Read 88 images\n",
      "Read 88 images\n",
      "Read 88 images\n"
     ]
    },
    {
     "name": "stderr",
     "output_type": "stream",
     "text": [
      "\r\n",
      "  0%|          | 0/88 [00:00<?, ?it/s]"
     ]
    },
    {
     "name": "stdout",
     "output_type": "stream",
     "text": [
      "(720, 960, 3)\n",
      "(720, 960, 3)\n"
     ]
    },
    {
     "name": "stderr",
     "output_type": "stream",
     "text": [
      "\r\n",
      "  1%|          | 1/88 [00:01<02:08,  1.48s/it]"
     ]
    },
    {
     "name": "stdout",
     "output_type": "stream",
     "text": [
      "(720, 960, 3)\n",
      "(720, 960, 3)\n"
     ]
    },
    {
     "name": "stderr",
     "output_type": "stream",
     "text": [
      "\r\n",
      "  2%|▏         | 2/88 [00:01<01:10,  1.22it/s]"
     ]
    },
    {
     "name": "stdout",
     "output_type": "stream",
     "text": [
      "(720, 960, 3)\n",
      "(720, 960, 3)\n"
     ]
    },
    {
     "name": "stderr",
     "output_type": "stream",
     "text": [
      "\r\n",
      "  3%|▎         | 3/88 [00:02<00:51,  1.65it/s]"
     ]
    },
    {
     "name": "stdout",
     "output_type": "stream",
     "text": [
      "(720, 960, 3)\n",
      "(720, 960, 3)\n"
     ]
    },
    {
     "name": "stderr",
     "output_type": "stream",
     "text": [
      "\r\n",
      "  5%|▍         | 4/88 [00:02<00:42,  1.98it/s]"
     ]
    },
    {
     "name": "stdout",
     "output_type": "stream",
     "text": [
      "(720, 960, 3)\n",
      "(720, 960, 3)\n"
     ]
    },
    {
     "name": "stderr",
     "output_type": "stream",
     "text": [
      "\r\n",
      "  6%|▌         | 5/88 [00:02<00:37,  2.22it/s]"
     ]
    },
    {
     "name": "stdout",
     "output_type": "stream",
     "text": [
      "(720, 960, 3)\n",
      "(720, 960, 3)\n"
     ]
    },
    {
     "name": "stderr",
     "output_type": "stream",
     "text": [
      "\r\n",
      "  7%|▋         | 6/88 [00:03<00:34,  2.37it/s]"
     ]
    },
    {
     "name": "stdout",
     "output_type": "stream",
     "text": [
      "(720, 960, 3)\n",
      "(720, 960, 3)\n"
     ]
    },
    {
     "name": "stderr",
     "output_type": "stream",
     "text": [
      "\r\n",
      "  8%|▊         | 7/88 [00:03<00:32,  2.50it/s]"
     ]
    },
    {
     "name": "stdout",
     "output_type": "stream",
     "text": [
      "(720, 960, 3)\n",
      "(720, 960, 3)\n"
     ]
    },
    {
     "name": "stderr",
     "output_type": "stream",
     "text": [
      "\r\n",
      "  9%|▉         | 8/88 [00:03<00:31,  2.57it/s]"
     ]
    },
    {
     "name": "stdout",
     "output_type": "stream",
     "text": [
      "(720, 960, 3)\n",
      "(720, 960, 3)\n"
     ]
    },
    {
     "name": "stderr",
     "output_type": "stream",
     "text": [
      "\r\n",
      " 10%|█         | 9/88 [00:04<00:31,  2.49it/s]"
     ]
    },
    {
     "name": "stdout",
     "output_type": "stream",
     "text": [
      "(720, 960, 3)\n",
      "(720, 960, 3)\n"
     ]
    },
    {
     "name": "stderr",
     "output_type": "stream",
     "text": [
      "\r\n",
      " 11%|█▏        | 10/88 [00:04<00:30,  2.52it/s]"
     ]
    },
    {
     "name": "stdout",
     "output_type": "stream",
     "text": [
      "(720, 960, 3)\n",
      "(720, 960, 3)\n"
     ]
    },
    {
     "name": "stderr",
     "output_type": "stream",
     "text": [
      "\r\n",
      " 12%|█▎        | 11/88 [00:05<00:30,  2.51it/s]"
     ]
    },
    {
     "name": "stdout",
     "output_type": "stream",
     "text": [
      "(720, 960, 3)\n",
      "(720, 960, 3)\n"
     ]
    },
    {
     "name": "stderr",
     "output_type": "stream",
     "text": [
      "\r\n",
      " 14%|█▎        | 12/88 [00:05<00:30,  2.51it/s]"
     ]
    },
    {
     "name": "stdout",
     "output_type": "stream",
     "text": [
      "(720, 960, 3)\n",
      "(720, 960, 3)\n"
     ]
    },
    {
     "name": "stderr",
     "output_type": "stream",
     "text": [
      "\r\n",
      " 15%|█▍        | 13/88 [00:06<00:30,  2.47it/s]"
     ]
    },
    {
     "name": "stdout",
     "output_type": "stream",
     "text": [
      "(720, 960, 3)\n",
      "(720, 960, 3)\n"
     ]
    },
    {
     "name": "stderr",
     "output_type": "stream",
     "text": [
      "\r\n",
      " 16%|█▌        | 14/88 [00:06<00:29,  2.51it/s]"
     ]
    },
    {
     "name": "stdout",
     "output_type": "stream",
     "text": [
      "(720, 960, 3)\n",
      "(720, 960, 3)\n"
     ]
    },
    {
     "name": "stderr",
     "output_type": "stream",
     "text": [
      "\r\n",
      " 17%|█▋        | 15/88 [00:06<00:28,  2.57it/s]"
     ]
    },
    {
     "name": "stdout",
     "output_type": "stream",
     "text": [
      "(720, 960, 3)\n",
      "(720, 960, 3)\n"
     ]
    },
    {
     "name": "stderr",
     "output_type": "stream",
     "text": [
      "\r\n",
      " 18%|█▊        | 16/88 [00:07<00:28,  2.56it/s]"
     ]
    },
    {
     "name": "stdout",
     "output_type": "stream",
     "text": [
      "(720, 960, 3)\n",
      "(720, 960, 3)\n"
     ]
    },
    {
     "name": "stderr",
     "output_type": "stream",
     "text": [
      "\r\n",
      " 19%|█▉        | 17/88 [00:07<00:27,  2.62it/s]"
     ]
    },
    {
     "name": "stdout",
     "output_type": "stream",
     "text": [
      "(720, 960, 3)\n",
      "(720, 960, 3)\n"
     ]
    },
    {
     "name": "stderr",
     "output_type": "stream",
     "text": [
      "\r\n",
      " 20%|██        | 18/88 [00:08<00:48,  1.43it/s]"
     ]
    },
    {
     "name": "stdout",
     "output_type": "stream",
     "text": [
      "(720, 960, 3)\n",
      "(720, 960, 3)\n"
     ]
    },
    {
     "name": "stderr",
     "output_type": "stream",
     "text": [
      "\r\n",
      " 22%|██▏       | 19/88 [00:10<01:05,  1.05it/s]"
     ]
    },
    {
     "name": "stdout",
     "output_type": "stream",
     "text": [
      "(720, 960, 3)\n",
      "(720, 960, 3)\n"
     ]
    },
    {
     "name": "stderr",
     "output_type": "stream",
     "text": [
      "\r\n",
      " 23%|██▎       | 20/88 [00:12<01:16,  1.12s/it]"
     ]
    },
    {
     "name": "stdout",
     "output_type": "stream",
     "text": [
      "(720, 960, 3)\n",
      "(720, 960, 3)\n"
     ]
    },
    {
     "name": "stderr",
     "output_type": "stream",
     "text": [
      "\r\n",
      " 24%|██▍       | 21/88 [00:13<01:21,  1.22s/it]"
     ]
    },
    {
     "name": "stdout",
     "output_type": "stream",
     "text": [
      "(720, 960, 3)\n",
      "(720, 960, 3)\n"
     ]
    },
    {
     "name": "stderr",
     "output_type": "stream",
     "text": [
      "\r\n",
      " 25%|██▌       | 22/88 [00:14<01:24,  1.29s/it]"
     ]
    },
    {
     "name": "stdout",
     "output_type": "stream",
     "text": [
      "(720, 960, 3)\n",
      "(720, 960, 3)\n"
     ]
    },
    {
     "name": "stderr",
     "output_type": "stream",
     "text": [
      "\r\n",
      " 26%|██▌       | 23/88 [00:16<01:25,  1.31s/it]"
     ]
    },
    {
     "name": "stdout",
     "output_type": "stream",
     "text": [
      "(720, 960, 3)\n",
      "(720, 960, 3)\n"
     ]
    },
    {
     "name": "stderr",
     "output_type": "stream",
     "text": [
      "\r\n",
      " 27%|██▋       | 24/88 [00:17<01:27,  1.36s/it]"
     ]
    },
    {
     "name": "stdout",
     "output_type": "stream",
     "text": [
      "(720, 960, 3)\n",
      "(720, 960, 3)\n"
     ]
    },
    {
     "name": "stderr",
     "output_type": "stream",
     "text": [
      "\r\n",
      " 28%|██▊       | 25/88 [00:19<01:27,  1.38s/it]"
     ]
    },
    {
     "name": "stdout",
     "output_type": "stream",
     "text": [
      "(720, 960, 3)\n",
      "(720, 960, 3)\n"
     ]
    },
    {
     "name": "stderr",
     "output_type": "stream",
     "text": [
      "\r\n",
      " 30%|██▉       | 26/88 [00:20<01:27,  1.41s/it]"
     ]
    },
    {
     "name": "stdout",
     "output_type": "stream",
     "text": [
      "(720, 960, 3)\n",
      "(720, 960, 3)\n"
     ]
    },
    {
     "name": "stderr",
     "output_type": "stream",
     "text": [
      "\r\n",
      " 31%|███       | 27/88 [00:22<01:26,  1.42s/it]"
     ]
    },
    {
     "name": "stdout",
     "output_type": "stream",
     "text": [
      "(720, 960, 3)\n",
      "(720, 960, 3)\n"
     ]
    },
    {
     "name": "stderr",
     "output_type": "stream",
     "text": [
      "\r\n",
      " 32%|███▏      | 28/88 [00:23<01:25,  1.42s/it]"
     ]
    },
    {
     "name": "stdout",
     "output_type": "stream",
     "text": [
      "(720, 960, 3)\n",
      "(720, 960, 3)\n"
     ]
    },
    {
     "name": "stderr",
     "output_type": "stream",
     "text": [
      "\r\n",
      " 33%|███▎      | 29/88 [00:24<01:21,  1.39s/it]"
     ]
    },
    {
     "name": "stdout",
     "output_type": "stream",
     "text": [
      "(720, 960, 3)\n",
      "(720, 960, 3)\n"
     ]
    },
    {
     "name": "stderr",
     "output_type": "stream",
     "text": [
      "\r\n",
      " 34%|███▍      | 30/88 [00:26<01:19,  1.37s/it]"
     ]
    },
    {
     "name": "stdout",
     "output_type": "stream",
     "text": [
      "(720, 960, 3)\n",
      "(720, 960, 3)\n"
     ]
    },
    {
     "name": "stderr",
     "output_type": "stream",
     "text": [
      "\r\n",
      " 35%|███▌      | 31/88 [00:27<01:18,  1.38s/it]"
     ]
    },
    {
     "name": "stdout",
     "output_type": "stream",
     "text": [
      "(720, 960, 3)\n",
      "(720, 960, 3)\n"
     ]
    },
    {
     "name": "stderr",
     "output_type": "stream",
     "text": [
      "\r\n",
      " 36%|███▋      | 32/88 [00:28<01:16,  1.37s/it]"
     ]
    },
    {
     "name": "stdout",
     "output_type": "stream",
     "text": [
      "(720, 960, 3)\n",
      "(720, 960, 3)\n"
     ]
    },
    {
     "name": "stderr",
     "output_type": "stream",
     "text": [
      "\r\n",
      " 38%|███▊      | 33/88 [00:30<01:16,  1.39s/it]"
     ]
    },
    {
     "name": "stdout",
     "output_type": "stream",
     "text": [
      "(720, 960, 3)\n",
      "(720, 960, 3)\n"
     ]
    },
    {
     "name": "stderr",
     "output_type": "stream",
     "text": [
      "\r\n",
      " 39%|███▊      | 34/88 [00:31<01:15,  1.40s/it]"
     ]
    },
    {
     "name": "stdout",
     "output_type": "stream",
     "text": [
      "(720, 960, 3)\n",
      "(720, 960, 3)\n"
     ]
    },
    {
     "name": "stderr",
     "output_type": "stream",
     "text": [
      "\r\n",
      " 40%|███▉      | 35/88 [00:33<01:14,  1.41s/it]"
     ]
    },
    {
     "name": "stdout",
     "output_type": "stream",
     "text": [
      "(720, 960, 3)\n",
      "(720, 960, 3)\n"
     ]
    },
    {
     "name": "stderr",
     "output_type": "stream",
     "text": [
      "\r\n",
      " 41%|████      | 36/88 [00:34<01:12,  1.39s/it]"
     ]
    },
    {
     "name": "stdout",
     "output_type": "stream",
     "text": [
      "(720, 960, 3)\n",
      "(720, 960, 3)\n"
     ]
    },
    {
     "name": "stderr",
     "output_type": "stream",
     "text": [
      "\r\n",
      " 42%|████▏     | 37/88 [00:35<01:09,  1.37s/it]"
     ]
    },
    {
     "name": "stdout",
     "output_type": "stream",
     "text": [
      "(720, 960, 3)\n",
      "(720, 960, 3)\n"
     ]
    },
    {
     "name": "stderr",
     "output_type": "stream",
     "text": [
      "\r\n",
      " 43%|████▎     | 38/88 [00:37<01:09,  1.38s/it]"
     ]
    },
    {
     "name": "stdout",
     "output_type": "stream",
     "text": [
      "(720, 960, 3)\n",
      "(720, 960, 3)\n"
     ]
    },
    {
     "name": "stderr",
     "output_type": "stream",
     "text": [
      "\r\n",
      " 44%|████▍     | 39/88 [00:38<01:07,  1.38s/it]"
     ]
    },
    {
     "name": "stdout",
     "output_type": "stream",
     "text": [
      "(720, 960, 3)\n",
      "(720, 960, 3)\n"
     ]
    },
    {
     "name": "stderr",
     "output_type": "stream",
     "text": [
      "\r\n",
      " 45%|████▌     | 40/88 [00:40<01:07,  1.40s/it]"
     ]
    },
    {
     "name": "stdout",
     "output_type": "stream",
     "text": [
      "(720, 960, 3)\n",
      "(720, 960, 3)\n"
     ]
    },
    {
     "name": "stderr",
     "output_type": "stream",
     "text": [
      "\r\n",
      " 47%|████▋     | 41/88 [00:41<01:06,  1.41s/it]"
     ]
    },
    {
     "name": "stdout",
     "output_type": "stream",
     "text": [
      "(720, 960, 3)\n",
      "(720, 960, 3)\n"
     ]
    },
    {
     "name": "stderr",
     "output_type": "stream",
     "text": [
      "\r\n",
      " 48%|████▊     | 42/88 [00:42<01:05,  1.41s/it]"
     ]
    },
    {
     "name": "stdout",
     "output_type": "stream",
     "text": [
      "(720, 960, 3)\n",
      "(720, 960, 3)\n"
     ]
    },
    {
     "name": "stderr",
     "output_type": "stream",
     "text": [
      "\r\n",
      " 49%|████▉     | 43/88 [00:44<01:04,  1.44s/it]"
     ]
    },
    {
     "name": "stdout",
     "output_type": "stream",
     "text": [
      "(720, 960, 3)\n",
      "(720, 960, 3)\n"
     ]
    },
    {
     "name": "stderr",
     "output_type": "stream",
     "text": [
      "\r\n",
      " 50%|█████     | 44/88 [00:45<01:03,  1.43s/it]"
     ]
    },
    {
     "name": "stdout",
     "output_type": "stream",
     "text": [
      "(720, 960, 3)\n",
      "(720, 960, 3)\n"
     ]
    },
    {
     "name": "stderr",
     "output_type": "stream",
     "text": [
      "\r\n",
      " 51%|█████     | 45/88 [00:47<00:58,  1.36s/it]"
     ]
    },
    {
     "name": "stdout",
     "output_type": "stream",
     "text": [
      "(720, 960, 3)\n",
      "(720, 960, 3)\n"
     ]
    },
    {
     "name": "stderr",
     "output_type": "stream",
     "text": [
      "\r\n",
      " 52%|█████▏    | 46/88 [00:48<00:54,  1.30s/it]"
     ]
    },
    {
     "name": "stdout",
     "output_type": "stream",
     "text": [
      "(720, 960, 3)\n",
      "(720, 960, 3)\n"
     ]
    },
    {
     "name": "stderr",
     "output_type": "stream",
     "text": [
      "\r\n",
      " 53%|█████▎    | 47/88 [00:49<00:50,  1.24s/it]"
     ]
    },
    {
     "name": "stdout",
     "output_type": "stream",
     "text": [
      "(720, 960, 3)\n",
      "(720, 960, 3)\n"
     ]
    },
    {
     "name": "stderr",
     "output_type": "stream",
     "text": [
      "\r\n",
      " 55%|█████▍    | 48/88 [00:50<00:48,  1.20s/it]"
     ]
    },
    {
     "name": "stdout",
     "output_type": "stream",
     "text": [
      "(720, 960, 3)\n",
      "(720, 960, 3)\n"
     ]
    },
    {
     "name": "stderr",
     "output_type": "stream",
     "text": [
      "\r\n",
      " 56%|█████▌    | 49/88 [00:51<00:45,  1.17s/it]"
     ]
    },
    {
     "name": "stdout",
     "output_type": "stream",
     "text": [
      "(720, 960, 3)\n",
      "(720, 960, 3)\n"
     ]
    },
    {
     "name": "stderr",
     "output_type": "stream",
     "text": [
      "\r\n",
      " 57%|█████▋    | 50/88 [00:52<00:43,  1.15s/it]"
     ]
    },
    {
     "name": "stdout",
     "output_type": "stream",
     "text": [
      "(720, 960, 3)\n",
      "(720, 960, 3)\n"
     ]
    },
    {
     "name": "stderr",
     "output_type": "stream",
     "text": [
      "\r\n",
      " 58%|█████▊    | 51/88 [00:53<00:41,  1.13s/it]"
     ]
    },
    {
     "name": "stdout",
     "output_type": "stream",
     "text": [
      "(720, 960, 3)\n",
      "(720, 960, 3)\n"
     ]
    },
    {
     "name": "stderr",
     "output_type": "stream",
     "text": [
      "\r\n",
      " 59%|█████▉    | 52/88 [00:54<00:40,  1.12s/it]"
     ]
    },
    {
     "name": "stdout",
     "output_type": "stream",
     "text": [
      "(720, 960, 3)\n",
      "(720, 960, 3)\n"
     ]
    },
    {
     "name": "stderr",
     "output_type": "stream",
     "text": [
      "\r\n",
      " 60%|██████    | 53/88 [00:55<00:39,  1.13s/it]"
     ]
    },
    {
     "name": "stdout",
     "output_type": "stream",
     "text": [
      "(720, 960, 3)\n",
      "(720, 960, 3)\n"
     ]
    },
    {
     "name": "stderr",
     "output_type": "stream",
     "text": [
      "\r\n",
      " 61%|██████▏   | 54/88 [00:57<00:38,  1.15s/it]"
     ]
    },
    {
     "name": "stdout",
     "output_type": "stream",
     "text": [
      "(720, 960, 3)\n",
      "(720, 960, 3)\n"
     ]
    },
    {
     "name": "stderr",
     "output_type": "stream",
     "text": [
      "\r\n",
      " 62%|██████▎   | 55/88 [00:58<00:38,  1.15s/it]"
     ]
    },
    {
     "name": "stdout",
     "output_type": "stream",
     "text": [
      "(720, 960, 3)\n",
      "(720, 960, 3)\n"
     ]
    },
    {
     "name": "stderr",
     "output_type": "stream",
     "text": [
      "\r\n",
      " 64%|██████▎   | 56/88 [00:59<00:36,  1.13s/it]"
     ]
    },
    {
     "name": "stdout",
     "output_type": "stream",
     "text": [
      "(720, 960, 3)\n",
      "(720, 960, 3)\n"
     ]
    },
    {
     "name": "stderr",
     "output_type": "stream",
     "text": [
      "\r\n",
      " 65%|██████▍   | 57/88 [01:00<00:35,  1.14s/it]"
     ]
    },
    {
     "name": "stdout",
     "output_type": "stream",
     "text": [
      "(720, 960, 3)\n",
      "(720, 960, 3)\n"
     ]
    },
    {
     "name": "stderr",
     "output_type": "stream",
     "text": [
      "\r\n",
      " 66%|██████▌   | 58/88 [01:01<00:34,  1.14s/it]"
     ]
    },
    {
     "name": "stdout",
     "output_type": "stream",
     "text": [
      "(720, 960, 3)\n",
      "(720, 960, 3)\n"
     ]
    },
    {
     "name": "stderr",
     "output_type": "stream",
     "text": [
      "\r\n",
      " 67%|██████▋   | 59/88 [01:02<00:32,  1.12s/it]"
     ]
    },
    {
     "name": "stdout",
     "output_type": "stream",
     "text": [
      "(720, 960, 3)\n",
      "(720, 960, 3)\n"
     ]
    },
    {
     "name": "stderr",
     "output_type": "stream",
     "text": [
      "\r\n",
      " 68%|██████▊   | 60/88 [01:03<00:31,  1.12s/it]"
     ]
    },
    {
     "name": "stdout",
     "output_type": "stream",
     "text": [
      "(720, 960, 3)\n",
      "(720, 960, 3)\n"
     ]
    },
    {
     "name": "stderr",
     "output_type": "stream",
     "text": [
      "\r\n",
      " 69%|██████▉   | 61/88 [01:05<00:30,  1.14s/it]"
     ]
    },
    {
     "name": "stdout",
     "output_type": "stream",
     "text": [
      "(720, 960, 3)\n",
      "(720, 960, 3)\n"
     ]
    },
    {
     "name": "stderr",
     "output_type": "stream",
     "text": [
      "\r\n",
      " 70%|███████   | 62/88 [01:06<00:29,  1.15s/it]"
     ]
    },
    {
     "name": "stdout",
     "output_type": "stream",
     "text": [
      "(720, 960, 3)\n",
      "(720, 960, 3)\n"
     ]
    },
    {
     "name": "stderr",
     "output_type": "stream",
     "text": [
      "\r\n",
      " 72%|███████▏  | 63/88 [01:07<00:28,  1.15s/it]"
     ]
    },
    {
     "name": "stdout",
     "output_type": "stream",
     "text": [
      "(720, 960, 3)\n",
      "(720, 960, 3)\n"
     ]
    },
    {
     "name": "stderr",
     "output_type": "stream",
     "text": [
      "\r\n",
      " 73%|███████▎  | 64/88 [01:08<00:26,  1.12s/it]"
     ]
    },
    {
     "name": "stdout",
     "output_type": "stream",
     "text": [
      "(720, 960, 3)\n",
      "(720, 960, 3)\n"
     ]
    },
    {
     "name": "stderr",
     "output_type": "stream",
     "text": [
      "\r\n",
      " 74%|███████▍  | 65/88 [01:09<00:25,  1.11s/it]"
     ]
    },
    {
     "name": "stdout",
     "output_type": "stream",
     "text": [
      "(720, 960, 3)\n",
      "(720, 960, 3)\n"
     ]
    },
    {
     "name": "stderr",
     "output_type": "stream",
     "text": [
      "\r\n",
      " 75%|███████▌  | 66/88 [01:10<00:24,  1.13s/it]"
     ]
    },
    {
     "name": "stdout",
     "output_type": "stream",
     "text": [
      "(720, 960, 3)\n",
      "(720, 960, 3)\n"
     ]
    },
    {
     "name": "stderr",
     "output_type": "stream",
     "text": [
      "\r\n",
      " 76%|███████▌  | 67/88 [01:11<00:23,  1.13s/it]"
     ]
    },
    {
     "name": "stdout",
     "output_type": "stream",
     "text": [
      "(720, 960, 3)\n",
      "(720, 960, 3)\n"
     ]
    },
    {
     "name": "stderr",
     "output_type": "stream",
     "text": [
      "\r\n",
      " 77%|███████▋  | 68/88 [01:12<00:22,  1.11s/it]"
     ]
    },
    {
     "name": "stdout",
     "output_type": "stream",
     "text": [
      "(720, 960, 3)\n",
      "(720, 960, 3)\n"
     ]
    },
    {
     "name": "stderr",
     "output_type": "stream",
     "text": [
      "\r\n",
      " 78%|███████▊  | 69/88 [01:13<00:16,  1.13it/s]"
     ]
    },
    {
     "name": "stdout",
     "output_type": "stream",
     "text": [
      "(720, 960, 3)\n",
      "(720, 960, 3)\n"
     ]
    },
    {
     "name": "stderr",
     "output_type": "stream",
     "text": [
      "\r\n",
      " 80%|███████▉  | 70/88 [01:13<00:13,  1.35it/s]"
     ]
    },
    {
     "name": "stdout",
     "output_type": "stream",
     "text": [
      "(720, 960, 3)\n",
      "(720, 960, 3)\n"
     ]
    },
    {
     "name": "stderr",
     "output_type": "stream",
     "text": [
      "\r\n",
      " 81%|████████  | 71/88 [01:14<00:10,  1.58it/s]"
     ]
    },
    {
     "name": "stdout",
     "output_type": "stream",
     "text": [
      "(720, 960, 3)\n",
      "(720, 960, 3)\n"
     ]
    },
    {
     "name": "stderr",
     "output_type": "stream",
     "text": [
      "\r\n",
      " 82%|████████▏ | 72/88 [01:15<00:12,  1.24it/s]"
     ]
    },
    {
     "name": "stdout",
     "output_type": "stream",
     "text": [
      "(720, 960, 3)\n",
      "(720, 960, 3)\n"
     ]
    },
    {
     "name": "stderr",
     "output_type": "stream",
     "text": [
      "\r\n",
      " 83%|████████▎ | 73/88 [01:16<00:13,  1.09it/s]"
     ]
    },
    {
     "name": "stdout",
     "output_type": "stream",
     "text": [
      "(720, 960, 3)\n",
      "(720, 960, 3)\n"
     ]
    },
    {
     "name": "stderr",
     "output_type": "stream",
     "text": [
      "\r\n",
      " 84%|████████▍ | 74/88 [01:17<00:14,  1.01s/it]"
     ]
    },
    {
     "name": "stdout",
     "output_type": "stream",
     "text": [
      "(720, 960, 3)\n",
      "(720, 960, 3)\n"
     ]
    },
    {
     "name": "stderr",
     "output_type": "stream",
     "text": [
      "\r\n",
      " 85%|████████▌ | 75/88 [01:18<00:14,  1.08s/it]"
     ]
    },
    {
     "name": "stdout",
     "output_type": "stream",
     "text": [
      "(720, 960, 3)\n",
      "(720, 960, 3)\n"
     ]
    },
    {
     "name": "stderr",
     "output_type": "stream",
     "text": [
      "\r\n",
      " 86%|████████▋ | 76/88 [01:20<00:13,  1.09s/it]"
     ]
    },
    {
     "name": "stdout",
     "output_type": "stream",
     "text": [
      "(720, 960, 3)\n",
      "(720, 960, 3)\n"
     ]
    },
    {
     "name": "stderr",
     "output_type": "stream",
     "text": [
      "\r\n",
      " 88%|████████▊ | 77/88 [01:20<00:09,  1.18it/s]"
     ]
    },
    {
     "name": "stdout",
     "output_type": "stream",
     "text": [
      "(720, 960, 3)\n",
      "(720, 960, 3)\n"
     ]
    },
    {
     "name": "stderr",
     "output_type": "stream",
     "text": [
      "\r\n",
      " 89%|████████▊ | 78/88 [01:20<00:06,  1.49it/s]"
     ]
    },
    {
     "name": "stdout",
     "output_type": "stream",
     "text": [
      "(720, 960, 3)\n",
      "(720, 960, 3)\n"
     ]
    },
    {
     "name": "stderr",
     "output_type": "stream",
     "text": [
      "\r\n",
      " 90%|████████▉ | 79/88 [01:20<00:05,  1.73it/s]"
     ]
    },
    {
     "name": "stdout",
     "output_type": "stream",
     "text": [
      "(720, 960, 3)\n",
      "(720, 960, 3)\n"
     ]
    },
    {
     "name": "stderr",
     "output_type": "stream",
     "text": [
      "\r\n",
      " 91%|█████████ | 80/88 [01:21<00:04,  1.96it/s]"
     ]
    },
    {
     "name": "stdout",
     "output_type": "stream",
     "text": [
      "(720, 960, 3)\n",
      "(720, 960, 3)\n"
     ]
    },
    {
     "name": "stderr",
     "output_type": "stream",
     "text": [
      "\r\n",
      " 92%|█████████▏| 81/88 [01:21<00:03,  2.16it/s]"
     ]
    },
    {
     "name": "stdout",
     "output_type": "stream",
     "text": [
      "(720, 960, 3)\n",
      "(720, 960, 3)\n"
     ]
    },
    {
     "name": "stderr",
     "output_type": "stream",
     "text": [
      "\r\n",
      " 93%|█████████▎| 82/88 [01:21<00:02,  2.30it/s]"
     ]
    },
    {
     "name": "stdout",
     "output_type": "stream",
     "text": [
      "(720, 960, 3)\n",
      "(720, 960, 3)\n"
     ]
    },
    {
     "name": "stderr",
     "output_type": "stream",
     "text": [
      "\r\n",
      " 94%|█████████▍| 83/88 [01:22<00:02,  2.43it/s]"
     ]
    },
    {
     "name": "stdout",
     "output_type": "stream",
     "text": [
      "(720, 960, 3)\n",
      "(720, 960, 3)\n"
     ]
    },
    {
     "name": "stderr",
     "output_type": "stream",
     "text": [
      "\r\n",
      " 95%|█████████▌| 84/88 [01:22<00:01,  2.53it/s]"
     ]
    },
    {
     "name": "stdout",
     "output_type": "stream",
     "text": [
      "(720, 960, 3)\n",
      "(720, 960, 3)\n"
     ]
    },
    {
     "name": "stderr",
     "output_type": "stream",
     "text": [
      "\r\n",
      " 97%|█████████▋| 85/88 [01:23<00:01,  2.60it/s]"
     ]
    },
    {
     "name": "stdout",
     "output_type": "stream",
     "text": [
      "(720, 960, 3)\n",
      "(720, 960, 3)\n"
     ]
    },
    {
     "name": "stderr",
     "output_type": "stream",
     "text": [
      "\r\n",
      " 98%|█████████▊| 86/88 [01:23<00:00,  2.65it/s]"
     ]
    },
    {
     "name": "stdout",
     "output_type": "stream",
     "text": [
      "(720, 960, 3)\n",
      "(720, 960, 3)\n"
     ]
    },
    {
     "name": "stderr",
     "output_type": "stream",
     "text": [
      "\r\n",
      " 99%|█████████▉| 87/88 [01:23<00:00,  2.69it/s]"
     ]
    },
    {
     "name": "stdout",
     "output_type": "stream",
     "text": [
      "(720, 960, 3)\n",
      "(720, 960, 3)\n"
     ]
    },
    {
     "name": "stderr",
     "output_type": "stream",
     "text": [
      "100%|██████████| 88/88 [01:24<00:00,  1.05it/s]\n"
     ]
    }
   ],
   "source": [
    "iou_scores, iou_scores_resized = test_lanyard_re(weight_path, classes, orig_features_folder, orig_labels_folder)"
   ]
  },
  {
   "cell_type": "code",
   "execution_count": 24,
   "id": "1fee677e",
   "metadata": {},
   "outputs": [
    {
     "name": "stdout",
     "output_type": "stream",
     "text": [
      "0.34008451225455455\n",
      "0.497917540316031\n"
     ]
    }
   ],
   "source": [
    "# test on train set\n",
    "print(iou_scores)\n",
    "print(iou_scores_resized)"
   ]
  },
  {
   "cell_type": "code",
   "execution_count": null,
   "id": "225630da",
   "metadata": {},
   "outputs": [],
   "source": []
  }
 ],
 "metadata": {
  "kernelspec": {
   "display_name": "Python 3",
   "language": "python",
   "name": "python3"
  },
  "language_info": {
   "codemirror_mode": {
    "name": "ipython",
    "version": 3
   },
   "file_extension": ".py",
   "mimetype": "text/x-python",
   "name": "python",
   "nbconvert_exporter": "python",
   "pygments_lexer": "ipython3",
   "version": "3.6.13"
  }
 },
 "nbformat": 4,
 "nbformat_minor": 5
}
